{
 "cells": [
  {
   "cell_type": "code",
   "execution_count": 131,
   "metadata": {},
   "outputs": [],
   "source": [
    "import requests\n",
    "import pandas as pd\n",
    "import plotly.graph_objects as go\n",
    "import plotly.express as px\n",
    "import seaborn as sns\n",
    "import matplotlib.pyplot as plt\n",
    "pd.set_option('display.max_columns', None)"
   ]
  },
  {
   "cell_type": "code",
   "execution_count": 132,
   "metadata": {},
   "outputs": [
    {
     "data": {
      "text/html": [
       "<div>\n",
       "<style scoped>\n",
       "    .dataframe tbody tr th:only-of-type {\n",
       "        vertical-align: middle;\n",
       "    }\n",
       "\n",
       "    .dataframe tbody tr th {\n",
       "        vertical-align: top;\n",
       "    }\n",
       "\n",
       "    .dataframe thead th {\n",
       "        text-align: right;\n",
       "    }\n",
       "</style>\n",
       "<table border=\"1\" class=\"dataframe\">\n",
       "  <thead>\n",
       "    <tr style=\"text-align: right;\">\n",
       "      <th></th>\n",
       "      <th>lastUpdatedAt</th>\n",
       "      <th>actualLandingTime</th>\n",
       "      <th>aircraftRegistration</th>\n",
       "      <th>estimatedLandingTime</th>\n",
       "      <th>expectedTimeOnBelt</th>\n",
       "      <th>flightDirection</th>\n",
       "      <th>flightName</th>\n",
       "      <th>flightNumber</th>\n",
       "      <th>gate</th>\n",
       "      <th>pier</th>\n",
       "      <th>id</th>\n",
       "      <th>isOperationalFlight</th>\n",
       "      <th>mainFlight</th>\n",
       "      <th>prefixIATA</th>\n",
       "      <th>prefixICAO</th>\n",
       "      <th>airlineCode</th>\n",
       "      <th>scheduleDateTime</th>\n",
       "      <th>scheduleDate</th>\n",
       "      <th>scheduleTime</th>\n",
       "      <th>serviceType</th>\n",
       "      <th>terminal</th>\n",
       "      <th>schemaVersion</th>\n",
       "      <th>aircraftType.iataMain</th>\n",
       "      <th>aircraftType.iataSub</th>\n",
       "      <th>baggageClaim.belts</th>\n",
       "      <th>codeshares.codeshares</th>\n",
       "      <th>publicFlightState.flightStates</th>\n",
       "      <th>route.destinations</th>\n",
       "      <th>route.eu</th>\n",
       "      <th>route.visa</th>\n",
       "      <th>actualOffBlockTime</th>\n",
       "      <th>expectedSecurityFilter</th>\n",
       "      <th>checkinAllocations.checkinAllocations</th>\n",
       "    </tr>\n",
       "  </thead>\n",
       "  <tbody>\n",
       "    <tr>\n",
       "      <th>0</th>\n",
       "      <td>2025-03-27T01:39:47.186+01:00</td>\n",
       "      <td>2025-03-27T00:00:00.000+01:00</td>\n",
       "      <td>PHHXA</td>\n",
       "      <td>2025-03-26T23:59:52.000+01:00</td>\n",
       "      <td>2025-03-27T00:36:39.000+01:00</td>\n",
       "      <td>A</td>\n",
       "      <td>HV6888</td>\n",
       "      <td>6888</td>\n",
       "      <td>D61</td>\n",
       "      <td>D</td>\n",
       "      <td>142009545517434014</td>\n",
       "      <td>True</td>\n",
       "      <td>HV6888</td>\n",
       "      <td>HV</td>\n",
       "      <td>TRA</td>\n",
       "      <td>164.0</td>\n",
       "      <td>2025-03-27T00:15:00.000+01:00</td>\n",
       "      <td>2025-03-27</td>\n",
       "      <td>00:15:00</td>\n",
       "      <td>J</td>\n",
       "      <td>1.0</td>\n",
       "      <td>4</td>\n",
       "      <td>737</td>\n",
       "      <td>73H</td>\n",
       "      <td>[2]</td>\n",
       "      <td>[KL2746]</td>\n",
       "      <td>[ARR, EXP]</td>\n",
       "      <td>[KEF]</td>\n",
       "      <td>S</td>\n",
       "      <td>False</td>\n",
       "      <td>NaN</td>\n",
       "      <td>NaN</td>\n",
       "      <td>NaN</td>\n",
       "    </tr>\n",
       "    <tr>\n",
       "      <th>1</th>\n",
       "      <td>2025-03-27T01:39:47.186+01:00</td>\n",
       "      <td>2025-03-27T00:00:00.000+01:00</td>\n",
       "      <td>PHHXA</td>\n",
       "      <td>2025-03-26T23:59:52.000+01:00</td>\n",
       "      <td>2025-03-27T00:36:39.000+01:00</td>\n",
       "      <td>A</td>\n",
       "      <td>KL2746</td>\n",
       "      <td>2746</td>\n",
       "      <td>D61</td>\n",
       "      <td>D</td>\n",
       "      <td>142009545895606274</td>\n",
       "      <td>True</td>\n",
       "      <td>HV6888</td>\n",
       "      <td>KL</td>\n",
       "      <td>KLM</td>\n",
       "      <td>100.0</td>\n",
       "      <td>2025-03-27T00:15:00.000+01:00</td>\n",
       "      <td>2025-03-27</td>\n",
       "      <td>00:15:00</td>\n",
       "      <td>J</td>\n",
       "      <td>1.0</td>\n",
       "      <td>4</td>\n",
       "      <td>737</td>\n",
       "      <td>73H</td>\n",
       "      <td>[2]</td>\n",
       "      <td>[KL2746]</td>\n",
       "      <td>[ARR, EXP]</td>\n",
       "      <td>[KEF]</td>\n",
       "      <td>S</td>\n",
       "      <td>False</td>\n",
       "      <td>NaN</td>\n",
       "      <td>NaN</td>\n",
       "      <td>NaN</td>\n",
       "    </tr>\n",
       "    <tr>\n",
       "      <th>2</th>\n",
       "      <td>2024-10-16T15:17:08.055+02:00</td>\n",
       "      <td>NaN</td>\n",
       "      <td>NaN</td>\n",
       "      <td>NaN</td>\n",
       "      <td>NaN</td>\n",
       "      <td>A</td>\n",
       "      <td>HV6904</td>\n",
       "      <td>6904</td>\n",
       "      <td>NaN</td>\n",
       "      <td>NaN</td>\n",
       "      <td>142009545517436152</td>\n",
       "      <td>False</td>\n",
       "      <td>HV6904</td>\n",
       "      <td>HV</td>\n",
       "      <td>NaN</td>\n",
       "      <td>NaN</td>\n",
       "      <td>2025-03-27T00:35:00.000+01:00</td>\n",
       "      <td>2025-03-27</td>\n",
       "      <td>00:35:00</td>\n",
       "      <td>J</td>\n",
       "      <td>NaN</td>\n",
       "      <td>4</td>\n",
       "      <td>73H</td>\n",
       "      <td>73H</td>\n",
       "      <td>NaN</td>\n",
       "      <td>NaN</td>\n",
       "      <td>[SCH]</td>\n",
       "      <td>[DXB, ATH]</td>\n",
       "      <td>N</td>\n",
       "      <td>False</td>\n",
       "      <td>NaN</td>\n",
       "      <td>NaN</td>\n",
       "      <td>NaN</td>\n",
       "    </tr>\n",
       "    <tr>\n",
       "      <th>3</th>\n",
       "      <td>2024-08-22T10:46:58.889+02:00</td>\n",
       "      <td>NaN</td>\n",
       "      <td>NaN</td>\n",
       "      <td>NaN</td>\n",
       "      <td>NaN</td>\n",
       "      <td>A</td>\n",
       "      <td>HV6308</td>\n",
       "      <td>6308</td>\n",
       "      <td>NaN</td>\n",
       "      <td>NaN</td>\n",
       "      <td>142009545517419732</td>\n",
       "      <td>False</td>\n",
       "      <td>HV6308</td>\n",
       "      <td>HV</td>\n",
       "      <td>NaN</td>\n",
       "      <td>NaN</td>\n",
       "      <td>2025-03-27T00:45:00.000+01:00</td>\n",
       "      <td>2025-03-27</td>\n",
       "      <td>00:45:00</td>\n",
       "      <td>J</td>\n",
       "      <td>NaN</td>\n",
       "      <td>4</td>\n",
       "      <td>32S</td>\n",
       "      <td>32Q</td>\n",
       "      <td>NaN</td>\n",
       "      <td>NaN</td>\n",
       "      <td>[SCH]</td>\n",
       "      <td>[BEY]</td>\n",
       "      <td>N</td>\n",
       "      <td>False</td>\n",
       "      <td>NaN</td>\n",
       "      <td>NaN</td>\n",
       "      <td>NaN</td>\n",
       "    </tr>\n",
       "    <tr>\n",
       "      <th>4</th>\n",
       "      <td>2025-03-27T05:39:39.790+01:00</td>\n",
       "      <td>2025-03-27T05:21:36.000+01:00</td>\n",
       "      <td>JA13KZ</td>\n",
       "      <td>2025-03-27T05:22:03.000+01:00</td>\n",
       "      <td>NaN</td>\n",
       "      <td>A</td>\n",
       "      <td>KZ004</td>\n",
       "      <td>4</td>\n",
       "      <td>NaN</td>\n",
       "      <td>NaN</td>\n",
       "      <td>142009544365967514</td>\n",
       "      <td>True</td>\n",
       "      <td>KZ004</td>\n",
       "      <td>KZ</td>\n",
       "      <td>NCA</td>\n",
       "      <td>131.0</td>\n",
       "      <td>2025-03-27T03:20:00.000+01:00</td>\n",
       "      <td>2025-03-27</td>\n",
       "      <td>03:20:00</td>\n",
       "      <td>F</td>\n",
       "      <td>NaN</td>\n",
       "      <td>4</td>\n",
       "      <td>74F</td>\n",
       "      <td>74N</td>\n",
       "      <td>NaN</td>\n",
       "      <td>NaN</td>\n",
       "      <td>[LND, EXP]</td>\n",
       "      <td>[NRT, ANC]</td>\n",
       "      <td>N</td>\n",
       "      <td>False</td>\n",
       "      <td>NaN</td>\n",
       "      <td>NaN</td>\n",
       "      <td>NaN</td>\n",
       "    </tr>\n",
       "  </tbody>\n",
       "</table>\n",
       "</div>"
      ],
      "text/plain": [
       "                   lastUpdatedAt              actualLandingTime  \\\n",
       "0  2025-03-27T01:39:47.186+01:00  2025-03-27T00:00:00.000+01:00   \n",
       "1  2025-03-27T01:39:47.186+01:00  2025-03-27T00:00:00.000+01:00   \n",
       "2  2024-10-16T15:17:08.055+02:00                            NaN   \n",
       "3  2024-08-22T10:46:58.889+02:00                            NaN   \n",
       "4  2025-03-27T05:39:39.790+01:00  2025-03-27T05:21:36.000+01:00   \n",
       "\n",
       "  aircraftRegistration           estimatedLandingTime  \\\n",
       "0                PHHXA  2025-03-26T23:59:52.000+01:00   \n",
       "1                PHHXA  2025-03-26T23:59:52.000+01:00   \n",
       "2                  NaN                            NaN   \n",
       "3                  NaN                            NaN   \n",
       "4               JA13KZ  2025-03-27T05:22:03.000+01:00   \n",
       "\n",
       "              expectedTimeOnBelt flightDirection flightName  flightNumber  \\\n",
       "0  2025-03-27T00:36:39.000+01:00               A     HV6888          6888   \n",
       "1  2025-03-27T00:36:39.000+01:00               A     KL2746          2746   \n",
       "2                            NaN               A     HV6904          6904   \n",
       "3                            NaN               A     HV6308          6308   \n",
       "4                            NaN               A      KZ004             4   \n",
       "\n",
       "  gate pier                  id  isOperationalFlight mainFlight prefixIATA  \\\n",
       "0  D61    D  142009545517434014                 True     HV6888         HV   \n",
       "1  D61    D  142009545895606274                 True     HV6888         KL   \n",
       "2  NaN  NaN  142009545517436152                False     HV6904         HV   \n",
       "3  NaN  NaN  142009545517419732                False     HV6308         HV   \n",
       "4  NaN  NaN  142009544365967514                 True      KZ004         KZ   \n",
       "\n",
       "  prefixICAO  airlineCode               scheduleDateTime scheduleDate  \\\n",
       "0        TRA        164.0  2025-03-27T00:15:00.000+01:00   2025-03-27   \n",
       "1        KLM        100.0  2025-03-27T00:15:00.000+01:00   2025-03-27   \n",
       "2        NaN          NaN  2025-03-27T00:35:00.000+01:00   2025-03-27   \n",
       "3        NaN          NaN  2025-03-27T00:45:00.000+01:00   2025-03-27   \n",
       "4        NCA        131.0  2025-03-27T03:20:00.000+01:00   2025-03-27   \n",
       "\n",
       "  scheduleTime serviceType  terminal schemaVersion aircraftType.iataMain  \\\n",
       "0     00:15:00           J       1.0             4                   737   \n",
       "1     00:15:00           J       1.0             4                   737   \n",
       "2     00:35:00           J       NaN             4                   73H   \n",
       "3     00:45:00           J       NaN             4                   32S   \n",
       "4     03:20:00           F       NaN             4                   74F   \n",
       "\n",
       "  aircraftType.iataSub baggageClaim.belts codeshares.codeshares  \\\n",
       "0                  73H                [2]              [KL2746]   \n",
       "1                  73H                [2]              [KL2746]   \n",
       "2                  73H                NaN                   NaN   \n",
       "3                  32Q                NaN                   NaN   \n",
       "4                  74N                NaN                   NaN   \n",
       "\n",
       "  publicFlightState.flightStates route.destinations route.eu  route.visa  \\\n",
       "0                     [ARR, EXP]              [KEF]        S       False   \n",
       "1                     [ARR, EXP]              [KEF]        S       False   \n",
       "2                          [SCH]         [DXB, ATH]        N       False   \n",
       "3                          [SCH]              [BEY]        N       False   \n",
       "4                     [LND, EXP]         [NRT, ANC]        N       False   \n",
       "\n",
       "  actualOffBlockTime expectedSecurityFilter  \\\n",
       "0                NaN                    NaN   \n",
       "1                NaN                    NaN   \n",
       "2                NaN                    NaN   \n",
       "3                NaN                    NaN   \n",
       "4                NaN                    NaN   \n",
       "\n",
       "  checkinAllocations.checkinAllocations  \n",
       "0                                   NaN  \n",
       "1                                   NaN  \n",
       "2                                   NaN  \n",
       "3                                   NaN  \n",
       "4                                   NaN  "
      ]
     },
     "execution_count": 132,
     "metadata": {},
     "output_type": "execute_result"
    }
   ],
   "source": [
    "url = \"https://api.schiphol.nl/public-flights/flights?includedelays=false&page=0&sort=%2BscheduleTime\"\n",
    "headers = {\n",
    "    \"app_id\": \"c93492b2\",\n",
    "    \"app_key\": \"16a5764ed747d28fc0c58196e7322a04\",\n",
    "    'ResourceVersion': 'v4'\n",
    "}\n",
    "\n",
    "response = requests.get(url, headers=headers)\n",
    "data = response.json()  # Get the response as a JSON object\n",
    "\n",
    "# Extract the 'flights' list from the response\n",
    "flights_data = data.get('flights', [])\n",
    "\n",
    "# Normalize the 'flights' list into a DataFrame\n",
    "df = pd.json_normalize(flights_data)\n",
    "\n",
    "# Display the first few rows of the DataFrame\n",
    "df.head()"
   ]
  },
  {
   "cell_type": "code",
   "execution_count": 133,
   "metadata": {},
   "outputs": [
    {
     "data": {
      "text/html": [
       "<div>\n",
       "<style scoped>\n",
       "    .dataframe tbody tr th:only-of-type {\n",
       "        vertical-align: middle;\n",
       "    }\n",
       "\n",
       "    .dataframe tbody tr th {\n",
       "        vertical-align: top;\n",
       "    }\n",
       "\n",
       "    .dataframe thead th {\n",
       "        text-align: right;\n",
       "    }\n",
       "</style>\n",
       "<table border=\"1\" class=\"dataframe\">\n",
       "  <thead>\n",
       "    <tr style=\"text-align: right;\">\n",
       "      <th></th>\n",
       "      <th>lastUpdatedAt</th>\n",
       "      <th>actualLandingTime</th>\n",
       "      <th>aircraftRegistration</th>\n",
       "      <th>estimatedLandingTime</th>\n",
       "      <th>expectedTimeOnBelt</th>\n",
       "      <th>flightDirection</th>\n",
       "      <th>flightName</th>\n",
       "      <th>flightNumber</th>\n",
       "      <th>gate</th>\n",
       "      <th>pier</th>\n",
       "      <th>id</th>\n",
       "      <th>isOperationalFlight</th>\n",
       "      <th>mainFlight</th>\n",
       "      <th>prefixIATA</th>\n",
       "      <th>prefixICAO</th>\n",
       "      <th>airlineCode</th>\n",
       "      <th>scheduleDateTime</th>\n",
       "      <th>scheduleDate</th>\n",
       "      <th>scheduleTime</th>\n",
       "      <th>serviceType</th>\n",
       "      <th>terminal</th>\n",
       "      <th>schemaVersion</th>\n",
       "      <th>aircraftType.iataMain</th>\n",
       "      <th>aircraftType.iataSub</th>\n",
       "      <th>baggageClaim.belts</th>\n",
       "      <th>codeshares.codeshares</th>\n",
       "      <th>publicFlightState.flightStates</th>\n",
       "      <th>route.destinations</th>\n",
       "      <th>route.eu</th>\n",
       "      <th>route.visa</th>\n",
       "      <th>actualOffBlockTime</th>\n",
       "      <th>expectedSecurityFilter</th>\n",
       "      <th>checkinAllocations.checkinAllocations</th>\n",
       "      <th>expectedTimeBoarding</th>\n",
       "      <th>expectedTimeGateClosing</th>\n",
       "      <th>expectedTimeGateOpen</th>\n",
       "      <th>publicEstimatedOffBlockTime</th>\n",
       "      <th>transferPositions.transferPositions</th>\n",
       "    </tr>\n",
       "  </thead>\n",
       "  <tbody>\n",
       "    <tr>\n",
       "      <th>0</th>\n",
       "      <td>2025-03-27T01:39:47.186+01:00</td>\n",
       "      <td>2025-03-27T00:00:00.000+01:00</td>\n",
       "      <td>PHHXA</td>\n",
       "      <td>2025-03-26T23:59:52.000+01:00</td>\n",
       "      <td>2025-03-27T00:36:39.000+01:00</td>\n",
       "      <td>A</td>\n",
       "      <td>HV6888</td>\n",
       "      <td>6888</td>\n",
       "      <td>D61</td>\n",
       "      <td>D</td>\n",
       "      <td>142009545517434014</td>\n",
       "      <td>True</td>\n",
       "      <td>HV6888</td>\n",
       "      <td>HV</td>\n",
       "      <td>TRA</td>\n",
       "      <td>164.0</td>\n",
       "      <td>2025-03-27T00:15:00.000+01:00</td>\n",
       "      <td>2025-03-27</td>\n",
       "      <td>00:15:00</td>\n",
       "      <td>J</td>\n",
       "      <td>1.0</td>\n",
       "      <td>4</td>\n",
       "      <td>737</td>\n",
       "      <td>73H</td>\n",
       "      <td>[2]</td>\n",
       "      <td>[KL2746]</td>\n",
       "      <td>[ARR, EXP]</td>\n",
       "      <td>[KEF]</td>\n",
       "      <td>S</td>\n",
       "      <td>False</td>\n",
       "      <td>NaN</td>\n",
       "      <td>NaN</td>\n",
       "      <td>NaN</td>\n",
       "      <td>NaN</td>\n",
       "      <td>NaN</td>\n",
       "      <td>NaN</td>\n",
       "      <td>NaN</td>\n",
       "      <td>NaN</td>\n",
       "    </tr>\n",
       "    <tr>\n",
       "      <th>1</th>\n",
       "      <td>2025-03-27T01:39:47.186+01:00</td>\n",
       "      <td>2025-03-27T00:00:00.000+01:00</td>\n",
       "      <td>PHHXA</td>\n",
       "      <td>2025-03-26T23:59:52.000+01:00</td>\n",
       "      <td>2025-03-27T00:36:39.000+01:00</td>\n",
       "      <td>A</td>\n",
       "      <td>KL2746</td>\n",
       "      <td>2746</td>\n",
       "      <td>D61</td>\n",
       "      <td>D</td>\n",
       "      <td>142009545895606274</td>\n",
       "      <td>True</td>\n",
       "      <td>HV6888</td>\n",
       "      <td>KL</td>\n",
       "      <td>KLM</td>\n",
       "      <td>100.0</td>\n",
       "      <td>2025-03-27T00:15:00.000+01:00</td>\n",
       "      <td>2025-03-27</td>\n",
       "      <td>00:15:00</td>\n",
       "      <td>J</td>\n",
       "      <td>1.0</td>\n",
       "      <td>4</td>\n",
       "      <td>737</td>\n",
       "      <td>73H</td>\n",
       "      <td>[2]</td>\n",
       "      <td>[KL2746]</td>\n",
       "      <td>[ARR, EXP]</td>\n",
       "      <td>[KEF]</td>\n",
       "      <td>S</td>\n",
       "      <td>False</td>\n",
       "      <td>NaN</td>\n",
       "      <td>NaN</td>\n",
       "      <td>NaN</td>\n",
       "      <td>NaN</td>\n",
       "      <td>NaN</td>\n",
       "      <td>NaN</td>\n",
       "      <td>NaN</td>\n",
       "      <td>NaN</td>\n",
       "    </tr>\n",
       "    <tr>\n",
       "      <th>2</th>\n",
       "      <td>2024-10-16T15:17:08.055+02:00</td>\n",
       "      <td>NaN</td>\n",
       "      <td>NaN</td>\n",
       "      <td>NaN</td>\n",
       "      <td>NaN</td>\n",
       "      <td>A</td>\n",
       "      <td>HV6904</td>\n",
       "      <td>6904</td>\n",
       "      <td>NaN</td>\n",
       "      <td>NaN</td>\n",
       "      <td>142009545517436152</td>\n",
       "      <td>False</td>\n",
       "      <td>HV6904</td>\n",
       "      <td>HV</td>\n",
       "      <td>NaN</td>\n",
       "      <td>NaN</td>\n",
       "      <td>2025-03-27T00:35:00.000+01:00</td>\n",
       "      <td>2025-03-27</td>\n",
       "      <td>00:35:00</td>\n",
       "      <td>J</td>\n",
       "      <td>NaN</td>\n",
       "      <td>4</td>\n",
       "      <td>73H</td>\n",
       "      <td>73H</td>\n",
       "      <td>NaN</td>\n",
       "      <td>NaN</td>\n",
       "      <td>[SCH]</td>\n",
       "      <td>[DXB, ATH]</td>\n",
       "      <td>N</td>\n",
       "      <td>False</td>\n",
       "      <td>NaN</td>\n",
       "      <td>NaN</td>\n",
       "      <td>NaN</td>\n",
       "      <td>NaN</td>\n",
       "      <td>NaN</td>\n",
       "      <td>NaN</td>\n",
       "      <td>NaN</td>\n",
       "      <td>NaN</td>\n",
       "    </tr>\n",
       "    <tr>\n",
       "      <th>3</th>\n",
       "      <td>2024-08-22T10:46:58.889+02:00</td>\n",
       "      <td>NaN</td>\n",
       "      <td>NaN</td>\n",
       "      <td>NaN</td>\n",
       "      <td>NaN</td>\n",
       "      <td>A</td>\n",
       "      <td>HV6308</td>\n",
       "      <td>6308</td>\n",
       "      <td>NaN</td>\n",
       "      <td>NaN</td>\n",
       "      <td>142009545517419732</td>\n",
       "      <td>False</td>\n",
       "      <td>HV6308</td>\n",
       "      <td>HV</td>\n",
       "      <td>NaN</td>\n",
       "      <td>NaN</td>\n",
       "      <td>2025-03-27T00:45:00.000+01:00</td>\n",
       "      <td>2025-03-27</td>\n",
       "      <td>00:45:00</td>\n",
       "      <td>J</td>\n",
       "      <td>NaN</td>\n",
       "      <td>4</td>\n",
       "      <td>32S</td>\n",
       "      <td>32Q</td>\n",
       "      <td>NaN</td>\n",
       "      <td>NaN</td>\n",
       "      <td>[SCH]</td>\n",
       "      <td>[BEY]</td>\n",
       "      <td>N</td>\n",
       "      <td>False</td>\n",
       "      <td>NaN</td>\n",
       "      <td>NaN</td>\n",
       "      <td>NaN</td>\n",
       "      <td>NaN</td>\n",
       "      <td>NaN</td>\n",
       "      <td>NaN</td>\n",
       "      <td>NaN</td>\n",
       "      <td>NaN</td>\n",
       "    </tr>\n",
       "    <tr>\n",
       "      <th>4</th>\n",
       "      <td>2025-03-27T05:39:39.790+01:00</td>\n",
       "      <td>2025-03-27T05:21:36.000+01:00</td>\n",
       "      <td>JA13KZ</td>\n",
       "      <td>2025-03-27T05:22:03.000+01:00</td>\n",
       "      <td>NaN</td>\n",
       "      <td>A</td>\n",
       "      <td>KZ004</td>\n",
       "      <td>4</td>\n",
       "      <td>NaN</td>\n",
       "      <td>NaN</td>\n",
       "      <td>142009544365967514</td>\n",
       "      <td>True</td>\n",
       "      <td>KZ004</td>\n",
       "      <td>KZ</td>\n",
       "      <td>NCA</td>\n",
       "      <td>131.0</td>\n",
       "      <td>2025-03-27T03:20:00.000+01:00</td>\n",
       "      <td>2025-03-27</td>\n",
       "      <td>03:20:00</td>\n",
       "      <td>F</td>\n",
       "      <td>NaN</td>\n",
       "      <td>4</td>\n",
       "      <td>74F</td>\n",
       "      <td>74N</td>\n",
       "      <td>NaN</td>\n",
       "      <td>NaN</td>\n",
       "      <td>[LND, EXP]</td>\n",
       "      <td>[NRT, ANC]</td>\n",
       "      <td>N</td>\n",
       "      <td>False</td>\n",
       "      <td>NaN</td>\n",
       "      <td>NaN</td>\n",
       "      <td>NaN</td>\n",
       "      <td>NaN</td>\n",
       "      <td>NaN</td>\n",
       "      <td>NaN</td>\n",
       "      <td>NaN</td>\n",
       "      <td>NaN</td>\n",
       "    </tr>\n",
       "  </tbody>\n",
       "</table>\n",
       "</div>"
      ],
      "text/plain": [
       "                   lastUpdatedAt              actualLandingTime  \\\n",
       "0  2025-03-27T01:39:47.186+01:00  2025-03-27T00:00:00.000+01:00   \n",
       "1  2025-03-27T01:39:47.186+01:00  2025-03-27T00:00:00.000+01:00   \n",
       "2  2024-10-16T15:17:08.055+02:00                            NaN   \n",
       "3  2024-08-22T10:46:58.889+02:00                            NaN   \n",
       "4  2025-03-27T05:39:39.790+01:00  2025-03-27T05:21:36.000+01:00   \n",
       "\n",
       "  aircraftRegistration           estimatedLandingTime  \\\n",
       "0                PHHXA  2025-03-26T23:59:52.000+01:00   \n",
       "1                PHHXA  2025-03-26T23:59:52.000+01:00   \n",
       "2                  NaN                            NaN   \n",
       "3                  NaN                            NaN   \n",
       "4               JA13KZ  2025-03-27T05:22:03.000+01:00   \n",
       "\n",
       "              expectedTimeOnBelt flightDirection flightName  flightNumber  \\\n",
       "0  2025-03-27T00:36:39.000+01:00               A     HV6888          6888   \n",
       "1  2025-03-27T00:36:39.000+01:00               A     KL2746          2746   \n",
       "2                            NaN               A     HV6904          6904   \n",
       "3                            NaN               A     HV6308          6308   \n",
       "4                            NaN               A      KZ004             4   \n",
       "\n",
       "  gate pier                  id  isOperationalFlight mainFlight prefixIATA  \\\n",
       "0  D61    D  142009545517434014                 True     HV6888         HV   \n",
       "1  D61    D  142009545895606274                 True     HV6888         KL   \n",
       "2  NaN  NaN  142009545517436152                False     HV6904         HV   \n",
       "3  NaN  NaN  142009545517419732                False     HV6308         HV   \n",
       "4  NaN  NaN  142009544365967514                 True      KZ004         KZ   \n",
       "\n",
       "  prefixICAO  airlineCode               scheduleDateTime scheduleDate  \\\n",
       "0        TRA        164.0  2025-03-27T00:15:00.000+01:00   2025-03-27   \n",
       "1        KLM        100.0  2025-03-27T00:15:00.000+01:00   2025-03-27   \n",
       "2        NaN          NaN  2025-03-27T00:35:00.000+01:00   2025-03-27   \n",
       "3        NaN          NaN  2025-03-27T00:45:00.000+01:00   2025-03-27   \n",
       "4        NCA        131.0  2025-03-27T03:20:00.000+01:00   2025-03-27   \n",
       "\n",
       "  scheduleTime serviceType  terminal schemaVersion aircraftType.iataMain  \\\n",
       "0     00:15:00           J       1.0             4                   737   \n",
       "1     00:15:00           J       1.0             4                   737   \n",
       "2     00:35:00           J       NaN             4                   73H   \n",
       "3     00:45:00           J       NaN             4                   32S   \n",
       "4     03:20:00           F       NaN             4                   74F   \n",
       "\n",
       "  aircraftType.iataSub baggageClaim.belts codeshares.codeshares  \\\n",
       "0                  73H                [2]              [KL2746]   \n",
       "1                  73H                [2]              [KL2746]   \n",
       "2                  73H                NaN                   NaN   \n",
       "3                  32Q                NaN                   NaN   \n",
       "4                  74N                NaN                   NaN   \n",
       "\n",
       "  publicFlightState.flightStates route.destinations route.eu  route.visa  \\\n",
       "0                     [ARR, EXP]              [KEF]        S       False   \n",
       "1                     [ARR, EXP]              [KEF]        S       False   \n",
       "2                          [SCH]         [DXB, ATH]        N       False   \n",
       "3                          [SCH]              [BEY]        N       False   \n",
       "4                     [LND, EXP]         [NRT, ANC]        N       False   \n",
       "\n",
       "  actualOffBlockTime expectedSecurityFilter  \\\n",
       "0                NaN                    NaN   \n",
       "1                NaN                    NaN   \n",
       "2                NaN                    NaN   \n",
       "3                NaN                    NaN   \n",
       "4                NaN                    NaN   \n",
       "\n",
       "  checkinAllocations.checkinAllocations expectedTimeBoarding  \\\n",
       "0                                   NaN                  NaN   \n",
       "1                                   NaN                  NaN   \n",
       "2                                   NaN                  NaN   \n",
       "3                                   NaN                  NaN   \n",
       "4                                   NaN                  NaN   \n",
       "\n",
       "  expectedTimeGateClosing expectedTimeGateOpen publicEstimatedOffBlockTime  \\\n",
       "0                     NaN                  NaN                         NaN   \n",
       "1                     NaN                  NaN                         NaN   \n",
       "2                     NaN                  NaN                         NaN   \n",
       "3                     NaN                  NaN                         NaN   \n",
       "4                     NaN                  NaN                         NaN   \n",
       "\n",
       "  transferPositions.transferPositions  \n",
       "0                                 NaN  \n",
       "1                                 NaN  \n",
       "2                                 NaN  \n",
       "3                                 NaN  \n",
       "4                                 NaN  "
      ]
     },
     "execution_count": 133,
     "metadata": {},
     "output_type": "execute_result"
    }
   ],
   "source": [
    "import requests\n",
    "import pandas as pd\n",
    "\n",
    "# De base URL en headers\n",
    "url = \"https://api.schiphol.nl/public-flights/flights?includedelays=false&page={}&sort=%2BscheduleTime\"\n",
    "headers = {\n",
    "    \"app_id\": \"c93492b2\",\n",
    "    \"app_key\": \"16a5764ed747d28fc0c58196e7322a04\",\n",
    "    'ResourceVersion': 'v4'\n",
    "}\n",
    "\n",
    "# Een lege lijst om alle vluchtdata op te slaan\n",
    "all_flights_data = []\n",
    "\n",
    "# Loop over de pagina's (0 tot 29, dus 30 pagina's)\n",
    "for page in range(50):\n",
    "    # Stel de volledige URL samen met de pagina\n",
    "    page_url = url.format(page)\n",
    "    \n",
    "    # Haal de gegevens op van de API\n",
    "    response = requests.get(page_url, headers=headers)\n",
    "    data = response.json()  # Verkrijg de JSON reactie\n",
    "    \n",
    "    # Haal de 'flights' lijst op uit de response\n",
    "    flights_data = data.get('flights', [])\n",
    "    \n",
    "    # Voeg de gegevens toe aan de lijst\n",
    "    all_flights_data.extend(flights_data)\n",
    "\n",
    "# Normaliseer de vluchtgegevens naar een DataFrame\n",
    "df = pd.json_normalize(all_flights_data)\n",
    "\n",
    "df.head()"
   ]
  },
  {
   "cell_type": "code",
   "execution_count": 134,
   "metadata": {},
   "outputs": [
    {
     "name": "stdout",
     "output_type": "stream",
     "text": [
      "['North-America', 'South-America', 'Europe', 'Asia', 'Australia', 'Africa']\n"
     ]
    }
   ],
   "source": [
    "continents= [\"North-America\", \"South-America\", \"Europe\", \"Asia\", \"Australia\", \"Africa\"]\n",
    "print(continents)"
   ]
  },
  {
   "cell_type": "code",
   "execution_count": 135,
   "metadata": {},
   "outputs": [
    {
     "name": "stdout",
     "output_type": "stream",
     "text": [
      "273\n",
      "998\n",
      "942\n",
      "218\n"
     ]
    }
   ],
   "source": [
    "unique_valsmF= df['mainFlight'].nunique()\n",
    "print(unique_valsmF)\n",
    "unique_valsFNa= df['flightName'].nunique()\n",
    "print(unique_valsFNa)\n",
    "unique_valsFNum= df['flightNumber'].nunique()\n",
    "print(unique_valsFNum)\n",
    "Aircraft= df['aircraftRegistration'].nunique()\n",
    "print(Aircraft)"
   ]
  },
  {
   "cell_type": "code",
   "execution_count": 137,
   "metadata": {},
   "outputs": [
    {
     "name": "stdout",
     "output_type": "stream",
     "text": [
      "                     lastUpdatedAt actualLandingTime aircraftRegistration  \\\n",
      "354  2025-03-27T09:33:31.553+01:00               NaN                PHHBM   \n",
      "355  2025-03-27T09:33:31.553+01:00               NaN                PHHBM   \n",
      "\n",
      "    estimatedLandingTime expectedTimeOnBelt flightDirection flightName  \\\n",
      "354                  NaN                NaN               A     KL2555   \n",
      "355                  NaN                NaN               A     HV5819   \n",
      "\n",
      "     flightNumber gate pier                  id  isOperationalFlight  \\\n",
      "354          2555  NaN  NaN  142009545895600870                 True   \n",
      "355          5819  NaN  NaN  142009545517332192                 True   \n",
      "\n",
      "    mainFlight prefixIATA prefixICAO  airlineCode  \\\n",
      "354     HV5819         KL        KLM        100.0   \n",
      "355     HV5819         HV        TRA        164.0   \n",
      "\n",
      "                  scheduleDateTime scheduleDate scheduleTime serviceType  \\\n",
      "354  2025-03-27T07:45:00.000+01:00   2025-03-27     07:45:00           J   \n",
      "355  2025-03-27T07:45:00.000+01:00   2025-03-27     07:45:00           J   \n",
      "\n",
      "     terminal schemaVersion aircraftType.iataMain aircraftType.iataSub  \\\n",
      "354       NaN             4                   737                  73H   \n",
      "355       NaN             4                   737                  73H   \n",
      "\n",
      "    baggageClaim.belts codeshares.codeshares publicFlightState.flightStates  \\\n",
      "354                NaN              [KL2555]                          [CNX]   \n",
      "355                NaN              [KL2555]                          [CNX]   \n",
      "\n",
      "    route.destinations route.eu  route.visa actualOffBlockTime  \\\n",
      "354              [AMS]        S       False                NaN   \n",
      "355              [AMS]        S       False                NaN   \n",
      "\n",
      "    expectedSecurityFilter checkinAllocations.checkinAllocations  \\\n",
      "354                    NaN                                   NaN   \n",
      "355                    NaN                                   NaN   \n",
      "\n",
      "    expectedTimeBoarding expectedTimeGateClosing expectedTimeGateOpen  \\\n",
      "354                  NaN                     NaN                  NaN   \n",
      "355                  NaN                     NaN                  NaN   \n",
      "\n",
      "    publicEstimatedOffBlockTime transferPositions.transferPositions  \n",
      "354                         NaN                                 NaN  \n",
      "355                         NaN                                 NaN  \n"
     ]
    }
   ],
   "source": [
    "DuplicateFN= df[df.duplicated('flightName')]\n",
    "print(DuplicateFN.head(10))"
   ]
  },
  {
   "cell_type": "code",
   "execution_count": 138,
   "metadata": {},
   "outputs": [],
   "source": [
    "# URL van de Wikipedia-pagina\n",
    "url2 = \"https://nl.wikipedia.org/wiki/Vliegvelden_gesorteerd_naar_IATA-code\"\n"
   ]
  },
  {
   "cell_type": "code",
   "execution_count": 139,
   "metadata": {},
   "outputs": [
    {
     "data": {
      "text/html": [
       "<div>\n",
       "<style scoped>\n",
       "    .dataframe tbody tr th:only-of-type {\n",
       "        vertical-align: middle;\n",
       "    }\n",
       "\n",
       "    .dataframe tbody tr th {\n",
       "        vertical-align: top;\n",
       "    }\n",
       "\n",
       "    .dataframe thead th {\n",
       "        text-align: right;\n",
       "    }\n",
       "</style>\n",
       "<table border=\"1\" class=\"dataframe\">\n",
       "  <thead>\n",
       "    <tr style=\"text-align: right;\">\n",
       "      <th></th>\n",
       "      <th>lastUpdatedAt</th>\n",
       "      <th>actualLandingTime</th>\n",
       "      <th>aircraftRegistration</th>\n",
       "      <th>estimatedLandingTime</th>\n",
       "      <th>expectedTimeOnBelt</th>\n",
       "      <th>flightDirection</th>\n",
       "      <th>flightName</th>\n",
       "      <th>flightNumber</th>\n",
       "      <th>gate</th>\n",
       "      <th>pier</th>\n",
       "      <th>id</th>\n",
       "      <th>isOperationalFlight</th>\n",
       "      <th>mainFlight</th>\n",
       "      <th>prefixIATA</th>\n",
       "      <th>prefixICAO</th>\n",
       "      <th>airlineCode</th>\n",
       "      <th>scheduleDateTime</th>\n",
       "      <th>scheduleDate</th>\n",
       "      <th>scheduleTime</th>\n",
       "      <th>serviceType</th>\n",
       "      <th>terminal</th>\n",
       "      <th>schemaVersion</th>\n",
       "      <th>aircraftType.iataMain</th>\n",
       "      <th>aircraftType.iataSub</th>\n",
       "      <th>baggageClaim.belts</th>\n",
       "      <th>codeshares.codeshares</th>\n",
       "      <th>publicFlightState.flightStates</th>\n",
       "      <th>route.destinations</th>\n",
       "      <th>route.eu</th>\n",
       "      <th>route.visa</th>\n",
       "      <th>actualOffBlockTime</th>\n",
       "      <th>expectedSecurityFilter</th>\n",
       "      <th>checkinAllocations.checkinAllocations</th>\n",
       "      <th>expectedTimeBoarding</th>\n",
       "      <th>expectedTimeGateClosing</th>\n",
       "      <th>expectedTimeGateOpen</th>\n",
       "      <th>publicEstimatedOffBlockTime</th>\n",
       "      <th>transferPositions.transferPositions</th>\n",
       "    </tr>\n",
       "  </thead>\n",
       "  <tbody>\n",
       "    <tr>\n",
       "      <th>0</th>\n",
       "      <td>2025-03-27T01:39:47.186+01:00</td>\n",
       "      <td>2025-03-27T00:00:00.000+01:00</td>\n",
       "      <td>PHHXA</td>\n",
       "      <td>2025-03-26T23:59:52.000+01:00</td>\n",
       "      <td>2025-03-27T00:36:39.000+01:00</td>\n",
       "      <td>A</td>\n",
       "      <td>HV6888</td>\n",
       "      <td>6888</td>\n",
       "      <td>D61</td>\n",
       "      <td>D</td>\n",
       "      <td>142009545517434014</td>\n",
       "      <td>True</td>\n",
       "      <td>HV6888</td>\n",
       "      <td>HV</td>\n",
       "      <td>TRA</td>\n",
       "      <td>164.0</td>\n",
       "      <td>2025-03-27T00:15:00.000+01:00</td>\n",
       "      <td>2025-03-27</td>\n",
       "      <td>00:15:00</td>\n",
       "      <td>J</td>\n",
       "      <td>1.0</td>\n",
       "      <td>4</td>\n",
       "      <td>737</td>\n",
       "      <td>73H</td>\n",
       "      <td>[2]</td>\n",
       "      <td>[KL2746]</td>\n",
       "      <td>[ARR, EXP]</td>\n",
       "      <td>KEF</td>\n",
       "      <td>S</td>\n",
       "      <td>False</td>\n",
       "      <td>NaN</td>\n",
       "      <td>NaN</td>\n",
       "      <td>NaN</td>\n",
       "      <td>NaN</td>\n",
       "      <td>NaN</td>\n",
       "      <td>NaN</td>\n",
       "      <td>NaN</td>\n",
       "      <td>NaN</td>\n",
       "    </tr>\n",
       "    <tr>\n",
       "      <th>1</th>\n",
       "      <td>2025-03-27T01:39:47.186+01:00</td>\n",
       "      <td>2025-03-27T00:00:00.000+01:00</td>\n",
       "      <td>PHHXA</td>\n",
       "      <td>2025-03-26T23:59:52.000+01:00</td>\n",
       "      <td>2025-03-27T00:36:39.000+01:00</td>\n",
       "      <td>A</td>\n",
       "      <td>KL2746</td>\n",
       "      <td>2746</td>\n",
       "      <td>D61</td>\n",
       "      <td>D</td>\n",
       "      <td>142009545895606274</td>\n",
       "      <td>True</td>\n",
       "      <td>HV6888</td>\n",
       "      <td>KL</td>\n",
       "      <td>KLM</td>\n",
       "      <td>100.0</td>\n",
       "      <td>2025-03-27T00:15:00.000+01:00</td>\n",
       "      <td>2025-03-27</td>\n",
       "      <td>00:15:00</td>\n",
       "      <td>J</td>\n",
       "      <td>1.0</td>\n",
       "      <td>4</td>\n",
       "      <td>737</td>\n",
       "      <td>73H</td>\n",
       "      <td>[2]</td>\n",
       "      <td>[KL2746]</td>\n",
       "      <td>[ARR, EXP]</td>\n",
       "      <td>KEF</td>\n",
       "      <td>S</td>\n",
       "      <td>False</td>\n",
       "      <td>NaN</td>\n",
       "      <td>NaN</td>\n",
       "      <td>NaN</td>\n",
       "      <td>NaN</td>\n",
       "      <td>NaN</td>\n",
       "      <td>NaN</td>\n",
       "      <td>NaN</td>\n",
       "      <td>NaN</td>\n",
       "    </tr>\n",
       "    <tr>\n",
       "      <th>2</th>\n",
       "      <td>2024-10-16T15:17:08.055+02:00</td>\n",
       "      <td>NaN</td>\n",
       "      <td>NaN</td>\n",
       "      <td>NaN</td>\n",
       "      <td>NaN</td>\n",
       "      <td>A</td>\n",
       "      <td>HV6904</td>\n",
       "      <td>6904</td>\n",
       "      <td>NaN</td>\n",
       "      <td>NaN</td>\n",
       "      <td>142009545517436152</td>\n",
       "      <td>False</td>\n",
       "      <td>HV6904</td>\n",
       "      <td>HV</td>\n",
       "      <td>NaN</td>\n",
       "      <td>NaN</td>\n",
       "      <td>2025-03-27T00:35:00.000+01:00</td>\n",
       "      <td>2025-03-27</td>\n",
       "      <td>00:35:00</td>\n",
       "      <td>J</td>\n",
       "      <td>NaN</td>\n",
       "      <td>4</td>\n",
       "      <td>73H</td>\n",
       "      <td>73H</td>\n",
       "      <td>NaN</td>\n",
       "      <td>NaN</td>\n",
       "      <td>[SCH]</td>\n",
       "      <td>DXB</td>\n",
       "      <td>N</td>\n",
       "      <td>False</td>\n",
       "      <td>NaN</td>\n",
       "      <td>NaN</td>\n",
       "      <td>NaN</td>\n",
       "      <td>NaN</td>\n",
       "      <td>NaN</td>\n",
       "      <td>NaN</td>\n",
       "      <td>NaN</td>\n",
       "      <td>NaN</td>\n",
       "    </tr>\n",
       "    <tr>\n",
       "      <th>3</th>\n",
       "      <td>2024-08-22T10:46:58.889+02:00</td>\n",
       "      <td>NaN</td>\n",
       "      <td>NaN</td>\n",
       "      <td>NaN</td>\n",
       "      <td>NaN</td>\n",
       "      <td>A</td>\n",
       "      <td>HV6308</td>\n",
       "      <td>6308</td>\n",
       "      <td>NaN</td>\n",
       "      <td>NaN</td>\n",
       "      <td>142009545517419732</td>\n",
       "      <td>False</td>\n",
       "      <td>HV6308</td>\n",
       "      <td>HV</td>\n",
       "      <td>NaN</td>\n",
       "      <td>NaN</td>\n",
       "      <td>2025-03-27T00:45:00.000+01:00</td>\n",
       "      <td>2025-03-27</td>\n",
       "      <td>00:45:00</td>\n",
       "      <td>J</td>\n",
       "      <td>NaN</td>\n",
       "      <td>4</td>\n",
       "      <td>32S</td>\n",
       "      <td>32Q</td>\n",
       "      <td>NaN</td>\n",
       "      <td>NaN</td>\n",
       "      <td>[SCH]</td>\n",
       "      <td>BEY</td>\n",
       "      <td>N</td>\n",
       "      <td>False</td>\n",
       "      <td>NaN</td>\n",
       "      <td>NaN</td>\n",
       "      <td>NaN</td>\n",
       "      <td>NaN</td>\n",
       "      <td>NaN</td>\n",
       "      <td>NaN</td>\n",
       "      <td>NaN</td>\n",
       "      <td>NaN</td>\n",
       "    </tr>\n",
       "    <tr>\n",
       "      <th>4</th>\n",
       "      <td>2025-03-27T05:39:39.790+01:00</td>\n",
       "      <td>2025-03-27T05:21:36.000+01:00</td>\n",
       "      <td>JA13KZ</td>\n",
       "      <td>2025-03-27T05:22:03.000+01:00</td>\n",
       "      <td>NaN</td>\n",
       "      <td>A</td>\n",
       "      <td>KZ004</td>\n",
       "      <td>4</td>\n",
       "      <td>NaN</td>\n",
       "      <td>NaN</td>\n",
       "      <td>142009544365967514</td>\n",
       "      <td>True</td>\n",
       "      <td>KZ004</td>\n",
       "      <td>KZ</td>\n",
       "      <td>NCA</td>\n",
       "      <td>131.0</td>\n",
       "      <td>2025-03-27T03:20:00.000+01:00</td>\n",
       "      <td>2025-03-27</td>\n",
       "      <td>03:20:00</td>\n",
       "      <td>F</td>\n",
       "      <td>NaN</td>\n",
       "      <td>4</td>\n",
       "      <td>74F</td>\n",
       "      <td>74N</td>\n",
       "      <td>NaN</td>\n",
       "      <td>NaN</td>\n",
       "      <td>[LND, EXP]</td>\n",
       "      <td>NRT</td>\n",
       "      <td>N</td>\n",
       "      <td>False</td>\n",
       "      <td>NaN</td>\n",
       "      <td>NaN</td>\n",
       "      <td>NaN</td>\n",
       "      <td>NaN</td>\n",
       "      <td>NaN</td>\n",
       "      <td>NaN</td>\n",
       "      <td>NaN</td>\n",
       "      <td>NaN</td>\n",
       "    </tr>\n",
       "  </tbody>\n",
       "</table>\n",
       "</div>"
      ],
      "text/plain": [
       "                   lastUpdatedAt              actualLandingTime  \\\n",
       "0  2025-03-27T01:39:47.186+01:00  2025-03-27T00:00:00.000+01:00   \n",
       "1  2025-03-27T01:39:47.186+01:00  2025-03-27T00:00:00.000+01:00   \n",
       "2  2024-10-16T15:17:08.055+02:00                            NaN   \n",
       "3  2024-08-22T10:46:58.889+02:00                            NaN   \n",
       "4  2025-03-27T05:39:39.790+01:00  2025-03-27T05:21:36.000+01:00   \n",
       "\n",
       "  aircraftRegistration           estimatedLandingTime  \\\n",
       "0                PHHXA  2025-03-26T23:59:52.000+01:00   \n",
       "1                PHHXA  2025-03-26T23:59:52.000+01:00   \n",
       "2                  NaN                            NaN   \n",
       "3                  NaN                            NaN   \n",
       "4               JA13KZ  2025-03-27T05:22:03.000+01:00   \n",
       "\n",
       "              expectedTimeOnBelt flightDirection flightName  flightNumber  \\\n",
       "0  2025-03-27T00:36:39.000+01:00               A     HV6888          6888   \n",
       "1  2025-03-27T00:36:39.000+01:00               A     KL2746          2746   \n",
       "2                            NaN               A     HV6904          6904   \n",
       "3                            NaN               A     HV6308          6308   \n",
       "4                            NaN               A      KZ004             4   \n",
       "\n",
       "  gate pier                  id  isOperationalFlight mainFlight prefixIATA  \\\n",
       "0  D61    D  142009545517434014                 True     HV6888         HV   \n",
       "1  D61    D  142009545895606274                 True     HV6888         KL   \n",
       "2  NaN  NaN  142009545517436152                False     HV6904         HV   \n",
       "3  NaN  NaN  142009545517419732                False     HV6308         HV   \n",
       "4  NaN  NaN  142009544365967514                 True      KZ004         KZ   \n",
       "\n",
       "  prefixICAO  airlineCode               scheduleDateTime scheduleDate  \\\n",
       "0        TRA        164.0  2025-03-27T00:15:00.000+01:00   2025-03-27   \n",
       "1        KLM        100.0  2025-03-27T00:15:00.000+01:00   2025-03-27   \n",
       "2        NaN          NaN  2025-03-27T00:35:00.000+01:00   2025-03-27   \n",
       "3        NaN          NaN  2025-03-27T00:45:00.000+01:00   2025-03-27   \n",
       "4        NCA        131.0  2025-03-27T03:20:00.000+01:00   2025-03-27   \n",
       "\n",
       "  scheduleTime serviceType  terminal schemaVersion aircraftType.iataMain  \\\n",
       "0     00:15:00           J       1.0             4                   737   \n",
       "1     00:15:00           J       1.0             4                   737   \n",
       "2     00:35:00           J       NaN             4                   73H   \n",
       "3     00:45:00           J       NaN             4                   32S   \n",
       "4     03:20:00           F       NaN             4                   74F   \n",
       "\n",
       "  aircraftType.iataSub baggageClaim.belts codeshares.codeshares  \\\n",
       "0                  73H                [2]              [KL2746]   \n",
       "1                  73H                [2]              [KL2746]   \n",
       "2                  73H                NaN                   NaN   \n",
       "3                  32Q                NaN                   NaN   \n",
       "4                  74N                NaN                   NaN   \n",
       "\n",
       "  publicFlightState.flightStates route.destinations route.eu  route.visa  \\\n",
       "0                     [ARR, EXP]                KEF        S       False   \n",
       "1                     [ARR, EXP]                KEF        S       False   \n",
       "2                          [SCH]                DXB        N       False   \n",
       "3                          [SCH]                BEY        N       False   \n",
       "4                     [LND, EXP]                NRT        N       False   \n",
       "\n",
       "  actualOffBlockTime expectedSecurityFilter  \\\n",
       "0                NaN                    NaN   \n",
       "1                NaN                    NaN   \n",
       "2                NaN                    NaN   \n",
       "3                NaN                    NaN   \n",
       "4                NaN                    NaN   \n",
       "\n",
       "  checkinAllocations.checkinAllocations expectedTimeBoarding  \\\n",
       "0                                   NaN                  NaN   \n",
       "1                                   NaN                  NaN   \n",
       "2                                   NaN                  NaN   \n",
       "3                                   NaN                  NaN   \n",
       "4                                   NaN                  NaN   \n",
       "\n",
       "  expectedTimeGateClosing expectedTimeGateOpen publicEstimatedOffBlockTime  \\\n",
       "0                     NaN                  NaN                         NaN   \n",
       "1                     NaN                  NaN                         NaN   \n",
       "2                     NaN                  NaN                         NaN   \n",
       "3                     NaN                  NaN                         NaN   \n",
       "4                     NaN                  NaN                         NaN   \n",
       "\n",
       "  transferPositions.transferPositions  \n",
       "0                                 NaN  \n",
       "1                                 NaN  \n",
       "2                                 NaN  \n",
       "3                                 NaN  \n",
       "4                                 NaN  "
      ]
     },
     "execution_count": 139,
     "metadata": {},
     "output_type": "execute_result"
    }
   ],
   "source": [
    "# Haal alle tabellen van de pagina\n",
    "tables = pd.read_html(url2)\n",
    "\n",
    "# Selecteer de juiste tabel (meestal de eerste echte tabel, dus tables[1])\n",
    "vliegvelden = tables[1]  # tables[0] lijkt metadata te zijn, echte tabel is tables[1]\n",
    "\n",
    "# Bekijk de eerste paar rijen\n",
    "vliegvelden.head()\n",
    "\n",
    "# Zet de lijstkolom om naar een stringkolom door het eerste element te selecteren:\n",
    "df['route.destinations'] = df['route.destinations'].apply(lambda x: x[0] if isinstance(x, list) and len(x) > 0 else None)\n",
    "df.head()"
   ]
  },
  {
   "cell_type": "code",
   "execution_count": 140,
   "metadata": {},
   "outputs": [],
   "source": [
    "# Verwijder dubbele IATA-codes en behoud alleen de laatste instantie\n",
    "vliegvelden_clean = vliegvelden.drop_duplicates(subset='IATA', keep='last')\n",
    "# Maak een mapping van IATA-code naar de bijbehorende luchthavennaam\n",
    "mapping = vliegvelden_clean.set_index('IATA')['Luchthaven']\n",
    "mapping2 = vliegvelden_clean.set_index('IATA')['Stad']\n",
    "mapping3 = vliegvelden_clean.set_index('IATA')['Land']\n",
    "\n",
    "# Voeg een nieuwe kolom toe aan df door de afkorting te mappen op de juiste luchthavennaam\n",
    "df['Luchthaven'] = df['route.destinations'].map(mapping)\n",
    "df['Stad'] = df['route.destinations'].map(mapping2)\n",
    "df['Land'] = df['route.destinations'].map(mapping3)"
   ]
  },
  {
   "cell_type": "code",
   "execution_count": 141,
   "metadata": {},
   "outputs": [
    {
     "data": {
      "text/html": [
       "<div>\n",
       "<style scoped>\n",
       "    .dataframe tbody tr th:only-of-type {\n",
       "        vertical-align: middle;\n",
       "    }\n",
       "\n",
       "    .dataframe tbody tr th {\n",
       "        vertical-align: top;\n",
       "    }\n",
       "\n",
       "    .dataframe thead th {\n",
       "        text-align: right;\n",
       "    }\n",
       "</style>\n",
       "<table border=\"1\" class=\"dataframe\">\n",
       "  <thead>\n",
       "    <tr style=\"text-align: right;\">\n",
       "      <th></th>\n",
       "      <th>lastUpdatedAt</th>\n",
       "      <th>actualLandingTime</th>\n",
       "      <th>aircraftRegistration</th>\n",
       "      <th>estimatedLandingTime</th>\n",
       "      <th>expectedTimeOnBelt</th>\n",
       "      <th>flightDirection</th>\n",
       "      <th>flightName</th>\n",
       "      <th>flightNumber</th>\n",
       "      <th>gate</th>\n",
       "      <th>pier</th>\n",
       "      <th>id</th>\n",
       "      <th>isOperationalFlight</th>\n",
       "      <th>mainFlight</th>\n",
       "      <th>prefixIATA</th>\n",
       "      <th>prefixICAO</th>\n",
       "      <th>airlineCode</th>\n",
       "      <th>scheduleDateTime</th>\n",
       "      <th>scheduleDate</th>\n",
       "      <th>scheduleTime</th>\n",
       "      <th>serviceType</th>\n",
       "      <th>terminal</th>\n",
       "      <th>schemaVersion</th>\n",
       "      <th>aircraftType.iataMain</th>\n",
       "      <th>aircraftType.iataSub</th>\n",
       "      <th>baggageClaim.belts</th>\n",
       "      <th>codeshares.codeshares</th>\n",
       "      <th>publicFlightState.flightStates</th>\n",
       "      <th>route.destinations</th>\n",
       "      <th>route.eu</th>\n",
       "      <th>route.visa</th>\n",
       "      <th>actualOffBlockTime</th>\n",
       "      <th>expectedSecurityFilter</th>\n",
       "      <th>checkinAllocations.checkinAllocations</th>\n",
       "      <th>expectedTimeBoarding</th>\n",
       "      <th>expectedTimeGateClosing</th>\n",
       "      <th>expectedTimeGateOpen</th>\n",
       "      <th>publicEstimatedOffBlockTime</th>\n",
       "      <th>transferPositions.transferPositions</th>\n",
       "      <th>Luchthaven</th>\n",
       "      <th>Stad</th>\n",
       "      <th>Land</th>\n",
       "    </tr>\n",
       "  </thead>\n",
       "  <tbody>\n",
       "    <tr>\n",
       "      <th>0</th>\n",
       "      <td>2025-03-27T01:39:47.186+01:00</td>\n",
       "      <td>2025-03-27T00:00:00.000+01:00</td>\n",
       "      <td>PHHXA</td>\n",
       "      <td>2025-03-26T23:59:52.000+01:00</td>\n",
       "      <td>2025-03-27T00:36:39.000+01:00</td>\n",
       "      <td>A</td>\n",
       "      <td>HV6888</td>\n",
       "      <td>6888</td>\n",
       "      <td>D61</td>\n",
       "      <td>D</td>\n",
       "      <td>142009545517434014</td>\n",
       "      <td>True</td>\n",
       "      <td>HV6888</td>\n",
       "      <td>HV</td>\n",
       "      <td>TRA</td>\n",
       "      <td>164.0</td>\n",
       "      <td>2025-03-27T00:15:00.000+01:00</td>\n",
       "      <td>2025-03-27</td>\n",
       "      <td>00:15:00</td>\n",
       "      <td>J</td>\n",
       "      <td>1.0</td>\n",
       "      <td>4</td>\n",
       "      <td>737</td>\n",
       "      <td>73H</td>\n",
       "      <td>[2]</td>\n",
       "      <td>[KL2746]</td>\n",
       "      <td>[ARR, EXP]</td>\n",
       "      <td>KEF</td>\n",
       "      <td>S</td>\n",
       "      <td>False</td>\n",
       "      <td>NaN</td>\n",
       "      <td>NaN</td>\n",
       "      <td>NaN</td>\n",
       "      <td>NaN</td>\n",
       "      <td>NaN</td>\n",
       "      <td>NaN</td>\n",
       "      <td>NaN</td>\n",
       "      <td>NaN</td>\n",
       "      <td>Leif Eriksson Keflavík</td>\n",
       "      <td>Keflavík/Reykjavik</td>\n",
       "      <td>IJsland</td>\n",
       "    </tr>\n",
       "    <tr>\n",
       "      <th>1</th>\n",
       "      <td>2025-03-27T01:39:47.186+01:00</td>\n",
       "      <td>2025-03-27T00:00:00.000+01:00</td>\n",
       "      <td>PHHXA</td>\n",
       "      <td>2025-03-26T23:59:52.000+01:00</td>\n",
       "      <td>2025-03-27T00:36:39.000+01:00</td>\n",
       "      <td>A</td>\n",
       "      <td>KL2746</td>\n",
       "      <td>2746</td>\n",
       "      <td>D61</td>\n",
       "      <td>D</td>\n",
       "      <td>142009545895606274</td>\n",
       "      <td>True</td>\n",
       "      <td>HV6888</td>\n",
       "      <td>KL</td>\n",
       "      <td>KLM</td>\n",
       "      <td>100.0</td>\n",
       "      <td>2025-03-27T00:15:00.000+01:00</td>\n",
       "      <td>2025-03-27</td>\n",
       "      <td>00:15:00</td>\n",
       "      <td>J</td>\n",
       "      <td>1.0</td>\n",
       "      <td>4</td>\n",
       "      <td>737</td>\n",
       "      <td>73H</td>\n",
       "      <td>[2]</td>\n",
       "      <td>[KL2746]</td>\n",
       "      <td>[ARR, EXP]</td>\n",
       "      <td>KEF</td>\n",
       "      <td>S</td>\n",
       "      <td>False</td>\n",
       "      <td>NaN</td>\n",
       "      <td>NaN</td>\n",
       "      <td>NaN</td>\n",
       "      <td>NaN</td>\n",
       "      <td>NaN</td>\n",
       "      <td>NaN</td>\n",
       "      <td>NaN</td>\n",
       "      <td>NaN</td>\n",
       "      <td>Leif Eriksson Keflavík</td>\n",
       "      <td>Keflavík/Reykjavik</td>\n",
       "      <td>IJsland</td>\n",
       "    </tr>\n",
       "    <tr>\n",
       "      <th>2</th>\n",
       "      <td>2024-10-16T15:17:08.055+02:00</td>\n",
       "      <td>NaN</td>\n",
       "      <td>NaN</td>\n",
       "      <td>NaN</td>\n",
       "      <td>NaN</td>\n",
       "      <td>A</td>\n",
       "      <td>HV6904</td>\n",
       "      <td>6904</td>\n",
       "      <td>NaN</td>\n",
       "      <td>NaN</td>\n",
       "      <td>142009545517436152</td>\n",
       "      <td>False</td>\n",
       "      <td>HV6904</td>\n",
       "      <td>HV</td>\n",
       "      <td>NaN</td>\n",
       "      <td>NaN</td>\n",
       "      <td>2025-03-27T00:35:00.000+01:00</td>\n",
       "      <td>2025-03-27</td>\n",
       "      <td>00:35:00</td>\n",
       "      <td>J</td>\n",
       "      <td>NaN</td>\n",
       "      <td>4</td>\n",
       "      <td>73H</td>\n",
       "      <td>73H</td>\n",
       "      <td>NaN</td>\n",
       "      <td>NaN</td>\n",
       "      <td>[SCH]</td>\n",
       "      <td>DXB</td>\n",
       "      <td>N</td>\n",
       "      <td>False</td>\n",
       "      <td>NaN</td>\n",
       "      <td>NaN</td>\n",
       "      <td>NaN</td>\n",
       "      <td>NaN</td>\n",
       "      <td>NaN</td>\n",
       "      <td>NaN</td>\n",
       "      <td>NaN</td>\n",
       "      <td>NaN</td>\n",
       "      <td>Dubai International</td>\n",
       "      <td>Dubai</td>\n",
       "      <td>Verenigde Arabische Emiraten</td>\n",
       "    </tr>\n",
       "    <tr>\n",
       "      <th>3</th>\n",
       "      <td>2024-08-22T10:46:58.889+02:00</td>\n",
       "      <td>NaN</td>\n",
       "      <td>NaN</td>\n",
       "      <td>NaN</td>\n",
       "      <td>NaN</td>\n",
       "      <td>A</td>\n",
       "      <td>HV6308</td>\n",
       "      <td>6308</td>\n",
       "      <td>NaN</td>\n",
       "      <td>NaN</td>\n",
       "      <td>142009545517419732</td>\n",
       "      <td>False</td>\n",
       "      <td>HV6308</td>\n",
       "      <td>HV</td>\n",
       "      <td>NaN</td>\n",
       "      <td>NaN</td>\n",
       "      <td>2025-03-27T00:45:00.000+01:00</td>\n",
       "      <td>2025-03-27</td>\n",
       "      <td>00:45:00</td>\n",
       "      <td>J</td>\n",
       "      <td>NaN</td>\n",
       "      <td>4</td>\n",
       "      <td>32S</td>\n",
       "      <td>32Q</td>\n",
       "      <td>NaN</td>\n",
       "      <td>NaN</td>\n",
       "      <td>[SCH]</td>\n",
       "      <td>BEY</td>\n",
       "      <td>N</td>\n",
       "      <td>False</td>\n",
       "      <td>NaN</td>\n",
       "      <td>NaN</td>\n",
       "      <td>NaN</td>\n",
       "      <td>NaN</td>\n",
       "      <td>NaN</td>\n",
       "      <td>NaN</td>\n",
       "      <td>NaN</td>\n",
       "      <td>NaN</td>\n",
       "      <td>Rafik Hariri</td>\n",
       "      <td>Beiroet</td>\n",
       "      <td>Libanon</td>\n",
       "    </tr>\n",
       "    <tr>\n",
       "      <th>4</th>\n",
       "      <td>2025-03-27T05:39:39.790+01:00</td>\n",
       "      <td>2025-03-27T05:21:36.000+01:00</td>\n",
       "      <td>JA13KZ</td>\n",
       "      <td>2025-03-27T05:22:03.000+01:00</td>\n",
       "      <td>NaN</td>\n",
       "      <td>A</td>\n",
       "      <td>KZ004</td>\n",
       "      <td>4</td>\n",
       "      <td>NaN</td>\n",
       "      <td>NaN</td>\n",
       "      <td>142009544365967514</td>\n",
       "      <td>True</td>\n",
       "      <td>KZ004</td>\n",
       "      <td>KZ</td>\n",
       "      <td>NCA</td>\n",
       "      <td>131.0</td>\n",
       "      <td>2025-03-27T03:20:00.000+01:00</td>\n",
       "      <td>2025-03-27</td>\n",
       "      <td>03:20:00</td>\n",
       "      <td>F</td>\n",
       "      <td>NaN</td>\n",
       "      <td>4</td>\n",
       "      <td>74F</td>\n",
       "      <td>74N</td>\n",
       "      <td>NaN</td>\n",
       "      <td>NaN</td>\n",
       "      <td>[LND, EXP]</td>\n",
       "      <td>NRT</td>\n",
       "      <td>N</td>\n",
       "      <td>False</td>\n",
       "      <td>NaN</td>\n",
       "      <td>NaN</td>\n",
       "      <td>NaN</td>\n",
       "      <td>NaN</td>\n",
       "      <td>NaN</td>\n",
       "      <td>NaN</td>\n",
       "      <td>NaN</td>\n",
       "      <td>NaN</td>\n",
       "      <td>Narita</td>\n",
       "      <td>Narita</td>\n",
       "      <td>Japan</td>\n",
       "    </tr>\n",
       "  </tbody>\n",
       "</table>\n",
       "</div>"
      ],
      "text/plain": [
       "                   lastUpdatedAt              actualLandingTime  \\\n",
       "0  2025-03-27T01:39:47.186+01:00  2025-03-27T00:00:00.000+01:00   \n",
       "1  2025-03-27T01:39:47.186+01:00  2025-03-27T00:00:00.000+01:00   \n",
       "2  2024-10-16T15:17:08.055+02:00                            NaN   \n",
       "3  2024-08-22T10:46:58.889+02:00                            NaN   \n",
       "4  2025-03-27T05:39:39.790+01:00  2025-03-27T05:21:36.000+01:00   \n",
       "\n",
       "  aircraftRegistration           estimatedLandingTime  \\\n",
       "0                PHHXA  2025-03-26T23:59:52.000+01:00   \n",
       "1                PHHXA  2025-03-26T23:59:52.000+01:00   \n",
       "2                  NaN                            NaN   \n",
       "3                  NaN                            NaN   \n",
       "4               JA13KZ  2025-03-27T05:22:03.000+01:00   \n",
       "\n",
       "              expectedTimeOnBelt flightDirection flightName  flightNumber  \\\n",
       "0  2025-03-27T00:36:39.000+01:00               A     HV6888          6888   \n",
       "1  2025-03-27T00:36:39.000+01:00               A     KL2746          2746   \n",
       "2                            NaN               A     HV6904          6904   \n",
       "3                            NaN               A     HV6308          6308   \n",
       "4                            NaN               A      KZ004             4   \n",
       "\n",
       "  gate pier                  id  isOperationalFlight mainFlight prefixIATA  \\\n",
       "0  D61    D  142009545517434014                 True     HV6888         HV   \n",
       "1  D61    D  142009545895606274                 True     HV6888         KL   \n",
       "2  NaN  NaN  142009545517436152                False     HV6904         HV   \n",
       "3  NaN  NaN  142009545517419732                False     HV6308         HV   \n",
       "4  NaN  NaN  142009544365967514                 True      KZ004         KZ   \n",
       "\n",
       "  prefixICAO  airlineCode               scheduleDateTime scheduleDate  \\\n",
       "0        TRA        164.0  2025-03-27T00:15:00.000+01:00   2025-03-27   \n",
       "1        KLM        100.0  2025-03-27T00:15:00.000+01:00   2025-03-27   \n",
       "2        NaN          NaN  2025-03-27T00:35:00.000+01:00   2025-03-27   \n",
       "3        NaN          NaN  2025-03-27T00:45:00.000+01:00   2025-03-27   \n",
       "4        NCA        131.0  2025-03-27T03:20:00.000+01:00   2025-03-27   \n",
       "\n",
       "  scheduleTime serviceType  terminal schemaVersion aircraftType.iataMain  \\\n",
       "0     00:15:00           J       1.0             4                   737   \n",
       "1     00:15:00           J       1.0             4                   737   \n",
       "2     00:35:00           J       NaN             4                   73H   \n",
       "3     00:45:00           J       NaN             4                   32S   \n",
       "4     03:20:00           F       NaN             4                   74F   \n",
       "\n",
       "  aircraftType.iataSub baggageClaim.belts codeshares.codeshares  \\\n",
       "0                  73H                [2]              [KL2746]   \n",
       "1                  73H                [2]              [KL2746]   \n",
       "2                  73H                NaN                   NaN   \n",
       "3                  32Q                NaN                   NaN   \n",
       "4                  74N                NaN                   NaN   \n",
       "\n",
       "  publicFlightState.flightStates route.destinations route.eu  route.visa  \\\n",
       "0                     [ARR, EXP]                KEF        S       False   \n",
       "1                     [ARR, EXP]                KEF        S       False   \n",
       "2                          [SCH]                DXB        N       False   \n",
       "3                          [SCH]                BEY        N       False   \n",
       "4                     [LND, EXP]                NRT        N       False   \n",
       "\n",
       "  actualOffBlockTime expectedSecurityFilter  \\\n",
       "0                NaN                    NaN   \n",
       "1                NaN                    NaN   \n",
       "2                NaN                    NaN   \n",
       "3                NaN                    NaN   \n",
       "4                NaN                    NaN   \n",
       "\n",
       "  checkinAllocations.checkinAllocations expectedTimeBoarding  \\\n",
       "0                                   NaN                  NaN   \n",
       "1                                   NaN                  NaN   \n",
       "2                                   NaN                  NaN   \n",
       "3                                   NaN                  NaN   \n",
       "4                                   NaN                  NaN   \n",
       "\n",
       "  expectedTimeGateClosing expectedTimeGateOpen publicEstimatedOffBlockTime  \\\n",
       "0                     NaN                  NaN                         NaN   \n",
       "1                     NaN                  NaN                         NaN   \n",
       "2                     NaN                  NaN                         NaN   \n",
       "3                     NaN                  NaN                         NaN   \n",
       "4                     NaN                  NaN                         NaN   \n",
       "\n",
       "  transferPositions.transferPositions              Luchthaven  \\\n",
       "0                                 NaN  Leif Eriksson Keflavík   \n",
       "1                                 NaN  Leif Eriksson Keflavík   \n",
       "2                                 NaN     Dubai International   \n",
       "3                                 NaN            Rafik Hariri   \n",
       "4                                 NaN                  Narita   \n",
       "\n",
       "                 Stad                          Land  \n",
       "0  Keflavík/Reykjavik                       IJsland  \n",
       "1  Keflavík/Reykjavik                       IJsland  \n",
       "2               Dubai  Verenigde Arabische Emiraten  \n",
       "3             Beiroet                       Libanon  \n",
       "4              Narita                         Japan  "
      ]
     },
     "execution_count": 141,
     "metadata": {},
     "output_type": "execute_result"
    }
   ],
   "source": [
    "df.head()"
   ]
  },
  {
   "cell_type": "code",
   "execution_count": 142,
   "metadata": {},
   "outputs": [],
   "source": [
    "#landen per continent bedankt chatGPT\n",
    "continenten = {\n",
    "    \"Afrika\": [\n",
    "        \"Algerije\", \"Angola\", \"Benin\", \"Botswana\", \"Burkina Faso\", \"Burundi\", \"Comoren\", \"Congo-Brazzaville\",\n",
    "        \"Congo-Kinshasa\", \"Djibouti\", \"Egypte\", \"Eritrea\", \"Eswatini\", \"Ethiopië\", \"Gabon\", \"Gambia\", \"Ghana\",\n",
    "        \"Guinee\", \"Guinee-Bissau\", \"Ivoorkust\", \"Kaapverdië\", \"Kameroen\", \"Kenia\", \"Lesotho\", \"Liberia\", \"Libië\",\n",
    "        \"Madagaskar\", \"Malawi\", \"Mali\", \"Marokko\", \"Mauritanië\", \"Mauritius\", \"Mozambique\", \"Namibië\", \"Niger\",\n",
    "        \"Nigeria\", \"Oeganda\", \"Rwanda\", \"Sao Tomé en Principe\", \"Senegal\", \"Seychellen\", \"Sierra Leone\",\n",
    "        \"Soedan\", \"Somalië\", \"Tanzania\", \"Togo\", \"Tsjaad\", \"Tunesië\", \"Zambia\", \"Zimbabwe\", \"Zuid-Afrika\",\n",
    "        \"Zuid-Soedan\"\n",
    "    ],\n",
    "    \"Azië\": [\n",
    "        \"Afghanistan\", \"Armenië\", \"Azerbeidzjan\", \"Bahrein\", \"Bangladesh\", \"Bhutan\", \"Brunei\", \"Cambodja\",\n",
    "        \"China\", \"Cyprus\", \"Filipijnen\", \"Georgië\", \"India\", \"Indonesië\", \"Irak\", \"Iran\", \"Israël\", \"Japan\",\n",
    "        \"Jemen\", \"Jordanië\", \"Kazachstan\", \"Kirgizië\", \"Koeweit\", \"Laos\", \"Libanon\", \"Maldiven\", \"Maleisië\",\n",
    "        \"Mongolië\", \"Myanmar\", \"Nepal\", \"Noord-Korea\", \"Oezbekistan\", \"Oman\", \"Pakistan\", \"Qatar\", \"Rusland\",\n",
    "        \"Saoedi-Arabië\", \"Singapore\", \"Sri Lanka\", \"Syrië\", \"Tadzjikistan\", \"Taiwan\", \"Thailand\", \"Turkije\",\n",
    "        \"Turkmenistan\", \"Verenigde Arabische Emiraten\", \"Vietnam\", \"Zuid-Korea\"\n",
    "    ],\n",
    "    \"Europa\": [\n",
    "        \"Albanië\", \"Andorra\", \"België\", \"Bosnië en Herzegovina\", \"Bulgarije\", \"Denemarken\", \"Duitsland\",\n",
    "        \"Estland\", \"Finland\", \"Frankrijk\", \"Griekenland\", \"Hongarije\", \"Ierland\", \"IJsland\", \"Italië\", \"Kosovo\",\n",
    "        \"Kroatië\", \"Letland\", \"Liechtenstein\", \"Litouwen\", \"Luxemburg\", \"Malta\", \"Moldavië\", \"Monaco\",\n",
    "        \"Montenegro\", \"Nederland\", \"Noord-Macedonië\", \"Noorwegen\", \"Oekraïne\", \"Oostenrijk\", \"Polen\", \"Portugal\",\n",
    "        \"Roemenië\", \"San Marino\", \"Servië\", \"Slovenië\", \"Slowakije\", \"Spanje\", \"Tsjechië\", \"Vaticaanstad\",\n",
    "        \"Verenigd Koninkrijk\", \"Wit-Rusland\", \"Zweden\", \"Zwitserland\"\n",
    "    ],\n",
    "    \"Noord-Amerika\": [\n",
    "        \"Antigua en Barbuda\", \"Bahama's\", \"Barbados\", \"Belize\", \"Canada\", \"Costa Rica\", \"Cuba\", \"Dominica\",\n",
    "        \"Dominicaanse Republiek\", \"El Salvador\", \"Grenada\", \"Guatemala\", \"Haïti\", \"Honduras\", \"Jamaica\",\n",
    "        \"Mexico\", \"Nicaragua\", \"Panama\", \"Saint Kitts en Nevis\", \"Saint Lucia\", \"Saint Vincent en de Grenadines\",\n",
    "        \"Trinidad en Tobago\", \"Verenigde Staten\"\n",
    "    ],\n",
    "    \"Zuid-Amerika\": [\n",
    "        \"Argentinië\", \"Bolivia\", \"Brazilië\", \"Chili\", \"Colombia\", \"Ecuador\", \"Guyana\", \"Paraguay\", \"Peru\",\n",
    "        \"Suriname\", \"Uruguay\", \"Venezuela\"\n",
    "    ],\n",
    "    \"Oceanië\": [\n",
    "        \"Australië\", \"Fiji\", \"Kiribati\", \"Marshalleilanden\", \"Micronesia\", \"Nauru\", \"Nieuw-Zeeland\", \"Palau\",\n",
    "        \"Papoea-Nieuw-Guinea\", \"Samoa\", \"Salomonseilanden\", \"Tonga\", \"Tuvalu\", \"Vanuatu\"\n",
    "    ]\n",
    "}\n"
   ]
  },
  {
   "cell_type": "code",
   "execution_count": 143,
   "metadata": {},
   "outputs": [
    {
     "data": {
      "text/html": [
       "<div>\n",
       "<style scoped>\n",
       "    .dataframe tbody tr th:only-of-type {\n",
       "        vertical-align: middle;\n",
       "    }\n",
       "\n",
       "    .dataframe tbody tr th {\n",
       "        vertical-align: top;\n",
       "    }\n",
       "\n",
       "    .dataframe thead th {\n",
       "        text-align: right;\n",
       "    }\n",
       "</style>\n",
       "<table border=\"1\" class=\"dataframe\">\n",
       "  <thead>\n",
       "    <tr style=\"text-align: right;\">\n",
       "      <th></th>\n",
       "      <th>lastUpdatedAt</th>\n",
       "      <th>actualLandingTime</th>\n",
       "      <th>aircraftRegistration</th>\n",
       "      <th>estimatedLandingTime</th>\n",
       "      <th>expectedTimeOnBelt</th>\n",
       "      <th>flightDirection</th>\n",
       "      <th>flightName</th>\n",
       "      <th>flightNumber</th>\n",
       "      <th>gate</th>\n",
       "      <th>pier</th>\n",
       "      <th>id</th>\n",
       "      <th>isOperationalFlight</th>\n",
       "      <th>mainFlight</th>\n",
       "      <th>prefixIATA</th>\n",
       "      <th>prefixICAO</th>\n",
       "      <th>airlineCode</th>\n",
       "      <th>scheduleDateTime</th>\n",
       "      <th>scheduleDate</th>\n",
       "      <th>scheduleTime</th>\n",
       "      <th>serviceType</th>\n",
       "      <th>terminal</th>\n",
       "      <th>schemaVersion</th>\n",
       "      <th>aircraftType.iataMain</th>\n",
       "      <th>aircraftType.iataSub</th>\n",
       "      <th>baggageClaim.belts</th>\n",
       "      <th>codeshares.codeshares</th>\n",
       "      <th>publicFlightState.flightStates</th>\n",
       "      <th>route.destinations</th>\n",
       "      <th>route.eu</th>\n",
       "      <th>route.visa</th>\n",
       "      <th>actualOffBlockTime</th>\n",
       "      <th>expectedSecurityFilter</th>\n",
       "      <th>checkinAllocations.checkinAllocations</th>\n",
       "      <th>expectedTimeBoarding</th>\n",
       "      <th>expectedTimeGateClosing</th>\n",
       "      <th>expectedTimeGateOpen</th>\n",
       "      <th>publicEstimatedOffBlockTime</th>\n",
       "      <th>transferPositions.transferPositions</th>\n",
       "      <th>Luchthaven</th>\n",
       "      <th>Stad</th>\n",
       "      <th>Land</th>\n",
       "      <th>Continent</th>\n",
       "    </tr>\n",
       "  </thead>\n",
       "  <tbody>\n",
       "    <tr>\n",
       "      <th>0</th>\n",
       "      <td>2025-03-27T01:39:47.186+01:00</td>\n",
       "      <td>2025-03-27T00:00:00.000+01:00</td>\n",
       "      <td>PHHXA</td>\n",
       "      <td>2025-03-26T23:59:52.000+01:00</td>\n",
       "      <td>2025-03-27T00:36:39.000+01:00</td>\n",
       "      <td>A</td>\n",
       "      <td>HV6888</td>\n",
       "      <td>6888</td>\n",
       "      <td>D61</td>\n",
       "      <td>D</td>\n",
       "      <td>142009545517434014</td>\n",
       "      <td>True</td>\n",
       "      <td>HV6888</td>\n",
       "      <td>HV</td>\n",
       "      <td>TRA</td>\n",
       "      <td>164.0</td>\n",
       "      <td>2025-03-27T00:15:00.000+01:00</td>\n",
       "      <td>2025-03-27</td>\n",
       "      <td>00:15:00</td>\n",
       "      <td>J</td>\n",
       "      <td>1.0</td>\n",
       "      <td>4</td>\n",
       "      <td>737</td>\n",
       "      <td>73H</td>\n",
       "      <td>[2]</td>\n",
       "      <td>[KL2746]</td>\n",
       "      <td>[ARR, EXP]</td>\n",
       "      <td>KEF</td>\n",
       "      <td>S</td>\n",
       "      <td>False</td>\n",
       "      <td>NaN</td>\n",
       "      <td>NaN</td>\n",
       "      <td>NaN</td>\n",
       "      <td>NaN</td>\n",
       "      <td>NaN</td>\n",
       "      <td>NaN</td>\n",
       "      <td>NaN</td>\n",
       "      <td>NaN</td>\n",
       "      <td>Leif Eriksson Keflavík</td>\n",
       "      <td>Keflavík/Reykjavik</td>\n",
       "      <td>IJsland</td>\n",
       "      <td>Europa</td>\n",
       "    </tr>\n",
       "    <tr>\n",
       "      <th>1</th>\n",
       "      <td>2025-03-27T01:39:47.186+01:00</td>\n",
       "      <td>2025-03-27T00:00:00.000+01:00</td>\n",
       "      <td>PHHXA</td>\n",
       "      <td>2025-03-26T23:59:52.000+01:00</td>\n",
       "      <td>2025-03-27T00:36:39.000+01:00</td>\n",
       "      <td>A</td>\n",
       "      <td>KL2746</td>\n",
       "      <td>2746</td>\n",
       "      <td>D61</td>\n",
       "      <td>D</td>\n",
       "      <td>142009545895606274</td>\n",
       "      <td>True</td>\n",
       "      <td>HV6888</td>\n",
       "      <td>KL</td>\n",
       "      <td>KLM</td>\n",
       "      <td>100.0</td>\n",
       "      <td>2025-03-27T00:15:00.000+01:00</td>\n",
       "      <td>2025-03-27</td>\n",
       "      <td>00:15:00</td>\n",
       "      <td>J</td>\n",
       "      <td>1.0</td>\n",
       "      <td>4</td>\n",
       "      <td>737</td>\n",
       "      <td>73H</td>\n",
       "      <td>[2]</td>\n",
       "      <td>[KL2746]</td>\n",
       "      <td>[ARR, EXP]</td>\n",
       "      <td>KEF</td>\n",
       "      <td>S</td>\n",
       "      <td>False</td>\n",
       "      <td>NaN</td>\n",
       "      <td>NaN</td>\n",
       "      <td>NaN</td>\n",
       "      <td>NaN</td>\n",
       "      <td>NaN</td>\n",
       "      <td>NaN</td>\n",
       "      <td>NaN</td>\n",
       "      <td>NaN</td>\n",
       "      <td>Leif Eriksson Keflavík</td>\n",
       "      <td>Keflavík/Reykjavik</td>\n",
       "      <td>IJsland</td>\n",
       "      <td>Europa</td>\n",
       "    </tr>\n",
       "    <tr>\n",
       "      <th>2</th>\n",
       "      <td>2024-10-16T15:17:08.055+02:00</td>\n",
       "      <td>NaN</td>\n",
       "      <td>NaN</td>\n",
       "      <td>NaN</td>\n",
       "      <td>NaN</td>\n",
       "      <td>A</td>\n",
       "      <td>HV6904</td>\n",
       "      <td>6904</td>\n",
       "      <td>NaN</td>\n",
       "      <td>NaN</td>\n",
       "      <td>142009545517436152</td>\n",
       "      <td>False</td>\n",
       "      <td>HV6904</td>\n",
       "      <td>HV</td>\n",
       "      <td>NaN</td>\n",
       "      <td>NaN</td>\n",
       "      <td>2025-03-27T00:35:00.000+01:00</td>\n",
       "      <td>2025-03-27</td>\n",
       "      <td>00:35:00</td>\n",
       "      <td>J</td>\n",
       "      <td>NaN</td>\n",
       "      <td>4</td>\n",
       "      <td>73H</td>\n",
       "      <td>73H</td>\n",
       "      <td>NaN</td>\n",
       "      <td>NaN</td>\n",
       "      <td>[SCH]</td>\n",
       "      <td>DXB</td>\n",
       "      <td>N</td>\n",
       "      <td>False</td>\n",
       "      <td>NaN</td>\n",
       "      <td>NaN</td>\n",
       "      <td>NaN</td>\n",
       "      <td>NaN</td>\n",
       "      <td>NaN</td>\n",
       "      <td>NaN</td>\n",
       "      <td>NaN</td>\n",
       "      <td>NaN</td>\n",
       "      <td>Dubai International</td>\n",
       "      <td>Dubai</td>\n",
       "      <td>Verenigde Arabische Emiraten</td>\n",
       "      <td>Azië</td>\n",
       "    </tr>\n",
       "    <tr>\n",
       "      <th>3</th>\n",
       "      <td>2024-08-22T10:46:58.889+02:00</td>\n",
       "      <td>NaN</td>\n",
       "      <td>NaN</td>\n",
       "      <td>NaN</td>\n",
       "      <td>NaN</td>\n",
       "      <td>A</td>\n",
       "      <td>HV6308</td>\n",
       "      <td>6308</td>\n",
       "      <td>NaN</td>\n",
       "      <td>NaN</td>\n",
       "      <td>142009545517419732</td>\n",
       "      <td>False</td>\n",
       "      <td>HV6308</td>\n",
       "      <td>HV</td>\n",
       "      <td>NaN</td>\n",
       "      <td>NaN</td>\n",
       "      <td>2025-03-27T00:45:00.000+01:00</td>\n",
       "      <td>2025-03-27</td>\n",
       "      <td>00:45:00</td>\n",
       "      <td>J</td>\n",
       "      <td>NaN</td>\n",
       "      <td>4</td>\n",
       "      <td>32S</td>\n",
       "      <td>32Q</td>\n",
       "      <td>NaN</td>\n",
       "      <td>NaN</td>\n",
       "      <td>[SCH]</td>\n",
       "      <td>BEY</td>\n",
       "      <td>N</td>\n",
       "      <td>False</td>\n",
       "      <td>NaN</td>\n",
       "      <td>NaN</td>\n",
       "      <td>NaN</td>\n",
       "      <td>NaN</td>\n",
       "      <td>NaN</td>\n",
       "      <td>NaN</td>\n",
       "      <td>NaN</td>\n",
       "      <td>NaN</td>\n",
       "      <td>Rafik Hariri</td>\n",
       "      <td>Beiroet</td>\n",
       "      <td>Libanon</td>\n",
       "      <td>Azië</td>\n",
       "    </tr>\n",
       "    <tr>\n",
       "      <th>4</th>\n",
       "      <td>2025-03-27T05:39:39.790+01:00</td>\n",
       "      <td>2025-03-27T05:21:36.000+01:00</td>\n",
       "      <td>JA13KZ</td>\n",
       "      <td>2025-03-27T05:22:03.000+01:00</td>\n",
       "      <td>NaN</td>\n",
       "      <td>A</td>\n",
       "      <td>KZ004</td>\n",
       "      <td>4</td>\n",
       "      <td>NaN</td>\n",
       "      <td>NaN</td>\n",
       "      <td>142009544365967514</td>\n",
       "      <td>True</td>\n",
       "      <td>KZ004</td>\n",
       "      <td>KZ</td>\n",
       "      <td>NCA</td>\n",
       "      <td>131.0</td>\n",
       "      <td>2025-03-27T03:20:00.000+01:00</td>\n",
       "      <td>2025-03-27</td>\n",
       "      <td>03:20:00</td>\n",
       "      <td>F</td>\n",
       "      <td>NaN</td>\n",
       "      <td>4</td>\n",
       "      <td>74F</td>\n",
       "      <td>74N</td>\n",
       "      <td>NaN</td>\n",
       "      <td>NaN</td>\n",
       "      <td>[LND, EXP]</td>\n",
       "      <td>NRT</td>\n",
       "      <td>N</td>\n",
       "      <td>False</td>\n",
       "      <td>NaN</td>\n",
       "      <td>NaN</td>\n",
       "      <td>NaN</td>\n",
       "      <td>NaN</td>\n",
       "      <td>NaN</td>\n",
       "      <td>NaN</td>\n",
       "      <td>NaN</td>\n",
       "      <td>NaN</td>\n",
       "      <td>Narita</td>\n",
       "      <td>Narita</td>\n",
       "      <td>Japan</td>\n",
       "      <td>Azië</td>\n",
       "    </tr>\n",
       "  </tbody>\n",
       "</table>\n",
       "</div>"
      ],
      "text/plain": [
       "                   lastUpdatedAt              actualLandingTime  \\\n",
       "0  2025-03-27T01:39:47.186+01:00  2025-03-27T00:00:00.000+01:00   \n",
       "1  2025-03-27T01:39:47.186+01:00  2025-03-27T00:00:00.000+01:00   \n",
       "2  2024-10-16T15:17:08.055+02:00                            NaN   \n",
       "3  2024-08-22T10:46:58.889+02:00                            NaN   \n",
       "4  2025-03-27T05:39:39.790+01:00  2025-03-27T05:21:36.000+01:00   \n",
       "\n",
       "  aircraftRegistration           estimatedLandingTime  \\\n",
       "0                PHHXA  2025-03-26T23:59:52.000+01:00   \n",
       "1                PHHXA  2025-03-26T23:59:52.000+01:00   \n",
       "2                  NaN                            NaN   \n",
       "3                  NaN                            NaN   \n",
       "4               JA13KZ  2025-03-27T05:22:03.000+01:00   \n",
       "\n",
       "              expectedTimeOnBelt flightDirection flightName  flightNumber  \\\n",
       "0  2025-03-27T00:36:39.000+01:00               A     HV6888          6888   \n",
       "1  2025-03-27T00:36:39.000+01:00               A     KL2746          2746   \n",
       "2                            NaN               A     HV6904          6904   \n",
       "3                            NaN               A     HV6308          6308   \n",
       "4                            NaN               A      KZ004             4   \n",
       "\n",
       "  gate pier                  id  isOperationalFlight mainFlight prefixIATA  \\\n",
       "0  D61    D  142009545517434014                 True     HV6888         HV   \n",
       "1  D61    D  142009545895606274                 True     HV6888         KL   \n",
       "2  NaN  NaN  142009545517436152                False     HV6904         HV   \n",
       "3  NaN  NaN  142009545517419732                False     HV6308         HV   \n",
       "4  NaN  NaN  142009544365967514                 True      KZ004         KZ   \n",
       "\n",
       "  prefixICAO  airlineCode               scheduleDateTime scheduleDate  \\\n",
       "0        TRA        164.0  2025-03-27T00:15:00.000+01:00   2025-03-27   \n",
       "1        KLM        100.0  2025-03-27T00:15:00.000+01:00   2025-03-27   \n",
       "2        NaN          NaN  2025-03-27T00:35:00.000+01:00   2025-03-27   \n",
       "3        NaN          NaN  2025-03-27T00:45:00.000+01:00   2025-03-27   \n",
       "4        NCA        131.0  2025-03-27T03:20:00.000+01:00   2025-03-27   \n",
       "\n",
       "  scheduleTime serviceType  terminal schemaVersion aircraftType.iataMain  \\\n",
       "0     00:15:00           J       1.0             4                   737   \n",
       "1     00:15:00           J       1.0             4                   737   \n",
       "2     00:35:00           J       NaN             4                   73H   \n",
       "3     00:45:00           J       NaN             4                   32S   \n",
       "4     03:20:00           F       NaN             4                   74F   \n",
       "\n",
       "  aircraftType.iataSub baggageClaim.belts codeshares.codeshares  \\\n",
       "0                  73H                [2]              [KL2746]   \n",
       "1                  73H                [2]              [KL2746]   \n",
       "2                  73H                NaN                   NaN   \n",
       "3                  32Q                NaN                   NaN   \n",
       "4                  74N                NaN                   NaN   \n",
       "\n",
       "  publicFlightState.flightStates route.destinations route.eu  route.visa  \\\n",
       "0                     [ARR, EXP]                KEF        S       False   \n",
       "1                     [ARR, EXP]                KEF        S       False   \n",
       "2                          [SCH]                DXB        N       False   \n",
       "3                          [SCH]                BEY        N       False   \n",
       "4                     [LND, EXP]                NRT        N       False   \n",
       "\n",
       "  actualOffBlockTime expectedSecurityFilter  \\\n",
       "0                NaN                    NaN   \n",
       "1                NaN                    NaN   \n",
       "2                NaN                    NaN   \n",
       "3                NaN                    NaN   \n",
       "4                NaN                    NaN   \n",
       "\n",
       "  checkinAllocations.checkinAllocations expectedTimeBoarding  \\\n",
       "0                                   NaN                  NaN   \n",
       "1                                   NaN                  NaN   \n",
       "2                                   NaN                  NaN   \n",
       "3                                   NaN                  NaN   \n",
       "4                                   NaN                  NaN   \n",
       "\n",
       "  expectedTimeGateClosing expectedTimeGateOpen publicEstimatedOffBlockTime  \\\n",
       "0                     NaN                  NaN                         NaN   \n",
       "1                     NaN                  NaN                         NaN   \n",
       "2                     NaN                  NaN                         NaN   \n",
       "3                     NaN                  NaN                         NaN   \n",
       "4                     NaN                  NaN                         NaN   \n",
       "\n",
       "  transferPositions.transferPositions              Luchthaven  \\\n",
       "0                                 NaN  Leif Eriksson Keflavík   \n",
       "1                                 NaN  Leif Eriksson Keflavík   \n",
       "2                                 NaN     Dubai International   \n",
       "3                                 NaN            Rafik Hariri   \n",
       "4                                 NaN                  Narita   \n",
       "\n",
       "                 Stad                          Land Continent  \n",
       "0  Keflavík/Reykjavik                       IJsland    Europa  \n",
       "1  Keflavík/Reykjavik                       IJsland    Europa  \n",
       "2               Dubai  Verenigde Arabische Emiraten      Azië  \n",
       "3             Beiroet                       Libanon      Azië  \n",
       "4              Narita                         Japan      Azië  "
      ]
     },
     "execution_count": 143,
     "metadata": {},
     "output_type": "execute_result"
    }
   ],
   "source": [
    "def land_naar_continent(land):\n",
    "    for continent, landen in continenten.items():\n",
    "        if land in landen:\n",
    "            return continent\n",
    "    return \"Onbekend\"  # Voor landen die niet in de lijst staan\n",
    "\n",
    "# Pas de functie toe op de DataFrame\n",
    "df['Continent'] = df['Land'].apply(land_naar_continent)\n",
    "df.head()"
   ]
  },
  {
   "cell_type": "code",
   "execution_count": 144,
   "metadata": {},
   "outputs": [
    {
     "data": {
      "application/vnd.plotly.v1+json": {
       "config": {
        "plotlyServerURL": "https://plot.ly"
       },
       "data": [
        {
         "alignmentgroup": "True",
         "bingroup": "x",
         "hovertemplate": "Land=%{x}<br>count=%{y}<extra></extra>",
         "legendgroup": "",
         "marker": {
          "color": "#636efa",
          "pattern": {
           "shape": ""
          }
         },
         "name": "",
         "offsetgroup": "",
         "orientation": "v",
         "showlegend": false,
         "type": "histogram",
         "x": [
          "IJsland",
          "IJsland",
          "Verenigde Arabische Emiraten",
          "Libanon",
          "Japan",
          "Duitsland",
          "Frankrijk",
          "Noorwegen",
          "Noorwegen",
          "Noorwegen",
          "Ghana",
          "Ghana",
          "Ghana",
          "Suriname",
          "Indonesië",
          "Indonesië",
          "Indonesië",
          "Indonesië",
          "Verenigde Staten",
          "Verenigde Staten",
          "Verenigde Staten",
          "Verenigde Staten",
          "Verenigde Staten",
          "Verenigde Staten",
          "Verenigde Staten",
          "Verenigde Staten",
          "Cyprus",
          "Cyprus",
          "Cyprus",
          "Nigeria",
          "Nigeria",
          "Nigeria",
          "Verenigde Staten",
          "Verenigde Staten",
          "Verenigde Staten",
          "Verenigde Staten",
          "Verenigde Arabische Emiraten",
          "Portugal",
          "Portugal",
          "Portugal",
          "Zuid-Afrika",
          "Gambia",
          "Spanje",
          "Spanje",
          "Spanje",
          "Spanje",
          "Hongkong",
          "Spanje",
          "Spanje",
          "Spanje",
          "Hongkong",
          "Hongkong",
          "Hongkong",
          "Noorwegen",
          "Noorwegen",
          "Noorwegen",
          "Noorwegen",
          "Noorwegen",
          "Noorwegen",
          "Noorwegen",
          "Singapore",
          "Spanje",
          "Spanje",
          "Spanje",
          "Frankrijk",
          "Frankrijk",
          "Frankrijk",
          "Frankrijk",
          "Frankrijk",
          "Zwitserland",
          "Zwitserland",
          "Zwitserland",
          "Zwitserland",
          "Zwitserland",
          "Tsjechië",
          "Tsjechië",
          "Tsjechië",
          "België",
          "België",
          "België",
          "België",
          "Verenigde Staten",
          "Verenigde Staten",
          "Verenigde Staten",
          "Verenigde Staten",
          "Verenigde Staten",
          "Verenigde Staten",
          "Verenigde Staten",
          "Verenigde Staten",
          "Rwanda",
          "Rwanda",
          "Rwanda",
          "Curaçao",
          "Curaçao",
          "Zweden",
          "Zweden",
          "Zweden",
          "Zweden",
          "Zweden",
          "Zweden",
          "Italië",
          "Italië",
          "Italië",
          "Italië",
          "Spanje",
          "Spanje",
          "Noord-Macedonië",
          "Duitsland",
          "Duitsland",
          "Duitsland",
          "Duitsland",
          "Duitsland",
          "Zwitserland",
          "Zwitserland",
          "Zwitserland",
          "Zwitserland",
          "Zwitserland",
          "Zwitserland",
          "Duitsland",
          "Duitsland",
          "Duitsland",
          "Duitsland",
          "Duitsland",
          "Duitsland",
          "Duitsland",
          "Duitsland",
          "Duitsland",
          "Verenigde Arabische Emiraten",
          "Verenigde Arabische Emiraten",
          "Verenigde Arabische Emiraten",
          "Verenigd Koninkrijk",
          "Zwitserland",
          "Denemarken",
          "Verenigd Koninkrijk",
          "Griekenland",
          "Portugal",
          "Spanje",
          "Spanje",
          "Spanje",
          "Spanje",
          "Polen",
          "Polen",
          "Verenigd Koninkrijk",
          "Duitsland",
          "Italië",
          "Oostenrijk",
          "Oostenrijk",
          "Oostenrijk",
          "Oostenrijk",
          "Verenigde Staten",
          "Verenigde Staten",
          "Verenigde Staten",
          "Verenigde Staten",
          "Verenigd Koninkrijk",
          "Verenigd Koninkrijk",
          "Verenigd Koninkrijk",
          "Duitsland",
          "Duitsland",
          "Duitsland",
          "Duitsland",
          "Duitsland",
          "Duitsland",
          "Duitsland",
          "Duitsland",
          "Italië",
          "Italië",
          "Italië",
          "Spanje",
          "Spanje",
          "Spanje",
          "Spanje",
          "Spanje",
          "Spanje",
          "Canada",
          "Canada",
          "Canada",
          "Canada",
          "Verenigde Staten",
          "Verenigde Staten",
          "Verenigde Staten",
          "Verenigde Staten",
          "Italië",
          "Kenia",
          "Kenia",
          "Kenia",
          "België",
          "België",
          "België",
          "België",
          "België",
          "Denemarken",
          "Servië",
          "Spanje",
          "Spanje",
          "Spanje",
          "Verenigd Koninkrijk",
          "Verenigd Koninkrijk",
          "Verenigd Koninkrijk",
          "Verenigd Koninkrijk",
          "Verenigd Koninkrijk",
          "Spanje",
          "Spanje",
          "Spanje",
          "Denemarken",
          "Denemarken",
          "Denemarken",
          "Denemarken",
          "Denemarken",
          "Denemarken",
          "Duitsland",
          "Duitsland",
          "Duitsland",
          "Duitsland",
          "Duitsland",
          "Duitsland",
          "Duitsland",
          "Duitsland",
          "Duitsland",
          "Luxemburg",
          "Luxemburg",
          "Luxemburg",
          "Oostenrijk",
          "Oostenrijk",
          "Oostenrijk",
          "Verenigde Staten",
          "Verenigd Koninkrijk",
          "Frankrijk",
          "Frankrijk",
          "Frankrijk",
          "Frankrijk",
          "Frankrijk",
          "Frankrijk",
          "Duitsland",
          "Spanje",
          "Spanje",
          "Spanje",
          "Spanje",
          "Spanje",
          "Zwitserland",
          "Italië",
          "Italië",
          "Suriname",
          "België",
          "Ierland",
          "Ierland",
          "Ierland",
          "Ierland",
          "Duitsland",
          "Duitsland",
          "Duitsland",
          "Duitsland",
          "Duitsland",
          "Duitsland",
          "Duitsland",
          "Duitsland",
          "Denemarken",
          "Denemarken",
          "Denemarken",
          "Denemarken",
          "Denemarken",
          "Denemarken",
          "Denemarken",
          "Denemarken",
          "Denemarken",
          "Denemarken",
          "Denemarken",
          "Denemarken",
          "Denemarken",
          "Denemarken",
          "Denemarken",
          "Portugal",
          "Portugal",
          "Portugal",
          "Duitsland",
          "Duitsland",
          "Duitsland",
          "Duitsland",
          "Spanje",
          "Tsjechië",
          "Tsjechië",
          "Tsjechië",
          "Tsjechië",
          "Noorwegen",
          "Noorwegen",
          "Noorwegen",
          "Noorwegen",
          "Noorwegen",
          "Zwitserland",
          "Zwitserland",
          "Zwitserland",
          "Zwitserland",
          "Zwitserland",
          "Zwitserland",
          "Zwitserland",
          "Zweden",
          "Zweden",
          "Zweden",
          "Zweden",
          "Denemarken",
          "Denemarken",
          "Denemarken",
          "Denemarken",
          "Denemarken",
          "Denemarken",
          "Denemarken",
          "Denemarken",
          "Denemarken",
          "Spanje",
          "Spanje",
          "Spanje",
          "Spanje",
          "Spanje",
          "Spanje",
          "Tanzania",
          "Tanzania",
          "Tanzania",
          "Verenigde Staten",
          "Verenigde Staten",
          "Verenigde Staten",
          "Verenigde Staten",
          "Verenigde Staten",
          "Verenigde Staten",
          "Verenigde Staten",
          "Verenigde Staten",
          "Noorwegen",
          "Noorwegen",
          "Noorwegen",
          "Duitsland",
          "Duitsland",
          "Duitsland",
          "Duitsland",
          "Duitsland",
          "Duitsland",
          "Duitsland",
          "Nederland",
          "India",
          "India",
          "India",
          "Noorwegen",
          "Noorwegen",
          "Noorwegen",
          "Noorwegen",
          "Frankrijk",
          "Frankrijk",
          "Frankrijk",
          "Frankrijk",
          "Frankrijk",
          "Frankrijk",
          "Noorwegen",
          "Noorwegen",
          "Noorwegen",
          "Noorwegen",
          "Noorwegen",
          "Noorwegen",
          "Nederland",
          "Nederland",
          "Frankrijk",
          "Frankrijk",
          "Frankrijk",
          "Verenigde Arabische Emiraten",
          "Noorwegen",
          "Noorwegen",
          "Noorwegen",
          "Marokko",
          "Marokko",
          "Verenigd Koninkrijk",
          "Verenigd Koninkrijk",
          "Verenigd Koninkrijk",
          "Verenigd Koninkrijk",
          "Zwitserland",
          "China",
          "Verenigd Koninkrijk",
          "Verenigd Koninkrijk",
          "Verenigd Koninkrijk",
          "Verenigd Koninkrijk",
          "Verenigd Koninkrijk",
          "Verenigd Koninkrijk",
          "Verenigd Koninkrijk",
          "Verenigd Koninkrijk",
          "Duitsland",
          "Duitsland",
          "Duitsland",
          "Verenigd Koninkrijk",
          "Verenigd Koninkrijk",
          "Verenigd Koninkrijk",
          "IJsland",
          "IJsland",
          "IJsland",
          "Roemenië",
          "Roemenië",
          "Roemenië",
          "Roemenië",
          "Zweden",
          "Zweden",
          "Zweden",
          "Zweden",
          "Zweden",
          "Zweden",
          "Polen",
          "Polen",
          "Polen",
          "Polen",
          "Frankrijk",
          "Frankrijk",
          "Qatar",
          "Verenigd Koninkrijk",
          "Verenigd Koninkrijk",
          "Verenigd Koninkrijk",
          "Duitsland",
          "Duitsland",
          "Duitsland",
          "Duitsland",
          "Duitsland",
          "Duitsland",
          "Duitsland",
          "Zweden",
          "Zweden",
          "Zweden",
          "Canada",
          "Canada",
          "Canada",
          "Canada",
          "Verenigd Koninkrijk",
          "Duitsland",
          "Verenigde Staten",
          "Egypte",
          "Duitsland",
          "Suriname",
          "Verenigde Staten",
          "Verenigde Staten",
          "Verenigde Staten",
          "Verenigde Staten",
          "Frankrijk",
          "Frankrijk",
          "Frankrijk",
          "Frankrijk",
          "Frankrijk",
          "Frankrijk",
          "Verenigd Koninkrijk",
          "Verenigd Koninkrijk",
          "Verenigd Koninkrijk",
          "Verenigd Koninkrijk",
          "Verenigd Koninkrijk",
          "Verenigd Koninkrijk",
          "Verenigd Koninkrijk",
          "Duitsland",
          "Duitsland",
          "Duitsland",
          "Duitsland",
          "Duitsland",
          "Duitsland",
          "Duitsland",
          "Duitsland",
          "Duitsland",
          "Duitsland",
          "Verenigd Koninkrijk",
          "Verenigd Koninkrijk",
          "Verenigd Koninkrijk",
          "Verenigd Koninkrijk",
          "Verenigd Koninkrijk",
          "Verenigd Koninkrijk",
          "Verenigd Koninkrijk",
          "Verenigd Koninkrijk",
          "Verenigde Staten",
          "Verenigde Staten",
          "Verenigde Staten",
          "Verenigde Staten",
          "Verenigd Koninkrijk",
          "Verenigd Koninkrijk",
          "Verenigd Koninkrijk",
          "Polen",
          "Polen",
          "Polen",
          "Polen",
          "Polen",
          "Polen",
          "Polen",
          "Verenigde Staten",
          "Verenigde Staten",
          "Verenigde Staten",
          "Verenigde Staten",
          "Duitsland",
          "Filipijnen",
          "Dominicaanse Republiek",
          "Verenigd Koninkrijk",
          "Verenigd Koninkrijk",
          "Verenigd Koninkrijk",
          "Verenigd Koninkrijk",
          "Verenigd Koninkrijk",
          "Verenigd Koninkrijk",
          "Verenigd Koninkrijk",
          "Verenigd Koninkrijk",
          "Verenigd Koninkrijk",
          "Verenigd Koninkrijk",
          "Verenigd Koninkrijk",
          "Verenigd Koninkrijk",
          "Verenigd Koninkrijk",
          "Canada",
          "Canada",
          "Canada",
          "Canada",
          "Verenigd Koninkrijk",
          "Verenigd Koninkrijk",
          "Verenigd Koninkrijk",
          "Verenigd Koninkrijk",
          "Verenigd Koninkrijk",
          "Verenigd Koninkrijk",
          "Verenigd Koninkrijk",
          "Verenigd Koninkrijk",
          "Verenigd Koninkrijk",
          "Verenigd Koninkrijk",
          "Verenigd Koninkrijk",
          "Verenigd Koninkrijk",
          "Verenigd Koninkrijk",
          "België",
          "Spanje",
          "Spanje",
          "Spanje",
          "Spanje",
          "Spanje",
          "Spanje",
          "Spanje",
          "Verenigd Koninkrijk",
          "Verenigd Koninkrijk",
          "Caribisch Nederland",
          "Verenigd Koninkrijk",
          "Verenigd Koninkrijk",
          "Verenigd Koninkrijk",
          "Verenigd Koninkrijk",
          "Verenigd Koninkrijk",
          "Verenigd Koninkrijk",
          "Verenigd Koninkrijk",
          "Verenigd Koninkrijk",
          "Verenigd Koninkrijk",
          "Verenigd Koninkrijk",
          "Verenigd Koninkrijk",
          "Verenigd Koninkrijk",
          "Verenigd Koninkrijk",
          "Verenigd Koninkrijk",
          "Verenigd Koninkrijk",
          "Verenigd Koninkrijk",
          "Verenigd Koninkrijk",
          "Verenigd Koninkrijk",
          "Verenigd Koninkrijk",
          "Verenigd Koninkrijk",
          "Verenigd Koninkrijk",
          "Verenigd Koninkrijk",
          "Verenigd Koninkrijk",
          "Verenigd Koninkrijk",
          "Verenigd Koninkrijk",
          "Verenigd Koninkrijk",
          "Verenigd Koninkrijk",
          "Verenigd Koninkrijk",
          "Verenigd Koninkrijk",
          "India",
          "India",
          "India",
          "Spanje",
          "Spanje",
          "Spanje",
          "Spanje",
          "Spanje",
          "Spanje",
          "Spanje",
          "Spanje",
          "Spanje",
          "Spanje",
          "Spanje",
          "Italië",
          "Italië",
          "Italië",
          "Italië",
          "Italië",
          "Italië",
          "Duitsland",
          "Duitsland",
          "Duitsland",
          "Duitsland",
          "Duitsland",
          "Duitsland",
          "Duitsland",
          "Denemarken",
          "Denemarken",
          "Noorwegen",
          "Noorwegen",
          "Noorwegen",
          "Noorwegen",
          "Noorwegen",
          "Noorwegen",
          "Noorwegen",
          "Noorwegen",
          "Noorwegen",
          "Verenigd Koninkrijk",
          "Verenigd Koninkrijk",
          "Verenigd Koninkrijk",
          "Verenigd Koninkrijk",
          "Verenigd Koninkrijk",
          "Verenigd Koninkrijk",
          "Verenigd Koninkrijk",
          "India",
          "India",
          "India",
          "Indonesië",
          "Indonesië",
          "Indonesië",
          "Polen",
          "Polen",
          "Polen",
          "Italië",
          "Italië",
          "Italië",
          "Italië",
          "Portugal",
          "Portugal",
          "Portugal",
          "Portugal",
          "Frankrijk",
          "Frankrijk",
          "Frankrijk",
          "Frankrijk",
          "Frankrijk",
          "Frankrijk",
          "Frankrijk",
          "Frankrijk",
          "Frankrijk",
          "Verenigd Koninkrijk",
          "Verenigd Koninkrijk",
          "Verenigd Koninkrijk",
          "Verenigd Koninkrijk",
          "Verenigd Koninkrijk",
          "Verenigd Koninkrijk",
          "Verenigd Koninkrijk",
          "Verenigd Koninkrijk",
          "Verenigd Koninkrijk",
          "Verenigd Koninkrijk",
          "Zweden",
          "Zweden",
          "Zweden",
          "Zweden",
          "Zweden",
          "Zweden",
          "Zweden",
          "Denemarken",
          "Denemarken",
          "Denemarken",
          "Verenigd Koninkrijk",
          "Verenigd Koninkrijk",
          "Verenigd Koninkrijk",
          "Verenigd Koninkrijk",
          "Verenigd Koninkrijk",
          "Verenigd Koninkrijk",
          "Italië",
          "Italië",
          "Italië",
          "Italië",
          "Italië",
          "Servië",
          "Servië",
          "Servië",
          "Servië",
          "Frankrijk",
          "Frankrijk",
          "Frankrijk",
          "Frankrijk",
          "Frankrijk",
          "Frankrijk",
          "Frankrijk",
          "Frankrijk",
          "Griekenland",
          "Griekenland",
          "Griekenland",
          "Griekenland",
          "Griekenland",
          "Verenigde Staten",
          "Ierland",
          "Ierland",
          "Ierland",
          "Ierland",
          "Ierland",
          "Ierland",
          "Verenigd Koninkrijk",
          "Verenigd Koninkrijk",
          "Verenigd Koninkrijk",
          "Verenigd Koninkrijk",
          "Verenigd Koninkrijk",
          "Verenigd Koninkrijk",
          "Verenigd Koninkrijk",
          "Denemarken",
          "Kroatië",
          "Kroatië",
          "Kroatië",
          "Kaapverdië",
          "Spanje",
          "Spanje",
          "Spanje",
          "Spanje",
          "Zwitserland",
          "Zweden",
          "Zweden",
          "Zweden",
          "Zweden",
          "Zweden",
          "Zweden",
          "Zweden",
          "Zweden",
          "Zweden",
          "Zweden",
          "Zweden",
          "Frankrijk",
          "Frankrijk",
          "Frankrijk",
          "Spanje",
          "Spanje",
          "Spanje",
          "Spanje",
          "Spanje",
          "Spanje",
          "Spanje",
          "Spanje",
          "Spanje",
          "Spanje",
          "Spanje",
          "Spanje",
          "Spanje",
          "Spanje",
          "Spanje",
          "Spanje",
          "Spanje",
          "Verenigd Koninkrijk",
          "Verenigd Koninkrijk",
          "Verenigd Koninkrijk",
          "Verenigd Koninkrijk",
          "Verenigd Koninkrijk",
          "Verenigd Koninkrijk",
          "Verenigd Koninkrijk",
          "Duitsland",
          "Kazachstan",
          "Verenigd Koninkrijk",
          "Italië",
          "Italië",
          "Italië",
          "Italië",
          "Italië",
          "Italië",
          "Italië",
          "Italië",
          "Duitsland",
          "Verenigd Koninkrijk",
          "Verenigd Koninkrijk",
          "Verenigd Koninkrijk",
          "Hongarije",
          "Hongarije",
          "Hongarije",
          "Hongarije",
          "Duitsland",
          "Duitsland",
          "Duitsland",
          "Duitsland",
          "Duitsland",
          "Duitsland",
          "Duitsland",
          "Zwitserland",
          "Zwitserland",
          "Zwitserland",
          "Zwitserland",
          "Zwitserland",
          "Zwitserland",
          "Zwitserland",
          "Zwitserland",
          "Italië",
          "Italië",
          "Italië",
          "Italië",
          "Italië",
          "Italië",
          "Italië",
          "Noorwegen",
          "Noorwegen",
          "Noorwegen",
          "Noorwegen",
          "Noorwegen",
          "Noorwegen",
          "Italië",
          "Finland",
          "Finland",
          "Finland",
          "Finland",
          "Finland",
          "Finland",
          "Finland",
          "Finland",
          "Finland",
          "Finland",
          "Portugal",
          "Portugal",
          "Portugal",
          "Portugal",
          "Ierland",
          "Ierland",
          "Frankrijk",
          "Frankrijk",
          "Frankrijk",
          "Ierland",
          "Duitsland",
          "Verenigde Staten",
          "Verenigde Staten",
          "Verenigde Staten",
          "Verenigde Staten",
          "Frankrijk",
          "Frankrijk",
          "Frankrijk",
          "Frankrijk",
          "Frankrijk",
          "Italië",
          "Italië",
          "Italië",
          "Oostenrijk",
          "Oostenrijk",
          "Oostenrijk",
          "Oostenrijk",
          "Oostenrijk",
          "Oostenrijk",
          "Oostenrijk",
          "Oostenrijk",
          "Oostenrijk",
          "Verenigd Koninkrijk",
          "Verenigd Koninkrijk",
          "Verenigd Koninkrijk",
          "Verenigd Koninkrijk",
          "Verenigd Koninkrijk",
          "Verenigd Koninkrijk",
          "Verenigd Koninkrijk",
          "Ierland",
          "China",
          "Zwitserland",
          "Zwitserland",
          "Zwitserland",
          "Zwitserland",
          "Zwitserland",
          "Zwitserland",
          "Zwitserland",
          "Zwitserland",
          "Zwitserland",
          "Spanje",
          "Spanje",
          "Spanje",
          "Spanje",
          "Spanje",
          "Verenigd Koninkrijk",
          "Verenigd Koninkrijk",
          "Verenigd Koninkrijk",
          "Letland",
          "Italië",
          "Italië",
          "Italië",
          "Italië",
          "Bulgarije",
          "België",
          "België",
          "België",
          "België",
          "België",
          "België",
          "België",
          "België",
          "Portugal",
          "Portugal",
          "Portugal",
          "Portugal",
          "Portugal",
          "Portugal",
          "Verenigde Staten",
          "Verenigde Staten",
          "Verenigde Staten",
          "Verenigde Staten",
          "Verenigd Koninkrijk",
          "Verenigd Koninkrijk",
          "Verenigd Koninkrijk",
          "Verenigde Staten",
          "Verenigde Staten",
          "Verenigde Staten",
          "Verenigde Staten",
          "Spanje",
          "Spanje",
          "Spanje",
          "Spanje",
          "Spanje",
          "Duitsland",
          "Duitsland",
          "Duitsland",
          "Duitsland",
          "Duitsland",
          "Duitsland",
          "Verenigd Koninkrijk",
          "Estland",
          "Oostenrijk",
          "Zuid-Afrika",
          "Zuid-Afrika",
          "Zuid-Afrika",
          "Egypte",
          "Verenigd Koninkrijk",
          "Verenigd Koninkrijk",
          "Verenigd Koninkrijk",
          "Verenigd Koninkrijk",
          "Verenigd Koninkrijk",
          "Verenigde Staten",
          "Verenigde Staten",
          "Verenigde Staten",
          "Verenigde Staten",
          "Servië",
          "Servië",
          "Servië",
          "Servië",
          "Verenigd Koninkrijk",
          "Verenigd Koninkrijk",
          "Verenigd Koninkrijk",
          "Verenigd Koninkrijk",
          "Duitsland",
          "Verenigde Staten",
          "Verenigde Staten",
          "Verenigd Koninkrijk",
          "Litouwen",
          "Polen",
          "Polen",
          "Polen",
          "Duitsland",
          "Duitsland",
          "Duitsland",
          "Duitsland",
          "Duitsland",
          "Duitsland",
          "Duitsland",
          "Verenigd Koninkrijk",
          "Verenigd Koninkrijk",
          "Verenigd Koninkrijk",
          "Verenigd Koninkrijk",
          "Verenigd Koninkrijk",
          "Verenigd Koninkrijk",
          "Tsjechië",
          "Tsjechië",
          "Tsjechië",
          "Tsjechië",
          "Tsjechië",
          "Frankrijk",
          "Luxemburg",
          "Luxemburg",
          "Luxemburg",
          "Verenigd Koninkrijk",
          "België",
          "België",
          "België",
          "België",
          "België",
          "België",
          "Zwitserland",
          "Zwitserland",
          "Zwitserland",
          "Zwitserland",
          "Zwitserland",
          "Duitsland",
          "Duitsland",
          "Duitsland",
          "Duitsland",
          "Duitsland",
          "Verenigd Koninkrijk",
          "Verenigd Koninkrijk",
          "Verenigd Koninkrijk",
          "Duitsland",
          "Duitsland",
          "Duitsland",
          "Zwitserland",
          "Zwitserland",
          "Zwitserland",
          "Zwitserland",
          "Zwitserland",
          "Zwitserland",
          "Zwitserland",
          "Verenigd Koninkrijk",
          "Verenigd Koninkrijk",
          "Roemenië",
          "Roemenië",
          "Roemenië",
          "Roemenië",
          "Griekenland",
          "Frankrijk",
          "Frankrijk",
          "Frankrijk",
          "Frankrijk",
          "Frankrijk",
          "Frankrijk",
          "Frankrijk",
          "Frankrijk",
          "Frankrijk",
          "Frankrijk",
          "Tsjechië",
          "Zwitserland",
          "Zwitserland",
          "Zwitserland",
          "Zwitserland",
          "Zwitserland"
         ],
         "xaxis": "x",
         "yaxis": "y"
        }
       ],
       "layout": {
        "barmode": "relative",
        "legend": {
         "tracegroupgap": 0
        },
        "margin": {
         "t": 60
        },
        "template": {
         "data": {
          "bar": [
           {
            "error_x": {
             "color": "#2a3f5f"
            },
            "error_y": {
             "color": "#2a3f5f"
            },
            "marker": {
             "line": {
              "color": "#E5ECF6",
              "width": 0.5
             },
             "pattern": {
              "fillmode": "overlay",
              "size": 10,
              "solidity": 0.2
             }
            },
            "type": "bar"
           }
          ],
          "barpolar": [
           {
            "marker": {
             "line": {
              "color": "#E5ECF6",
              "width": 0.5
             },
             "pattern": {
              "fillmode": "overlay",
              "size": 10,
              "solidity": 0.2
             }
            },
            "type": "barpolar"
           }
          ],
          "carpet": [
           {
            "aaxis": {
             "endlinecolor": "#2a3f5f",
             "gridcolor": "white",
             "linecolor": "white",
             "minorgridcolor": "white",
             "startlinecolor": "#2a3f5f"
            },
            "baxis": {
             "endlinecolor": "#2a3f5f",
             "gridcolor": "white",
             "linecolor": "white",
             "minorgridcolor": "white",
             "startlinecolor": "#2a3f5f"
            },
            "type": "carpet"
           }
          ],
          "choropleth": [
           {
            "colorbar": {
             "outlinewidth": 0,
             "ticks": ""
            },
            "type": "choropleth"
           }
          ],
          "contour": [
           {
            "colorbar": {
             "outlinewidth": 0,
             "ticks": ""
            },
            "colorscale": [
             [
              0,
              "#0d0887"
             ],
             [
              0.1111111111111111,
              "#46039f"
             ],
             [
              0.2222222222222222,
              "#7201a8"
             ],
             [
              0.3333333333333333,
              "#9c179e"
             ],
             [
              0.4444444444444444,
              "#bd3786"
             ],
             [
              0.5555555555555556,
              "#d8576b"
             ],
             [
              0.6666666666666666,
              "#ed7953"
             ],
             [
              0.7777777777777778,
              "#fb9f3a"
             ],
             [
              0.8888888888888888,
              "#fdca26"
             ],
             [
              1,
              "#f0f921"
             ]
            ],
            "type": "contour"
           }
          ],
          "contourcarpet": [
           {
            "colorbar": {
             "outlinewidth": 0,
             "ticks": ""
            },
            "type": "contourcarpet"
           }
          ],
          "heatmap": [
           {
            "colorbar": {
             "outlinewidth": 0,
             "ticks": ""
            },
            "colorscale": [
             [
              0,
              "#0d0887"
             ],
             [
              0.1111111111111111,
              "#46039f"
             ],
             [
              0.2222222222222222,
              "#7201a8"
             ],
             [
              0.3333333333333333,
              "#9c179e"
             ],
             [
              0.4444444444444444,
              "#bd3786"
             ],
             [
              0.5555555555555556,
              "#d8576b"
             ],
             [
              0.6666666666666666,
              "#ed7953"
             ],
             [
              0.7777777777777778,
              "#fb9f3a"
             ],
             [
              0.8888888888888888,
              "#fdca26"
             ],
             [
              1,
              "#f0f921"
             ]
            ],
            "type": "heatmap"
           }
          ],
          "heatmapgl": [
           {
            "colorbar": {
             "outlinewidth": 0,
             "ticks": ""
            },
            "colorscale": [
             [
              0,
              "#0d0887"
             ],
             [
              0.1111111111111111,
              "#46039f"
             ],
             [
              0.2222222222222222,
              "#7201a8"
             ],
             [
              0.3333333333333333,
              "#9c179e"
             ],
             [
              0.4444444444444444,
              "#bd3786"
             ],
             [
              0.5555555555555556,
              "#d8576b"
             ],
             [
              0.6666666666666666,
              "#ed7953"
             ],
             [
              0.7777777777777778,
              "#fb9f3a"
             ],
             [
              0.8888888888888888,
              "#fdca26"
             ],
             [
              1,
              "#f0f921"
             ]
            ],
            "type": "heatmapgl"
           }
          ],
          "histogram": [
           {
            "marker": {
             "pattern": {
              "fillmode": "overlay",
              "size": 10,
              "solidity": 0.2
             }
            },
            "type": "histogram"
           }
          ],
          "histogram2d": [
           {
            "colorbar": {
             "outlinewidth": 0,
             "ticks": ""
            },
            "colorscale": [
             [
              0,
              "#0d0887"
             ],
             [
              0.1111111111111111,
              "#46039f"
             ],
             [
              0.2222222222222222,
              "#7201a8"
             ],
             [
              0.3333333333333333,
              "#9c179e"
             ],
             [
              0.4444444444444444,
              "#bd3786"
             ],
             [
              0.5555555555555556,
              "#d8576b"
             ],
             [
              0.6666666666666666,
              "#ed7953"
             ],
             [
              0.7777777777777778,
              "#fb9f3a"
             ],
             [
              0.8888888888888888,
              "#fdca26"
             ],
             [
              1,
              "#f0f921"
             ]
            ],
            "type": "histogram2d"
           }
          ],
          "histogram2dcontour": [
           {
            "colorbar": {
             "outlinewidth": 0,
             "ticks": ""
            },
            "colorscale": [
             [
              0,
              "#0d0887"
             ],
             [
              0.1111111111111111,
              "#46039f"
             ],
             [
              0.2222222222222222,
              "#7201a8"
             ],
             [
              0.3333333333333333,
              "#9c179e"
             ],
             [
              0.4444444444444444,
              "#bd3786"
             ],
             [
              0.5555555555555556,
              "#d8576b"
             ],
             [
              0.6666666666666666,
              "#ed7953"
             ],
             [
              0.7777777777777778,
              "#fb9f3a"
             ],
             [
              0.8888888888888888,
              "#fdca26"
             ],
             [
              1,
              "#f0f921"
             ]
            ],
            "type": "histogram2dcontour"
           }
          ],
          "mesh3d": [
           {
            "colorbar": {
             "outlinewidth": 0,
             "ticks": ""
            },
            "type": "mesh3d"
           }
          ],
          "parcoords": [
           {
            "line": {
             "colorbar": {
              "outlinewidth": 0,
              "ticks": ""
             }
            },
            "type": "parcoords"
           }
          ],
          "pie": [
           {
            "automargin": true,
            "type": "pie"
           }
          ],
          "scatter": [
           {
            "fillpattern": {
             "fillmode": "overlay",
             "size": 10,
             "solidity": 0.2
            },
            "type": "scatter"
           }
          ],
          "scatter3d": [
           {
            "line": {
             "colorbar": {
              "outlinewidth": 0,
              "ticks": ""
             }
            },
            "marker": {
             "colorbar": {
              "outlinewidth": 0,
              "ticks": ""
             }
            },
            "type": "scatter3d"
           }
          ],
          "scattercarpet": [
           {
            "marker": {
             "colorbar": {
              "outlinewidth": 0,
              "ticks": ""
             }
            },
            "type": "scattercarpet"
           }
          ],
          "scattergeo": [
           {
            "marker": {
             "colorbar": {
              "outlinewidth": 0,
              "ticks": ""
             }
            },
            "type": "scattergeo"
           }
          ],
          "scattergl": [
           {
            "marker": {
             "colorbar": {
              "outlinewidth": 0,
              "ticks": ""
             }
            },
            "type": "scattergl"
           }
          ],
          "scattermapbox": [
           {
            "marker": {
             "colorbar": {
              "outlinewidth": 0,
              "ticks": ""
             }
            },
            "type": "scattermapbox"
           }
          ],
          "scatterpolar": [
           {
            "marker": {
             "colorbar": {
              "outlinewidth": 0,
              "ticks": ""
             }
            },
            "type": "scatterpolar"
           }
          ],
          "scatterpolargl": [
           {
            "marker": {
             "colorbar": {
              "outlinewidth": 0,
              "ticks": ""
             }
            },
            "type": "scatterpolargl"
           }
          ],
          "scatterternary": [
           {
            "marker": {
             "colorbar": {
              "outlinewidth": 0,
              "ticks": ""
             }
            },
            "type": "scatterternary"
           }
          ],
          "surface": [
           {
            "colorbar": {
             "outlinewidth": 0,
             "ticks": ""
            },
            "colorscale": [
             [
              0,
              "#0d0887"
             ],
             [
              0.1111111111111111,
              "#46039f"
             ],
             [
              0.2222222222222222,
              "#7201a8"
             ],
             [
              0.3333333333333333,
              "#9c179e"
             ],
             [
              0.4444444444444444,
              "#bd3786"
             ],
             [
              0.5555555555555556,
              "#d8576b"
             ],
             [
              0.6666666666666666,
              "#ed7953"
             ],
             [
              0.7777777777777778,
              "#fb9f3a"
             ],
             [
              0.8888888888888888,
              "#fdca26"
             ],
             [
              1,
              "#f0f921"
             ]
            ],
            "type": "surface"
           }
          ],
          "table": [
           {
            "cells": {
             "fill": {
              "color": "#EBF0F8"
             },
             "line": {
              "color": "white"
             }
            },
            "header": {
             "fill": {
              "color": "#C8D4E3"
             },
             "line": {
              "color": "white"
             }
            },
            "type": "table"
           }
          ]
         },
         "layout": {
          "annotationdefaults": {
           "arrowcolor": "#2a3f5f",
           "arrowhead": 0,
           "arrowwidth": 1
          },
          "autotypenumbers": "strict",
          "coloraxis": {
           "colorbar": {
            "outlinewidth": 0,
            "ticks": ""
           }
          },
          "colorscale": {
           "diverging": [
            [
             0,
             "#8e0152"
            ],
            [
             0.1,
             "#c51b7d"
            ],
            [
             0.2,
             "#de77ae"
            ],
            [
             0.3,
             "#f1b6da"
            ],
            [
             0.4,
             "#fde0ef"
            ],
            [
             0.5,
             "#f7f7f7"
            ],
            [
             0.6,
             "#e6f5d0"
            ],
            [
             0.7,
             "#b8e186"
            ],
            [
             0.8,
             "#7fbc41"
            ],
            [
             0.9,
             "#4d9221"
            ],
            [
             1,
             "#276419"
            ]
           ],
           "sequential": [
            [
             0,
             "#0d0887"
            ],
            [
             0.1111111111111111,
             "#46039f"
            ],
            [
             0.2222222222222222,
             "#7201a8"
            ],
            [
             0.3333333333333333,
             "#9c179e"
            ],
            [
             0.4444444444444444,
             "#bd3786"
            ],
            [
             0.5555555555555556,
             "#d8576b"
            ],
            [
             0.6666666666666666,
             "#ed7953"
            ],
            [
             0.7777777777777778,
             "#fb9f3a"
            ],
            [
             0.8888888888888888,
             "#fdca26"
            ],
            [
             1,
             "#f0f921"
            ]
           ],
           "sequentialminus": [
            [
             0,
             "#0d0887"
            ],
            [
             0.1111111111111111,
             "#46039f"
            ],
            [
             0.2222222222222222,
             "#7201a8"
            ],
            [
             0.3333333333333333,
             "#9c179e"
            ],
            [
             0.4444444444444444,
             "#bd3786"
            ],
            [
             0.5555555555555556,
             "#d8576b"
            ],
            [
             0.6666666666666666,
             "#ed7953"
            ],
            [
             0.7777777777777778,
             "#fb9f3a"
            ],
            [
             0.8888888888888888,
             "#fdca26"
            ],
            [
             1,
             "#f0f921"
            ]
           ]
          },
          "colorway": [
           "#636efa",
           "#EF553B",
           "#00cc96",
           "#ab63fa",
           "#FFA15A",
           "#19d3f3",
           "#FF6692",
           "#B6E880",
           "#FF97FF",
           "#FECB52"
          ],
          "font": {
           "color": "#2a3f5f"
          },
          "geo": {
           "bgcolor": "white",
           "lakecolor": "white",
           "landcolor": "#E5ECF6",
           "showlakes": true,
           "showland": true,
           "subunitcolor": "white"
          },
          "hoverlabel": {
           "align": "left"
          },
          "hovermode": "closest",
          "mapbox": {
           "style": "light"
          },
          "paper_bgcolor": "white",
          "plot_bgcolor": "#E5ECF6",
          "polar": {
           "angularaxis": {
            "gridcolor": "white",
            "linecolor": "white",
            "ticks": ""
           },
           "bgcolor": "#E5ECF6",
           "radialaxis": {
            "gridcolor": "white",
            "linecolor": "white",
            "ticks": ""
           }
          },
          "scene": {
           "xaxis": {
            "backgroundcolor": "#E5ECF6",
            "gridcolor": "white",
            "gridwidth": 2,
            "linecolor": "white",
            "showbackground": true,
            "ticks": "",
            "zerolinecolor": "white"
           },
           "yaxis": {
            "backgroundcolor": "#E5ECF6",
            "gridcolor": "white",
            "gridwidth": 2,
            "linecolor": "white",
            "showbackground": true,
            "ticks": "",
            "zerolinecolor": "white"
           },
           "zaxis": {
            "backgroundcolor": "#E5ECF6",
            "gridcolor": "white",
            "gridwidth": 2,
            "linecolor": "white",
            "showbackground": true,
            "ticks": "",
            "zerolinecolor": "white"
           }
          },
          "shapedefaults": {
           "line": {
            "color": "#2a3f5f"
           }
          },
          "ternary": {
           "aaxis": {
            "gridcolor": "white",
            "linecolor": "white",
            "ticks": ""
           },
           "baxis": {
            "gridcolor": "white",
            "linecolor": "white",
            "ticks": ""
           },
           "bgcolor": "#E5ECF6",
           "caxis": {
            "gridcolor": "white",
            "linecolor": "white",
            "ticks": ""
           }
          },
          "title": {
           "x": 0.05
          },
          "xaxis": {
           "automargin": true,
           "gridcolor": "white",
           "linecolor": "white",
           "ticks": "",
           "title": {
            "standoff": 15
           },
           "zerolinecolor": "white",
           "zerolinewidth": 2
          },
          "yaxis": {
           "automargin": true,
           "gridcolor": "white",
           "linecolor": "white",
           "ticks": "",
           "title": {
            "standoff": 15
           },
           "zerolinecolor": "white",
           "zerolinewidth": 2
          }
         }
        },
        "xaxis": {
         "anchor": "y",
         "domain": [
          0,
          1
         ],
         "title": {
          "text": "Land"
         }
        },
        "yaxis": {
         "anchor": "x",
         "domain": [
          0,
          1
         ],
         "title": {
          "text": "count"
         }
        }
       }
      }
     },
     "metadata": {},
     "output_type": "display_data"
    }
   ],
   "source": [
    "# histogram per land\n",
    "fig = px.histogram(df, x='Land')\n",
    "fig.show()"
   ]
  },
  {
   "cell_type": "code",
   "execution_count": 145,
   "metadata": {},
   "outputs": [
    {
     "data": {
      "application/vnd.plotly.v1+json": {
       "config": {
        "plotlyServerURL": "https://plot.ly"
       },
       "data": [
        {
         "name": "Afrika",
         "type": "histogram",
         "visible": true,
         "x": [
          "Ghana",
          "Ghana",
          "Ghana",
          "Nigeria",
          "Nigeria",
          "Nigeria",
          "Zuid-Afrika",
          "Gambia",
          "Rwanda",
          "Rwanda",
          "Rwanda",
          "Kenia",
          "Kenia",
          "Kenia",
          "Tanzania",
          "Tanzania",
          "Tanzania",
          "Marokko",
          "Marokko",
          "Egypte",
          "Kaapverdië",
          "Zuid-Afrika",
          "Zuid-Afrika",
          "Zuid-Afrika",
          "Egypte"
         ]
        },
        {
         "name": "Azië",
         "type": "histogram",
         "visible": false,
         "x": [
          "Verenigde Arabische Emiraten",
          "Libanon",
          "Japan",
          "Indonesië",
          "Indonesië",
          "Indonesië",
          "Indonesië",
          "Cyprus",
          "Cyprus",
          "Cyprus",
          "Verenigde Arabische Emiraten",
          "Singapore",
          "Verenigde Arabische Emiraten",
          "Verenigde Arabische Emiraten",
          "Verenigde Arabische Emiraten",
          "India",
          "India",
          "India",
          "Verenigde Arabische Emiraten",
          "China",
          "Qatar",
          "Filipijnen",
          "India",
          "India",
          "India",
          "India",
          "India",
          "India",
          "Indonesië",
          "Indonesië",
          "Indonesië",
          "Kazachstan",
          "China"
         ]
        },
        {
         "name": "Europa",
         "type": "histogram",
         "visible": false,
         "x": [
          "IJsland",
          "IJsland",
          "Duitsland",
          "Frankrijk",
          "Noorwegen",
          "Noorwegen",
          "Noorwegen",
          "Portugal",
          "Portugal",
          "Portugal",
          "Spanje",
          "Spanje",
          "Spanje",
          "Spanje",
          "Spanje",
          "Spanje",
          "Spanje",
          "Noorwegen",
          "Noorwegen",
          "Noorwegen",
          "Noorwegen",
          "Noorwegen",
          "Noorwegen",
          "Noorwegen",
          "Spanje",
          "Spanje",
          "Spanje",
          "Frankrijk",
          "Frankrijk",
          "Frankrijk",
          "Frankrijk",
          "Frankrijk",
          "Zwitserland",
          "Zwitserland",
          "Zwitserland",
          "Zwitserland",
          "Zwitserland",
          "Tsjechië",
          "Tsjechië",
          "Tsjechië",
          "België",
          "België",
          "België",
          "België",
          "Zweden",
          "Zweden",
          "Zweden",
          "Zweden",
          "Zweden",
          "Zweden",
          "Italië",
          "Italië",
          "Italië",
          "Italië",
          "Spanje",
          "Spanje",
          "Noord-Macedonië",
          "Duitsland",
          "Duitsland",
          "Duitsland",
          "Duitsland",
          "Duitsland",
          "Zwitserland",
          "Zwitserland",
          "Zwitserland",
          "Zwitserland",
          "Zwitserland",
          "Zwitserland",
          "Duitsland",
          "Duitsland",
          "Duitsland",
          "Duitsland",
          "Duitsland",
          "Duitsland",
          "Duitsland",
          "Duitsland",
          "Duitsland",
          "Verenigd Koninkrijk",
          "Zwitserland",
          "Denemarken",
          "Verenigd Koninkrijk",
          "Griekenland",
          "Portugal",
          "Spanje",
          "Spanje",
          "Spanje",
          "Spanje",
          "Polen",
          "Polen",
          "Verenigd Koninkrijk",
          "Duitsland",
          "Italië",
          "Oostenrijk",
          "Oostenrijk",
          "Oostenrijk",
          "Oostenrijk",
          "Verenigd Koninkrijk",
          "Verenigd Koninkrijk",
          "Verenigd Koninkrijk",
          "Duitsland",
          "Duitsland",
          "Duitsland",
          "Duitsland",
          "Duitsland",
          "Duitsland",
          "Duitsland",
          "Duitsland",
          "Italië",
          "Italië",
          "Italië",
          "Spanje",
          "Spanje",
          "Spanje",
          "Spanje",
          "Spanje",
          "Spanje",
          "Italië",
          "België",
          "België",
          "België",
          "België",
          "België",
          "Denemarken",
          "Servië",
          "Spanje",
          "Spanje",
          "Spanje",
          "Verenigd Koninkrijk",
          "Verenigd Koninkrijk",
          "Verenigd Koninkrijk",
          "Verenigd Koninkrijk",
          "Verenigd Koninkrijk",
          "Spanje",
          "Spanje",
          "Spanje",
          "Denemarken",
          "Denemarken",
          "Denemarken",
          "Denemarken",
          "Denemarken",
          "Denemarken",
          "Duitsland",
          "Duitsland",
          "Duitsland",
          "Duitsland",
          "Duitsland",
          "Duitsland",
          "Duitsland",
          "Duitsland",
          "Duitsland",
          "Luxemburg",
          "Luxemburg",
          "Luxemburg",
          "Oostenrijk",
          "Oostenrijk",
          "Oostenrijk",
          "Verenigd Koninkrijk",
          "Frankrijk",
          "Frankrijk",
          "Frankrijk",
          "Frankrijk",
          "Frankrijk",
          "Frankrijk",
          "Duitsland",
          "Spanje",
          "Spanje",
          "Spanje",
          "Spanje",
          "Spanje",
          "Zwitserland",
          "Italië",
          "Italië",
          "België",
          "Ierland",
          "Ierland",
          "Ierland",
          "Ierland",
          "Duitsland",
          "Duitsland",
          "Duitsland",
          "Duitsland",
          "Duitsland",
          "Duitsland",
          "Duitsland",
          "Duitsland",
          "Denemarken",
          "Denemarken",
          "Denemarken",
          "Denemarken",
          "Denemarken",
          "Denemarken",
          "Denemarken",
          "Denemarken",
          "Denemarken",
          "Denemarken",
          "Denemarken",
          "Denemarken",
          "Denemarken",
          "Denemarken",
          "Denemarken",
          "Portugal",
          "Portugal",
          "Portugal",
          "Duitsland",
          "Duitsland",
          "Duitsland",
          "Duitsland",
          "Spanje",
          "Tsjechië",
          "Tsjechië",
          "Tsjechië",
          "Tsjechië",
          "Noorwegen",
          "Noorwegen",
          "Noorwegen",
          "Noorwegen",
          "Noorwegen",
          "Zwitserland",
          "Zwitserland",
          "Zwitserland",
          "Zwitserland",
          "Zwitserland",
          "Zwitserland",
          "Zwitserland",
          "Zweden",
          "Zweden",
          "Zweden",
          "Zweden",
          "Denemarken",
          "Denemarken",
          "Denemarken",
          "Denemarken",
          "Denemarken",
          "Denemarken",
          "Denemarken",
          "Denemarken",
          "Denemarken",
          "Spanje",
          "Spanje",
          "Spanje",
          "Spanje",
          "Spanje",
          "Spanje",
          "Noorwegen",
          "Noorwegen",
          "Noorwegen",
          "Duitsland",
          "Duitsland",
          "Duitsland",
          "Duitsland",
          "Duitsland",
          "Duitsland",
          "Duitsland",
          "Nederland",
          "Noorwegen",
          "Noorwegen",
          "Noorwegen",
          "Noorwegen",
          "Frankrijk",
          "Frankrijk",
          "Frankrijk",
          "Frankrijk",
          "Frankrijk",
          "Frankrijk",
          "Noorwegen",
          "Noorwegen",
          "Noorwegen",
          "Noorwegen",
          "Noorwegen",
          "Noorwegen",
          "Nederland",
          "Nederland",
          "Frankrijk",
          "Frankrijk",
          "Frankrijk",
          "Noorwegen",
          "Noorwegen",
          "Noorwegen",
          "Verenigd Koninkrijk",
          "Verenigd Koninkrijk",
          "Verenigd Koninkrijk",
          "Verenigd Koninkrijk",
          "Zwitserland",
          "Verenigd Koninkrijk",
          "Verenigd Koninkrijk",
          "Verenigd Koninkrijk",
          "Verenigd Koninkrijk",
          "Verenigd Koninkrijk",
          "Verenigd Koninkrijk",
          "Verenigd Koninkrijk",
          "Verenigd Koninkrijk",
          "Duitsland",
          "Duitsland",
          "Duitsland",
          "Verenigd Koninkrijk",
          "Verenigd Koninkrijk",
          "Verenigd Koninkrijk",
          "IJsland",
          "IJsland",
          "IJsland",
          "Roemenië",
          "Roemenië",
          "Roemenië",
          "Roemenië",
          "Zweden",
          "Zweden",
          "Zweden",
          "Zweden",
          "Zweden",
          "Zweden",
          "Polen",
          "Polen",
          "Polen",
          "Polen",
          "Frankrijk",
          "Frankrijk",
          "Verenigd Koninkrijk",
          "Verenigd Koninkrijk",
          "Verenigd Koninkrijk",
          "Duitsland",
          "Duitsland",
          "Duitsland",
          "Duitsland",
          "Duitsland",
          "Duitsland",
          "Duitsland",
          "Zweden",
          "Zweden",
          "Zweden",
          "Verenigd Koninkrijk",
          "Duitsland",
          "Duitsland",
          "Frankrijk",
          "Frankrijk",
          "Frankrijk",
          "Frankrijk",
          "Frankrijk",
          "Frankrijk",
          "Verenigd Koninkrijk",
          "Verenigd Koninkrijk",
          "Verenigd Koninkrijk",
          "Verenigd Koninkrijk",
          "Verenigd Koninkrijk",
          "Verenigd Koninkrijk",
          "Verenigd Koninkrijk",
          "Duitsland",
          "Duitsland",
          "Duitsland",
          "Duitsland",
          "Duitsland",
          "Duitsland",
          "Duitsland",
          "Duitsland",
          "Duitsland",
          "Duitsland",
          "Verenigd Koninkrijk",
          "Verenigd Koninkrijk",
          "Verenigd Koninkrijk",
          "Verenigd Koninkrijk",
          "Verenigd Koninkrijk",
          "Verenigd Koninkrijk",
          "Verenigd Koninkrijk",
          "Verenigd Koninkrijk",
          "Verenigd Koninkrijk",
          "Verenigd Koninkrijk",
          "Verenigd Koninkrijk",
          "Polen",
          "Polen",
          "Polen",
          "Polen",
          "Polen",
          "Polen",
          "Polen",
          "Duitsland",
          "Verenigd Koninkrijk",
          "Verenigd Koninkrijk",
          "Verenigd Koninkrijk",
          "Verenigd Koninkrijk",
          "Verenigd Koninkrijk",
          "Verenigd Koninkrijk",
          "Verenigd Koninkrijk",
          "Verenigd Koninkrijk",
          "Verenigd Koninkrijk",
          "Verenigd Koninkrijk",
          "Verenigd Koninkrijk",
          "Verenigd Koninkrijk",
          "Verenigd Koninkrijk",
          "Verenigd Koninkrijk",
          "Verenigd Koninkrijk",
          "Verenigd Koninkrijk",
          "Verenigd Koninkrijk",
          "Verenigd Koninkrijk",
          "Verenigd Koninkrijk",
          "Verenigd Koninkrijk",
          "Verenigd Koninkrijk",
          "Verenigd Koninkrijk",
          "Verenigd Koninkrijk",
          "Verenigd Koninkrijk",
          "Verenigd Koninkrijk",
          "Verenigd Koninkrijk",
          "België",
          "Spanje",
          "Spanje",
          "Spanje",
          "Spanje",
          "Spanje",
          "Spanje",
          "Spanje",
          "Verenigd Koninkrijk",
          "Verenigd Koninkrijk",
          "Verenigd Koninkrijk",
          "Verenigd Koninkrijk",
          "Verenigd Koninkrijk",
          "Verenigd Koninkrijk",
          "Verenigd Koninkrijk",
          "Verenigd Koninkrijk",
          "Verenigd Koninkrijk",
          "Verenigd Koninkrijk",
          "Verenigd Koninkrijk",
          "Verenigd Koninkrijk",
          "Verenigd Koninkrijk",
          "Verenigd Koninkrijk",
          "Verenigd Koninkrijk",
          "Verenigd Koninkrijk",
          "Verenigd Koninkrijk",
          "Verenigd Koninkrijk",
          "Verenigd Koninkrijk",
          "Verenigd Koninkrijk",
          "Verenigd Koninkrijk",
          "Verenigd Koninkrijk",
          "Verenigd Koninkrijk",
          "Verenigd Koninkrijk",
          "Verenigd Koninkrijk",
          "Verenigd Koninkrijk",
          "Verenigd Koninkrijk",
          "Verenigd Koninkrijk",
          "Verenigd Koninkrijk",
          "Verenigd Koninkrijk",
          "Verenigd Koninkrijk",
          "Spanje",
          "Spanje",
          "Spanje",
          "Spanje",
          "Spanje",
          "Spanje",
          "Spanje",
          "Spanje",
          "Spanje",
          "Spanje",
          "Spanje",
          "Italië",
          "Italië",
          "Italië",
          "Italië",
          "Italië",
          "Italië",
          "Duitsland",
          "Duitsland",
          "Duitsland",
          "Duitsland",
          "Duitsland",
          "Duitsland",
          "Duitsland",
          "Denemarken",
          "Denemarken",
          "Noorwegen",
          "Noorwegen",
          "Noorwegen",
          "Noorwegen",
          "Noorwegen",
          "Noorwegen",
          "Noorwegen",
          "Noorwegen",
          "Noorwegen",
          "Verenigd Koninkrijk",
          "Verenigd Koninkrijk",
          "Verenigd Koninkrijk",
          "Verenigd Koninkrijk",
          "Verenigd Koninkrijk",
          "Verenigd Koninkrijk",
          "Verenigd Koninkrijk",
          "Polen",
          "Polen",
          "Polen",
          "Italië",
          "Italië",
          "Italië",
          "Italië",
          "Portugal",
          "Portugal",
          "Portugal",
          "Portugal",
          "Frankrijk",
          "Frankrijk",
          "Frankrijk",
          "Frankrijk",
          "Frankrijk",
          "Frankrijk",
          "Frankrijk",
          "Frankrijk",
          "Frankrijk",
          "Verenigd Koninkrijk",
          "Verenigd Koninkrijk",
          "Verenigd Koninkrijk",
          "Verenigd Koninkrijk",
          "Verenigd Koninkrijk",
          "Verenigd Koninkrijk",
          "Verenigd Koninkrijk",
          "Verenigd Koninkrijk",
          "Verenigd Koninkrijk",
          "Verenigd Koninkrijk",
          "Zweden",
          "Zweden",
          "Zweden",
          "Zweden",
          "Zweden",
          "Zweden",
          "Zweden",
          "Denemarken",
          "Denemarken",
          "Denemarken",
          "Verenigd Koninkrijk",
          "Verenigd Koninkrijk",
          "Verenigd Koninkrijk",
          "Verenigd Koninkrijk",
          "Verenigd Koninkrijk",
          "Verenigd Koninkrijk",
          "Italië",
          "Italië",
          "Italië",
          "Italië",
          "Italië",
          "Servië",
          "Servië",
          "Servië",
          "Servië",
          "Frankrijk",
          "Frankrijk",
          "Frankrijk",
          "Frankrijk",
          "Frankrijk",
          "Frankrijk",
          "Frankrijk",
          "Frankrijk",
          "Griekenland",
          "Griekenland",
          "Griekenland",
          "Griekenland",
          "Griekenland",
          "Ierland",
          "Ierland",
          "Ierland",
          "Ierland",
          "Ierland",
          "Ierland",
          "Verenigd Koninkrijk",
          "Verenigd Koninkrijk",
          "Verenigd Koninkrijk",
          "Verenigd Koninkrijk",
          "Verenigd Koninkrijk",
          "Verenigd Koninkrijk",
          "Verenigd Koninkrijk",
          "Denemarken",
          "Kroatië",
          "Kroatië",
          "Kroatië",
          "Spanje",
          "Spanje",
          "Spanje",
          "Spanje",
          "Zwitserland",
          "Zweden",
          "Zweden",
          "Zweden",
          "Zweden",
          "Zweden",
          "Zweden",
          "Zweden",
          "Zweden",
          "Zweden",
          "Zweden",
          "Zweden",
          "Frankrijk",
          "Frankrijk",
          "Frankrijk",
          "Spanje",
          "Spanje",
          "Spanje",
          "Spanje",
          "Spanje",
          "Spanje",
          "Spanje",
          "Spanje",
          "Spanje",
          "Spanje",
          "Spanje",
          "Spanje",
          "Spanje",
          "Spanje",
          "Spanje",
          "Spanje",
          "Spanje",
          "Verenigd Koninkrijk",
          "Verenigd Koninkrijk",
          "Verenigd Koninkrijk",
          "Verenigd Koninkrijk",
          "Verenigd Koninkrijk",
          "Verenigd Koninkrijk",
          "Verenigd Koninkrijk",
          "Duitsland",
          "Verenigd Koninkrijk",
          "Italië",
          "Italië",
          "Italië",
          "Italië",
          "Italië",
          "Italië",
          "Italië",
          "Italië",
          "Duitsland",
          "Verenigd Koninkrijk",
          "Verenigd Koninkrijk",
          "Verenigd Koninkrijk",
          "Hongarije",
          "Hongarije",
          "Hongarije",
          "Hongarije",
          "Duitsland",
          "Duitsland",
          "Duitsland",
          "Duitsland",
          "Duitsland",
          "Duitsland",
          "Duitsland",
          "Zwitserland",
          "Zwitserland",
          "Zwitserland",
          "Zwitserland",
          "Zwitserland",
          "Zwitserland",
          "Zwitserland",
          "Zwitserland",
          "Italië",
          "Italië",
          "Italië",
          "Italië",
          "Italië",
          "Italië",
          "Italië",
          "Noorwegen",
          "Noorwegen",
          "Noorwegen",
          "Noorwegen",
          "Noorwegen",
          "Noorwegen",
          "Italië",
          "Finland",
          "Finland",
          "Finland",
          "Finland",
          "Finland",
          "Finland",
          "Finland",
          "Finland",
          "Finland",
          "Finland",
          "Portugal",
          "Portugal",
          "Portugal",
          "Portugal",
          "Ierland",
          "Ierland",
          "Frankrijk",
          "Frankrijk",
          "Frankrijk",
          "Ierland",
          "Duitsland",
          "Frankrijk",
          "Frankrijk",
          "Frankrijk",
          "Frankrijk",
          "Frankrijk",
          "Italië",
          "Italië",
          "Italië",
          "Oostenrijk",
          "Oostenrijk",
          "Oostenrijk",
          "Oostenrijk",
          "Oostenrijk",
          "Oostenrijk",
          "Oostenrijk",
          "Oostenrijk",
          "Oostenrijk",
          "Verenigd Koninkrijk",
          "Verenigd Koninkrijk",
          "Verenigd Koninkrijk",
          "Verenigd Koninkrijk",
          "Verenigd Koninkrijk",
          "Verenigd Koninkrijk",
          "Verenigd Koninkrijk",
          "Ierland",
          "Zwitserland",
          "Zwitserland",
          "Zwitserland",
          "Zwitserland",
          "Zwitserland",
          "Zwitserland",
          "Zwitserland",
          "Zwitserland",
          "Zwitserland",
          "Spanje",
          "Spanje",
          "Spanje",
          "Spanje",
          "Spanje",
          "Verenigd Koninkrijk",
          "Verenigd Koninkrijk",
          "Verenigd Koninkrijk",
          "Letland",
          "Italië",
          "Italië",
          "Italië",
          "Italië",
          "Bulgarije",
          "België",
          "België",
          "België",
          "België",
          "België",
          "België",
          "België",
          "België",
          "Portugal",
          "Portugal",
          "Portugal",
          "Portugal",
          "Portugal",
          "Portugal",
          "Verenigd Koninkrijk",
          "Verenigd Koninkrijk",
          "Verenigd Koninkrijk",
          "Spanje",
          "Spanje",
          "Spanje",
          "Spanje",
          "Spanje",
          "Duitsland",
          "Duitsland",
          "Duitsland",
          "Duitsland",
          "Duitsland",
          "Duitsland",
          "Verenigd Koninkrijk",
          "Estland",
          "Oostenrijk",
          "Verenigd Koninkrijk",
          "Verenigd Koninkrijk",
          "Verenigd Koninkrijk",
          "Verenigd Koninkrijk",
          "Verenigd Koninkrijk",
          "Servië",
          "Servië",
          "Servië",
          "Servië",
          "Verenigd Koninkrijk",
          "Verenigd Koninkrijk",
          "Verenigd Koninkrijk",
          "Verenigd Koninkrijk",
          "Duitsland",
          "Verenigd Koninkrijk",
          "Litouwen",
          "Polen",
          "Polen",
          "Polen",
          "Duitsland",
          "Duitsland",
          "Duitsland",
          "Duitsland",
          "Duitsland",
          "Duitsland",
          "Duitsland",
          "Verenigd Koninkrijk",
          "Verenigd Koninkrijk",
          "Verenigd Koninkrijk",
          "Verenigd Koninkrijk",
          "Verenigd Koninkrijk",
          "Verenigd Koninkrijk",
          "Tsjechië",
          "Tsjechië",
          "Tsjechië",
          "Tsjechië",
          "Tsjechië",
          "Frankrijk",
          "Luxemburg",
          "Luxemburg",
          "Luxemburg",
          "Verenigd Koninkrijk",
          "België",
          "België",
          "België",
          "België",
          "België",
          "België",
          "Zwitserland",
          "Zwitserland",
          "Zwitserland",
          "Zwitserland",
          "Zwitserland",
          "Duitsland",
          "Duitsland",
          "Duitsland",
          "Duitsland",
          "Duitsland",
          "Verenigd Koninkrijk",
          "Verenigd Koninkrijk",
          "Verenigd Koninkrijk",
          "Duitsland",
          "Duitsland",
          "Duitsland",
          "Zwitserland",
          "Zwitserland",
          "Zwitserland",
          "Zwitserland",
          "Zwitserland",
          "Zwitserland",
          "Zwitserland",
          "Verenigd Koninkrijk",
          "Verenigd Koninkrijk",
          "Roemenië",
          "Roemenië",
          "Roemenië",
          "Roemenië",
          "Griekenland",
          "Frankrijk",
          "Frankrijk",
          "Frankrijk",
          "Frankrijk",
          "Frankrijk",
          "Frankrijk",
          "Frankrijk",
          "Frankrijk",
          "Frankrijk",
          "Frankrijk",
          "Tsjechië",
          "Zwitserland",
          "Zwitserland",
          "Zwitserland",
          "Zwitserland",
          "Zwitserland"
         ]
        },
        {
         "name": "Noord-Amerika",
         "type": "histogram",
         "visible": false,
         "x": [
          "Verenigde Staten",
          "Verenigde Staten",
          "Verenigde Staten",
          "Verenigde Staten",
          "Verenigde Staten",
          "Verenigde Staten",
          "Verenigde Staten",
          "Verenigde Staten",
          "Verenigde Staten",
          "Verenigde Staten",
          "Verenigde Staten",
          "Verenigde Staten",
          "Verenigde Staten",
          "Verenigde Staten",
          "Verenigde Staten",
          "Verenigde Staten",
          "Verenigde Staten",
          "Verenigde Staten",
          "Verenigde Staten",
          "Verenigde Staten",
          "Verenigde Staten",
          "Verenigde Staten",
          "Verenigde Staten",
          "Verenigde Staten",
          "Canada",
          "Canada",
          "Canada",
          "Canada",
          "Verenigde Staten",
          "Verenigde Staten",
          "Verenigde Staten",
          "Verenigde Staten",
          "Verenigde Staten",
          "Verenigde Staten",
          "Verenigde Staten",
          "Verenigde Staten",
          "Verenigde Staten",
          "Verenigde Staten",
          "Verenigde Staten",
          "Verenigde Staten",
          "Verenigde Staten",
          "Canada",
          "Canada",
          "Canada",
          "Canada",
          "Verenigde Staten",
          "Verenigde Staten",
          "Verenigde Staten",
          "Verenigde Staten",
          "Verenigde Staten",
          "Verenigde Staten",
          "Verenigde Staten",
          "Verenigde Staten",
          "Verenigde Staten",
          "Verenigde Staten",
          "Verenigde Staten",
          "Verenigde Staten",
          "Verenigde Staten",
          "Dominicaanse Republiek",
          "Canada",
          "Canada",
          "Canada",
          "Canada",
          "Verenigde Staten",
          "Verenigde Staten",
          "Verenigde Staten",
          "Verenigde Staten",
          "Verenigde Staten",
          "Verenigde Staten",
          "Verenigde Staten",
          "Verenigde Staten",
          "Verenigde Staten",
          "Verenigde Staten",
          "Verenigde Staten",
          "Verenigde Staten",
          "Verenigde Staten",
          "Verenigde Staten",
          "Verenigde Staten",
          "Verenigde Staten",
          "Verenigde Staten",
          "Verenigde Staten",
          "Verenigde Staten"
         ]
        },
        {
         "name": "Zuid-Amerika",
         "type": "histogram",
         "visible": false,
         "x": [
          "Suriname",
          "Suriname",
          "Suriname"
         ]
        },
        {
         "name": "Oceanië",
         "type": "histogram",
         "visible": false,
         "x": []
        }
       ],
       "layout": {
        "template": {
         "data": {
          "bar": [
           {
            "error_x": {
             "color": "#2a3f5f"
            },
            "error_y": {
             "color": "#2a3f5f"
            },
            "marker": {
             "line": {
              "color": "#E5ECF6",
              "width": 0.5
             },
             "pattern": {
              "fillmode": "overlay",
              "size": 10,
              "solidity": 0.2
             }
            },
            "type": "bar"
           }
          ],
          "barpolar": [
           {
            "marker": {
             "line": {
              "color": "#E5ECF6",
              "width": 0.5
             },
             "pattern": {
              "fillmode": "overlay",
              "size": 10,
              "solidity": 0.2
             }
            },
            "type": "barpolar"
           }
          ],
          "carpet": [
           {
            "aaxis": {
             "endlinecolor": "#2a3f5f",
             "gridcolor": "white",
             "linecolor": "white",
             "minorgridcolor": "white",
             "startlinecolor": "#2a3f5f"
            },
            "baxis": {
             "endlinecolor": "#2a3f5f",
             "gridcolor": "white",
             "linecolor": "white",
             "minorgridcolor": "white",
             "startlinecolor": "#2a3f5f"
            },
            "type": "carpet"
           }
          ],
          "choropleth": [
           {
            "colorbar": {
             "outlinewidth": 0,
             "ticks": ""
            },
            "type": "choropleth"
           }
          ],
          "contour": [
           {
            "colorbar": {
             "outlinewidth": 0,
             "ticks": ""
            },
            "colorscale": [
             [
              0,
              "#0d0887"
             ],
             [
              0.1111111111111111,
              "#46039f"
             ],
             [
              0.2222222222222222,
              "#7201a8"
             ],
             [
              0.3333333333333333,
              "#9c179e"
             ],
             [
              0.4444444444444444,
              "#bd3786"
             ],
             [
              0.5555555555555556,
              "#d8576b"
             ],
             [
              0.6666666666666666,
              "#ed7953"
             ],
             [
              0.7777777777777778,
              "#fb9f3a"
             ],
             [
              0.8888888888888888,
              "#fdca26"
             ],
             [
              1,
              "#f0f921"
             ]
            ],
            "type": "contour"
           }
          ],
          "contourcarpet": [
           {
            "colorbar": {
             "outlinewidth": 0,
             "ticks": ""
            },
            "type": "contourcarpet"
           }
          ],
          "heatmap": [
           {
            "colorbar": {
             "outlinewidth": 0,
             "ticks": ""
            },
            "colorscale": [
             [
              0,
              "#0d0887"
             ],
             [
              0.1111111111111111,
              "#46039f"
             ],
             [
              0.2222222222222222,
              "#7201a8"
             ],
             [
              0.3333333333333333,
              "#9c179e"
             ],
             [
              0.4444444444444444,
              "#bd3786"
             ],
             [
              0.5555555555555556,
              "#d8576b"
             ],
             [
              0.6666666666666666,
              "#ed7953"
             ],
             [
              0.7777777777777778,
              "#fb9f3a"
             ],
             [
              0.8888888888888888,
              "#fdca26"
             ],
             [
              1,
              "#f0f921"
             ]
            ],
            "type": "heatmap"
           }
          ],
          "heatmapgl": [
           {
            "colorbar": {
             "outlinewidth": 0,
             "ticks": ""
            },
            "colorscale": [
             [
              0,
              "#0d0887"
             ],
             [
              0.1111111111111111,
              "#46039f"
             ],
             [
              0.2222222222222222,
              "#7201a8"
             ],
             [
              0.3333333333333333,
              "#9c179e"
             ],
             [
              0.4444444444444444,
              "#bd3786"
             ],
             [
              0.5555555555555556,
              "#d8576b"
             ],
             [
              0.6666666666666666,
              "#ed7953"
             ],
             [
              0.7777777777777778,
              "#fb9f3a"
             ],
             [
              0.8888888888888888,
              "#fdca26"
             ],
             [
              1,
              "#f0f921"
             ]
            ],
            "type": "heatmapgl"
           }
          ],
          "histogram": [
           {
            "marker": {
             "pattern": {
              "fillmode": "overlay",
              "size": 10,
              "solidity": 0.2
             }
            },
            "type": "histogram"
           }
          ],
          "histogram2d": [
           {
            "colorbar": {
             "outlinewidth": 0,
             "ticks": ""
            },
            "colorscale": [
             [
              0,
              "#0d0887"
             ],
             [
              0.1111111111111111,
              "#46039f"
             ],
             [
              0.2222222222222222,
              "#7201a8"
             ],
             [
              0.3333333333333333,
              "#9c179e"
             ],
             [
              0.4444444444444444,
              "#bd3786"
             ],
             [
              0.5555555555555556,
              "#d8576b"
             ],
             [
              0.6666666666666666,
              "#ed7953"
             ],
             [
              0.7777777777777778,
              "#fb9f3a"
             ],
             [
              0.8888888888888888,
              "#fdca26"
             ],
             [
              1,
              "#f0f921"
             ]
            ],
            "type": "histogram2d"
           }
          ],
          "histogram2dcontour": [
           {
            "colorbar": {
             "outlinewidth": 0,
             "ticks": ""
            },
            "colorscale": [
             [
              0,
              "#0d0887"
             ],
             [
              0.1111111111111111,
              "#46039f"
             ],
             [
              0.2222222222222222,
              "#7201a8"
             ],
             [
              0.3333333333333333,
              "#9c179e"
             ],
             [
              0.4444444444444444,
              "#bd3786"
             ],
             [
              0.5555555555555556,
              "#d8576b"
             ],
             [
              0.6666666666666666,
              "#ed7953"
             ],
             [
              0.7777777777777778,
              "#fb9f3a"
             ],
             [
              0.8888888888888888,
              "#fdca26"
             ],
             [
              1,
              "#f0f921"
             ]
            ],
            "type": "histogram2dcontour"
           }
          ],
          "mesh3d": [
           {
            "colorbar": {
             "outlinewidth": 0,
             "ticks": ""
            },
            "type": "mesh3d"
           }
          ],
          "parcoords": [
           {
            "line": {
             "colorbar": {
              "outlinewidth": 0,
              "ticks": ""
             }
            },
            "type": "parcoords"
           }
          ],
          "pie": [
           {
            "automargin": true,
            "type": "pie"
           }
          ],
          "scatter": [
           {
            "fillpattern": {
             "fillmode": "overlay",
             "size": 10,
             "solidity": 0.2
            },
            "type": "scatter"
           }
          ],
          "scatter3d": [
           {
            "line": {
             "colorbar": {
              "outlinewidth": 0,
              "ticks": ""
             }
            },
            "marker": {
             "colorbar": {
              "outlinewidth": 0,
              "ticks": ""
             }
            },
            "type": "scatter3d"
           }
          ],
          "scattercarpet": [
           {
            "marker": {
             "colorbar": {
              "outlinewidth": 0,
              "ticks": ""
             }
            },
            "type": "scattercarpet"
           }
          ],
          "scattergeo": [
           {
            "marker": {
             "colorbar": {
              "outlinewidth": 0,
              "ticks": ""
             }
            },
            "type": "scattergeo"
           }
          ],
          "scattergl": [
           {
            "marker": {
             "colorbar": {
              "outlinewidth": 0,
              "ticks": ""
             }
            },
            "type": "scattergl"
           }
          ],
          "scattermapbox": [
           {
            "marker": {
             "colorbar": {
              "outlinewidth": 0,
              "ticks": ""
             }
            },
            "type": "scattermapbox"
           }
          ],
          "scatterpolar": [
           {
            "marker": {
             "colorbar": {
              "outlinewidth": 0,
              "ticks": ""
             }
            },
            "type": "scatterpolar"
           }
          ],
          "scatterpolargl": [
           {
            "marker": {
             "colorbar": {
              "outlinewidth": 0,
              "ticks": ""
             }
            },
            "type": "scatterpolargl"
           }
          ],
          "scatterternary": [
           {
            "marker": {
             "colorbar": {
              "outlinewidth": 0,
              "ticks": ""
             }
            },
            "type": "scatterternary"
           }
          ],
          "surface": [
           {
            "colorbar": {
             "outlinewidth": 0,
             "ticks": ""
            },
            "colorscale": [
             [
              0,
              "#0d0887"
             ],
             [
              0.1111111111111111,
              "#46039f"
             ],
             [
              0.2222222222222222,
              "#7201a8"
             ],
             [
              0.3333333333333333,
              "#9c179e"
             ],
             [
              0.4444444444444444,
              "#bd3786"
             ],
             [
              0.5555555555555556,
              "#d8576b"
             ],
             [
              0.6666666666666666,
              "#ed7953"
             ],
             [
              0.7777777777777778,
              "#fb9f3a"
             ],
             [
              0.8888888888888888,
              "#fdca26"
             ],
             [
              1,
              "#f0f921"
             ]
            ],
            "type": "surface"
           }
          ],
          "table": [
           {
            "cells": {
             "fill": {
              "color": "#EBF0F8"
             },
             "line": {
              "color": "white"
             }
            },
            "header": {
             "fill": {
              "color": "#C8D4E3"
             },
             "line": {
              "color": "white"
             }
            },
            "type": "table"
           }
          ]
         },
         "layout": {
          "annotationdefaults": {
           "arrowcolor": "#2a3f5f",
           "arrowhead": 0,
           "arrowwidth": 1
          },
          "autotypenumbers": "strict",
          "coloraxis": {
           "colorbar": {
            "outlinewidth": 0,
            "ticks": ""
           }
          },
          "colorscale": {
           "diverging": [
            [
             0,
             "#8e0152"
            ],
            [
             0.1,
             "#c51b7d"
            ],
            [
             0.2,
             "#de77ae"
            ],
            [
             0.3,
             "#f1b6da"
            ],
            [
             0.4,
             "#fde0ef"
            ],
            [
             0.5,
             "#f7f7f7"
            ],
            [
             0.6,
             "#e6f5d0"
            ],
            [
             0.7,
             "#b8e186"
            ],
            [
             0.8,
             "#7fbc41"
            ],
            [
             0.9,
             "#4d9221"
            ],
            [
             1,
             "#276419"
            ]
           ],
           "sequential": [
            [
             0,
             "#0d0887"
            ],
            [
             0.1111111111111111,
             "#46039f"
            ],
            [
             0.2222222222222222,
             "#7201a8"
            ],
            [
             0.3333333333333333,
             "#9c179e"
            ],
            [
             0.4444444444444444,
             "#bd3786"
            ],
            [
             0.5555555555555556,
             "#d8576b"
            ],
            [
             0.6666666666666666,
             "#ed7953"
            ],
            [
             0.7777777777777778,
             "#fb9f3a"
            ],
            [
             0.8888888888888888,
             "#fdca26"
            ],
            [
             1,
             "#f0f921"
            ]
           ],
           "sequentialminus": [
            [
             0,
             "#0d0887"
            ],
            [
             0.1111111111111111,
             "#46039f"
            ],
            [
             0.2222222222222222,
             "#7201a8"
            ],
            [
             0.3333333333333333,
             "#9c179e"
            ],
            [
             0.4444444444444444,
             "#bd3786"
            ],
            [
             0.5555555555555556,
             "#d8576b"
            ],
            [
             0.6666666666666666,
             "#ed7953"
            ],
            [
             0.7777777777777778,
             "#fb9f3a"
            ],
            [
             0.8888888888888888,
             "#fdca26"
            ],
            [
             1,
             "#f0f921"
            ]
           ]
          },
          "colorway": [
           "#636efa",
           "#EF553B",
           "#00cc96",
           "#ab63fa",
           "#FFA15A",
           "#19d3f3",
           "#FF6692",
           "#B6E880",
           "#FF97FF",
           "#FECB52"
          ],
          "font": {
           "color": "#2a3f5f"
          },
          "geo": {
           "bgcolor": "white",
           "lakecolor": "white",
           "landcolor": "#E5ECF6",
           "showlakes": true,
           "showland": true,
           "subunitcolor": "white"
          },
          "hoverlabel": {
           "align": "left"
          },
          "hovermode": "closest",
          "mapbox": {
           "style": "light"
          },
          "paper_bgcolor": "white",
          "plot_bgcolor": "#E5ECF6",
          "polar": {
           "angularaxis": {
            "gridcolor": "white",
            "linecolor": "white",
            "ticks": ""
           },
           "bgcolor": "#E5ECF6",
           "radialaxis": {
            "gridcolor": "white",
            "linecolor": "white",
            "ticks": ""
           }
          },
          "scene": {
           "xaxis": {
            "backgroundcolor": "#E5ECF6",
            "gridcolor": "white",
            "gridwidth": 2,
            "linecolor": "white",
            "showbackground": true,
            "ticks": "",
            "zerolinecolor": "white"
           },
           "yaxis": {
            "backgroundcolor": "#E5ECF6",
            "gridcolor": "white",
            "gridwidth": 2,
            "linecolor": "white",
            "showbackground": true,
            "ticks": "",
            "zerolinecolor": "white"
           },
           "zaxis": {
            "backgroundcolor": "#E5ECF6",
            "gridcolor": "white",
            "gridwidth": 2,
            "linecolor": "white",
            "showbackground": true,
            "ticks": "",
            "zerolinecolor": "white"
           }
          },
          "shapedefaults": {
           "line": {
            "color": "#2a3f5f"
           }
          },
          "ternary": {
           "aaxis": {
            "gridcolor": "white",
            "linecolor": "white",
            "ticks": ""
           },
           "baxis": {
            "gridcolor": "white",
            "linecolor": "white",
            "ticks": ""
           },
           "bgcolor": "#E5ECF6",
           "caxis": {
            "gridcolor": "white",
            "linecolor": "white",
            "ticks": ""
           }
          },
          "title": {
           "x": 0.05
          },
          "xaxis": {
           "automargin": true,
           "gridcolor": "white",
           "linecolor": "white",
           "ticks": "",
           "title": {
            "standoff": 15
           },
           "zerolinecolor": "white",
           "zerolinewidth": 2
          },
          "yaxis": {
           "automargin": true,
           "gridcolor": "white",
           "linecolor": "white",
           "ticks": "",
           "title": {
            "standoff": 15
           },
           "zerolinecolor": "white",
           "zerolinewidth": 2
          }
         }
        },
        "title": {
         "text": "Histogram per Continent"
        },
        "updatemenus": [
         {
          "buttons": [
           {
            "args": [
             {
              "visible": [
               true,
               true,
               true,
               true,
               true,
               true
              ]
             },
             {
              "title": "Alle"
             }
            ],
            "label": "Alle",
            "method": "update"
           },
           {
            "args": [
             {
              "visible": [
               true,
               false,
               false,
               false,
               false,
               false
              ]
             },
             {
              "title": "Afrika"
             }
            ],
            "label": "Afrika",
            "method": "update"
           },
           {
            "args": [
             {
              "visible": [
               false,
               true,
               false,
               false,
               false,
               false
              ]
             },
             {
              "title": "Azië"
             }
            ],
            "label": "Azië",
            "method": "update"
           },
           {
            "args": [
             {
              "visible": [
               false,
               false,
               true,
               false,
               false,
               false
              ]
             },
             {
              "title": "Europa"
             }
            ],
            "label": "Europa",
            "method": "update"
           },
           {
            "args": [
             {
              "visible": [
               false,
               false,
               false,
               true,
               false,
               false
              ]
             },
             {
              "title": "Noord-Amerika"
             }
            ],
            "label": "Noord-Amerika",
            "method": "update"
           },
           {
            "args": [
             {
              "visible": [
               false,
               false,
               false,
               false,
               true,
               false
              ]
             },
             {
              "title": "Zuid-Amerika"
             }
            ],
            "label": "Zuid-Amerika",
            "method": "update"
           },
           {
            "args": [
             {
              "visible": [
               false,
               false,
               false,
               false,
               false,
               true
              ]
             },
             {
              "title": "Oceanië"
             }
            ],
            "label": "Oceanië",
            "method": "update"
           }
          ],
          "direction": "down",
          "showactive": true
         }
        ]
       }
      }
     },
     "metadata": {},
     "output_type": "display_data"
    }
   ],
   "source": [
    "lijs_continenten = ['Afrika', 'Azië', 'Europa', 'Noord-Amerika', 'Zuid-Amerika', 'Oceanië']\n",
    "\n",
    "fig=go.Figure()\n",
    "\n",
    "for continent in continenten:\n",
    "    subset = df[df['Continent'] == continent]['Land']\n",
    "    fig.add_trace(go.Histogram(\n",
    "        x=subset, \n",
    "        name=continent,  \n",
    "        visible=True if continent == 'Afrika' else False  # Standaard op Afrika (pas aan indien gewenst)\n",
    "    ))\n",
    "\n",
    "\n",
    "dropdown_buttons = [ \n",
    "    {'label': \"Alle\", 'method': \"update\", 'args': [{\"visible\" : [True, True, True, True, True, True]}, {\"title\": \"Alle\"}]},\n",
    "    {'label': \"Afrika\", 'method': \"update\", 'args': [{\"visible\": [True, False, False, False, False, False]}, {\"title\": \"Afrika\"}]},\n",
    "    {'label': \"Azië\", 'method': \"update\", 'args': [{\"visible\": [False, True, False, False, False, False]}, {\"title\": \"Azië\"}]},\n",
    "    {'label': \"Europa\", 'method': \"update\", 'args': [{\"visible\": [False, False, True, False, False, False]}, {\"title\": \"Europa\"}]},\n",
    "    {'label': \"Noord-Amerika\", 'method': \"update\", 'args': [{\"visible\": [False, False, False, True, False, False]}, {\"title\": \"Noord-Amerika\"}]},\n",
    "    {'label': \"Zuid-Amerika\", 'method': \"update\", 'args': [{\"visible\": [False, False, False, False, True, False]}, {\"title\": \"Zuid-Amerika\"}]},\n",
    "    {'label': \"Oceanië\", 'method': \"update\", 'args': [{\"visible\": [False, False, False, False, False, True]}, {\"title\": \"Oceanië\"}]}\n",
    "]\n",
    "checkbox = [\n",
    "    {'label': \"Alle\", 'method': \"update\", 'aggs': [{\"visible\": [True, True]}, {\"title\": \"Alle\"}]},\n",
    "    {'label': \"Arrival\", 'method': \"update\", 'aggs': [{\"visible\": [True, False]}, {\"title\": \"Arrival\"}]},\n",
    "    {'label': \"Departure\", 'method': \"update\", 'aggs': [{\"visible\": [False, True]}, {\"title\": \"Departure\"}]}       \n",
    "]\n",
    "\n",
    "\n",
    "\n",
    "# Voeg dropdown-menu toe aan de layout\n",
    "fig.update_layout(\n",
    "    updatemenus=[{\n",
    "        'buttons': dropdown_buttons, \n",
    "        'direction': \"down\",\n",
    "        'showactive': True,\n",
    "\n",
    "        # dict('buttons'== checkbox, \n",
    "        # 'direction': \"down\",\n",
    "        # 'showactive': True)\n",
    "    }],\n",
    "    title=\"Histogram per Continent\"\n",
    ")\n",
    "fig.show()"
   ]
  },
  {
   "cell_type": "code",
   "execution_count": 146,
   "metadata": {},
   "outputs": [
    {
     "data": {
      "application/vnd.plotly.v1+json": {
       "config": {
        "plotlyServerURL": "https://plot.ly"
       },
       "data": [
        {
         "alignmentgroup": "True",
         "bingroup": "x",
         "hovertemplate": "flightDirection=%{x}<br>count=%{y}<extra></extra>",
         "legendgroup": "",
         "marker": {
          "color": "#636efa",
          "pattern": {
           "shape": ""
          }
         },
         "name": "",
         "offsetgroup": "",
         "orientation": "v",
         "showlegend": false,
         "type": "histogram",
         "x": [
          "A",
          "A",
          "A",
          "A",
          "A",
          "A",
          "A",
          "D",
          "D",
          "D",
          "A",
          "A",
          "A",
          "A",
          "A",
          "A",
          "A",
          "A",
          "A",
          "A",
          "A",
          "A",
          "A",
          "A",
          "A",
          "A",
          "D",
          "D",
          "D",
          "A",
          "A",
          "A",
          "A",
          "A",
          "A",
          "A",
          "D",
          "D",
          "D",
          "D",
          "A",
          "D",
          "D",
          "D",
          "D",
          "D",
          "A",
          "D",
          "D",
          "D",
          "A",
          "A",
          "A",
          "D",
          "D",
          "D",
          "D",
          "D",
          "D",
          "D",
          "A",
          "D",
          "D",
          "D",
          "D",
          "D",
          "D",
          "D",
          "D",
          "D",
          "D",
          "D",
          "D",
          "D",
          "D",
          "D",
          "D",
          "D",
          "D",
          "D",
          "D",
          "A",
          "A",
          "A",
          "A",
          "A",
          "A",
          "A",
          "A",
          "A",
          "A",
          "A",
          "A",
          "A",
          "D",
          "D",
          "D",
          "D",
          "D",
          "D",
          "D",
          "D",
          "D",
          "D",
          "D",
          "D",
          "D",
          "D",
          "D",
          "D",
          "D",
          "D",
          "D",
          "D",
          "D",
          "D",
          "D",
          "D",
          "D",
          "D",
          "D",
          "D",
          "D",
          "A",
          "A",
          "A",
          "A",
          "A",
          "A",
          "A",
          "D",
          "D",
          "D",
          "D",
          "D",
          "D",
          "D",
          "D",
          "D",
          "D",
          "D",
          "D",
          "D",
          "D",
          "D",
          "D",
          "D",
          "D",
          "D",
          "A",
          "A",
          "A",
          "A",
          "D",
          "D",
          "D",
          "A",
          "A",
          "A",
          "A",
          "A",
          "A",
          "A",
          "A",
          "D",
          "D",
          "D",
          "D",
          "D",
          "D",
          "D",
          "D",
          "D",
          "A",
          "A",
          "A",
          "A",
          "A",
          "A",
          "A",
          "A",
          "D",
          "A",
          "A",
          "A",
          "A",
          "A",
          "A",
          "A",
          "A",
          "D",
          "D",
          "D",
          "D",
          "D",
          "D",
          "D",
          "D",
          "D",
          "D",
          "D",
          "D",
          "D",
          "A",
          "A",
          "A",
          "A",
          "A",
          "A",
          "A",
          "A",
          "A",
          "A",
          "A",
          "A",
          "A",
          "A",
          "A",
          "A",
          "A",
          "A",
          "D",
          "D",
          "D",
          "A",
          "D",
          "D",
          "D",
          "D",
          "D",
          "D",
          "D",
          "D",
          "D",
          "D",
          "D",
          "D",
          "D",
          "D",
          "D",
          "D",
          "A",
          "A",
          "D",
          "D",
          "D",
          "D",
          "A",
          "A",
          "A",
          "A",
          "A",
          "A",
          "A",
          "A",
          "A",
          "A",
          "A",
          "A",
          "A",
          "A",
          "A",
          "A",
          "A",
          "A",
          "A",
          "A",
          "A",
          "A",
          "A",
          "D",
          "D",
          "D",
          "A",
          "A",
          "A",
          "A",
          "D",
          "A",
          "A",
          "A",
          "A",
          "A",
          "A",
          "A",
          "A",
          "A",
          "A",
          "A",
          "A",
          "A",
          "A",
          "A",
          "A",
          "A",
          "A",
          "A",
          "A",
          "D",
          "D",
          "D",
          "D",
          "D",
          "D",
          "D",
          "D",
          "D",
          "D",
          "D",
          "D",
          "D",
          "D",
          "D",
          "A",
          "A",
          "A",
          "A",
          "A",
          "A",
          "A",
          "A",
          "A",
          "A",
          "A",
          "D",
          "D",
          "D",
          "D",
          "D",
          "D",
          "D",
          "D",
          "D",
          "D",
          "A",
          "A",
          "A",
          "A",
          "A",
          "A",
          "A",
          "A",
          "A",
          "A",
          "A",
          "A",
          "A",
          "A",
          "A",
          "A",
          "A",
          "A",
          "A",
          "A",
          "A",
          "A",
          "A",
          "A",
          "A",
          "A",
          "D",
          "D",
          "D",
          "D",
          "D",
          "D",
          "D",
          "D",
          "D",
          "A",
          "A",
          "D",
          "D",
          "D",
          "D",
          "D",
          "D",
          "D",
          "D",
          "D",
          "D",
          "D",
          "D",
          "D",
          "D",
          "D",
          "D",
          "D",
          "A",
          "A",
          "A",
          "A",
          "A",
          "A",
          "A",
          "A",
          "A",
          "A",
          "A",
          "A",
          "A",
          "A",
          "A",
          "A",
          "A",
          "D",
          "D",
          "D",
          "D",
          "D",
          "D",
          "D",
          "D",
          "D",
          "D",
          "D",
          "D",
          "D",
          "A",
          "A",
          "A",
          "A",
          "D",
          "A",
          "A",
          "D",
          "D",
          "D",
          "A",
          "A",
          "A",
          "A",
          "A",
          "A",
          "A",
          "A",
          "A",
          "A",
          "A",
          "A",
          "A",
          "A",
          "A",
          "A",
          "A",
          "A",
          "A",
          "A",
          "A",
          "A",
          "A",
          "A",
          "D",
          "D",
          "D",
          "D",
          "D",
          "D",
          "D",
          "D",
          "D",
          "D",
          "D",
          "A",
          "A",
          "A",
          "A",
          "D",
          "D",
          "D",
          "A",
          "A",
          "A",
          "A",
          "A",
          "A",
          "A",
          "A",
          "A",
          "A",
          "A",
          "A",
          "A",
          "A",
          "A",
          "A",
          "A",
          "A",
          "A",
          "A",
          "A",
          "A",
          "A",
          "A",
          "A",
          "A",
          "A",
          "A",
          "A",
          "A",
          "A",
          "A",
          "A",
          "A",
          "A",
          "A",
          "A",
          "A",
          "A",
          "A",
          "A",
          "A",
          "A",
          "A",
          "D",
          "D",
          "D",
          "D",
          "D",
          "D",
          "D",
          "D",
          "D",
          "D",
          "D",
          "A",
          "A",
          "A",
          "A",
          "A",
          "A",
          "A",
          "A",
          "A",
          "A",
          "A",
          "A",
          "A",
          "A",
          "A",
          "A",
          "A",
          "A",
          "A",
          "A",
          "A",
          "D",
          "D",
          "D",
          "D",
          "D",
          "D",
          "D",
          "D",
          "A",
          "A",
          "A",
          "A",
          "A",
          "A",
          "A",
          "A",
          "A",
          "A",
          "A",
          "A",
          "A",
          "A",
          "A",
          "A",
          "A",
          "A",
          "A",
          "A",
          "D",
          "D",
          "D",
          "D",
          "D",
          "D",
          "D",
          "D",
          "D",
          "A",
          "A",
          "A",
          "A",
          "A",
          "A",
          "A",
          "A",
          "A",
          "A",
          "A",
          "A",
          "A",
          "A",
          "A",
          "A",
          "A",
          "A",
          "A",
          "A",
          "A",
          "A",
          "A",
          "A",
          "A",
          "A",
          "A",
          "A",
          "A",
          "D",
          "D",
          "D",
          "D",
          "A",
          "A",
          "A",
          "A",
          "A",
          "A",
          "A",
          "A",
          "A",
          "A",
          "A",
          "A",
          "A",
          "A",
          "A",
          "A",
          "A",
          "A",
          "A",
          "D",
          "D",
          "D",
          "D",
          "D",
          "D",
          "D",
          "D",
          "D",
          "D",
          "D",
          "D",
          "D",
          "D",
          "D",
          "D",
          "A",
          "A",
          "A",
          "A",
          "A",
          "A",
          "A",
          "A",
          "A",
          "A",
          "A",
          "A",
          "A",
          "A",
          "A",
          "A",
          "A",
          "A",
          "A",
          "A",
          "A",
          "A",
          "A",
          "A",
          "A",
          "A",
          "A",
          "A",
          "A",
          "A",
          "A",
          "A",
          "A",
          "A",
          "A",
          "A",
          "D",
          "A",
          "A",
          "A",
          "D",
          "D",
          "D",
          "D",
          "D",
          "D",
          "A",
          "A",
          "A",
          "A",
          "A",
          "A",
          "A",
          "A",
          "A",
          "A",
          "A",
          "A",
          "A",
          "A",
          "A",
          "A",
          "A",
          "A",
          "A",
          "A",
          "A",
          "A",
          "A",
          "A",
          "A",
          "A",
          "A",
          "A",
          "A",
          "A",
          "A",
          "A",
          "A",
          "A",
          "A",
          "A",
          "A",
          "A",
          "A",
          "A",
          "A",
          "A",
          "A",
          "A",
          "A",
          "A",
          "A",
          "A",
          "A",
          "D",
          "D",
          "D",
          "D",
          "A",
          "A",
          "A",
          "A",
          "A",
          "A",
          "A",
          "A",
          "A",
          "A",
          "A",
          "A",
          "A",
          "A",
          "A",
          "A",
          "A",
          "A",
          "A",
          "A",
          "A",
          "A",
          "A",
          "A",
          "A",
          "A",
          "A",
          "A",
          "A",
          "A",
          "A",
          "A",
          "A",
          "A",
          "A",
          "A",
          "A",
          "A",
          "A",
          "A",
          "A",
          "A",
          "A",
          "D",
          "D",
          "D",
          "D",
          "A",
          "A",
          "A",
          "A",
          "A",
          "A",
          "D",
          "D",
          "D",
          "D",
          "D",
          "D",
          "D",
          "D",
          "D",
          "D",
          "D",
          "D",
          "D",
          "A",
          "A",
          "A",
          "A",
          "A",
          "A",
          "A",
          "A",
          "A",
          "A",
          "A",
          "A",
          "A",
          "A",
          "A",
          "A",
          "A",
          "A",
          "A",
          "A",
          "A",
          "A",
          "A",
          "A",
          "A",
          "A",
          "A",
          "A",
          "A",
          "A",
          "A",
          "A",
          "A",
          "A",
          "A",
          "A",
          "A",
          "A",
          "A",
          "A",
          "A",
          "A",
          "A",
          "A",
          "A",
          "A",
          "A",
          "A",
          "A",
          "A",
          "A",
          "A",
          "A",
          "A",
          "A",
          "A",
          "A",
          "A",
          "A",
          "D",
          "D",
          "D",
          "A",
          "A",
          "A",
          "A",
          "D",
          "D",
          "D",
          "D",
          "D",
          "D",
          "D",
          "D",
          "D",
          "D",
          "D",
          "D",
          "A",
          "A",
          "D",
          "D",
          "D",
          "D",
          "D",
          "D",
          "D",
          "D",
          "D",
          "D",
          "D",
          "D",
          "D",
          "A",
          "A",
          "A",
          "A",
          "D",
          "D",
          "D",
          "D",
          "D",
          "D",
          "A",
          "D",
          "A",
          "D",
          "D",
          "D",
          "A",
          "A",
          "A",
          "A",
          "A",
          "A",
          "A",
          "D",
          "D",
          "D",
          "D",
          "D",
          "D",
          "D",
          "D",
          "D",
          "D",
          "D",
          "D",
          "D",
          "D",
          "D",
          "A",
          "D",
          "D",
          "D",
          "D",
          "D",
          "D",
          "D",
          "D",
          "D",
          "D",
          "D",
          "D",
          "D",
          "D",
          "D",
          "D",
          "D",
          "D",
          "D",
          "D",
          "D",
          "D",
          "D",
          "D",
          "D",
          "D",
          "D",
          "D",
          "D",
          "A",
          "A",
          "D",
          "D",
          "D",
          "D",
          "A",
          "A",
          "A",
          "A",
          "A",
          "A",
          "A",
          "A",
          "A",
          "A",
          "A",
          "D",
          "D",
          "D",
          "D",
          "D",
          "D"
         ],
         "xaxis": "x",
         "yaxis": "y"
        }
       ],
       "layout": {
        "barmode": "relative",
        "legend": {
         "tracegroupgap": 0
        },
        "margin": {
         "t": 60
        },
        "template": {
         "data": {
          "bar": [
           {
            "error_x": {
             "color": "#2a3f5f"
            },
            "error_y": {
             "color": "#2a3f5f"
            },
            "marker": {
             "line": {
              "color": "#E5ECF6",
              "width": 0.5
             },
             "pattern": {
              "fillmode": "overlay",
              "size": 10,
              "solidity": 0.2
             }
            },
            "type": "bar"
           }
          ],
          "barpolar": [
           {
            "marker": {
             "line": {
              "color": "#E5ECF6",
              "width": 0.5
             },
             "pattern": {
              "fillmode": "overlay",
              "size": 10,
              "solidity": 0.2
             }
            },
            "type": "barpolar"
           }
          ],
          "carpet": [
           {
            "aaxis": {
             "endlinecolor": "#2a3f5f",
             "gridcolor": "white",
             "linecolor": "white",
             "minorgridcolor": "white",
             "startlinecolor": "#2a3f5f"
            },
            "baxis": {
             "endlinecolor": "#2a3f5f",
             "gridcolor": "white",
             "linecolor": "white",
             "minorgridcolor": "white",
             "startlinecolor": "#2a3f5f"
            },
            "type": "carpet"
           }
          ],
          "choropleth": [
           {
            "colorbar": {
             "outlinewidth": 0,
             "ticks": ""
            },
            "type": "choropleth"
           }
          ],
          "contour": [
           {
            "colorbar": {
             "outlinewidth": 0,
             "ticks": ""
            },
            "colorscale": [
             [
              0,
              "#0d0887"
             ],
             [
              0.1111111111111111,
              "#46039f"
             ],
             [
              0.2222222222222222,
              "#7201a8"
             ],
             [
              0.3333333333333333,
              "#9c179e"
             ],
             [
              0.4444444444444444,
              "#bd3786"
             ],
             [
              0.5555555555555556,
              "#d8576b"
             ],
             [
              0.6666666666666666,
              "#ed7953"
             ],
             [
              0.7777777777777778,
              "#fb9f3a"
             ],
             [
              0.8888888888888888,
              "#fdca26"
             ],
             [
              1,
              "#f0f921"
             ]
            ],
            "type": "contour"
           }
          ],
          "contourcarpet": [
           {
            "colorbar": {
             "outlinewidth": 0,
             "ticks": ""
            },
            "type": "contourcarpet"
           }
          ],
          "heatmap": [
           {
            "colorbar": {
             "outlinewidth": 0,
             "ticks": ""
            },
            "colorscale": [
             [
              0,
              "#0d0887"
             ],
             [
              0.1111111111111111,
              "#46039f"
             ],
             [
              0.2222222222222222,
              "#7201a8"
             ],
             [
              0.3333333333333333,
              "#9c179e"
             ],
             [
              0.4444444444444444,
              "#bd3786"
             ],
             [
              0.5555555555555556,
              "#d8576b"
             ],
             [
              0.6666666666666666,
              "#ed7953"
             ],
             [
              0.7777777777777778,
              "#fb9f3a"
             ],
             [
              0.8888888888888888,
              "#fdca26"
             ],
             [
              1,
              "#f0f921"
             ]
            ],
            "type": "heatmap"
           }
          ],
          "heatmapgl": [
           {
            "colorbar": {
             "outlinewidth": 0,
             "ticks": ""
            },
            "colorscale": [
             [
              0,
              "#0d0887"
             ],
             [
              0.1111111111111111,
              "#46039f"
             ],
             [
              0.2222222222222222,
              "#7201a8"
             ],
             [
              0.3333333333333333,
              "#9c179e"
             ],
             [
              0.4444444444444444,
              "#bd3786"
             ],
             [
              0.5555555555555556,
              "#d8576b"
             ],
             [
              0.6666666666666666,
              "#ed7953"
             ],
             [
              0.7777777777777778,
              "#fb9f3a"
             ],
             [
              0.8888888888888888,
              "#fdca26"
             ],
             [
              1,
              "#f0f921"
             ]
            ],
            "type": "heatmapgl"
           }
          ],
          "histogram": [
           {
            "marker": {
             "pattern": {
              "fillmode": "overlay",
              "size": 10,
              "solidity": 0.2
             }
            },
            "type": "histogram"
           }
          ],
          "histogram2d": [
           {
            "colorbar": {
             "outlinewidth": 0,
             "ticks": ""
            },
            "colorscale": [
             [
              0,
              "#0d0887"
             ],
             [
              0.1111111111111111,
              "#46039f"
             ],
             [
              0.2222222222222222,
              "#7201a8"
             ],
             [
              0.3333333333333333,
              "#9c179e"
             ],
             [
              0.4444444444444444,
              "#bd3786"
             ],
             [
              0.5555555555555556,
              "#d8576b"
             ],
             [
              0.6666666666666666,
              "#ed7953"
             ],
             [
              0.7777777777777778,
              "#fb9f3a"
             ],
             [
              0.8888888888888888,
              "#fdca26"
             ],
             [
              1,
              "#f0f921"
             ]
            ],
            "type": "histogram2d"
           }
          ],
          "histogram2dcontour": [
           {
            "colorbar": {
             "outlinewidth": 0,
             "ticks": ""
            },
            "colorscale": [
             [
              0,
              "#0d0887"
             ],
             [
              0.1111111111111111,
              "#46039f"
             ],
             [
              0.2222222222222222,
              "#7201a8"
             ],
             [
              0.3333333333333333,
              "#9c179e"
             ],
             [
              0.4444444444444444,
              "#bd3786"
             ],
             [
              0.5555555555555556,
              "#d8576b"
             ],
             [
              0.6666666666666666,
              "#ed7953"
             ],
             [
              0.7777777777777778,
              "#fb9f3a"
             ],
             [
              0.8888888888888888,
              "#fdca26"
             ],
             [
              1,
              "#f0f921"
             ]
            ],
            "type": "histogram2dcontour"
           }
          ],
          "mesh3d": [
           {
            "colorbar": {
             "outlinewidth": 0,
             "ticks": ""
            },
            "type": "mesh3d"
           }
          ],
          "parcoords": [
           {
            "line": {
             "colorbar": {
              "outlinewidth": 0,
              "ticks": ""
             }
            },
            "type": "parcoords"
           }
          ],
          "pie": [
           {
            "automargin": true,
            "type": "pie"
           }
          ],
          "scatter": [
           {
            "fillpattern": {
             "fillmode": "overlay",
             "size": 10,
             "solidity": 0.2
            },
            "type": "scatter"
           }
          ],
          "scatter3d": [
           {
            "line": {
             "colorbar": {
              "outlinewidth": 0,
              "ticks": ""
             }
            },
            "marker": {
             "colorbar": {
              "outlinewidth": 0,
              "ticks": ""
             }
            },
            "type": "scatter3d"
           }
          ],
          "scattercarpet": [
           {
            "marker": {
             "colorbar": {
              "outlinewidth": 0,
              "ticks": ""
             }
            },
            "type": "scattercarpet"
           }
          ],
          "scattergeo": [
           {
            "marker": {
             "colorbar": {
              "outlinewidth": 0,
              "ticks": ""
             }
            },
            "type": "scattergeo"
           }
          ],
          "scattergl": [
           {
            "marker": {
             "colorbar": {
              "outlinewidth": 0,
              "ticks": ""
             }
            },
            "type": "scattergl"
           }
          ],
          "scattermapbox": [
           {
            "marker": {
             "colorbar": {
              "outlinewidth": 0,
              "ticks": ""
             }
            },
            "type": "scattermapbox"
           }
          ],
          "scatterpolar": [
           {
            "marker": {
             "colorbar": {
              "outlinewidth": 0,
              "ticks": ""
             }
            },
            "type": "scatterpolar"
           }
          ],
          "scatterpolargl": [
           {
            "marker": {
             "colorbar": {
              "outlinewidth": 0,
              "ticks": ""
             }
            },
            "type": "scatterpolargl"
           }
          ],
          "scatterternary": [
           {
            "marker": {
             "colorbar": {
              "outlinewidth": 0,
              "ticks": ""
             }
            },
            "type": "scatterternary"
           }
          ],
          "surface": [
           {
            "colorbar": {
             "outlinewidth": 0,
             "ticks": ""
            },
            "colorscale": [
             [
              0,
              "#0d0887"
             ],
             [
              0.1111111111111111,
              "#46039f"
             ],
             [
              0.2222222222222222,
              "#7201a8"
             ],
             [
              0.3333333333333333,
              "#9c179e"
             ],
             [
              0.4444444444444444,
              "#bd3786"
             ],
             [
              0.5555555555555556,
              "#d8576b"
             ],
             [
              0.6666666666666666,
              "#ed7953"
             ],
             [
              0.7777777777777778,
              "#fb9f3a"
             ],
             [
              0.8888888888888888,
              "#fdca26"
             ],
             [
              1,
              "#f0f921"
             ]
            ],
            "type": "surface"
           }
          ],
          "table": [
           {
            "cells": {
             "fill": {
              "color": "#EBF0F8"
             },
             "line": {
              "color": "white"
             }
            },
            "header": {
             "fill": {
              "color": "#C8D4E3"
             },
             "line": {
              "color": "white"
             }
            },
            "type": "table"
           }
          ]
         },
         "layout": {
          "annotationdefaults": {
           "arrowcolor": "#2a3f5f",
           "arrowhead": 0,
           "arrowwidth": 1
          },
          "autotypenumbers": "strict",
          "coloraxis": {
           "colorbar": {
            "outlinewidth": 0,
            "ticks": ""
           }
          },
          "colorscale": {
           "diverging": [
            [
             0,
             "#8e0152"
            ],
            [
             0.1,
             "#c51b7d"
            ],
            [
             0.2,
             "#de77ae"
            ],
            [
             0.3,
             "#f1b6da"
            ],
            [
             0.4,
             "#fde0ef"
            ],
            [
             0.5,
             "#f7f7f7"
            ],
            [
             0.6,
             "#e6f5d0"
            ],
            [
             0.7,
             "#b8e186"
            ],
            [
             0.8,
             "#7fbc41"
            ],
            [
             0.9,
             "#4d9221"
            ],
            [
             1,
             "#276419"
            ]
           ],
           "sequential": [
            [
             0,
             "#0d0887"
            ],
            [
             0.1111111111111111,
             "#46039f"
            ],
            [
             0.2222222222222222,
             "#7201a8"
            ],
            [
             0.3333333333333333,
             "#9c179e"
            ],
            [
             0.4444444444444444,
             "#bd3786"
            ],
            [
             0.5555555555555556,
             "#d8576b"
            ],
            [
             0.6666666666666666,
             "#ed7953"
            ],
            [
             0.7777777777777778,
             "#fb9f3a"
            ],
            [
             0.8888888888888888,
             "#fdca26"
            ],
            [
             1,
             "#f0f921"
            ]
           ],
           "sequentialminus": [
            [
             0,
             "#0d0887"
            ],
            [
             0.1111111111111111,
             "#46039f"
            ],
            [
             0.2222222222222222,
             "#7201a8"
            ],
            [
             0.3333333333333333,
             "#9c179e"
            ],
            [
             0.4444444444444444,
             "#bd3786"
            ],
            [
             0.5555555555555556,
             "#d8576b"
            ],
            [
             0.6666666666666666,
             "#ed7953"
            ],
            [
             0.7777777777777778,
             "#fb9f3a"
            ],
            [
             0.8888888888888888,
             "#fdca26"
            ],
            [
             1,
             "#f0f921"
            ]
           ]
          },
          "colorway": [
           "#636efa",
           "#EF553B",
           "#00cc96",
           "#ab63fa",
           "#FFA15A",
           "#19d3f3",
           "#FF6692",
           "#B6E880",
           "#FF97FF",
           "#FECB52"
          ],
          "font": {
           "color": "#2a3f5f"
          },
          "geo": {
           "bgcolor": "white",
           "lakecolor": "white",
           "landcolor": "#E5ECF6",
           "showlakes": true,
           "showland": true,
           "subunitcolor": "white"
          },
          "hoverlabel": {
           "align": "left"
          },
          "hovermode": "closest",
          "mapbox": {
           "style": "light"
          },
          "paper_bgcolor": "white",
          "plot_bgcolor": "#E5ECF6",
          "polar": {
           "angularaxis": {
            "gridcolor": "white",
            "linecolor": "white",
            "ticks": ""
           },
           "bgcolor": "#E5ECF6",
           "radialaxis": {
            "gridcolor": "white",
            "linecolor": "white",
            "ticks": ""
           }
          },
          "scene": {
           "xaxis": {
            "backgroundcolor": "#E5ECF6",
            "gridcolor": "white",
            "gridwidth": 2,
            "linecolor": "white",
            "showbackground": true,
            "ticks": "",
            "zerolinecolor": "white"
           },
           "yaxis": {
            "backgroundcolor": "#E5ECF6",
            "gridcolor": "white",
            "gridwidth": 2,
            "linecolor": "white",
            "showbackground": true,
            "ticks": "",
            "zerolinecolor": "white"
           },
           "zaxis": {
            "backgroundcolor": "#E5ECF6",
            "gridcolor": "white",
            "gridwidth": 2,
            "linecolor": "white",
            "showbackground": true,
            "ticks": "",
            "zerolinecolor": "white"
           }
          },
          "shapedefaults": {
           "line": {
            "color": "#2a3f5f"
           }
          },
          "ternary": {
           "aaxis": {
            "gridcolor": "white",
            "linecolor": "white",
            "ticks": ""
           },
           "baxis": {
            "gridcolor": "white",
            "linecolor": "white",
            "ticks": ""
           },
           "bgcolor": "#E5ECF6",
           "caxis": {
            "gridcolor": "white",
            "linecolor": "white",
            "ticks": ""
           }
          },
          "title": {
           "x": 0.05
          },
          "xaxis": {
           "automargin": true,
           "gridcolor": "white",
           "linecolor": "white",
           "ticks": "",
           "title": {
            "standoff": 15
           },
           "zerolinecolor": "white",
           "zerolinewidth": 2
          },
          "yaxis": {
           "automargin": true,
           "gridcolor": "white",
           "linecolor": "white",
           "ticks": "",
           "title": {
            "standoff": 15
           },
           "zerolinecolor": "white",
           "zerolinewidth": 2
          }
         }
        },
        "xaxis": {
         "anchor": "y",
         "domain": [
          0,
          1
         ],
         "title": {
          "text": "flightDirection"
         }
        },
        "yaxis": {
         "anchor": "x",
         "domain": [
          0,
          1
         ],
         "title": {
          "text": "count"
         }
        }
       }
      }
     },
     "metadata": {},
     "output_type": "display_data"
    }
   ],
   "source": [
    "fig = px.histogram(df, x='flightDirection')\n",
    "fig.show()"
   ]
  },
  {
   "cell_type": "code",
   "execution_count": null,
   "metadata": {},
   "outputs": [
    {
     "data": {
      "image/png": "[encoded data removed]",
      "text/plain": [
       "<Figure size 1000x500 with 1 Axes>"
      ]
     },
     "metadata": {},
     "output_type": "display_data"
    }
   ],
   "source": [
    "# stedenlijst= ['Parijs', 'Brussel', 'Antwerpen', 'Praag', 'Londen', 'Hamburg', 'Frankfort', 'Wenen', 'Luxemburg', 'Milaan', 'Venetië', 'Berlijn', 'München', 'Luxemburg-stad', 'Zurich', 'Marseille', 'Nice', 'Kopenhagen', 'Geneve', 'Luxemburg-Stad']\n",
    "# StedenHackaton= df['Stad'].isin(stedenlijst)\n",
    "# # df[StedenHackaton].head()\n",
    "\n",
    "# plt.figure(figsize=(10, 5))\n",
    "# fig8 = sns.histplot(df.loc[StedenHackaton, 'Stad'], discrete=True)\n",
    "# plt.xticks(rotation=45)\n",
    "# plt.title(\"Verdeling van steden in dataset\")\n",
    "# plt.show()"
   ]
  },
  {
   "cell_type": "code",
   "execution_count": 176,
   "metadata": {},
   "outputs": [
    {
     "data": {
      "application/vnd.plotly.v1+json": {
       "config": {
        "plotlyServerURL": "https://plot.ly"
       },
       "data": [
        {
         "marker": {
          "color": "royalblue"
         },
         "type": "histogram",
         "x": [
          "Parijs",
          "Parijs",
          "Parijs",
          "Parijs",
          "Parijs",
          "Parijs",
          "Zurich",
          "Zurich",
          "Zurich",
          "Zurich",
          "Zurich",
          "Praag",
          "Praag",
          "Praag",
          "Brussel",
          "Brussel",
          "Brussel",
          "Brussel",
          "Hamburg",
          "Hamburg",
          "Hamburg",
          "Hamburg",
          "Hamburg",
          "Zurich",
          "Kopenhagen",
          "Londen",
          "Londen",
          "München",
          "Milaan",
          "Wenen",
          "Londen",
          "Londen",
          "Londen",
          "Milaan",
          "Brussel",
          "Brussel",
          "Brussel",
          "Brussel",
          "Brussel",
          "Kopenhagen",
          "Londen",
          "Londen",
          "Londen",
          "Londen",
          "Londen",
          "Hamburg",
          "Hamburg",
          "Hamburg",
          "Hamburg",
          "Hamburg",
          "Luxemburg",
          "Luxemburg",
          "Luxemburg",
          "Parijs",
          "Parijs",
          "Parijs",
          "Parijs",
          "Parijs",
          "Parijs",
          "Frankfort",
          "Brussel",
          "Berlijn",
          "Berlijn",
          "Berlijn",
          "Berlijn",
          "Berlijn",
          "Berlijn",
          "Berlijn",
          "Berlijn",
          "Kopenhagen",
          "Kopenhagen",
          "Kopenhagen",
          "Kopenhagen",
          "Kopenhagen",
          "Kopenhagen",
          "Kopenhagen",
          "Kopenhagen",
          "Kopenhagen",
          "Kopenhagen",
          "Praag",
          "Praag",
          "Praag",
          "Praag",
          "Kopenhagen",
          "Kopenhagen",
          "Kopenhagen",
          "Kopenhagen",
          "Kopenhagen",
          "Kopenhagen",
          "Kopenhagen",
          "Kopenhagen",
          "Kopenhagen",
          "München",
          "München",
          "München",
          "München",
          "München",
          "München",
          "München",
          "Parijs",
          "Parijs",
          "Londen",
          "Londen",
          "Londen",
          "Berlijn",
          "Berlijn",
          "Berlijn",
          "Berlijn",
          "Berlijn",
          "Berlijn",
          "Berlijn",
          "Londen",
          "Frankfort",
          "Frankfort",
          "Frankfort",
          "Frankfort",
          "Frankfort",
          "Frankfort",
          "Frankfort",
          "Frankfort",
          "Frankfort",
          "München",
          "Brussel",
          "Londen",
          "Frankfort",
          "Frankfort",
          "Frankfort",
          "Frankfort",
          "Frankfort",
          "Frankfort",
          "Frankfort",
          "Milaan",
          "Milaan",
          "Milaan",
          "Milaan",
          "Parijs",
          "Parijs",
          "Parijs",
          "Parijs",
          "Parijs",
          "Parijs",
          "Parijs",
          "Parijs",
          "Parijs",
          "Londen",
          "Londen",
          "Londen",
          "Londen",
          "Londen",
          "Londen",
          "Nice",
          "Nice",
          "Nice",
          "Nice",
          "Nice",
          "Nice",
          "Nice",
          "Nice",
          "Marseille",
          "Marseille",
          "Marseille",
          "Berlijn",
          "Londen",
          "Venetië",
          "Venetië",
          "Venetië",
          "Venetië",
          "Venetië",
          "Venetië",
          "Venetië",
          "Venetië",
          "Frankfort",
          "Londen",
          "Londen",
          "Londen",
          "München",
          "München",
          "München",
          "München",
          "München",
          "München",
          "München",
          "Zurich",
          "Zurich",
          "Zurich",
          "Zurich",
          "Zurich",
          "Zurich",
          "Zurich",
          "Zurich",
          "Milaan",
          "München",
          "Parijs",
          "Parijs",
          "Parijs",
          "Parijs",
          "Parijs",
          "Milaan",
          "Milaan",
          "Milaan",
          "Wenen",
          "Wenen",
          "Wenen",
          "Wenen",
          "Wenen",
          "Wenen",
          "Wenen",
          "Wenen",
          "Wenen",
          "Londen",
          "Londen",
          "Londen",
          "Londen",
          "Londen",
          "Londen",
          "Londen",
          "Zurich",
          "Brussel",
          "Brussel",
          "Brussel",
          "Brussel",
          "Brussel",
          "Brussel",
          "Brussel",
          "Brussel",
          "Berlijn",
          "Londen",
          "Wenen",
          "Londen",
          "Praag",
          "Praag",
          "Praag",
          "Praag",
          "Praag",
          "Marseille",
          "Luxemburg",
          "Luxemburg",
          "Luxemburg",
          "Brussel",
          "Brussel",
          "Brussel",
          "Brussel",
          "Brussel",
          "Brussel",
          "Hamburg",
          "Hamburg",
          "Hamburg",
          "Hamburg",
          "Hamburg",
          "Londen",
          "Londen",
          "Londen",
          "Zurich",
          "Zurich",
          "Zurich",
          "Zurich",
          "Zurich",
          "Zurich",
          "Zurich",
          "Londen",
          "Londen",
          "Parijs",
          "Parijs",
          "Parijs",
          "Parijs",
          "Parijs",
          "Parijs",
          "Parijs",
          "Parijs",
          "Parijs",
          "Parijs",
          "Praag"
         ]
        }
       ],
       "layout": {
        "bargap": 0.1,
        "template": {
         "data": {
          "bar": [
           {
            "error_x": {
             "color": "#2a3f5f"
            },
            "error_y": {
             "color": "#2a3f5f"
            },
            "marker": {
             "line": {
              "color": "#E5ECF6",
              "width": 0.5
             },
             "pattern": {
              "fillmode": "overlay",
              "size": 10,
              "solidity": 0.2
             }
            },
            "type": "bar"
           }
          ],
          "barpolar": [
           {
            "marker": {
             "line": {
              "color": "#E5ECF6",
              "width": 0.5
             },
             "pattern": {
              "fillmode": "overlay",
              "size": 10,
              "solidity": 0.2
             }
            },
            "type": "barpolar"
           }
          ],
          "carpet": [
           {
            "aaxis": {
             "endlinecolor": "#2a3f5f",
             "gridcolor": "white",
             "linecolor": "white",
             "minorgridcolor": "white",
             "startlinecolor": "#2a3f5f"
            },
            "baxis": {
             "endlinecolor": "#2a3f5f",
             "gridcolor": "white",
             "linecolor": "white",
             "minorgridcolor": "white",
             "startlinecolor": "#2a3f5f"
            },
            "type": "carpet"
           }
          ],
          "choropleth": [
           {
            "colorbar": {
             "outlinewidth": 0,
             "ticks": ""
            },
            "type": "choropleth"
           }
          ],
          "contour": [
           {
            "colorbar": {
             "outlinewidth": 0,
             "ticks": ""
            },
            "colorscale": [
             [
              0,
              "#0d0887"
             ],
             [
              0.1111111111111111,
              "#46039f"
             ],
             [
              0.2222222222222222,
              "#7201a8"
             ],
             [
              0.3333333333333333,
              "#9c179e"
             ],
             [
              0.4444444444444444,
              "#bd3786"
             ],
             [
              0.5555555555555556,
              "#d8576b"
             ],
             [
              0.6666666666666666,
              "#ed7953"
             ],
             [
              0.7777777777777778,
              "#fb9f3a"
             ],
             [
              0.8888888888888888,
              "#fdca26"
             ],
             [
              1,
              "#f0f921"
             ]
            ],
            "type": "contour"
           }
          ],
          "contourcarpet": [
           {
            "colorbar": {
             "outlinewidth": 0,
             "ticks": ""
            },
            "type": "contourcarpet"
           }
          ],
          "heatmap": [
           {
            "colorbar": {
             "outlinewidth": 0,
             "ticks": ""
            },
            "colorscale": [
             [
              0,
              "#0d0887"
             ],
             [
              0.1111111111111111,
              "#46039f"
             ],
             [
              0.2222222222222222,
              "#7201a8"
             ],
             [
              0.3333333333333333,
              "#9c179e"
             ],
             [
              0.4444444444444444,
              "#bd3786"
             ],
             [
              0.5555555555555556,
              "#d8576b"
             ],
             [
              0.6666666666666666,
              "#ed7953"
             ],
             [
              0.7777777777777778,
              "#fb9f3a"
             ],
             [
              0.8888888888888888,
              "#fdca26"
             ],
             [
              1,
              "#f0f921"
             ]
            ],
            "type": "heatmap"
           }
          ],
          "heatmapgl": [
           {
            "colorbar": {
             "outlinewidth": 0,
             "ticks": ""
            },
            "colorscale": [
             [
              0,
              "#0d0887"
             ],
             [
              0.1111111111111111,
              "#46039f"
             ],
             [
              0.2222222222222222,
              "#7201a8"
             ],
             [
              0.3333333333333333,
              "#9c179e"
             ],
             [
              0.4444444444444444,
              "#bd3786"
             ],
             [
              0.5555555555555556,
              "#d8576b"
             ],
             [
              0.6666666666666666,
              "#ed7953"
             ],
             [
              0.7777777777777778,
              "#fb9f3a"
             ],
             [
              0.8888888888888888,
              "#fdca26"
             ],
             [
              1,
              "#f0f921"
             ]
            ],
            "type": "heatmapgl"
           }
          ],
          "histogram": [
           {
            "marker": {
             "pattern": {
              "fillmode": "overlay",
              "size": 10,
              "solidity": 0.2
             }
            },
            "type": "histogram"
           }
          ],
          "histogram2d": [
           {
            "colorbar": {
             "outlinewidth": 0,
             "ticks": ""
            },
            "colorscale": [
             [
              0,
              "#0d0887"
             ],
             [
              0.1111111111111111,
              "#46039f"
             ],
             [
              0.2222222222222222,
              "#7201a8"
             ],
             [
              0.3333333333333333,
              "#9c179e"
             ],
             [
              0.4444444444444444,
              "#bd3786"
             ],
             [
              0.5555555555555556,
              "#d8576b"
             ],
             [
              0.6666666666666666,
              "#ed7953"
             ],
             [
              0.7777777777777778,
              "#fb9f3a"
             ],
             [
              0.8888888888888888,
              "#fdca26"
             ],
             [
              1,
              "#f0f921"
             ]
            ],
            "type": "histogram2d"
           }
          ],
          "histogram2dcontour": [
           {
            "colorbar": {
             "outlinewidth": 0,
             "ticks": ""
            },
            "colorscale": [
             [
              0,
              "#0d0887"
             ],
             [
              0.1111111111111111,
              "#46039f"
             ],
             [
              0.2222222222222222,
              "#7201a8"
             ],
             [
              0.3333333333333333,
              "#9c179e"
             ],
             [
              0.4444444444444444,
              "#bd3786"
             ],
             [
              0.5555555555555556,
              "#d8576b"
             ],
             [
              0.6666666666666666,
              "#ed7953"
             ],
             [
              0.7777777777777778,
              "#fb9f3a"
             ],
             [
              0.8888888888888888,
              "#fdca26"
             ],
             [
              1,
              "#f0f921"
             ]
            ],
            "type": "histogram2dcontour"
           }
          ],
          "mesh3d": [
           {
            "colorbar": {
             "outlinewidth": 0,
             "ticks": ""
            },
            "type": "mesh3d"
           }
          ],
          "parcoords": [
           {
            "line": {
             "colorbar": {
              "outlinewidth": 0,
              "ticks": ""
             }
            },
            "type": "parcoords"
           }
          ],
          "pie": [
           {
            "automargin": true,
            "type": "pie"
           }
          ],
          "scatter": [
           {
            "fillpattern": {
             "fillmode": "overlay",
             "size": 10,
             "solidity": 0.2
            },
            "type": "scatter"
           }
          ],
          "scatter3d": [
           {
            "line": {
             "colorbar": {
              "outlinewidth": 0,
              "ticks": ""
             }
            },
            "marker": {
             "colorbar": {
              "outlinewidth": 0,
              "ticks": ""
             }
            },
            "type": "scatter3d"
           }
          ],
          "scattercarpet": [
           {
            "marker": {
             "colorbar": {
              "outlinewidth": 0,
              "ticks": ""
             }
            },
            "type": "scattercarpet"
           }
          ],
          "scattergeo": [
           {
            "marker": {
             "colorbar": {
              "outlinewidth": 0,
              "ticks": ""
             }
            },
            "type": "scattergeo"
           }
          ],
          "scattergl": [
           {
            "marker": {
             "colorbar": {
              "outlinewidth": 0,
              "ticks": ""
             }
            },
            "type": "scattergl"
           }
          ],
          "scattermapbox": [
           {
            "marker": {
             "colorbar": {
              "outlinewidth": 0,
              "ticks": ""
             }
            },
            "type": "scattermapbox"
           }
          ],
          "scatterpolar": [
           {
            "marker": {
             "colorbar": {
              "outlinewidth": 0,
              "ticks": ""
             }
            },
            "type": "scatterpolar"
           }
          ],
          "scatterpolargl": [
           {
            "marker": {
             "colorbar": {
              "outlinewidth": 0,
              "ticks": ""
             }
            },
            "type": "scatterpolargl"
           }
          ],
          "scatterternary": [
           {
            "marker": {
             "colorbar": {
              "outlinewidth": 0,
              "ticks": ""
             }
            },
            "type": "scatterternary"
           }
          ],
          "surface": [
           {
            "colorbar": {
             "outlinewidth": 0,
             "ticks": ""
            },
            "colorscale": [
             [
              0,
              "#0d0887"
             ],
             [
              0.1111111111111111,
              "#46039f"
             ],
             [
              0.2222222222222222,
              "#7201a8"
             ],
             [
              0.3333333333333333,
              "#9c179e"
             ],
             [
              0.4444444444444444,
              "#bd3786"
             ],
             [
              0.5555555555555556,
              "#d8576b"
             ],
             [
              0.6666666666666666,
              "#ed7953"
             ],
             [
              0.7777777777777778,
              "#fb9f3a"
             ],
             [
              0.8888888888888888,
              "#fdca26"
             ],
             [
              1,
              "#f0f921"
             ]
            ],
            "type": "surface"
           }
          ],
          "table": [
           {
            "cells": {
             "fill": {
              "color": "#EBF0F8"
             },
             "line": {
              "color": "white"
             }
            },
            "header": {
             "fill": {
              "color": "#C8D4E3"
             },
             "line": {
              "color": "white"
             }
            },
            "type": "table"
           }
          ]
         },
         "layout": {
          "annotationdefaults": {
           "arrowcolor": "#2a3f5f",
           "arrowhead": 0,
           "arrowwidth": 1
          },
          "autotypenumbers": "strict",
          "coloraxis": {
           "colorbar": {
            "outlinewidth": 0,
            "ticks": ""
           }
          },
          "colorscale": {
           "diverging": [
            [
             0,
             "#8e0152"
            ],
            [
             0.1,
             "#c51b7d"
            ],
            [
             0.2,
             "#de77ae"
            ],
            [
             0.3,
             "#f1b6da"
            ],
            [
             0.4,
             "#fde0ef"
            ],
            [
             0.5,
             "#f7f7f7"
            ],
            [
             0.6,
             "#e6f5d0"
            ],
            [
             0.7,
             "#b8e186"
            ],
            [
             0.8,
             "#7fbc41"
            ],
            [
             0.9,
             "#4d9221"
            ],
            [
             1,
             "#276419"
            ]
           ],
           "sequential": [
            [
             0,
             "#0d0887"
            ],
            [
             0.1111111111111111,
             "#46039f"
            ],
            [
             0.2222222222222222,
             "#7201a8"
            ],
            [
             0.3333333333333333,
             "#9c179e"
            ],
            [
             0.4444444444444444,
             "#bd3786"
            ],
            [
             0.5555555555555556,
             "#d8576b"
            ],
            [
             0.6666666666666666,
             "#ed7953"
            ],
            [
             0.7777777777777778,
             "#fb9f3a"
            ],
            [
             0.8888888888888888,
             "#fdca26"
            ],
            [
             1,
             "#f0f921"
            ]
           ],
           "sequentialminus": [
            [
             0,
             "#0d0887"
            ],
            [
             0.1111111111111111,
             "#46039f"
            ],
            [
             0.2222222222222222,
             "#7201a8"
            ],
            [
             0.3333333333333333,
             "#9c179e"
            ],
            [
             0.4444444444444444,
             "#bd3786"
            ],
            [
             0.5555555555555556,
             "#d8576b"
            ],
            [
             0.6666666666666666,
             "#ed7953"
            ],
            [
             0.7777777777777778,
             "#fb9f3a"
            ],
            [
             0.8888888888888888,
             "#fdca26"
            ],
            [
             1,
             "#f0f921"
            ]
           ]
          },
          "colorway": [
           "#636efa",
           "#EF553B",
           "#00cc96",
           "#ab63fa",
           "#FFA15A",
           "#19d3f3",
           "#FF6692",
           "#B6E880",
           "#FF97FF",
           "#FECB52"
          ],
          "font": {
           "color": "#2a3f5f"
          },
          "geo": {
           "bgcolor": "white",
           "lakecolor": "white",
           "landcolor": "#E5ECF6",
           "showlakes": true,
           "showland": true,
           "subunitcolor": "white"
          },
          "hoverlabel": {
           "align": "left"
          },
          "hovermode": "closest",
          "mapbox": {
           "style": "light"
          },
          "paper_bgcolor": "white",
          "plot_bgcolor": "#E5ECF6",
          "polar": {
           "angularaxis": {
            "gridcolor": "white",
            "linecolor": "white",
            "ticks": ""
           },
           "bgcolor": "#E5ECF6",
           "radialaxis": {
            "gridcolor": "white",
            "linecolor": "white",
            "ticks": ""
           }
          },
          "scene": {
           "xaxis": {
            "backgroundcolor": "#E5ECF6",
            "gridcolor": "white",
            "gridwidth": 2,
            "linecolor": "white",
            "showbackground": true,
            "ticks": "",
            "zerolinecolor": "white"
           },
           "yaxis": {
            "backgroundcolor": "#E5ECF6",
            "gridcolor": "white",
            "gridwidth": 2,
            "linecolor": "white",
            "showbackground": true,
            "ticks": "",
            "zerolinecolor": "white"
           },
           "zaxis": {
            "backgroundcolor": "#E5ECF6",
            "gridcolor": "white",
            "gridwidth": 2,
            "linecolor": "white",
            "showbackground": true,
            "ticks": "",
            "zerolinecolor": "white"
           }
          },
          "shapedefaults": {
           "line": {
            "color": "#2a3f5f"
           }
          },
          "ternary": {
           "aaxis": {
            "gridcolor": "white",
            "linecolor": "white",
            "ticks": ""
           },
           "baxis": {
            "gridcolor": "white",
            "linecolor": "white",
            "ticks": ""
           },
           "bgcolor": "#E5ECF6",
           "caxis": {
            "gridcolor": "white",
            "linecolor": "white",
            "ticks": ""
           }
          },
          "title": {
           "x": 0.05
          },
          "xaxis": {
           "automargin": true,
           "gridcolor": "white",
           "linecolor": "white",
           "ticks": "",
           "title": {
            "standoff": 15
           },
           "zerolinecolor": "white",
           "zerolinewidth": 2
          },
          "yaxis": {
           "automargin": true,
           "gridcolor": "white",
           "linecolor": "white",
           "ticks": "",
           "title": {
            "standoff": 15
           },
           "zerolinecolor": "white",
           "zerolinewidth": 2
          }
         }
        },
        "title": {
         "text": "Verdeling van steden in dataset"
        },
        "xaxis": {
         "tickangle": 45,
         "title": {
          "text": "Steden"
         }
        },
        "yaxis": {
         "title": {
          "text": "Aantal"
         }
        }
       }
      }
     },
     "metadata": {},
     "output_type": "display_data"
    }
   ],
   "source": [
    "stedenlijst= ['Parijs', 'Brussel', 'Antwerpen', 'Praag', 'Londen', 'Hamburg', 'Frankfort', 'Wenen', 'Luxemburg', 'Milaan', 'Venetië', 'Berlijn', 'München', 'Luxemburg-stad', 'Zurich', 'Marseille', 'Nice', 'Kopenhagen', 'Geneve', 'Luxemburg-Stad']\n",
    "StedenHackaton= df['Stad'].isin(stedenlijst)\n",
    "filtered_df = df.loc[StedenHackaton, 'Stad']\n",
    "\n",
    "# Maak histogram met Plotly\n",
    "fig8 = go.Figure()\n",
    "fig8.add_trace(go.Histogram(x=filtered_df, marker=dict(color='royalblue')))\n",
    "\n",
    "# Layout instellingen\n",
    "fig8.update_layout(\n",
    "    title=\"Verdeling van steden in dataset\",\n",
    "    xaxis_title=\"Steden\",\n",
    "    yaxis_title=\"Aantal\",\n",
    "    xaxis=dict(tickangle=45),\n",
    "    bargap=0.1\n",
    ")\n",
    "\n",
    "fig8.show()"
   ]
  },
  {
   "cell_type": "code",
   "execution_count": 177,
   "metadata": {},
   "outputs": [
    {
     "data": {
      "text/plain": [
       "Stad\n",
       "Londen        39\n",
       "Parijs        38\n",
       "Brussel       25\n",
       "Zurich        22\n",
       "Kopenhagen    21\n",
       "Frankfort     18\n",
       "München       17\n",
       "Berlijn       17\n",
       "Hamburg       15\n",
       "Praag         13\n",
       "Wenen         11\n",
       "Milaan        10\n",
       "Nice           8\n",
       "Venetië        8\n",
       "Luxemburg      6\n",
       "Marseille      4\n",
       "Name: count, dtype: int64"
      ]
     },
     "execution_count": 177,
     "metadata": {},
     "output_type": "execute_result"
    }
   ],
   "source": [
    "df.loc[StedenHackaton, 'Stad'].value_counts()"
   ]
  },
  {
   "cell_type": "code",
   "execution_count": 150,
   "metadata": {},
   "outputs": [
    {
     "data": {
      "text/plain": [
       "254"
      ]
     },
     "execution_count": 150,
     "metadata": {},
     "output_type": "execute_result"
    }
   ],
   "source": [
    "df.loc[StedenHackaton, 'Stad'].value_counts().sum()"
   ]
  },
  {
   "cell_type": "code",
   "execution_count": 151,
   "metadata": {},
   "outputs": [
    {
     "data": {
      "text/plain": [
       "1000"
      ]
     },
     "execution_count": 151,
     "metadata": {},
     "output_type": "execute_result"
    }
   ],
   "source": [
    "df['Stad'].value_counts().sum()"
   ]
  },
  {
   "cell_type": "code",
   "execution_count": 152,
   "metadata": {},
   "outputs": [
    {
     "data": {
      "text/plain": [
       "0.254"
      ]
     },
     "execution_count": 152,
     "metadata": {},
     "output_type": "execute_result"
    }
   ],
   "source": [
    "df.loc[StedenHackaton, 'Stad'].value_counts().sum()/df['Stad'].value_counts().sum()"
   ]
  },
  {
   "cell_type": "code",
   "execution_count": 153,
   "metadata": {},
   "outputs": [
    {
     "data": {
      "text/html": [
       "<div>\n",
       "<style scoped>\n",
       "    .dataframe tbody tr th:only-of-type {\n",
       "        vertical-align: middle;\n",
       "    }\n",
       "\n",
       "    .dataframe tbody tr th {\n",
       "        vertical-align: top;\n",
       "    }\n",
       "\n",
       "    .dataframe thead th {\n",
       "        text-align: right;\n",
       "    }\n",
       "</style>\n",
       "<table border=\"1\" class=\"dataframe\">\n",
       "  <thead>\n",
       "    <tr style=\"text-align: right;\">\n",
       "      <th></th>\n",
       "      <th>lastUpdatedAt</th>\n",
       "      <th>actualLandingTime</th>\n",
       "      <th>aircraftRegistration</th>\n",
       "      <th>estimatedLandingTime</th>\n",
       "      <th>expectedTimeOnBelt</th>\n",
       "      <th>flightDirection</th>\n",
       "      <th>flightName</th>\n",
       "      <th>flightNumber</th>\n",
       "      <th>gate</th>\n",
       "      <th>pier</th>\n",
       "      <th>id</th>\n",
       "      <th>isOperationalFlight</th>\n",
       "      <th>mainFlight</th>\n",
       "      <th>prefixIATA</th>\n",
       "      <th>prefixICAO</th>\n",
       "      <th>airlineCode</th>\n",
       "      <th>scheduleDateTime</th>\n",
       "      <th>scheduleDate</th>\n",
       "      <th>scheduleTime</th>\n",
       "      <th>serviceType</th>\n",
       "      <th>terminal</th>\n",
       "      <th>schemaVersion</th>\n",
       "      <th>aircraftType.iataMain</th>\n",
       "      <th>aircraftType.iataSub</th>\n",
       "      <th>baggageClaim.belts</th>\n",
       "      <th>codeshares.codeshares</th>\n",
       "      <th>publicFlightState.flightStates</th>\n",
       "      <th>route.destinations</th>\n",
       "      <th>route.eu</th>\n",
       "      <th>route.visa</th>\n",
       "      <th>actualOffBlockTime</th>\n",
       "      <th>expectedSecurityFilter</th>\n",
       "      <th>checkinAllocations.checkinAllocations</th>\n",
       "      <th>expectedTimeBoarding</th>\n",
       "      <th>expectedTimeGateClosing</th>\n",
       "      <th>expectedTimeGateOpen</th>\n",
       "      <th>publicEstimatedOffBlockTime</th>\n",
       "      <th>transferPositions.transferPositions</th>\n",
       "      <th>Luchthaven</th>\n",
       "      <th>Stad</th>\n",
       "      <th>Land</th>\n",
       "      <th>Continent</th>\n",
       "    </tr>\n",
       "  </thead>\n",
       "  <tbody>\n",
       "    <tr>\n",
       "      <th>6</th>\n",
       "      <td>2025-03-27T05:21:43.237+01:00</td>\n",
       "      <td>2025-03-27T05:08:13.000+01:00</td>\n",
       "      <td>OEIXF</td>\n",
       "      <td>2025-03-27T05:08:06.000+01:00</td>\n",
       "      <td>NaN</td>\n",
       "      <td>A</td>\n",
       "      <td>FX4235</td>\n",
       "      <td>4235</td>\n",
       "      <td>NaN</td>\n",
       "      <td>NaN</td>\n",
       "      <td>142009545247335414</td>\n",
       "      <td>True</td>\n",
       "      <td>FX4235</td>\n",
       "      <td>FX</td>\n",
       "      <td>FDX</td>\n",
       "      <td>219.0</td>\n",
       "      <td>2025-03-27T05:15:00.000+01:00</td>\n",
       "      <td>2025-03-27</td>\n",
       "      <td>05:15:00</td>\n",
       "      <td>F</td>\n",
       "      <td>NaN</td>\n",
       "      <td>4</td>\n",
       "      <td>73F</td>\n",
       "      <td>73K</td>\n",
       "      <td>NaN</td>\n",
       "      <td>NaN</td>\n",
       "      <td>[LND]</td>\n",
       "      <td>CDG</td>\n",
       "      <td>S</td>\n",
       "      <td>False</td>\n",
       "      <td>NaN</td>\n",
       "      <td>NaN</td>\n",
       "      <td>NaN</td>\n",
       "      <td>NaN</td>\n",
       "      <td>NaN</td>\n",
       "      <td>NaN</td>\n",
       "      <td>NaN</td>\n",
       "      <td>NaN</td>\n",
       "      <td>Charles de Gaulle</td>\n",
       "      <td>Parijs</td>\n",
       "      <td>Frankrijk</td>\n",
       "      <td>Europa</td>\n",
       "    </tr>\n",
       "    <tr>\n",
       "      <th>64</th>\n",
       "      <td>2025-03-27T07:02:29.003+01:00</td>\n",
       "      <td>NaN</td>\n",
       "      <td>PHAXA</td>\n",
       "      <td>NaN</td>\n",
       "      <td>NaN</td>\n",
       "      <td>D</td>\n",
       "      <td>KL1401</td>\n",
       "      <td>1401</td>\n",
       "      <td>D87</td>\n",
       "      <td>D</td>\n",
       "      <td>142009545895496449</td>\n",
       "      <td>True</td>\n",
       "      <td>KL1401</td>\n",
       "      <td>KL</td>\n",
       "      <td>KLM</td>\n",
       "      <td>100.0</td>\n",
       "      <td>2025-03-27T06:50:00.000+01:00</td>\n",
       "      <td>2025-03-27</td>\n",
       "      <td>06:50:00</td>\n",
       "      <td>J</td>\n",
       "      <td>1.0</td>\n",
       "      <td>4</td>\n",
       "      <td>32S</td>\n",
       "      <td>32Q</td>\n",
       "      <td>NaN</td>\n",
       "      <td>[AF8373, DL9205, MU1555, VN3107]</td>\n",
       "      <td>[DEP]</td>\n",
       "      <td>CDG</td>\n",
       "      <td>S</td>\n",
       "      <td>False</td>\n",
       "      <td>2025-03-27T06:51:51.000+01:00</td>\n",
       "      <td>VF1</td>\n",
       "      <td>[{'endTime': '2025-03-27T06:10:00.000+01:00', ...</td>\n",
       "      <td>2025-03-27T06:20:00.000+01:00</td>\n",
       "      <td>2025-03-27T06:35:00.000+01:00</td>\n",
       "      <td>2025-03-27T05:50:00.000+01:00</td>\n",
       "      <td>NaN</td>\n",
       "      <td>NaN</td>\n",
       "      <td>Charles de Gaulle</td>\n",
       "      <td>Parijs</td>\n",
       "      <td>Frankrijk</td>\n",
       "      <td>Europa</td>\n",
       "    </tr>\n",
       "    <tr>\n",
       "      <th>65</th>\n",
       "      <td>2025-03-27T07:02:29.003+01:00</td>\n",
       "      <td>NaN</td>\n",
       "      <td>PHAXA</td>\n",
       "      <td>NaN</td>\n",
       "      <td>NaN</td>\n",
       "      <td>D</td>\n",
       "      <td>AF8373</td>\n",
       "      <td>8373</td>\n",
       "      <td>D87</td>\n",
       "      <td>D</td>\n",
       "      <td>142009544486834303</td>\n",
       "      <td>True</td>\n",
       "      <td>KL1401</td>\n",
       "      <td>AF</td>\n",
       "      <td>AFR</td>\n",
       "      <td>80.0</td>\n",
       "      <td>2025-03-27T06:50:00.000+01:00</td>\n",
       "      <td>2025-03-27</td>\n",
       "      <td>06:50:00</td>\n",
       "      <td>J</td>\n",
       "      <td>1.0</td>\n",
       "      <td>4</td>\n",
       "      <td>32S</td>\n",
       "      <td>32Q</td>\n",
       "      <td>NaN</td>\n",
       "      <td>[AF8373, DL9205, MU1555, VN3107]</td>\n",
       "      <td>[DEP]</td>\n",
       "      <td>CDG</td>\n",
       "      <td>S</td>\n",
       "      <td>False</td>\n",
       "      <td>2025-03-27T06:51:51.000+01:00</td>\n",
       "      <td>VF1</td>\n",
       "      <td>[{'endTime': '2025-03-27T06:10:00.000+01:00', ...</td>\n",
       "      <td>2025-03-27T06:20:00.000+01:00</td>\n",
       "      <td>2025-03-27T06:35:00.000+01:00</td>\n",
       "      <td>2025-03-27T05:50:00.000+01:00</td>\n",
       "      <td>NaN</td>\n",
       "      <td>NaN</td>\n",
       "      <td>Charles de Gaulle</td>\n",
       "      <td>Parijs</td>\n",
       "      <td>Frankrijk</td>\n",
       "      <td>Europa</td>\n",
       "    </tr>\n",
       "    <tr>\n",
       "      <th>66</th>\n",
       "      <td>2025-03-27T07:02:29.003+01:00</td>\n",
       "      <td>NaN</td>\n",
       "      <td>PHAXA</td>\n",
       "      <td>NaN</td>\n",
       "      <td>NaN</td>\n",
       "      <td>D</td>\n",
       "      <td>DL9205</td>\n",
       "      <td>9205</td>\n",
       "      <td>D87</td>\n",
       "      <td>D</td>\n",
       "      <td>142009544925486031</td>\n",
       "      <td>True</td>\n",
       "      <td>KL1401</td>\n",
       "      <td>DL</td>\n",
       "      <td>DAL</td>\n",
       "      <td>58.0</td>\n",
       "      <td>2025-03-27T06:50:00.000+01:00</td>\n",
       "      <td>2025-03-27</td>\n",
       "      <td>06:50:00</td>\n",
       "      <td>J</td>\n",
       "      <td>1.0</td>\n",
       "      <td>4</td>\n",
       "      <td>32S</td>\n",
       "      <td>32Q</td>\n",
       "      <td>NaN</td>\n",
       "      <td>[AF8373, DL9205, MU1555, VN3107]</td>\n",
       "      <td>[DEP]</td>\n",
       "      <td>CDG</td>\n",
       "      <td>S</td>\n",
       "      <td>False</td>\n",
       "      <td>2025-03-27T06:51:51.000+01:00</td>\n",
       "      <td>VF1</td>\n",
       "      <td>[{'endTime': '2025-03-27T06:10:00.000+01:00', ...</td>\n",
       "      <td>2025-03-27T06:20:00.000+01:00</td>\n",
       "      <td>2025-03-27T06:35:00.000+01:00</td>\n",
       "      <td>2025-03-27T05:50:00.000+01:00</td>\n",
       "      <td>NaN</td>\n",
       "      <td>NaN</td>\n",
       "      <td>Charles de Gaulle</td>\n",
       "      <td>Parijs</td>\n",
       "      <td>Frankrijk</td>\n",
       "      <td>Europa</td>\n",
       "    </tr>\n",
       "    <tr>\n",
       "      <th>67</th>\n",
       "      <td>2025-03-27T07:02:29.003+01:00</td>\n",
       "      <td>NaN</td>\n",
       "      <td>PHAXA</td>\n",
       "      <td>NaN</td>\n",
       "      <td>NaN</td>\n",
       "      <td>D</td>\n",
       "      <td>MU1555</td>\n",
       "      <td>1555</td>\n",
       "      <td>D87</td>\n",
       "      <td>D</td>\n",
       "      <td>142009546206610291</td>\n",
       "      <td>True</td>\n",
       "      <td>KL1401</td>\n",
       "      <td>MU</td>\n",
       "      <td>CES</td>\n",
       "      <td>1294.0</td>\n",
       "      <td>2025-03-27T06:50:00.000+01:00</td>\n",
       "      <td>2025-03-27</td>\n",
       "      <td>06:50:00</td>\n",
       "      <td>J</td>\n",
       "      <td>1.0</td>\n",
       "      <td>4</td>\n",
       "      <td>32S</td>\n",
       "      <td>32Q</td>\n",
       "      <td>NaN</td>\n",
       "      <td>[AF8373, DL9205, MU1555, VN3107]</td>\n",
       "      <td>[DEP]</td>\n",
       "      <td>CDG</td>\n",
       "      <td>S</td>\n",
       "      <td>False</td>\n",
       "      <td>2025-03-27T06:51:51.000+01:00</td>\n",
       "      <td>VF1</td>\n",
       "      <td>[{'endTime': '2025-03-27T06:10:00.000+01:00', ...</td>\n",
       "      <td>2025-03-27T06:20:00.000+01:00</td>\n",
       "      <td>2025-03-27T06:35:00.000+01:00</td>\n",
       "      <td>2025-03-27T05:50:00.000+01:00</td>\n",
       "      <td>NaN</td>\n",
       "      <td>NaN</td>\n",
       "      <td>Charles de Gaulle</td>\n",
       "      <td>Parijs</td>\n",
       "      <td>Frankrijk</td>\n",
       "      <td>Europa</td>\n",
       "    </tr>\n",
       "  </tbody>\n",
       "</table>\n",
       "</div>"
      ],
      "text/plain": [
       "                    lastUpdatedAt              actualLandingTime  \\\n",
       "6   2025-03-27T05:21:43.237+01:00  2025-03-27T05:08:13.000+01:00   \n",
       "64  2025-03-27T07:02:29.003+01:00                            NaN   \n",
       "65  2025-03-27T07:02:29.003+01:00                            NaN   \n",
       "66  2025-03-27T07:02:29.003+01:00                            NaN   \n",
       "67  2025-03-27T07:02:29.003+01:00                            NaN   \n",
       "\n",
       "   aircraftRegistration           estimatedLandingTime expectedTimeOnBelt  \\\n",
       "6                 OEIXF  2025-03-27T05:08:06.000+01:00                NaN   \n",
       "64                PHAXA                            NaN                NaN   \n",
       "65                PHAXA                            NaN                NaN   \n",
       "66                PHAXA                            NaN                NaN   \n",
       "67                PHAXA                            NaN                NaN   \n",
       "\n",
       "   flightDirection flightName  flightNumber gate pier                  id  \\\n",
       "6                A     FX4235          4235  NaN  NaN  142009545247335414   \n",
       "64               D     KL1401          1401  D87    D  142009545895496449   \n",
       "65               D     AF8373          8373  D87    D  142009544486834303   \n",
       "66               D     DL9205          9205  D87    D  142009544925486031   \n",
       "67               D     MU1555          1555  D87    D  142009546206610291   \n",
       "\n",
       "    isOperationalFlight mainFlight prefixIATA prefixICAO  airlineCode  \\\n",
       "6                  True     FX4235         FX        FDX        219.0   \n",
       "64                 True     KL1401         KL        KLM        100.0   \n",
       "65                 True     KL1401         AF        AFR         80.0   \n",
       "66                 True     KL1401         DL        DAL         58.0   \n",
       "67                 True     KL1401         MU        CES       1294.0   \n",
       "\n",
       "                 scheduleDateTime scheduleDate scheduleTime serviceType  \\\n",
       "6   2025-03-27T05:15:00.000+01:00   2025-03-27     05:15:00           F   \n",
       "64  2025-03-27T06:50:00.000+01:00   2025-03-27     06:50:00           J   \n",
       "65  2025-03-27T06:50:00.000+01:00   2025-03-27     06:50:00           J   \n",
       "66  2025-03-27T06:50:00.000+01:00   2025-03-27     06:50:00           J   \n",
       "67  2025-03-27T06:50:00.000+01:00   2025-03-27     06:50:00           J   \n",
       "\n",
       "    terminal schemaVersion aircraftType.iataMain aircraftType.iataSub  \\\n",
       "6        NaN             4                   73F                  73K   \n",
       "64       1.0             4                   32S                  32Q   \n",
       "65       1.0             4                   32S                  32Q   \n",
       "66       1.0             4                   32S                  32Q   \n",
       "67       1.0             4                   32S                  32Q   \n",
       "\n",
       "   baggageClaim.belts             codeshares.codeshares  \\\n",
       "6                 NaN                               NaN   \n",
       "64                NaN  [AF8373, DL9205, MU1555, VN3107]   \n",
       "65                NaN  [AF8373, DL9205, MU1555, VN3107]   \n",
       "66                NaN  [AF8373, DL9205, MU1555, VN3107]   \n",
       "67                NaN  [AF8373, DL9205, MU1555, VN3107]   \n",
       "\n",
       "   publicFlightState.flightStates route.destinations route.eu  route.visa  \\\n",
       "6                           [LND]                CDG        S       False   \n",
       "64                          [DEP]                CDG        S       False   \n",
       "65                          [DEP]                CDG        S       False   \n",
       "66                          [DEP]                CDG        S       False   \n",
       "67                          [DEP]                CDG        S       False   \n",
       "\n",
       "               actualOffBlockTime expectedSecurityFilter  \\\n",
       "6                             NaN                    NaN   \n",
       "64  2025-03-27T06:51:51.000+01:00                    VF1   \n",
       "65  2025-03-27T06:51:51.000+01:00                    VF1   \n",
       "66  2025-03-27T06:51:51.000+01:00                    VF1   \n",
       "67  2025-03-27T06:51:51.000+01:00                    VF1   \n",
       "\n",
       "                checkinAllocations.checkinAllocations  \\\n",
       "6                                                 NaN   \n",
       "64  [{'endTime': '2025-03-27T06:10:00.000+01:00', ...   \n",
       "65  [{'endTime': '2025-03-27T06:10:00.000+01:00', ...   \n",
       "66  [{'endTime': '2025-03-27T06:10:00.000+01:00', ...   \n",
       "67  [{'endTime': '2025-03-27T06:10:00.000+01:00', ...   \n",
       "\n",
       "             expectedTimeBoarding        expectedTimeGateClosing  \\\n",
       "6                             NaN                            NaN   \n",
       "64  2025-03-27T06:20:00.000+01:00  2025-03-27T06:35:00.000+01:00   \n",
       "65  2025-03-27T06:20:00.000+01:00  2025-03-27T06:35:00.000+01:00   \n",
       "66  2025-03-27T06:20:00.000+01:00  2025-03-27T06:35:00.000+01:00   \n",
       "67  2025-03-27T06:20:00.000+01:00  2025-03-27T06:35:00.000+01:00   \n",
       "\n",
       "             expectedTimeGateOpen publicEstimatedOffBlockTime  \\\n",
       "6                             NaN                         NaN   \n",
       "64  2025-03-27T05:50:00.000+01:00                         NaN   \n",
       "65  2025-03-27T05:50:00.000+01:00                         NaN   \n",
       "66  2025-03-27T05:50:00.000+01:00                         NaN   \n",
       "67  2025-03-27T05:50:00.000+01:00                         NaN   \n",
       "\n",
       "   transferPositions.transferPositions         Luchthaven    Stad       Land  \\\n",
       "6                                  NaN  Charles de Gaulle  Parijs  Frankrijk   \n",
       "64                                 NaN  Charles de Gaulle  Parijs  Frankrijk   \n",
       "65                                 NaN  Charles de Gaulle  Parijs  Frankrijk   \n",
       "66                                 NaN  Charles de Gaulle  Parijs  Frankrijk   \n",
       "67                                 NaN  Charles de Gaulle  Parijs  Frankrijk   \n",
       "\n",
       "   Continent  \n",
       "6     Europa  \n",
       "64    Europa  \n",
       "65    Europa  \n",
       "66    Europa  \n",
       "67    Europa  "
      ]
     },
     "execution_count": 153,
     "metadata": {},
     "output_type": "execute_result"
    }
   ],
   "source": [
    "df[StedenHackaton].head()"
   ]
  },
  {
   "cell_type": "code",
   "execution_count": 154,
   "metadata": {},
   "outputs": [],
   "source": [
    "vliegtuigtypen= df.loc[StedenHackaton, ['aircraftType.iataMain', 'aircraftType.iataSub']].value_counts()"
   ]
  },
  {
   "cell_type": "code",
   "execution_count": 155,
   "metadata": {},
   "outputs": [
    {
     "data": {
      "text/html": [
       "<div>\n",
       "<style scoped>\n",
       "    .dataframe tbody tr th:only-of-type {\n",
       "        vertical-align: middle;\n",
       "    }\n",
       "\n",
       "    .dataframe tbody tr th {\n",
       "        vertical-align: top;\n",
       "    }\n",
       "\n",
       "    .dataframe thead th {\n",
       "        text-align: right;\n",
       "    }\n",
       "</style>\n",
       "<table border=\"1\" class=\"dataframe\">\n",
       "  <thead>\n",
       "    <tr style=\"text-align: right;\">\n",
       "      <th></th>\n",
       "      <th>Unnamed: 0</th>\n",
       "      <th>Bestemming</th>\n",
       "      <th>Treintijd</th>\n",
       "      <th>Betrouwbaarheid_Tr</th>\n",
       "      <th>Vluchttijd</th>\n",
       "      <th>Betrouwbaarheid_Vl</th>\n",
       "      <th>Treintijd_min</th>\n",
       "      <th>Treintijd_uur</th>\n",
       "      <th>Vluchttijd_min</th>\n",
       "      <th>Vluchttijd_uur</th>\n",
       "      <th>TijdVerschil_min</th>\n",
       "    </tr>\n",
       "  </thead>\n",
       "  <tbody>\n",
       "    <tr>\n",
       "      <th>0</th>\n",
       "      <td>0</td>\n",
       "      <td>Antwerpen</td>\n",
       "      <td>01:20</td>\n",
       "      <td>hoog</td>\n",
       "      <td>9:30</td>\n",
       "      <td>laag</td>\n",
       "      <td>80</td>\n",
       "      <td>1.333333</td>\n",
       "      <td>570</td>\n",
       "      <td>9.500000</td>\n",
       "      <td>-490</td>\n",
       "    </tr>\n",
       "    <tr>\n",
       "      <th>1</th>\n",
       "      <td>1</td>\n",
       "      <td>Berlijn</td>\n",
       "      <td>05:51</td>\n",
       "      <td>hoog</td>\n",
       "      <td>1:15</td>\n",
       "      <td>hoog</td>\n",
       "      <td>351</td>\n",
       "      <td>5.850000</td>\n",
       "      <td>75</td>\n",
       "      <td>1.250000</td>\n",
       "      <td>276</td>\n",
       "    </tr>\n",
       "    <tr>\n",
       "      <th>2</th>\n",
       "      <td>2</td>\n",
       "      <td>Brussel</td>\n",
       "      <td>01:56</td>\n",
       "      <td>hoog</td>\n",
       "      <td>0:40</td>\n",
       "      <td>hoog</td>\n",
       "      <td>116</td>\n",
       "      <td>1.933333</td>\n",
       "      <td>40</td>\n",
       "      <td>0.666667</td>\n",
       "      <td>76</td>\n",
       "    </tr>\n",
       "    <tr>\n",
       "      <th>3</th>\n",
       "      <td>3</td>\n",
       "      <td>Parijs</td>\n",
       "      <td>03:27</td>\n",
       "      <td>hoog</td>\n",
       "      <td>1:10</td>\n",
       "      <td>hoog</td>\n",
       "      <td>207</td>\n",
       "      <td>3.450000</td>\n",
       "      <td>70</td>\n",
       "      <td>1.166667</td>\n",
       "      <td>137</td>\n",
       "    </tr>\n",
       "    <tr>\n",
       "      <th>4</th>\n",
       "      <td>4</td>\n",
       "      <td>Praag</td>\n",
       "      <td>12:50</td>\n",
       "      <td>laag</td>\n",
       "      <td>1:20</td>\n",
       "      <td>hoog</td>\n",
       "      <td>770</td>\n",
       "      <td>12.833333</td>\n",
       "      <td>80</td>\n",
       "      <td>1.333333</td>\n",
       "      <td>690</td>\n",
       "    </tr>\n",
       "  </tbody>\n",
       "</table>\n",
       "</div>"
      ],
      "text/plain": [
       "   Unnamed: 0 Bestemming Treintijd Betrouwbaarheid_Tr Vluchttijd  \\\n",
       "0           0  Antwerpen     01:20               hoog       9:30   \n",
       "1           1    Berlijn     05:51               hoog       1:15   \n",
       "2           2    Brussel     01:56               hoog       0:40   \n",
       "3           3     Parijs     03:27               hoog       1:10   \n",
       "4           4      Praag     12:50               laag       1:20   \n",
       "\n",
       "  Betrouwbaarheid_Vl  Treintijd_min  Treintijd_uur  Vluchttijd_min  \\\n",
       "0               laag             80       1.333333             570   \n",
       "1               hoog            351       5.850000              75   \n",
       "2               hoog            116       1.933333              40   \n",
       "3               hoog            207       3.450000              70   \n",
       "4               hoog            770      12.833333              80   \n",
       "\n",
       "   Vluchttijd_uur  TijdVerschil_min  \n",
       "0        9.500000              -490  \n",
       "1        1.250000               276  \n",
       "2        0.666667                76  \n",
       "3        1.166667               137  \n",
       "4        1.333333               690  "
      ]
     },
     "execution_count": 155,
     "metadata": {},
     "output_type": "execute_result"
    }
   ],
   "source": [
    "df4= pd.read_csv(\"ReisTijd.csv\", sep=\",\")\n",
    "df4.head()"
   ]
  },
  {
   "cell_type": "code",
   "execution_count": 168,
   "metadata": {},
   "outputs": [
    {
     "data": {
      "image/png": "[encoded data removed]",
      "text/plain": [
       "<Figure size 640x480 with 1 Axes>"
      ]
     },
     "metadata": {},
     "output_type": "display_data"
    }
   ],
   "source": [
    "sns.barplot(data=df4, x=\"Bestemming\", y=\"TijdVerschil_min\",)\n",
    "plt.xticks(rotation=90)\n",
    "plt.show()"
   ]
  },
  {
   "cell_type": "code",
   "execution_count": 157,
   "metadata": {},
   "outputs": [
    {
     "data": {
      "text/html": [
       "<div>\n",
       "<style scoped>\n",
       "    .dataframe tbody tr th:only-of-type {\n",
       "        vertical-align: middle;\n",
       "    }\n",
       "\n",
       "    .dataframe tbody tr th {\n",
       "        vertical-align: top;\n",
       "    }\n",
       "\n",
       "    .dataframe thead th {\n",
       "        text-align: right;\n",
       "    }\n",
       "</style>\n",
       "<table border=\"1\" class=\"dataframe\">\n",
       "  <thead>\n",
       "    <tr style=\"text-align: right;\">\n",
       "      <th></th>\n",
       "      <th>lastUpdatedAt</th>\n",
       "      <th>actualLandingTime</th>\n",
       "      <th>aircraftRegistration</th>\n",
       "      <th>estimatedLandingTime</th>\n",
       "      <th>expectedTimeOnBelt</th>\n",
       "      <th>flightDirection</th>\n",
       "      <th>flightName</th>\n",
       "      <th>flightNumber</th>\n",
       "      <th>gate</th>\n",
       "      <th>pier</th>\n",
       "      <th>id</th>\n",
       "      <th>isOperationalFlight</th>\n",
       "      <th>mainFlight</th>\n",
       "      <th>prefixIATA</th>\n",
       "      <th>prefixICAO</th>\n",
       "      <th>airlineCode</th>\n",
       "      <th>scheduleDateTime</th>\n",
       "      <th>scheduleDate</th>\n",
       "      <th>scheduleTime</th>\n",
       "      <th>serviceType</th>\n",
       "      <th>terminal</th>\n",
       "      <th>schemaVersion</th>\n",
       "      <th>aircraftType.iataMain</th>\n",
       "      <th>aircraftType.iataSub</th>\n",
       "      <th>baggageClaim.belts</th>\n",
       "      <th>codeshares.codeshares</th>\n",
       "      <th>publicFlightState.flightStates</th>\n",
       "      <th>route.destinations</th>\n",
       "      <th>route.eu</th>\n",
       "      <th>route.visa</th>\n",
       "      <th>actualOffBlockTime</th>\n",
       "      <th>expectedSecurityFilter</th>\n",
       "      <th>checkinAllocations.checkinAllocations</th>\n",
       "      <th>expectedTimeBoarding</th>\n",
       "      <th>expectedTimeGateClosing</th>\n",
       "      <th>expectedTimeGateOpen</th>\n",
       "      <th>publicEstimatedOffBlockTime</th>\n",
       "      <th>transferPositions.transferPositions</th>\n",
       "      <th>Luchthaven</th>\n",
       "      <th>Stad</th>\n",
       "      <th>Land</th>\n",
       "      <th>Continent</th>\n",
       "      <th>TypeVliegtuig</th>\n",
       "    </tr>\n",
       "  </thead>\n",
       "  <tbody>\n",
       "    <tr>\n",
       "      <th>0</th>\n",
       "      <td>2025-03-27T01:39:47.186+01:00</td>\n",
       "      <td>2025-03-27T00:00:00.000+01:00</td>\n",
       "      <td>PHHXA</td>\n",
       "      <td>2025-03-26T23:59:52.000+01:00</td>\n",
       "      <td>2025-03-27T00:36:39.000+01:00</td>\n",
       "      <td>A</td>\n",
       "      <td>HV6888</td>\n",
       "      <td>6888</td>\n",
       "      <td>D61</td>\n",
       "      <td>D</td>\n",
       "      <td>142009545517434014</td>\n",
       "      <td>True</td>\n",
       "      <td>HV6888</td>\n",
       "      <td>HV</td>\n",
       "      <td>TRA</td>\n",
       "      <td>164.0</td>\n",
       "      <td>2025-03-27T00:15:00.000+01:00</td>\n",
       "      <td>2025-03-27</td>\n",
       "      <td>00:15:00</td>\n",
       "      <td>J</td>\n",
       "      <td>1.0</td>\n",
       "      <td>4</td>\n",
       "      <td>737</td>\n",
       "      <td>73H</td>\n",
       "      <td>[2]</td>\n",
       "      <td>[KL2746]</td>\n",
       "      <td>[ARR, EXP]</td>\n",
       "      <td>KEF</td>\n",
       "      <td>S</td>\n",
       "      <td>False</td>\n",
       "      <td>NaN</td>\n",
       "      <td>NaN</td>\n",
       "      <td>NaN</td>\n",
       "      <td>NaN</td>\n",
       "      <td>NaN</td>\n",
       "      <td>NaN</td>\n",
       "      <td>NaN</td>\n",
       "      <td>NaN</td>\n",
       "      <td>Leif Eriksson Keflavík</td>\n",
       "      <td>Keflavík/Reykjavik</td>\n",
       "      <td>IJsland</td>\n",
       "      <td>Europa</td>\n",
       "      <td>737-73H</td>\n",
       "    </tr>\n",
       "    <tr>\n",
       "      <th>1</th>\n",
       "      <td>2025-03-27T01:39:47.186+01:00</td>\n",
       "      <td>2025-03-27T00:00:00.000+01:00</td>\n",
       "      <td>PHHXA</td>\n",
       "      <td>2025-03-26T23:59:52.000+01:00</td>\n",
       "      <td>2025-03-27T00:36:39.000+01:00</td>\n",
       "      <td>A</td>\n",
       "      <td>KL2746</td>\n",
       "      <td>2746</td>\n",
       "      <td>D61</td>\n",
       "      <td>D</td>\n",
       "      <td>142009545895606274</td>\n",
       "      <td>True</td>\n",
       "      <td>HV6888</td>\n",
       "      <td>KL</td>\n",
       "      <td>KLM</td>\n",
       "      <td>100.0</td>\n",
       "      <td>2025-03-27T00:15:00.000+01:00</td>\n",
       "      <td>2025-03-27</td>\n",
       "      <td>00:15:00</td>\n",
       "      <td>J</td>\n",
       "      <td>1.0</td>\n",
       "      <td>4</td>\n",
       "      <td>737</td>\n",
       "      <td>73H</td>\n",
       "      <td>[2]</td>\n",
       "      <td>[KL2746]</td>\n",
       "      <td>[ARR, EXP]</td>\n",
       "      <td>KEF</td>\n",
       "      <td>S</td>\n",
       "      <td>False</td>\n",
       "      <td>NaN</td>\n",
       "      <td>NaN</td>\n",
       "      <td>NaN</td>\n",
       "      <td>NaN</td>\n",
       "      <td>NaN</td>\n",
       "      <td>NaN</td>\n",
       "      <td>NaN</td>\n",
       "      <td>NaN</td>\n",
       "      <td>Leif Eriksson Keflavík</td>\n",
       "      <td>Keflavík/Reykjavik</td>\n",
       "      <td>IJsland</td>\n",
       "      <td>Europa</td>\n",
       "      <td>737-73H</td>\n",
       "    </tr>\n",
       "    <tr>\n",
       "      <th>2</th>\n",
       "      <td>2024-10-16T15:17:08.055+02:00</td>\n",
       "      <td>NaN</td>\n",
       "      <td>NaN</td>\n",
       "      <td>NaN</td>\n",
       "      <td>NaN</td>\n",
       "      <td>A</td>\n",
       "      <td>HV6904</td>\n",
       "      <td>6904</td>\n",
       "      <td>NaN</td>\n",
       "      <td>NaN</td>\n",
       "      <td>142009545517436152</td>\n",
       "      <td>False</td>\n",
       "      <td>HV6904</td>\n",
       "      <td>HV</td>\n",
       "      <td>NaN</td>\n",
       "      <td>NaN</td>\n",
       "      <td>2025-03-27T00:35:00.000+01:00</td>\n",
       "      <td>2025-03-27</td>\n",
       "      <td>00:35:00</td>\n",
       "      <td>J</td>\n",
       "      <td>NaN</td>\n",
       "      <td>4</td>\n",
       "      <td>73H</td>\n",
       "      <td>73H</td>\n",
       "      <td>NaN</td>\n",
       "      <td>NaN</td>\n",
       "      <td>[SCH]</td>\n",
       "      <td>DXB</td>\n",
       "      <td>N</td>\n",
       "      <td>False</td>\n",
       "      <td>NaN</td>\n",
       "      <td>NaN</td>\n",
       "      <td>NaN</td>\n",
       "      <td>NaN</td>\n",
       "      <td>NaN</td>\n",
       "      <td>NaN</td>\n",
       "      <td>NaN</td>\n",
       "      <td>NaN</td>\n",
       "      <td>Dubai International</td>\n",
       "      <td>Dubai</td>\n",
       "      <td>Verenigde Arabische Emiraten</td>\n",
       "      <td>Azië</td>\n",
       "      <td>73H-73H</td>\n",
       "    </tr>\n",
       "    <tr>\n",
       "      <th>3</th>\n",
       "      <td>2024-08-22T10:46:58.889+02:00</td>\n",
       "      <td>NaN</td>\n",
       "      <td>NaN</td>\n",
       "      <td>NaN</td>\n",
       "      <td>NaN</td>\n",
       "      <td>A</td>\n",
       "      <td>HV6308</td>\n",
       "      <td>6308</td>\n",
       "      <td>NaN</td>\n",
       "      <td>NaN</td>\n",
       "      <td>142009545517419732</td>\n",
       "      <td>False</td>\n",
       "      <td>HV6308</td>\n",
       "      <td>HV</td>\n",
       "      <td>NaN</td>\n",
       "      <td>NaN</td>\n",
       "      <td>2025-03-27T00:45:00.000+01:00</td>\n",
       "      <td>2025-03-27</td>\n",
       "      <td>00:45:00</td>\n",
       "      <td>J</td>\n",
       "      <td>NaN</td>\n",
       "      <td>4</td>\n",
       "      <td>32S</td>\n",
       "      <td>32Q</td>\n",
       "      <td>NaN</td>\n",
       "      <td>NaN</td>\n",
       "      <td>[SCH]</td>\n",
       "      <td>BEY</td>\n",
       "      <td>N</td>\n",
       "      <td>False</td>\n",
       "      <td>NaN</td>\n",
       "      <td>NaN</td>\n",
       "      <td>NaN</td>\n",
       "      <td>NaN</td>\n",
       "      <td>NaN</td>\n",
       "      <td>NaN</td>\n",
       "      <td>NaN</td>\n",
       "      <td>NaN</td>\n",
       "      <td>Rafik Hariri</td>\n",
       "      <td>Beiroet</td>\n",
       "      <td>Libanon</td>\n",
       "      <td>Azië</td>\n",
       "      <td>32S-32Q</td>\n",
       "    </tr>\n",
       "    <tr>\n",
       "      <th>4</th>\n",
       "      <td>2025-03-27T05:39:39.790+01:00</td>\n",
       "      <td>2025-03-27T05:21:36.000+01:00</td>\n",
       "      <td>JA13KZ</td>\n",
       "      <td>2025-03-27T05:22:03.000+01:00</td>\n",
       "      <td>NaN</td>\n",
       "      <td>A</td>\n",
       "      <td>KZ004</td>\n",
       "      <td>4</td>\n",
       "      <td>NaN</td>\n",
       "      <td>NaN</td>\n",
       "      <td>142009544365967514</td>\n",
       "      <td>True</td>\n",
       "      <td>KZ004</td>\n",
       "      <td>KZ</td>\n",
       "      <td>NCA</td>\n",
       "      <td>131.0</td>\n",
       "      <td>2025-03-27T03:20:00.000+01:00</td>\n",
       "      <td>2025-03-27</td>\n",
       "      <td>03:20:00</td>\n",
       "      <td>F</td>\n",
       "      <td>NaN</td>\n",
       "      <td>4</td>\n",
       "      <td>74F</td>\n",
       "      <td>74N</td>\n",
       "      <td>NaN</td>\n",
       "      <td>NaN</td>\n",
       "      <td>[LND, EXP]</td>\n",
       "      <td>NRT</td>\n",
       "      <td>N</td>\n",
       "      <td>False</td>\n",
       "      <td>NaN</td>\n",
       "      <td>NaN</td>\n",
       "      <td>NaN</td>\n",
       "      <td>NaN</td>\n",
       "      <td>NaN</td>\n",
       "      <td>NaN</td>\n",
       "      <td>NaN</td>\n",
       "      <td>NaN</td>\n",
       "      <td>Narita</td>\n",
       "      <td>Narita</td>\n",
       "      <td>Japan</td>\n",
       "      <td>Azië</td>\n",
       "      <td>74F-74N</td>\n",
       "    </tr>\n",
       "  </tbody>\n",
       "</table>\n",
       "</div>"
      ],
      "text/plain": [
       "                   lastUpdatedAt              actualLandingTime  \\\n",
       "0  2025-03-27T01:39:47.186+01:00  2025-03-27T00:00:00.000+01:00   \n",
       "1  2025-03-27T01:39:47.186+01:00  2025-03-27T00:00:00.000+01:00   \n",
       "2  2024-10-16T15:17:08.055+02:00                            NaN   \n",
       "3  2024-08-22T10:46:58.889+02:00                            NaN   \n",
       "4  2025-03-27T05:39:39.790+01:00  2025-03-27T05:21:36.000+01:00   \n",
       "\n",
       "  aircraftRegistration           estimatedLandingTime  \\\n",
       "0                PHHXA  2025-03-26T23:59:52.000+01:00   \n",
       "1                PHHXA  2025-03-26T23:59:52.000+01:00   \n",
       "2                  NaN                            NaN   \n",
       "3                  NaN                            NaN   \n",
       "4               JA13KZ  2025-03-27T05:22:03.000+01:00   \n",
       "\n",
       "              expectedTimeOnBelt flightDirection flightName  flightNumber  \\\n",
       "0  2025-03-27T00:36:39.000+01:00               A     HV6888          6888   \n",
       "1  2025-03-27T00:36:39.000+01:00               A     KL2746          2746   \n",
       "2                            NaN               A     HV6904          6904   \n",
       "3                            NaN               A     HV6308          6308   \n",
       "4                            NaN               A      KZ004             4   \n",
       "\n",
       "  gate pier                  id  isOperationalFlight mainFlight prefixIATA  \\\n",
       "0  D61    D  142009545517434014                 True     HV6888         HV   \n",
       "1  D61    D  142009545895606274                 True     HV6888         KL   \n",
       "2  NaN  NaN  142009545517436152                False     HV6904         HV   \n",
       "3  NaN  NaN  142009545517419732                False     HV6308         HV   \n",
       "4  NaN  NaN  142009544365967514                 True      KZ004         KZ   \n",
       "\n",
       "  prefixICAO  airlineCode               scheduleDateTime scheduleDate  \\\n",
       "0        TRA        164.0  2025-03-27T00:15:00.000+01:00   2025-03-27   \n",
       "1        KLM        100.0  2025-03-27T00:15:00.000+01:00   2025-03-27   \n",
       "2        NaN          NaN  2025-03-27T00:35:00.000+01:00   2025-03-27   \n",
       "3        NaN          NaN  2025-03-27T00:45:00.000+01:00   2025-03-27   \n",
       "4        NCA        131.0  2025-03-27T03:20:00.000+01:00   2025-03-27   \n",
       "\n",
       "  scheduleTime serviceType  terminal schemaVersion aircraftType.iataMain  \\\n",
       "0     00:15:00           J       1.0             4                   737   \n",
       "1     00:15:00           J       1.0             4                   737   \n",
       "2     00:35:00           J       NaN             4                   73H   \n",
       "3     00:45:00           J       NaN             4                   32S   \n",
       "4     03:20:00           F       NaN             4                   74F   \n",
       "\n",
       "  aircraftType.iataSub baggageClaim.belts codeshares.codeshares  \\\n",
       "0                  73H                [2]              [KL2746]   \n",
       "1                  73H                [2]              [KL2746]   \n",
       "2                  73H                NaN                   NaN   \n",
       "3                  32Q                NaN                   NaN   \n",
       "4                  74N                NaN                   NaN   \n",
       "\n",
       "  publicFlightState.flightStates route.destinations route.eu  route.visa  \\\n",
       "0                     [ARR, EXP]                KEF        S       False   \n",
       "1                     [ARR, EXP]                KEF        S       False   \n",
       "2                          [SCH]                DXB        N       False   \n",
       "3                          [SCH]                BEY        N       False   \n",
       "4                     [LND, EXP]                NRT        N       False   \n",
       "\n",
       "  actualOffBlockTime expectedSecurityFilter  \\\n",
       "0                NaN                    NaN   \n",
       "1                NaN                    NaN   \n",
       "2                NaN                    NaN   \n",
       "3                NaN                    NaN   \n",
       "4                NaN                    NaN   \n",
       "\n",
       "  checkinAllocations.checkinAllocations expectedTimeBoarding  \\\n",
       "0                                   NaN                  NaN   \n",
       "1                                   NaN                  NaN   \n",
       "2                                   NaN                  NaN   \n",
       "3                                   NaN                  NaN   \n",
       "4                                   NaN                  NaN   \n",
       "\n",
       "  expectedTimeGateClosing expectedTimeGateOpen publicEstimatedOffBlockTime  \\\n",
       "0                     NaN                  NaN                         NaN   \n",
       "1                     NaN                  NaN                         NaN   \n",
       "2                     NaN                  NaN                         NaN   \n",
       "3                     NaN                  NaN                         NaN   \n",
       "4                     NaN                  NaN                         NaN   \n",
       "\n",
       "  transferPositions.transferPositions              Luchthaven  \\\n",
       "0                                 NaN  Leif Eriksson Keflavík   \n",
       "1                                 NaN  Leif Eriksson Keflavík   \n",
       "2                                 NaN     Dubai International   \n",
       "3                                 NaN            Rafik Hariri   \n",
       "4                                 NaN                  Narita   \n",
       "\n",
       "                 Stad                          Land Continent TypeVliegtuig  \n",
       "0  Keflavík/Reykjavik                       IJsland    Europa       737-73H  \n",
       "1  Keflavík/Reykjavik                       IJsland    Europa       737-73H  \n",
       "2               Dubai  Verenigde Arabische Emiraten      Azië       73H-73H  \n",
       "3             Beiroet                       Libanon      Azië       32S-32Q  \n",
       "4              Narita                         Japan      Azië       74F-74N  "
      ]
     },
     "execution_count": 157,
     "metadata": {},
     "output_type": "execute_result"
    }
   ],
   "source": [
    "df['TypeVliegtuig']= df['aircraftType.iataMain']+ '-' + df['aircraftType.iataSub']\n",
    "df.head()"
   ]
  },
  {
   "cell_type": "code",
   "execution_count": null,
   "metadata": {},
   "outputs": [
    {
     "data": {
      "text/plain": [
       "0.063"
      ]
     },
     "execution_count": 159,
     "metadata": {},
     "output_type": "execute_result"
    }
   ],
   "source": [
    "# df.loc[SubStedenHackaton, 'Stad'].value_counts().sum()/df['Stad'].value_counts().sum()"
   ]
  },
  {
   "cell_type": "code",
   "execution_count": 184,
   "metadata": {},
   "outputs": [],
   "source": [
    "Type_vliegtuig= {'EMJ-E90': 'Embraer-E90', '220-223': 'Airbus A220-300', '32S-32Q': 'Airbus A-321neo', 'EMJ-E7W':'Embraer-175', '73F-73K': 'Boeing 737-800', '737-73W': 'Boeing 737-700', '32S-320': 'Airbus A320-200' }\n",
    "# , '330-320': 'Airbus A330-300'"
   ]
  },
  {
   "cell_type": "code",
   "execution_count": 179,
   "metadata": {},
   "outputs": [
    {
     "data": {
      "text/html": [
       "<div>\n",
       "<style scoped>\n",
       "    .dataframe tbody tr th:only-of-type {\n",
       "        vertical-align: middle;\n",
       "    }\n",
       "\n",
       "    .dataframe tbody tr th {\n",
       "        vertical-align: top;\n",
       "    }\n",
       "\n",
       "    .dataframe thead th {\n",
       "        text-align: right;\n",
       "    }\n",
       "</style>\n",
       "<table border=\"1\" class=\"dataframe\">\n",
       "  <thead>\n",
       "    <tr style=\"text-align: right;\">\n",
       "      <th></th>\n",
       "      <th>lastUpdatedAt</th>\n",
       "      <th>actualLandingTime</th>\n",
       "      <th>aircraftRegistration</th>\n",
       "      <th>estimatedLandingTime</th>\n",
       "      <th>expectedTimeOnBelt</th>\n",
       "      <th>flightDirection</th>\n",
       "      <th>flightName</th>\n",
       "      <th>flightNumber</th>\n",
       "      <th>gate</th>\n",
       "      <th>pier</th>\n",
       "      <th>id</th>\n",
       "      <th>isOperationalFlight</th>\n",
       "      <th>mainFlight</th>\n",
       "      <th>prefixIATA</th>\n",
       "      <th>prefixICAO</th>\n",
       "      <th>airlineCode</th>\n",
       "      <th>scheduleDateTime</th>\n",
       "      <th>scheduleDate</th>\n",
       "      <th>scheduleTime</th>\n",
       "      <th>serviceType</th>\n",
       "      <th>terminal</th>\n",
       "      <th>schemaVersion</th>\n",
       "      <th>aircraftType.iataMain</th>\n",
       "      <th>aircraftType.iataSub</th>\n",
       "      <th>baggageClaim.belts</th>\n",
       "      <th>codeshares.codeshares</th>\n",
       "      <th>publicFlightState.flightStates</th>\n",
       "      <th>route.destinations</th>\n",
       "      <th>route.eu</th>\n",
       "      <th>route.visa</th>\n",
       "      <th>actualOffBlockTime</th>\n",
       "      <th>expectedSecurityFilter</th>\n",
       "      <th>checkinAllocations.checkinAllocations</th>\n",
       "      <th>expectedTimeBoarding</th>\n",
       "      <th>expectedTimeGateClosing</th>\n",
       "      <th>expectedTimeGateOpen</th>\n",
       "      <th>publicEstimatedOffBlockTime</th>\n",
       "      <th>transferPositions.transferPositions</th>\n",
       "      <th>Luchthaven</th>\n",
       "      <th>Stad</th>\n",
       "      <th>Land</th>\n",
       "      <th>Continent</th>\n",
       "      <th>TypeVliegtuig</th>\n",
       "      <th>ModelVliegtuig</th>\n",
       "    </tr>\n",
       "  </thead>\n",
       "  <tbody>\n",
       "    <tr>\n",
       "      <th>0</th>\n",
       "      <td>2025-03-27T01:39:47.186+01:00</td>\n",
       "      <td>2025-03-27T00:00:00.000+01:00</td>\n",
       "      <td>PHHXA</td>\n",
       "      <td>2025-03-26T23:59:52.000+01:00</td>\n",
       "      <td>2025-03-27T00:36:39.000+01:00</td>\n",
       "      <td>A</td>\n",
       "      <td>HV6888</td>\n",
       "      <td>6888</td>\n",
       "      <td>D61</td>\n",
       "      <td>D</td>\n",
       "      <td>142009545517434014</td>\n",
       "      <td>True</td>\n",
       "      <td>HV6888</td>\n",
       "      <td>HV</td>\n",
       "      <td>TRA</td>\n",
       "      <td>164.0</td>\n",
       "      <td>2025-03-27T00:15:00.000+01:00</td>\n",
       "      <td>2025-03-27</td>\n",
       "      <td>00:15:00</td>\n",
       "      <td>J</td>\n",
       "      <td>1.0</td>\n",
       "      <td>4</td>\n",
       "      <td>737</td>\n",
       "      <td>73H</td>\n",
       "      <td>[2]</td>\n",
       "      <td>[KL2746]</td>\n",
       "      <td>[ARR, EXP]</td>\n",
       "      <td>KEF</td>\n",
       "      <td>S</td>\n",
       "      <td>False</td>\n",
       "      <td>NaN</td>\n",
       "      <td>NaN</td>\n",
       "      <td>NaN</td>\n",
       "      <td>NaN</td>\n",
       "      <td>NaN</td>\n",
       "      <td>NaN</td>\n",
       "      <td>NaN</td>\n",
       "      <td>NaN</td>\n",
       "      <td>Leif Eriksson Keflavík</td>\n",
       "      <td>Keflavík/Reykjavik</td>\n",
       "      <td>IJsland</td>\n",
       "      <td>Europa</td>\n",
       "      <td>737-73H</td>\n",
       "      <td>NaN</td>\n",
       "    </tr>\n",
       "    <tr>\n",
       "      <th>1</th>\n",
       "      <td>2025-03-27T01:39:47.186+01:00</td>\n",
       "      <td>2025-03-27T00:00:00.000+01:00</td>\n",
       "      <td>PHHXA</td>\n",
       "      <td>2025-03-26T23:59:52.000+01:00</td>\n",
       "      <td>2025-03-27T00:36:39.000+01:00</td>\n",
       "      <td>A</td>\n",
       "      <td>KL2746</td>\n",
       "      <td>2746</td>\n",
       "      <td>D61</td>\n",
       "      <td>D</td>\n",
       "      <td>142009545895606274</td>\n",
       "      <td>True</td>\n",
       "      <td>HV6888</td>\n",
       "      <td>KL</td>\n",
       "      <td>KLM</td>\n",
       "      <td>100.0</td>\n",
       "      <td>2025-03-27T00:15:00.000+01:00</td>\n",
       "      <td>2025-03-27</td>\n",
       "      <td>00:15:00</td>\n",
       "      <td>J</td>\n",
       "      <td>1.0</td>\n",
       "      <td>4</td>\n",
       "      <td>737</td>\n",
       "      <td>73H</td>\n",
       "      <td>[2]</td>\n",
       "      <td>[KL2746]</td>\n",
       "      <td>[ARR, EXP]</td>\n",
       "      <td>KEF</td>\n",
       "      <td>S</td>\n",
       "      <td>False</td>\n",
       "      <td>NaN</td>\n",
       "      <td>NaN</td>\n",
       "      <td>NaN</td>\n",
       "      <td>NaN</td>\n",
       "      <td>NaN</td>\n",
       "      <td>NaN</td>\n",
       "      <td>NaN</td>\n",
       "      <td>NaN</td>\n",
       "      <td>Leif Eriksson Keflavík</td>\n",
       "      <td>Keflavík/Reykjavik</td>\n",
       "      <td>IJsland</td>\n",
       "      <td>Europa</td>\n",
       "      <td>737-73H</td>\n",
       "      <td>NaN</td>\n",
       "    </tr>\n",
       "    <tr>\n",
       "      <th>2</th>\n",
       "      <td>2024-10-16T15:17:08.055+02:00</td>\n",
       "      <td>NaN</td>\n",
       "      <td>NaN</td>\n",
       "      <td>NaN</td>\n",
       "      <td>NaN</td>\n",
       "      <td>A</td>\n",
       "      <td>HV6904</td>\n",
       "      <td>6904</td>\n",
       "      <td>NaN</td>\n",
       "      <td>NaN</td>\n",
       "      <td>142009545517436152</td>\n",
       "      <td>False</td>\n",
       "      <td>HV6904</td>\n",
       "      <td>HV</td>\n",
       "      <td>NaN</td>\n",
       "      <td>NaN</td>\n",
       "      <td>2025-03-27T00:35:00.000+01:00</td>\n",
       "      <td>2025-03-27</td>\n",
       "      <td>00:35:00</td>\n",
       "      <td>J</td>\n",
       "      <td>NaN</td>\n",
       "      <td>4</td>\n",
       "      <td>73H</td>\n",
       "      <td>73H</td>\n",
       "      <td>NaN</td>\n",
       "      <td>NaN</td>\n",
       "      <td>[SCH]</td>\n",
       "      <td>DXB</td>\n",
       "      <td>N</td>\n",
       "      <td>False</td>\n",
       "      <td>NaN</td>\n",
       "      <td>NaN</td>\n",
       "      <td>NaN</td>\n",
       "      <td>NaN</td>\n",
       "      <td>NaN</td>\n",
       "      <td>NaN</td>\n",
       "      <td>NaN</td>\n",
       "      <td>NaN</td>\n",
       "      <td>Dubai International</td>\n",
       "      <td>Dubai</td>\n",
       "      <td>Verenigde Arabische Emiraten</td>\n",
       "      <td>Azië</td>\n",
       "      <td>73H-73H</td>\n",
       "      <td>NaN</td>\n",
       "    </tr>\n",
       "    <tr>\n",
       "      <th>3</th>\n",
       "      <td>2024-08-22T10:46:58.889+02:00</td>\n",
       "      <td>NaN</td>\n",
       "      <td>NaN</td>\n",
       "      <td>NaN</td>\n",
       "      <td>NaN</td>\n",
       "      <td>A</td>\n",
       "      <td>HV6308</td>\n",
       "      <td>6308</td>\n",
       "      <td>NaN</td>\n",
       "      <td>NaN</td>\n",
       "      <td>142009545517419732</td>\n",
       "      <td>False</td>\n",
       "      <td>HV6308</td>\n",
       "      <td>HV</td>\n",
       "      <td>NaN</td>\n",
       "      <td>NaN</td>\n",
       "      <td>2025-03-27T00:45:00.000+01:00</td>\n",
       "      <td>2025-03-27</td>\n",
       "      <td>00:45:00</td>\n",
       "      <td>J</td>\n",
       "      <td>NaN</td>\n",
       "      <td>4</td>\n",
       "      <td>32S</td>\n",
       "      <td>32Q</td>\n",
       "      <td>NaN</td>\n",
       "      <td>NaN</td>\n",
       "      <td>[SCH]</td>\n",
       "      <td>BEY</td>\n",
       "      <td>N</td>\n",
       "      <td>False</td>\n",
       "      <td>NaN</td>\n",
       "      <td>NaN</td>\n",
       "      <td>NaN</td>\n",
       "      <td>NaN</td>\n",
       "      <td>NaN</td>\n",
       "      <td>NaN</td>\n",
       "      <td>NaN</td>\n",
       "      <td>NaN</td>\n",
       "      <td>Rafik Hariri</td>\n",
       "      <td>Beiroet</td>\n",
       "      <td>Libanon</td>\n",
       "      <td>Azië</td>\n",
       "      <td>32S-32Q</td>\n",
       "      <td>Airbus A-321neo</td>\n",
       "    </tr>\n",
       "    <tr>\n",
       "      <th>4</th>\n",
       "      <td>2025-03-27T05:39:39.790+01:00</td>\n",
       "      <td>2025-03-27T05:21:36.000+01:00</td>\n",
       "      <td>JA13KZ</td>\n",
       "      <td>2025-03-27T05:22:03.000+01:00</td>\n",
       "      <td>NaN</td>\n",
       "      <td>A</td>\n",
       "      <td>KZ004</td>\n",
       "      <td>4</td>\n",
       "      <td>NaN</td>\n",
       "      <td>NaN</td>\n",
       "      <td>142009544365967514</td>\n",
       "      <td>True</td>\n",
       "      <td>KZ004</td>\n",
       "      <td>KZ</td>\n",
       "      <td>NCA</td>\n",
       "      <td>131.0</td>\n",
       "      <td>2025-03-27T03:20:00.000+01:00</td>\n",
       "      <td>2025-03-27</td>\n",
       "      <td>03:20:00</td>\n",
       "      <td>F</td>\n",
       "      <td>NaN</td>\n",
       "      <td>4</td>\n",
       "      <td>74F</td>\n",
       "      <td>74N</td>\n",
       "      <td>NaN</td>\n",
       "      <td>NaN</td>\n",
       "      <td>[LND, EXP]</td>\n",
       "      <td>NRT</td>\n",
       "      <td>N</td>\n",
       "      <td>False</td>\n",
       "      <td>NaN</td>\n",
       "      <td>NaN</td>\n",
       "      <td>NaN</td>\n",
       "      <td>NaN</td>\n",
       "      <td>NaN</td>\n",
       "      <td>NaN</td>\n",
       "      <td>NaN</td>\n",
       "      <td>NaN</td>\n",
       "      <td>Narita</td>\n",
       "      <td>Narita</td>\n",
       "      <td>Japan</td>\n",
       "      <td>Azië</td>\n",
       "      <td>74F-74N</td>\n",
       "      <td>NaN</td>\n",
       "    </tr>\n",
       "  </tbody>\n",
       "</table>\n",
       "</div>"
      ],
      "text/plain": [
       "                   lastUpdatedAt              actualLandingTime  \\\n",
       "0  2025-03-27T01:39:47.186+01:00  2025-03-27T00:00:00.000+01:00   \n",
       "1  2025-03-27T01:39:47.186+01:00  2025-03-27T00:00:00.000+01:00   \n",
       "2  2024-10-16T15:17:08.055+02:00                            NaN   \n",
       "3  2024-08-22T10:46:58.889+02:00                            NaN   \n",
       "4  2025-03-27T05:39:39.790+01:00  2025-03-27T05:21:36.000+01:00   \n",
       "\n",
       "  aircraftRegistration           estimatedLandingTime  \\\n",
       "0                PHHXA  2025-03-26T23:59:52.000+01:00   \n",
       "1                PHHXA  2025-03-26T23:59:52.000+01:00   \n",
       "2                  NaN                            NaN   \n",
       "3                  NaN                            NaN   \n",
       "4               JA13KZ  2025-03-27T05:22:03.000+01:00   \n",
       "\n",
       "              expectedTimeOnBelt flightDirection flightName  flightNumber  \\\n",
       "0  2025-03-27T00:36:39.000+01:00               A     HV6888          6888   \n",
       "1  2025-03-27T00:36:39.000+01:00               A     KL2746          2746   \n",
       "2                            NaN               A     HV6904          6904   \n",
       "3                            NaN               A     HV6308          6308   \n",
       "4                            NaN               A      KZ004             4   \n",
       "\n",
       "  gate pier                  id  isOperationalFlight mainFlight prefixIATA  \\\n",
       "0  D61    D  142009545517434014                 True     HV6888         HV   \n",
       "1  D61    D  142009545895606274                 True     HV6888         KL   \n",
       "2  NaN  NaN  142009545517436152                False     HV6904         HV   \n",
       "3  NaN  NaN  142009545517419732                False     HV6308         HV   \n",
       "4  NaN  NaN  142009544365967514                 True      KZ004         KZ   \n",
       "\n",
       "  prefixICAO  airlineCode               scheduleDateTime scheduleDate  \\\n",
       "0        TRA        164.0  2025-03-27T00:15:00.000+01:00   2025-03-27   \n",
       "1        KLM        100.0  2025-03-27T00:15:00.000+01:00   2025-03-27   \n",
       "2        NaN          NaN  2025-03-27T00:35:00.000+01:00   2025-03-27   \n",
       "3        NaN          NaN  2025-03-27T00:45:00.000+01:00   2025-03-27   \n",
       "4        NCA        131.0  2025-03-27T03:20:00.000+01:00   2025-03-27   \n",
       "\n",
       "  scheduleTime serviceType  terminal schemaVersion aircraftType.iataMain  \\\n",
       "0     00:15:00           J       1.0             4                   737   \n",
       "1     00:15:00           J       1.0             4                   737   \n",
       "2     00:35:00           J       NaN             4                   73H   \n",
       "3     00:45:00           J       NaN             4                   32S   \n",
       "4     03:20:00           F       NaN             4                   74F   \n",
       "\n",
       "  aircraftType.iataSub baggageClaim.belts codeshares.codeshares  \\\n",
       "0                  73H                [2]              [KL2746]   \n",
       "1                  73H                [2]              [KL2746]   \n",
       "2                  73H                NaN                   NaN   \n",
       "3                  32Q                NaN                   NaN   \n",
       "4                  74N                NaN                   NaN   \n",
       "\n",
       "  publicFlightState.flightStates route.destinations route.eu  route.visa  \\\n",
       "0                     [ARR, EXP]                KEF        S       False   \n",
       "1                     [ARR, EXP]                KEF        S       False   \n",
       "2                          [SCH]                DXB        N       False   \n",
       "3                          [SCH]                BEY        N       False   \n",
       "4                     [LND, EXP]                NRT        N       False   \n",
       "\n",
       "  actualOffBlockTime expectedSecurityFilter  \\\n",
       "0                NaN                    NaN   \n",
       "1                NaN                    NaN   \n",
       "2                NaN                    NaN   \n",
       "3                NaN                    NaN   \n",
       "4                NaN                    NaN   \n",
       "\n",
       "  checkinAllocations.checkinAllocations expectedTimeBoarding  \\\n",
       "0                                   NaN                  NaN   \n",
       "1                                   NaN                  NaN   \n",
       "2                                   NaN                  NaN   \n",
       "3                                   NaN                  NaN   \n",
       "4                                   NaN                  NaN   \n",
       "\n",
       "  expectedTimeGateClosing expectedTimeGateOpen publicEstimatedOffBlockTime  \\\n",
       "0                     NaN                  NaN                         NaN   \n",
       "1                     NaN                  NaN                         NaN   \n",
       "2                     NaN                  NaN                         NaN   \n",
       "3                     NaN                  NaN                         NaN   \n",
       "4                     NaN                  NaN                         NaN   \n",
       "\n",
       "  transferPositions.transferPositions              Luchthaven  \\\n",
       "0                                 NaN  Leif Eriksson Keflavík   \n",
       "1                                 NaN  Leif Eriksson Keflavík   \n",
       "2                                 NaN     Dubai International   \n",
       "3                                 NaN            Rafik Hariri   \n",
       "4                                 NaN                  Narita   \n",
       "\n",
       "                 Stad                          Land Continent TypeVliegtuig  \\\n",
       "0  Keflavík/Reykjavik                       IJsland    Europa       737-73H   \n",
       "1  Keflavík/Reykjavik                       IJsland    Europa       737-73H   \n",
       "2               Dubai  Verenigde Arabische Emiraten      Azië       73H-73H   \n",
       "3             Beiroet                       Libanon      Azië       32S-32Q   \n",
       "4              Narita                         Japan      Azië       74F-74N   \n",
       "\n",
       "    ModelVliegtuig  \n",
       "0              NaN  \n",
       "1              NaN  \n",
       "2              NaN  \n",
       "3  Airbus A-321neo  \n",
       "4              NaN  "
      ]
     },
     "execution_count": 179,
     "metadata": {},
     "output_type": "execute_result"
    }
   ],
   "source": [
    "df['ModelVliegtuig']= df['TypeVliegtuig'].map(Type_vliegtuig)\n",
    "df.head()"
   ]
  },
  {
   "cell_type": "code",
   "execution_count": 162,
   "metadata": {},
   "outputs": [],
   "source": [
    "df2= pd.read_csv(\"Hackaton2.csv\")"
   ]
  },
  {
   "cell_type": "code",
   "execution_count": 180,
   "metadata": {},
   "outputs": [],
   "source": [
    "stedenlijst2= ['Antwerpen', 'Brussel', 'Frankfort', 'Parijs']\n",
    "SubStedenHackaton= df['Stad'].isin(stedenlijst2)"
   ]
  },
  {
   "cell_type": "code",
   "execution_count": 181,
   "metadata": {},
   "outputs": [
    {
     "name": "stdout",
     "output_type": "stream",
     "text": [
      "ModelVliegtuig \n",
      "Embraer-175        25\n",
      "Airbus A320-200    22\n",
      "Embraer-E90        13\n",
      "Airbus A220-300     7\n",
      "Boeing 737-800      7\n",
      "Airbus A-321neo     5\n",
      "Name: count, dtype: int64\n"
     ]
    }
   ],
   "source": [
    "Subvliegtuigtypen= df.loc[SubStedenHackaton, ['ModelVliegtuig']].value_counts()\n",
    "print(Subvliegtuigtypen)"
   ]
  },
  {
   "cell_type": "code",
   "execution_count": 185,
   "metadata": {},
   "outputs": [
    {
     "ename": "ValueError",
     "evalue": "'label' must be of length 'x'",
     "output_type": "error",
     "traceback": [
      "\u001b[1;31m---------------------------------------------------------------------------\u001b[0m",
      "\u001b[1;31mValueError\u001b[0m                                Traceback (most recent call last)",
      "Cell \u001b[1;32mIn[185], line 1\u001b[0m\n\u001b[1;32m----> 1\u001b[0m plt\u001b[38;5;241m.\u001b[39mpie(x\u001b[38;5;241m=\u001b[39mSubvliegtuigtypen, labels\u001b[38;5;241m=\u001b[39mType_vliegtuig)\n\u001b[0;32m      2\u001b[0m plt\u001b[38;5;241m.\u001b[39mshow()\n",
      "File \u001b[1;32mc:\\Users\\Timo Stavenuiter\\anaconda3\\Lib\\site-packages\\matplotlib\\pyplot.py:3762\u001b[0m, in \u001b[0;36mpie\u001b[1;34m(x, explode, labels, colors, autopct, pctdistance, shadow, labeldistance, startangle, radius, counterclock, wedgeprops, textprops, center, frame, rotatelabels, normalize, hatch, data)\u001b[0m\n\u001b[0;32m   3739\u001b[0m \u001b[38;5;129m@_copy_docstring_and_deprecators\u001b[39m(Axes\u001b[38;5;241m.\u001b[39mpie)\n\u001b[0;32m   3740\u001b[0m \u001b[38;5;28;01mdef\u001b[39;00m \u001b[38;5;21mpie\u001b[39m(\n\u001b[0;32m   3741\u001b[0m     x: ArrayLike,\n\u001b[1;32m   (...)\u001b[0m\n\u001b[0;32m   3760\u001b[0m     data\u001b[38;5;241m=\u001b[39m\u001b[38;5;28;01mNone\u001b[39;00m,\n\u001b[0;32m   3761\u001b[0m ) \u001b[38;5;241m-\u001b[39m\u001b[38;5;241m>\u001b[39m \u001b[38;5;28mtuple\u001b[39m[\u001b[38;5;28mlist\u001b[39m[Wedge], \u001b[38;5;28mlist\u001b[39m[Text]] \u001b[38;5;241m|\u001b[39m \u001b[38;5;28mtuple\u001b[39m[\u001b[38;5;28mlist\u001b[39m[Wedge], \u001b[38;5;28mlist\u001b[39m[Text], \u001b[38;5;28mlist\u001b[39m[Text]]:\n\u001b[1;32m-> 3762\u001b[0m     \u001b[38;5;28;01mreturn\u001b[39;00m gca()\u001b[38;5;241m.\u001b[39mpie(\n\u001b[0;32m   3763\u001b[0m         x,\n\u001b[0;32m   3764\u001b[0m         explode\u001b[38;5;241m=\u001b[39mexplode,\n\u001b[0;32m   3765\u001b[0m         labels\u001b[38;5;241m=\u001b[39mlabels,\n\u001b[0;32m   3766\u001b[0m         colors\u001b[38;5;241m=\u001b[39mcolors,\n\u001b[0;32m   3767\u001b[0m         autopct\u001b[38;5;241m=\u001b[39mautopct,\n\u001b[0;32m   3768\u001b[0m         pctdistance\u001b[38;5;241m=\u001b[39mpctdistance,\n\u001b[0;32m   3769\u001b[0m         shadow\u001b[38;5;241m=\u001b[39mshadow,\n\u001b[0;32m   3770\u001b[0m         labeldistance\u001b[38;5;241m=\u001b[39mlabeldistance,\n\u001b[0;32m   3771\u001b[0m         startangle\u001b[38;5;241m=\u001b[39mstartangle,\n\u001b[0;32m   3772\u001b[0m         radius\u001b[38;5;241m=\u001b[39mradius,\n\u001b[0;32m   3773\u001b[0m         counterclock\u001b[38;5;241m=\u001b[39mcounterclock,\n\u001b[0;32m   3774\u001b[0m         wedgeprops\u001b[38;5;241m=\u001b[39mwedgeprops,\n\u001b[0;32m   3775\u001b[0m         textprops\u001b[38;5;241m=\u001b[39mtextprops,\n\u001b[0;32m   3776\u001b[0m         center\u001b[38;5;241m=\u001b[39mcenter,\n\u001b[0;32m   3777\u001b[0m         frame\u001b[38;5;241m=\u001b[39mframe,\n\u001b[0;32m   3778\u001b[0m         rotatelabels\u001b[38;5;241m=\u001b[39mrotatelabels,\n\u001b[0;32m   3779\u001b[0m         normalize\u001b[38;5;241m=\u001b[39mnormalize,\n\u001b[0;32m   3780\u001b[0m         hatch\u001b[38;5;241m=\u001b[39mhatch,\n\u001b[0;32m   3781\u001b[0m         \u001b[38;5;241m*\u001b[39m\u001b[38;5;241m*\u001b[39m({\u001b[38;5;124m\"\u001b[39m\u001b[38;5;124mdata\u001b[39m\u001b[38;5;124m\"\u001b[39m: data} \u001b[38;5;28;01mif\u001b[39;00m data \u001b[38;5;129;01mis\u001b[39;00m \u001b[38;5;129;01mnot\u001b[39;00m \u001b[38;5;28;01mNone\u001b[39;00m \u001b[38;5;28;01melse\u001b[39;00m {}),\n\u001b[0;32m   3782\u001b[0m     )\n",
      "File \u001b[1;32mc:\\Users\\Timo Stavenuiter\\anaconda3\\Lib\\site-packages\\matplotlib\\__init__.py:1473\u001b[0m, in \u001b[0;36m_preprocess_data.<locals>.inner\u001b[1;34m(ax, data, *args, **kwargs)\u001b[0m\n\u001b[0;32m   1470\u001b[0m \u001b[38;5;129m@functools\u001b[39m\u001b[38;5;241m.\u001b[39mwraps(func)\n\u001b[0;32m   1471\u001b[0m \u001b[38;5;28;01mdef\u001b[39;00m \u001b[38;5;21minner\u001b[39m(ax, \u001b[38;5;241m*\u001b[39margs, data\u001b[38;5;241m=\u001b[39m\u001b[38;5;28;01mNone\u001b[39;00m, \u001b[38;5;241m*\u001b[39m\u001b[38;5;241m*\u001b[39mkwargs):\n\u001b[0;32m   1472\u001b[0m     \u001b[38;5;28;01mif\u001b[39;00m data \u001b[38;5;129;01mis\u001b[39;00m \u001b[38;5;28;01mNone\u001b[39;00m:\n\u001b[1;32m-> 1473\u001b[0m         \u001b[38;5;28;01mreturn\u001b[39;00m func(\n\u001b[0;32m   1474\u001b[0m             ax,\n\u001b[0;32m   1475\u001b[0m             \u001b[38;5;241m*\u001b[39m\u001b[38;5;28mmap\u001b[39m(sanitize_sequence, args),\n\u001b[0;32m   1476\u001b[0m             \u001b[38;5;241m*\u001b[39m\u001b[38;5;241m*\u001b[39m{k: sanitize_sequence(v) \u001b[38;5;28;01mfor\u001b[39;00m k, v \u001b[38;5;129;01min\u001b[39;00m kwargs\u001b[38;5;241m.\u001b[39mitems()})\n\u001b[0;32m   1478\u001b[0m     bound \u001b[38;5;241m=\u001b[39m new_sig\u001b[38;5;241m.\u001b[39mbind(ax, \u001b[38;5;241m*\u001b[39margs, \u001b[38;5;241m*\u001b[39m\u001b[38;5;241m*\u001b[39mkwargs)\n\u001b[0;32m   1479\u001b[0m     auto_label \u001b[38;5;241m=\u001b[39m (bound\u001b[38;5;241m.\u001b[39marguments\u001b[38;5;241m.\u001b[39mget(label_namer)\n\u001b[0;32m   1480\u001b[0m                   \u001b[38;5;129;01mor\u001b[39;00m bound\u001b[38;5;241m.\u001b[39mkwargs\u001b[38;5;241m.\u001b[39mget(label_namer))\n",
      "File \u001b[1;32mc:\\Users\\Timo Stavenuiter\\anaconda3\\Lib\\site-packages\\matplotlib\\axes\\_axes.py:3298\u001b[0m, in \u001b[0;36mAxes.pie\u001b[1;34m(self, x, explode, labels, colors, autopct, pctdistance, shadow, labeldistance, startangle, radius, counterclock, wedgeprops, textprops, center, frame, rotatelabels, normalize, hatch)\u001b[0m\n\u001b[0;32m   3296\u001b[0m     explode \u001b[38;5;241m=\u001b[39m [\u001b[38;5;241m0\u001b[39m] \u001b[38;5;241m*\u001b[39m \u001b[38;5;28mlen\u001b[39m(x)\n\u001b[0;32m   3297\u001b[0m \u001b[38;5;28;01mif\u001b[39;00m \u001b[38;5;28mlen\u001b[39m(x) \u001b[38;5;241m!=\u001b[39m \u001b[38;5;28mlen\u001b[39m(labels):\n\u001b[1;32m-> 3298\u001b[0m     \u001b[38;5;28;01mraise\u001b[39;00m \u001b[38;5;167;01mValueError\u001b[39;00m(\u001b[38;5;124m\"\u001b[39m\u001b[38;5;124m'\u001b[39m\u001b[38;5;124mlabel\u001b[39m\u001b[38;5;124m'\u001b[39m\u001b[38;5;124m must be of length \u001b[39m\u001b[38;5;124m'\u001b[39m\u001b[38;5;124mx\u001b[39m\u001b[38;5;124m'\u001b[39m\u001b[38;5;124m\"\u001b[39m)\n\u001b[0;32m   3299\u001b[0m \u001b[38;5;28;01mif\u001b[39;00m \u001b[38;5;28mlen\u001b[39m(x) \u001b[38;5;241m!=\u001b[39m \u001b[38;5;28mlen\u001b[39m(explode):\n\u001b[0;32m   3300\u001b[0m     \u001b[38;5;28;01mraise\u001b[39;00m \u001b[38;5;167;01mValueError\u001b[39;00m(\u001b[38;5;124m\"\u001b[39m\u001b[38;5;124m'\u001b[39m\u001b[38;5;124mexplode\u001b[39m\u001b[38;5;124m'\u001b[39m\u001b[38;5;124m must be of length \u001b[39m\u001b[38;5;124m'\u001b[39m\u001b[38;5;124mx\u001b[39m\u001b[38;5;124m'\u001b[39m\u001b[38;5;124m\"\u001b[39m)\n",
      "\u001b[1;31mValueError\u001b[0m: 'label' must be of length 'x'"
     ]
    },
    {
     "data": {
      "image/png": "[encoded data removed]",
      "text/plain": [
       "<Figure size 640x480 with 1 Axes>"
      ]
     },
     "metadata": {},
     "output_type": "display_data"
    }
   ],
   "source": [
    "plt.pie(x=Subvliegtuigtypen, labels=Type_vliegtuig)\n",
    "plt.show()"
   ]
  },
  {
   "cell_type": "code",
   "execution_count": 165,
   "metadata": {},
   "outputs": [
    {
     "data": {
      "application/vnd.plotly.v1+json": {
       "config": {
        "plotlyServerURL": "https://plot.ly"
       },
       "data": [
        {
         "domain": {
          "x": [
           0,
           1
          ],
          "y": [
           0,
           1
          ]
         },
         "hovertemplate": "ModelVliegtuig=%{label}<extra></extra>",
         "labels": [
          "Boeing 737-800",
          "Embraer-E90",
          "Embraer-E90",
          "Embraer-E90",
          "Embraer-E90",
          "Airbus A-321neo",
          "Airbus A-321neo",
          "Airbus A-321neo",
          "Airbus A-321neo",
          "Airbus A-321neo",
          "Embraer-E90",
          "Embraer-175",
          "Embraer-175",
          "Embraer-175",
          "Embraer-175",
          "Embraer-175",
          "Airbus A-321neo",
          "Airbus A-321neo",
          "Airbus A-321neo",
          "Airbus A-321neo",
          "Airbus A-321neo",
          "Airbus A-321neo",
          "Airbus A220-300",
          "Airbus A220-300",
          "Airbus A220-300",
          "Airbus A220-300",
          "Airbus A220-300",
          "Airbus A220-300",
          "Airbus A220-300",
          "Airbus A220-300",
          "Airbus A220-300",
          "Airbus A220-300",
          "Airbus A220-300",
          "Airbus A220-300",
          "Airbus A220-300",
          "Airbus A220-300",
          "Airbus A220-300",
          "Airbus A220-300",
          "Embraer-E90",
          "Embraer-E90",
          "Embraer-E90",
          "Embraer-E90",
          "Embraer-E90",
          "Embraer-E90",
          "Embraer-E90",
          "Embraer-E90",
          "Embraer-E90",
          "Embraer-E90",
          "Embraer-E90",
          "Embraer-E90",
          "Embraer-E90",
          "Embraer-E90"
         ],
         "legendgroup": "",
         "name": "",
         "showlegend": true,
         "type": "pie"
        }
       ],
       "layout": {
        "legend": {
         "tracegroupgap": 0
        },
        "template": {
         "data": {
          "bar": [
           {
            "error_x": {
             "color": "#2a3f5f"
            },
            "error_y": {
             "color": "#2a3f5f"
            },
            "marker": {
             "line": {
              "color": "#E5ECF6",
              "width": 0.5
             },
             "pattern": {
              "fillmode": "overlay",
              "size": 10,
              "solidity": 0.2
             }
            },
            "type": "bar"
           }
          ],
          "barpolar": [
           {
            "marker": {
             "line": {
              "color": "#E5ECF6",
              "width": 0.5
             },
             "pattern": {
              "fillmode": "overlay",
              "size": 10,
              "solidity": 0.2
             }
            },
            "type": "barpolar"
           }
          ],
          "carpet": [
           {
            "aaxis": {
             "endlinecolor": "#2a3f5f",
             "gridcolor": "white",
             "linecolor": "white",
             "minorgridcolor": "white",
             "startlinecolor": "#2a3f5f"
            },
            "baxis": {
             "endlinecolor": "#2a3f5f",
             "gridcolor": "white",
             "linecolor": "white",
             "minorgridcolor": "white",
             "startlinecolor": "#2a3f5f"
            },
            "type": "carpet"
           }
          ],
          "choropleth": [
           {
            "colorbar": {
             "outlinewidth": 0,
             "ticks": ""
            },
            "type": "choropleth"
           }
          ],
          "contour": [
           {
            "colorbar": {
             "outlinewidth": 0,
             "ticks": ""
            },
            "colorscale": [
             [
              0,
              "#0d0887"
             ],
             [
              0.1111111111111111,
              "#46039f"
             ],
             [
              0.2222222222222222,
              "#7201a8"
             ],
             [
              0.3333333333333333,
              "#9c179e"
             ],
             [
              0.4444444444444444,
              "#bd3786"
             ],
             [
              0.5555555555555556,
              "#d8576b"
             ],
             [
              0.6666666666666666,
              "#ed7953"
             ],
             [
              0.7777777777777778,
              "#fb9f3a"
             ],
             [
              0.8888888888888888,
              "#fdca26"
             ],
             [
              1,
              "#f0f921"
             ]
            ],
            "type": "contour"
           }
          ],
          "contourcarpet": [
           {
            "colorbar": {
             "outlinewidth": 0,
             "ticks": ""
            },
            "type": "contourcarpet"
           }
          ],
          "heatmap": [
           {
            "colorbar": {
             "outlinewidth": 0,
             "ticks": ""
            },
            "colorscale": [
             [
              0,
              "#0d0887"
             ],
             [
              0.1111111111111111,
              "#46039f"
             ],
             [
              0.2222222222222222,
              "#7201a8"
             ],
             [
              0.3333333333333333,
              "#9c179e"
             ],
             [
              0.4444444444444444,
              "#bd3786"
             ],
             [
              0.5555555555555556,
              "#d8576b"
             ],
             [
              0.6666666666666666,
              "#ed7953"
             ],
             [
              0.7777777777777778,
              "#fb9f3a"
             ],
             [
              0.8888888888888888,
              "#fdca26"
             ],
             [
              1,
              "#f0f921"
             ]
            ],
            "type": "heatmap"
           }
          ],
          "heatmapgl": [
           {
            "colorbar": {
             "outlinewidth": 0,
             "ticks": ""
            },
            "colorscale": [
             [
              0,
              "#0d0887"
             ],
             [
              0.1111111111111111,
              "#46039f"
             ],
             [
              0.2222222222222222,
              "#7201a8"
             ],
             [
              0.3333333333333333,
              "#9c179e"
             ],
             [
              0.4444444444444444,
              "#bd3786"
             ],
             [
              0.5555555555555556,
              "#d8576b"
             ],
             [
              0.6666666666666666,
              "#ed7953"
             ],
             [
              0.7777777777777778,
              "#fb9f3a"
             ],
             [
              0.8888888888888888,
              "#fdca26"
             ],
             [
              1,
              "#f0f921"
             ]
            ],
            "type": "heatmapgl"
           }
          ],
          "histogram": [
           {
            "marker": {
             "pattern": {
              "fillmode": "overlay",
              "size": 10,
              "solidity": 0.2
             }
            },
            "type": "histogram"
           }
          ],
          "histogram2d": [
           {
            "colorbar": {
             "outlinewidth": 0,
             "ticks": ""
            },
            "colorscale": [
             [
              0,
              "#0d0887"
             ],
             [
              0.1111111111111111,
              "#46039f"
             ],
             [
              0.2222222222222222,
              "#7201a8"
             ],
             [
              0.3333333333333333,
              "#9c179e"
             ],
             [
              0.4444444444444444,
              "#bd3786"
             ],
             [
              0.5555555555555556,
              "#d8576b"
             ],
             [
              0.6666666666666666,
              "#ed7953"
             ],
             [
              0.7777777777777778,
              "#fb9f3a"
             ],
             [
              0.8888888888888888,
              "#fdca26"
             ],
             [
              1,
              "#f0f921"
             ]
            ],
            "type": "histogram2d"
           }
          ],
          "histogram2dcontour": [
           {
            "colorbar": {
             "outlinewidth": 0,
             "ticks": ""
            },
            "colorscale": [
             [
              0,
              "#0d0887"
             ],
             [
              0.1111111111111111,
              "#46039f"
             ],
             [
              0.2222222222222222,
              "#7201a8"
             ],
             [
              0.3333333333333333,
              "#9c179e"
             ],
             [
              0.4444444444444444,
              "#bd3786"
             ],
             [
              0.5555555555555556,
              "#d8576b"
             ],
             [
              0.6666666666666666,
              "#ed7953"
             ],
             [
              0.7777777777777778,
              "#fb9f3a"
             ],
             [
              0.8888888888888888,
              "#fdca26"
             ],
             [
              1,
              "#f0f921"
             ]
            ],
            "type": "histogram2dcontour"
           }
          ],
          "mesh3d": [
           {
            "colorbar": {
             "outlinewidth": 0,
             "ticks": ""
            },
            "type": "mesh3d"
           }
          ],
          "parcoords": [
           {
            "line": {
             "colorbar": {
              "outlinewidth": 0,
              "ticks": ""
             }
            },
            "type": "parcoords"
           }
          ],
          "pie": [
           {
            "automargin": true,
            "type": "pie"
           }
          ],
          "scatter": [
           {
            "fillpattern": {
             "fillmode": "overlay",
             "size": 10,
             "solidity": 0.2
            },
            "type": "scatter"
           }
          ],
          "scatter3d": [
           {
            "line": {
             "colorbar": {
              "outlinewidth": 0,
              "ticks": ""
             }
            },
            "marker": {
             "colorbar": {
              "outlinewidth": 0,
              "ticks": ""
             }
            },
            "type": "scatter3d"
           }
          ],
          "scattercarpet": [
           {
            "marker": {
             "colorbar": {
              "outlinewidth": 0,
              "ticks": ""
             }
            },
            "type": "scattercarpet"
           }
          ],
          "scattergeo": [
           {
            "marker": {
             "colorbar": {
              "outlinewidth": 0,
              "ticks": ""
             }
            },
            "type": "scattergeo"
           }
          ],
          "scattergl": [
           {
            "marker": {
             "colorbar": {
              "outlinewidth": 0,
              "ticks": ""
             }
            },
            "type": "scattergl"
           }
          ],
          "scattermapbox": [
           {
            "marker": {
             "colorbar": {
              "outlinewidth": 0,
              "ticks": ""
             }
            },
            "type": "scattermapbox"
           }
          ],
          "scatterpolar": [
           {
            "marker": {
             "colorbar": {
              "outlinewidth": 0,
              "ticks": ""
             }
            },
            "type": "scatterpolar"
           }
          ],
          "scatterpolargl": [
           {
            "marker": {
             "colorbar": {
              "outlinewidth": 0,
              "ticks": ""
             }
            },
            "type": "scatterpolargl"
           }
          ],
          "scatterternary": [
           {
            "marker": {
             "colorbar": {
              "outlinewidth": 0,
              "ticks": ""
             }
            },
            "type": "scatterternary"
           }
          ],
          "surface": [
           {
            "colorbar": {
             "outlinewidth": 0,
             "ticks": ""
            },
            "colorscale": [
             [
              0,
              "#0d0887"
             ],
             [
              0.1111111111111111,
              "#46039f"
             ],
             [
              0.2222222222222222,
              "#7201a8"
             ],
             [
              0.3333333333333333,
              "#9c179e"
             ],
             [
              0.4444444444444444,
              "#bd3786"
             ],
             [
              0.5555555555555556,
              "#d8576b"
             ],
             [
              0.6666666666666666,
              "#ed7953"
             ],
             [
              0.7777777777777778,
              "#fb9f3a"
             ],
             [
              0.8888888888888888,
              "#fdca26"
             ],
             [
              1,
              "#f0f921"
             ]
            ],
            "type": "surface"
           }
          ],
          "table": [
           {
            "cells": {
             "fill": {
              "color": "#EBF0F8"
             },
             "line": {
              "color": "white"
             }
            },
            "header": {
             "fill": {
              "color": "#C8D4E3"
             },
             "line": {
              "color": "white"
             }
            },
            "type": "table"
           }
          ]
         },
         "layout": {
          "annotationdefaults": {
           "arrowcolor": "#2a3f5f",
           "arrowhead": 0,
           "arrowwidth": 1
          },
          "autotypenumbers": "strict",
          "coloraxis": {
           "colorbar": {
            "outlinewidth": 0,
            "ticks": ""
           }
          },
          "colorscale": {
           "diverging": [
            [
             0,
             "#8e0152"
            ],
            [
             0.1,
             "#c51b7d"
            ],
            [
             0.2,
             "#de77ae"
            ],
            [
             0.3,
             "#f1b6da"
            ],
            [
             0.4,
             "#fde0ef"
            ],
            [
             0.5,
             "#f7f7f7"
            ],
            [
             0.6,
             "#e6f5d0"
            ],
            [
             0.7,
             "#b8e186"
            ],
            [
             0.8,
             "#7fbc41"
            ],
            [
             0.9,
             "#4d9221"
            ],
            [
             1,
             "#276419"
            ]
           ],
           "sequential": [
            [
             0,
             "#0d0887"
            ],
            [
             0.1111111111111111,
             "#46039f"
            ],
            [
             0.2222222222222222,
             "#7201a8"
            ],
            [
             0.3333333333333333,
             "#9c179e"
            ],
            [
             0.4444444444444444,
             "#bd3786"
            ],
            [
             0.5555555555555556,
             "#d8576b"
            ],
            [
             0.6666666666666666,
             "#ed7953"
            ],
            [
             0.7777777777777778,
             "#fb9f3a"
            ],
            [
             0.8888888888888888,
             "#fdca26"
            ],
            [
             1,
             "#f0f921"
            ]
           ],
           "sequentialminus": [
            [
             0,
             "#0d0887"
            ],
            [
             0.1111111111111111,
             "#46039f"
            ],
            [
             0.2222222222222222,
             "#7201a8"
            ],
            [
             0.3333333333333333,
             "#9c179e"
            ],
            [
             0.4444444444444444,
             "#bd3786"
            ],
            [
             0.5555555555555556,
             "#d8576b"
            ],
            [
             0.6666666666666666,
             "#ed7953"
            ],
            [
             0.7777777777777778,
             "#fb9f3a"
            ],
            [
             0.8888888888888888,
             "#fdca26"
            ],
            [
             1,
             "#f0f921"
            ]
           ]
          },
          "colorway": [
           "#636efa",
           "#EF553B",
           "#00cc96",
           "#ab63fa",
           "#FFA15A",
           "#19d3f3",
           "#FF6692",
           "#B6E880",
           "#FF97FF",
           "#FECB52"
          ],
          "font": {
           "color": "#2a3f5f"
          },
          "geo": {
           "bgcolor": "white",
           "lakecolor": "white",
           "landcolor": "#E5ECF6",
           "showlakes": true,
           "showland": true,
           "subunitcolor": "white"
          },
          "hoverlabel": {
           "align": "left"
          },
          "hovermode": "closest",
          "mapbox": {
           "style": "light"
          },
          "paper_bgcolor": "white",
          "plot_bgcolor": "#E5ECF6",
          "polar": {
           "angularaxis": {
            "gridcolor": "white",
            "linecolor": "white",
            "ticks": ""
           },
           "bgcolor": "#E5ECF6",
           "radialaxis": {
            "gridcolor": "white",
            "linecolor": "white",
            "ticks": ""
           }
          },
          "scene": {
           "xaxis": {
            "backgroundcolor": "#E5ECF6",
            "gridcolor": "white",
            "gridwidth": 2,
            "linecolor": "white",
            "showbackground": true,
            "ticks": "",
            "zerolinecolor": "white"
           },
           "yaxis": {
            "backgroundcolor": "#E5ECF6",
            "gridcolor": "white",
            "gridwidth": 2,
            "linecolor": "white",
            "showbackground": true,
            "ticks": "",
            "zerolinecolor": "white"
           },
           "zaxis": {
            "backgroundcolor": "#E5ECF6",
            "gridcolor": "white",
            "gridwidth": 2,
            "linecolor": "white",
            "showbackground": true,
            "ticks": "",
            "zerolinecolor": "white"
           }
          },
          "shapedefaults": {
           "line": {
            "color": "#2a3f5f"
           }
          },
          "ternary": {
           "aaxis": {
            "gridcolor": "white",
            "linecolor": "white",
            "ticks": ""
           },
           "baxis": {
            "gridcolor": "white",
            "linecolor": "white",
            "ticks": ""
           },
           "bgcolor": "#E5ECF6",
           "caxis": {
            "gridcolor": "white",
            "linecolor": "white",
            "ticks": ""
           }
          },
          "title": {
           "x": 0.05
          },
          "xaxis": {
           "automargin": true,
           "gridcolor": "white",
           "linecolor": "white",
           "ticks": "",
           "title": {
            "standoff": 15
           },
           "zerolinecolor": "white",
           "zerolinewidth": 2
          },
          "yaxis": {
           "automargin": true,
           "gridcolor": "white",
           "linecolor": "white",
           "ticks": "",
           "title": {
            "standoff": 15
           },
           "zerolinecolor": "white",
           "zerolinewidth": 2
          }
         }
        },
        "title": {
         "text": "Soorten Vliegtuig"
        }
       }
      }
     },
     "metadata": {},
     "output_type": "display_data"
    }
   ],
   "source": [
    "fig10= px.pie(df2, names='ModelVliegtuig', title=\"Soorten Vliegtuig\")\n",
    "fig10.show()"
   ]
  },
  {
   "cell_type": "code",
   "execution_count": null,
   "metadata": {},
   "outputs": [],
   "source": []
  }
 ],
 "metadata": {
  "kernelspec": {
   "display_name": "base",
   "language": "python",
   "name": "python3"
  },
  "language_info": {
   "codemirror_mode": {
    "name": "ipython",
    "version": 3
   },
   "file_extension": ".py",
   "mimetype": "text/x-python",
   "name": "python",
   "nbconvert_exporter": "python",
   "pygments_lexer": "ipython3",
   "version": "3.12.7"
  }
 },
 "nbformat": 4,
 "nbformat_minor": 2
}
