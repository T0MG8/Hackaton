{
 "cells": [
  {
   "cell_type": "code",
   "execution_count": 155,
   "metadata": {},
   "outputs": [
    {
     "name": "stdout",
     "output_type": "stream",
     "text": [
      "2025-03-25 03:41:28 2025-03-25 23:44:36\n"
     ]
    },
    {
     "data": {
      "text/html": [
       "<div>\n",
       "<style scoped>\n",
       "    .dataframe tbody tr th:only-of-type {\n",
       "        vertical-align: middle;\n",
       "    }\n",
       "\n",
       "    .dataframe tbody tr th {\n",
       "        vertical-align: top;\n",
       "    }\n",
       "\n",
       "    .dataframe thead th {\n",
       "        text-align: right;\n",
       "    }\n",
       "</style>\n",
       "<table border=\"1\" class=\"dataframe\">\n",
       "  <thead>\n",
       "    <tr style=\"text-align: right;\">\n",
       "      <th>headers</th>\n",
       "      <th>id</th>\n",
       "      <th>location_short</th>\n",
       "      <th>location_long</th>\n",
       "      <th>time</th>\n",
       "      <th>SELd</th>\n",
       "      <th>SELe</th>\n",
       "      <th>SELn</th>\n",
       "      <th>SELden</th>\n",
       "      <th>SEL</th>\n",
       "      <th>SEL_dB</th>\n",
       "      <th>lasmax_dB</th>\n",
       "      <th>distance</th>\n",
       "      <th>altitude</th>\n",
       "      <th>label</th>\n",
       "      <th>windspeed</th>\n",
       "      <th>winddirection</th>\n",
       "      <th>callsign</th>\n",
       "      <th>type</th>\n",
       "      <th>tags</th>\n",
       "      <th>duration</th>\n",
       "      <th>hex_s</th>\n",
       "      <th>registration</th>\n",
       "      <th>icao_type</th>\n",
       "      <th>serial</th>\n",
       "      <th>operator</th>\n",
       "    </tr>\n",
       "  </thead>\n",
       "  <tbody>\n",
       "    <tr>\n",
       "      <th>0</th>\n",
       "      <td>132587921</td>\n",
       "      <td>Aa</td>\n",
       "      <td>Aalsmeerderweg</td>\n",
       "      <td>2025-03-25 03:43:14</td>\n",
       "      <td>0</td>\n",
       "      <td>0.0</td>\n",
       "      <td>1599420</td>\n",
       "      <td>15994200</td>\n",
       "      <td>1599420</td>\n",
       "      <td>62.039630</td>\n",
       "      <td>49.7</td>\n",
       "      <td>2500.54</td>\n",
       "      <td>205.232</td>\n",
       "      <td>21</td>\n",
       "      <td>2</td>\n",
       "      <td>219</td>\n",
       "      <td>BCS21G</td>\n",
       "      <td>Airbus A300 B4-622RF</td>\n",
       "      <td>Zwanenburgbaan36C_L</td>\n",
       "      <td>45</td>\n",
       "      <td>3C542E</td>\n",
       "      <td>D-AEAN</td>\n",
       "      <td>A306</td>\n",
       "      <td>703</td>\n",
       "      <td>Dhl Air</td>\n",
       "    </tr>\n",
       "    <tr>\n",
       "      <th>1</th>\n",
       "      <td>132587931</td>\n",
       "      <td>Aa</td>\n",
       "      <td>Aalsmeerderweg</td>\n",
       "      <td>2025-03-25 05:37:31</td>\n",
       "      <td>0</td>\n",
       "      <td>0.0</td>\n",
       "      <td>6725940</td>\n",
       "      <td>67259400</td>\n",
       "      <td>6725940</td>\n",
       "      <td>68.277532</td>\n",
       "      <td>56.9</td>\n",
       "      <td>2568.38</td>\n",
       "      <td>579.240</td>\n",
       "      <td>21</td>\n",
       "      <td>4</td>\n",
       "      <td>253</td>\n",
       "      <td>TRA5071</td>\n",
       "      <td>Boeing 737-800</td>\n",
       "      <td>Zwanenburgbaan36C_T</td>\n",
       "      <td>53</td>\n",
       "      <td>48597D</td>\n",
       "      <td>PH-HXN</td>\n",
       "      <td>B738</td>\n",
       "      <td>63623</td>\n",
       "      <td>Transavia</td>\n",
       "    </tr>\n",
       "    <tr>\n",
       "      <th>2</th>\n",
       "      <td>132587941</td>\n",
       "      <td>Aa</td>\n",
       "      <td>Aalsmeerderweg</td>\n",
       "      <td>2025-03-25 05:38:47</td>\n",
       "      <td>0</td>\n",
       "      <td>0.0</td>\n",
       "      <td>6916500</td>\n",
       "      <td>69165000</td>\n",
       "      <td>6916500</td>\n",
       "      <td>68.398862</td>\n",
       "      <td>56.5</td>\n",
       "      <td>2548.47</td>\n",
       "      <td>453.895</td>\n",
       "      <td>21</td>\n",
       "      <td>4</td>\n",
       "      <td>253</td>\n",
       "      <td>TRA6901</td>\n",
       "      <td>Boeing 737-800</td>\n",
       "      <td>Zwanenburgbaan36C_T</td>\n",
       "      <td>46</td>\n",
       "      <td>485122</td>\n",
       "      <td>PH-HSK</td>\n",
       "      <td>B738</td>\n",
       "      <td>41330</td>\n",
       "      <td></td>\n",
       "    </tr>\n",
       "    <tr>\n",
       "      <th>3</th>\n",
       "      <td>132587951</td>\n",
       "      <td>Aa</td>\n",
       "      <td>Aalsmeerderweg</td>\n",
       "      <td>2025-03-25 05:41:41</td>\n",
       "      <td>0</td>\n",
       "      <td>0.0</td>\n",
       "      <td>3955160</td>\n",
       "      <td>39551600</td>\n",
       "      <td>3955160</td>\n",
       "      <td>65.971645</td>\n",
       "      <td>53.4</td>\n",
       "      <td>2535.56</td>\n",
       "      <td>538.776</td>\n",
       "      <td>21</td>\n",
       "      <td>4</td>\n",
       "      <td>251</td>\n",
       "      <td>TRA16Y</td>\n",
       "      <td>None</td>\n",
       "      <td>Zwanenburgbaan36C_T</td>\n",
       "      <td>45</td>\n",
       "      <td>4867EC</td>\n",
       "      <td>None</td>\n",
       "      <td>None</td>\n",
       "      <td>None</td>\n",
       "      <td>None</td>\n",
       "    </tr>\n",
       "    <tr>\n",
       "      <th>4</th>\n",
       "      <td>132587961</td>\n",
       "      <td>Aa</td>\n",
       "      <td>Aalsmeerderweg</td>\n",
       "      <td>2025-03-25 06:04:10</td>\n",
       "      <td>4770540</td>\n",
       "      <td>0.0</td>\n",
       "      <td>0</td>\n",
       "      <td>4770540</td>\n",
       "      <td>4770540</td>\n",
       "      <td>66.785673</td>\n",
       "      <td>54.2</td>\n",
       "      <td>2761.78</td>\n",
       "      <td>580.855</td>\n",
       "      <td>21</td>\n",
       "      <td>4</td>\n",
       "      <td>245</td>\n",
       "      <td>EJU84XT</td>\n",
       "      <td>None</td>\n",
       "      <td>Zwanenburgbaan36C_T</td>\n",
       "      <td>42</td>\n",
       "      <td>440073</td>\n",
       "      <td>None</td>\n",
       "      <td>None</td>\n",
       "      <td>None</td>\n",
       "      <td>None</td>\n",
       "    </tr>\n",
       "  </tbody>\n",
       "</table>\n",
       "</div>"
      ],
      "text/plain": [
       "headers         id location_short   location_long                time  \\\n",
       "0        132587921             Aa  Aalsmeerderweg 2025-03-25 03:43:14   \n",
       "1        132587931             Aa  Aalsmeerderweg 2025-03-25 05:37:31   \n",
       "2        132587941             Aa  Aalsmeerderweg 2025-03-25 05:38:47   \n",
       "3        132587951             Aa  Aalsmeerderweg 2025-03-25 05:41:41   \n",
       "4        132587961             Aa  Aalsmeerderweg 2025-03-25 06:04:10   \n",
       "\n",
       "headers     SELd  SELe     SELn    SELden      SEL     SEL_dB  lasmax_dB  \\\n",
       "0              0   0.0  1599420  15994200  1599420  62.039630       49.7   \n",
       "1              0   0.0  6725940  67259400  6725940  68.277532       56.9   \n",
       "2              0   0.0  6916500  69165000  6916500  68.398862       56.5   \n",
       "3              0   0.0  3955160  39551600  3955160  65.971645       53.4   \n",
       "4        4770540   0.0        0   4770540  4770540  66.785673       54.2   \n",
       "\n",
       "headers  distance  altitude  label  windspeed  winddirection callsign  \\\n",
       "0         2500.54   205.232     21          2            219   BCS21G   \n",
       "1         2568.38   579.240     21          4            253  TRA5071   \n",
       "2         2548.47   453.895     21          4            253  TRA6901   \n",
       "3         2535.56   538.776     21          4            251   TRA16Y   \n",
       "4         2761.78   580.855     21          4            245  EJU84XT   \n",
       "\n",
       "headers                  type                 tags  duration   hex_s  \\\n",
       "0        Airbus A300 B4-622RF  Zwanenburgbaan36C_L        45  3C542E   \n",
       "1              Boeing 737-800  Zwanenburgbaan36C_T        53  48597D   \n",
       "2              Boeing 737-800  Zwanenburgbaan36C_T        46  485122   \n",
       "3                        None  Zwanenburgbaan36C_T        45  4867EC   \n",
       "4                        None  Zwanenburgbaan36C_T        42  440073   \n",
       "\n",
       "headers registration icao_type serial   operator  \n",
       "0             D-AEAN      A306    703    Dhl Air  \n",
       "1             PH-HXN      B738  63623  Transavia  \n",
       "2             PH-HSK      B738  41330             \n",
       "3               None      None   None       None  \n",
       "4               None      None   None       None  "
      ]
     },
     "execution_count": 155,
     "metadata": {},
     "output_type": "execute_result"
    }
   ],
   "source": [
    "import requests\n",
    "import pandas as pd\n",
    "import plotly.graph_objects as go\n",
    "import plotly.express as px\n",
    "import seaborn as sns\n",
    "import matplotlib.pyplot as plt\n",
    "pd.set_option('display.max_columns', None)\n",
    "\n",
    "start_date = int(pd.to_datetime('2025-03-25').timestamp())\n",
    "end_date = int(pd.to_datetime('2025-03-26').timestamp())\n",
    "\n",
    "response = requests.get(f'https://sensornet.nl/dataserver3/event/collection/nina_events/stream?conditions%5B0%5D%5B%5D=time&conditions%5B0%5D%5B%5D=%3E%3D&conditions%5B0%5D%5B%5D={start_date}&conditions%5B1%5D%5B%5D=time&conditions%5B1%5D%5B%5D=%3C&conditions%5B1%5D%5B%5D={end_date}&conditions%5B2%5D%5B%5D=label&conditions%5B2%5D%5B%5D=in&conditions%5B2%5D%5B2%5D%5B%5D=21&conditions%5B2%5D%5B2%5D%5B%5D=32&conditions%5B2%5D%5B2%5D%5B%5D=33&conditions%5B2%5D%5B2%5D%5B%5D=34&args%5B%5D=aalsmeer&args%5B%5D=schiphol&fields%5B%5D=time&fields%5B%5D=location_short&fields%5B%5D=location_long&fields%5B%5D=duration&fields%5B%5D=SEL&fields%5B%5D=SELd&fields%5B%5D=SELe&fields%5B%5D=SELn&fields%5B%5D=SELden&fields%5B%5D=SEL_dB&fields%5B%5D=lasmax_dB&fields%5B%5D=callsign&fields%5B%5D=type&fields%5B%5D=altitude&fields%5B%5D=distance&fields%5B%5D=winddirection&fields%5B%5D=windspeed&fields%5B%5D=label&fields%5B%5D=hex_s&fields%5B%5D=registration&fields%5B%5D=icao_type&fields%5B%5D=serial&fields%5B%5D=operator&fields%5B%5D=tags')\n",
    "\n",
    "colnames = pd.DataFrame(response.json()['metadata'])\n",
    "data = pd.DataFrame(response.json()['rows'])\n",
    "data.columns = colnames.headers\n",
    "\n",
    "data['time'] = pd.to_datetime(data['time'], unit = 's')\n",
    "\n",
    "print(data['time'].min(),data['time'].max())\n",
    "\n",
    "data.head()\n"
   ]
  },
  {
   "cell_type": "code",
   "execution_count": 156,
   "metadata": {},
   "outputs": [
    {
     "name": "stdout",
     "output_type": "stream",
     "text": [
      "<class 'pandas.core.frame.DataFrame'>\n",
      "RangeIndex: 2437 entries, 0 to 2436\n",
      "Data columns (total 25 columns):\n",
      " #   Column          Non-Null Count  Dtype         \n",
      "---  ------          --------------  -----         \n",
      " 0   id              2437 non-null   int64         \n",
      " 1   location_short  2437 non-null   object        \n",
      " 2   location_long   2437 non-null   object        \n",
      " 3   time            2437 non-null   datetime64[ns]\n",
      " 4   SELd            2437 non-null   int64         \n",
      " 5   SELe            2437 non-null   float64       \n",
      " 6   SELn            2437 non-null   int64         \n",
      " 7   SELden          2437 non-null   int64         \n",
      " 8   SEL             2437 non-null   int64         \n",
      " 9   SEL_dB          2437 non-null   float64       \n",
      " 10  lasmax_dB       2437 non-null   float64       \n",
      " 11  distance        2437 non-null   float64       \n",
      " 12  altitude        2437 non-null   float64       \n",
      " 13  label           2437 non-null   int64         \n",
      " 14  windspeed       2437 non-null   int64         \n",
      " 15  winddirection   2437 non-null   int64         \n",
      " 16  callsign        2437 non-null   object        \n",
      " 17  type            1691 non-null   object        \n",
      " 18  tags            2437 non-null   object        \n",
      " 19  duration        2437 non-null   int64         \n",
      " 20  hex_s           2437 non-null   object        \n",
      " 21  registration    1691 non-null   object        \n",
      " 22  icao_type       1691 non-null   object        \n",
      " 23  serial          1691 non-null   object        \n",
      " 24  operator        1691 non-null   object        \n",
      "dtypes: datetime64[ns](1), float64(5), int64(9), object(10)\n",
      "memory usage: 476.1+ KB\n"
     ]
    }
   ],
   "source": [
    "data.info()"
   ]
  },
  {
   "cell_type": "code",
   "execution_count": 157,
   "metadata": {},
   "outputs": [
    {
     "data": {
      "application/vnd.plotly.v1+json": {
       "config": {
        "plotlyServerURL": "https://plot.ly"
       },
       "data": [
        {
         "domain": {
          "x": [
           0,
           1
          ],
          "y": [
           0,
           1
          ]
         },
         "hovertemplate": "type=%{label}<extra></extra>",
         "labels": [
          "Airbus A300 B4-622RF",
          "Boeing 737-800",
          "Boeing 737-800",
          null,
          null,
          null,
          "Bombardier Global Express",
          "Embraer ERJ 170-200 STD",
          "Embraer ERJ190-100STD",
          null,
          "Embraer ERJ 190-100 STD",
          "Boeing 737-800",
          "Airbus A320 216SL",
          "Embraer ERJ 170-200 STD",
          null,
          "Boeing 737-800",
          "Airbus A320 - 214SL",
          "Airbus A320 214SL",
          null,
          "Airbus A319-111",
          null,
          "Airbus A320-271N",
          null,
          null,
          "Boeing 737-900",
          "Boeing 737-800",
          "Embraer ERJ 170-200 STD",
          "Boeing 737-800",
          "Embraer ERJ 170-200 STD",
          null,
          "Embraer ERJ 170-200 STD",
          null,
          null,
          null,
          "Embraer ERJ 170-200 STD",
          "Boeing 737-800",
          "Embraer ERJ190-100SR",
          "Embraer ERJ 170-200 STD",
          null,
          "Embraer ERJ 190-100 STD",
          null,
          "Boeing 737-800",
          "Boeing 737-800",
          null,
          "Cessna Citation CJ2+",
          "Boeing 737-800",
          null,
          "Boeing 737-800",
          "Airbus A319 114",
          null,
          "Embraer ERJ190-100LR",
          "Embraer ERJ 190-100 STD",
          "Embraer EMB-195 LR",
          "Boeing 777-300ER",
          "Embraer ERJ190-100STD",
          "Boeing 737-700",
          null,
          null,
          null,
          null,
          "Boeing 777-200",
          "Airbus A330 323E",
          "Embraer ERJ 170-200 STD",
          "Embraer ERJ 190-100 STD",
          null,
          "Embraer ERJ 170-200 STD",
          "Boeing 737-800",
          null,
          null,
          "Boeing 737-700",
          null,
          "Boeing 737-800",
          "Boeing 737-800",
          "Embraer ERJ 170-200 STD",
          "Airbus A320-214SL",
          null,
          "Boeing 737-800",
          "",
          "Embraer ERJ 190-100 STD",
          null,
          null,
          "Boeing 737-800",
          "Boeing 737NG 8AS/W",
          "Embraer ERJ 190-100 STD",
          "Boeing 737-800",
          "Boeing 737-800",
          "Embraer ERJ190-100STD",
          "Boeing 737-800",
          "Embraer ERJ 190-100 STD",
          null,
          "Embraer ERJ 170-200 STD",
          "Boeing 737-900",
          "Airbus A320 214",
          "Boeing 737-800",
          "Boeing 737-800",
          "Bombardier Global 6000",
          null,
          null,
          "Embraer ERJ 170-200 STD",
          "Embraer ERJ190-100STD",
          "Boeing 737-800",
          "Boeing 777 FFX",
          null,
          null,
          "Embraer ERJ190-100STD",
          "Bombardier BD500 Series CS300",
          "Boeing 737-800",
          null,
          "Boeing 747-412",
          null,
          "Airbus A320 214SL",
          null,
          "Boeing 737-800",
          "Cessna Citation Mustang",
          "Airbus A320-214SL",
          "Boeing 737-8MAX",
          "Bombardier Challenger 850",
          null,
          "Airbus A320 214SL",
          "Boeing 737-900",
          "Boeing 787 8",
          null,
          "Boeing 737-800",
          null,
          "Boeing 767 322ER",
          "Boeing 777-300ER",
          null,
          null,
          "Boeing 777-300ER",
          null,
          "Airbus A320 214",
          null,
          null,
          "Airbus A319 112",
          null,
          "Boeing 737NG 85P/W",
          "Boeing 777-200",
          "Embraer ERJ 190-100 STD",
          "Airbus A330 323E",
          "Boeing 777-300ER",
          "Boeing 767 322ER/W",
          "Boeing 737-800",
          "Embraer ERJ 170-200 STD",
          "Embraer ERJ 190-100 STD",
          "Cessna 510 Citation Mustang",
          "Boeing 737-800",
          "Boeing 737NG 800/W",
          "Boeing 777-FDZ",
          "Boeing 787 8",
          "Embraer ERJ 170-200 STD",
          null,
          null,
          null,
          "Embraer ERJ 190-100 STD",
          null,
          null,
          "Airbus A330 223",
          null,
          "Embraer ERJ 170-200 STD",
          null,
          "Embraer ERJ 170-200 STD",
          null,
          "Boeing 777-300ER",
          "Airbus A321 231",
          "Embraer ERJ 170-200 STD",
          null,
          "Airbus A320 214SL",
          "Boeing 737-800",
          null,
          "Boeing 737-800",
          "Embraer ERJ190-100STD",
          null,
          "Boeing 737-800",
          "Boeing 787-9",
          "Embraer EMB-190 LR",
          "Airbus A320-232",
          "Airbus A320 216SL",
          "Boeing 737-800",
          "Embraer ERJ190-100STD",
          null,
          "Boeing 737-3L9",
          "Embraer ERJ 190-100 STD",
          "Airbus A330 323E",
          "Airbus A330 323E",
          "Boeing 767 319ER/W",
          "Embraer ERJ 170-200 STD",
          null,
          "Airbus SAS A330-203",
          "Airbus SAS A330-203",
          null,
          null,
          "Airbus A330 323E",
          "Boeing 787-8",
          "Embraer ERJ 170-200 STD",
          "Embraer ERJ 190-100 STD",
          "Embraer ERJ 190-100 STD",
          "Boeing 737-800",
          null,
          "Embraer ERJ 170-200 STD",
          "Boeing 737-800",
          "Boeing 737NG 8F2/W",
          "Embraer ERJ 190-100 STD",
          "Embraer ERJ 190-100 STD",
          "Airbus A319-111",
          "Airbus A320 232SL",
          "Airbus A320 214SL",
          null,
          null,
          null,
          "Airbus A320 214",
          null,
          "Boeing 737-800",
          null,
          null,
          "Airbus A319-111",
          "Bombardier Challenger 605",
          null,
          "Boeing 737-700",
          "Boeing 737-800",
          "Embraer EMB-195 LR",
          "Embraer EMB-170 STD",
          null,
          "Boeing 737-800",
          "Boeing 737-700",
          "Airbus SAS A330-203",
          null,
          "Boeing 777-300ER",
          "Boeing 777-200",
          "Boeing 737-800",
          "Boeing 737-900",
          "Boeing 777-F",
          "Airbus A320-214SL",
          null,
          "Boeing 737-800",
          "Boeing 737-700",
          "Embraer ERJ190-100STD",
          "Boeing 777-300ER",
          "Boeing 737-800",
          "Airbus A319 112",
          "Embraer ERJ 190-100 STD",
          null,
          "Embraer ERJ 190-100 STD",
          null,
          "Embraer ERJ190-100STD",
          "Airbus A330 223",
          "Boeing 747-400F",
          "Airbus A320 214",
          null,
          "Airbus A330 323X",
          "Boeing 737-800",
          "Airbus SAS A330-203",
          "Boeing 747 4R7F",
          "Boeing 777-3DZER",
          null,
          "Embraer ERJ 170-200 STD",
          "Embraer ERJ 190-100 STD",
          null,
          null,
          "Airbus A319 131",
          "Boeing 787-9",
          "Boeing 777 31HER",
          "Airbus A350 941",
          null,
          "Boeing 737-800",
          "Boeing 737-700",
          "Embraer ERJ 170-200 STD",
          "Boeing 737-800",
          "Airbus A320 216",
          "Airbus A320 214",
          null,
          "Boeing 737-800",
          "Boeing 737-800",
          null,
          null,
          "Embraer ERJ 170-200 STD",
          null,
          "Boeing 737-800",
          "Airbus A318 111",
          null,
          "Boeing 737-700",
          "Embraer ERJ 190-100 STD",
          "Embraer ERJ 190-100 STD",
          null,
          "Boeing 737-800",
          "Boeing 737-800",
          null,
          "Boeing 737-700",
          null,
          null,
          "Boeing 737-800",
          "Embraer ERJ 190-100 STD",
          "Boeing 737-800",
          "Embraer ERJ 170-200 STD",
          null,
          null,
          null,
          null,
          null,
          "Boeing 737-800",
          "Canadair CL-600-2B19 CRJ-200LR",
          null,
          "Embraer ERJ 170-200 STD",
          "Embraer ERJ 170-200 STD",
          "Boeing 737-800",
          "Embraer ERJ 190-100 STD",
          "Boeing 737-800",
          "Boeing 777-300ER",
          "Boeing 737-900",
          null,
          null,
          null,
          "Boeing 737-800",
          "Boeing 737NG 85P/W",
          "Embraer ERJ 190-100 STD",
          "Airbus A320 - 214SL",
          "Embraer EMB-190 SR",
          "Bombardier CRJ 900 LR NG",
          "Boeing 787-9",
          "Embraer ERJ190-100STD",
          "Airbus A321 211",
          null,
          "Airbus A319-111",
          "Embraer ERJ 190-100 STD",
          null,
          null,
          null,
          "Airbus A319 112",
          null,
          "Embraer ERJ 190-100 STD",
          null,
          null,
          "Airbus A319-111",
          "Boeing 737-800",
          null,
          "Boeing 737-800",
          "Boeing 737-800",
          "Boeing 737-700",
          null,
          "Boeing 777-300ER",
          "Boeing 777 3FXER",
          null,
          "Boeing 737-800",
          "Boeing 777 36NER",
          "Boeing 777 3B5ER",
          "Boeing 737NG 800/W",
          "Airbus A320 214",
          null,
          "Airbus A320-216",
          null,
          "Boeing 747-400",
          "Boeing 737-700",
          "Boeing 737-800",
          null,
          "Embraer ERJ190-100STD",
          "Boeing 777-200",
          null,
          "Embraer ERJ 190-100 STD",
          "Embraer ERJ 170-200 STD",
          "Boeing 737-800",
          null,
          "Embraer ERJ 170-200 STD",
          "Canadair CRJ900NG Regional Jet",
          null,
          "Embraer ERJ 190-100 STD",
          "Boeing 737-800",
          "Boeing 737-800",
          "Boeing 737-800",
          "Boeing 737-700",
          "Boeing 737-800",
          "Embraer ERJ190-100LR",
          null,
          null,
          "Boeing 737-800",
          "Boeing 737-800",
          null,
          "Airbus A380 861",
          "Embraer ERJ 170-200 STD",
          null,
          "Boeing 737-800",
          "Boeing 737-700",
          "Embraer ERJ 190-100 STD",
          "Boeing 737NG 958ER/W",
          null,
          "Airbus A320-251N",
          "Boeing 737-800",
          null,
          "Embraer ERJ 190-100 STD",
          "Boeing 787-9",
          "Embraer ERJ 190-100 STD",
          "Boeing 737-900",
          "Embraer ERJ 190-100 STD",
          null,
          null,
          "Embraer ERJ 170-200 STD",
          null,
          "Embraer ERJ 190-100 STD",
          "Airbus A320 214",
          null,
          "Boeing 737-700",
          "Airbus A320 232SL",
          "Boeing 737-800",
          "Boeing 737-800",
          "Boeing 737-800",
          null,
          "Boeing 737-800",
          "Airbus A320 214",
          "Boeing 737-800",
          null,
          "Embraer ERJ 170-200 STD",
          "Boeing 737-700",
          "Boeing 777 3B5ER",
          "Boeing 737-900",
          "Boeing 737-800",
          "Embraer ERJ 170-200 STD",
          "Embraer ERJ190-100STD",
          "Boeing 777-200",
          "Embraer ERJ 170-200 STD",
          "Boeing 737-800",
          null,
          "Boeing 737NG 958ER/W",
          null,
          "Airbus A300 B4-622RF",
          "Embraer ERJ 190-100 STD",
          "Embraer ERJ 190-100 STD",
          null,
          "Airbus A319-111",
          "Boeing 737-900",
          "Boeing 737-800",
          "Boeing 737-800",
          "Boeing 737-800",
          "Airbus A300 B4-622RF",
          "Boeing 737-800",
          "Boeing 737-800",
          "Embraer ERJ 190-100 STD",
          "Boeing 737-800",
          "Airbus A320 216SL",
          "Airbus A320 216",
          null,
          null,
          null,
          "Embraer ERJ 170-200 STD",
          "Boeing 737-800",
          null,
          null,
          "Embraer ERJ 170-200 STD",
          "Embraer ERJ 190-100 STD",
          "Boeing 737-800",
          "Boeing 737-800",
          null,
          null,
          "Embraer ERJ 190-100 STD",
          "Embraer EMB-195 LR",
          null,
          null,
          null,
          null,
          "Boeing 777-200",
          "Embraer ERJ 190-100 STD",
          "Boeing 737-800",
          "Embraer ERJ 190-100 STD",
          "Eurocopter Deutschland EC135 P2+",
          "Boeing 737-700",
          null,
          "Boeing 737-800",
          "Embraer ERJ 170-200 STD",
          "Airbus A320-214SL",
          "Boeing 737-800",
          "Embraer ERJ 190-100 STD",
          null,
          "Boeing 737-800",
          "Boeing 737NG 8AS/W",
          "Boeing 737-800",
          "Boeing 737-800",
          "Boeing 737-800",
          null,
          "Boeing 737-900",
          "Boeing 737-800",
          "Boeing 737-800",
          null,
          "Airbus A320 214",
          null,
          "Embraer ERJ 170-200 STD",
          "Embraer ERJ190-100STD",
          null,
          null,
          "Embraer ERJ190-100STD",
          null,
          "Boeing 737-800",
          "Boeing 747-412",
          null,
          "Airbus A320 214SL",
          "Boeing 737-8MAX",
          null,
          "Airbus A320 214SL",
          "Boeing 737-900",
          "Boeing 787 8",
          null,
          null,
          "Airbus A350 941",
          null,
          null,
          null,
          "Boeing 737NG 85P/W",
          "Embraer ERJ 190-100 STD",
          "Learjet 60",
          "Boeing 777-300ER",
          "Boeing 737-800",
          "Embraer ERJ 190-100 STD",
          "Boeing 737NG 800/W",
          "Embraer ERJ 170-200 STD",
          null,
          "Embraer ERJ 190-100 STD",
          "Airbus A330 223",
          "Embraer ERJ 170-200 STD",
          null,
          "Embraer ERJ 170-200 STD",
          null,
          "Airbus A321 231",
          null,
          "Airbus A320 214SL",
          "Boeing 737-800",
          null,
          null,
          "Boeing 737-800",
          null,
          "Boeing 787-9",
          "Embraer EMB-190 LR",
          "Airbus A320-232",
          "Airbus A320 216SL",
          "Embraer ERJ190-100STD",
          "Embraer ERJ190-100LR",
          "Airbus A330 323E",
          "Airbus A330 323E",
          "Boeing 767 319ER/W",
          "Embraer ERJ 170-200 STD",
          "Airbus SAS A330-203",
          null,
          null,
          "Boeing 787-8",
          "Embraer ERJ 170-200 STD",
          "Boeing 737-800",
          null,
          "Boeing 737-800",
          "Embraer ERJ 170-200 STD",
          null,
          null,
          null,
          "Airbus A320 232SL",
          null,
          null,
          "Bombardier Challenger 605",
          "Boeing 737-700",
          "Embraer EMB-195 LR",
          "Embraer EMB-170 STD",
          "Airbus SAS A330-203",
          "Boeing 777-200",
          "Boeing 737-900",
          null,
          "Boeing 737-700",
          "Boeing 777-300ER",
          "Boeing 737-800",
          "Embraer ERJ 190-100 STD",
          null,
          "Embraer ERJ190-100STD",
          "Boeing 747-400F",
          "Airbus A320 214",
          "Boeing 747 4R7F",
          "Embraer ERJ 170-200 STD",
          "Airbus A319 131",
          "Boeing 787-9",
          "Boeing 777 31HER",
          "Airbus A320 216",
          null,
          null,
          "Embraer ERJ 170-200 STD",
          "Boeing 737-800",
          "Airbus A318 111",
          "Boeing 737-700",
          "Embraer ERJ 190-100 STD",
          "Boeing 737-700",
          null,
          null,
          "Boeing 737-800",
          null,
          null,
          null,
          "Canadair CL-600-2B19 CRJ-200LR",
          null,
          "Embraer ERJ 170-200 STD",
          "Boeing 737-900",
          null,
          null,
          null,
          "Boeing 737-800",
          "Boeing 737NG 85P/W",
          "Airbus A320 - 214SL",
          "Bombardier CRJ 900 LR NG",
          "Boeing 787-9",
          "Embraer ERJ190-100STD",
          "Airbus A321 211",
          null,
          "Airbus A319-111",
          "Embraer ERJ 190-100 STD",
          null,
          null,
          null,
          "Airbus A319 112",
          null,
          "Embraer ERJ 190-100 STD",
          null,
          null,
          "Airbus A319-111",
          "Boeing 737-800",
          null,
          "Boeing 737-900",
          "Boeing 737-800",
          "Boeing 737-800",
          "Boeing 737-700",
          null,
          "Boeing 777-300ER",
          "Boeing 777 3FXER",
          null,
          "Boeing 737-800",
          "Boeing 777 36NER",
          "Boeing 777 3B5ER",
          "Boeing 737NG 800/W",
          "Airbus A320 214",
          null,
          "Airbus A320-216",
          null,
          "Boeing 747-400",
          "Boeing 737-700",
          "Boeing 737-800",
          null,
          "Embraer ERJ190-100STD",
          "Boeing 777-200",
          null,
          "Embraer ERJ 190-100 STD",
          "Embraer ERJ 170-200 STD",
          "Boeing 737-800",
          null,
          "Embraer ERJ 170-200 STD",
          "Canadair CRJ900NG Regional Jet",
          null,
          "Embraer ERJ 190-100 STD",
          "Boeing 737-800",
          "Boeing 737-800",
          "Boeing 737-800",
          "Boeing 737-700",
          "Boeing 737-800",
          "Boeing 737-800",
          "Embraer ERJ190-100LR",
          null,
          null,
          "Boeing 737-800",
          "Boeing 737-800",
          null,
          "Airbus A380 861",
          "Embraer ERJ 170-200 STD",
          null,
          "Boeing 737-800",
          "Boeing 737-700",
          "Embraer ERJ 190-100 STD",
          "Boeing 737NG 958ER/W",
          null,
          "Airbus A320-251N",
          "Boeing 737-800",
          null,
          "Embraer ERJ 170-200 STD",
          "Airbus A320 214SL",
          "Airbus A319 111",
          "Airbus A320 214",
          "Boeing 787-9",
          "Embraer ERJ 190-100 STD",
          "Boeing 737-900",
          "Embraer ERJ 190-100 STD",
          null,
          null,
          null,
          "Embraer ERJ 170-200 STD",
          null,
          "Embraer ERJ 190-100 STD",
          "Airbus A320 214",
          "Boeing 737-700",
          "Embraer ERJ190-100LR",
          "Boeing 737-800",
          "Boeing 737-800",
          "Boeing 737-800",
          "Embraer ERJ 170-200 STD",
          null,
          null,
          null,
          "Boeing 737-800",
          "Airbus A320 214",
          "Boeing 737-800",
          "Embraer ERJ 170-200 STD",
          "Boeing 737-700",
          null,
          "Boeing 777 3B5ER",
          "Boeing 737-900",
          "Embraer ERJ 170-200 STD",
          "Embraer ERJ190-100STD",
          "Boeing 777-200",
          "Boeing 737-800",
          "Boeing 737NG 958ER/W",
          null,
          "Airbus A300 B4-622RF",
          "Embraer ERJ 190-100 STD",
          "Embraer ERJ 190-100 STD",
          null,
          "Airbus A320 216SL",
          "Airbus A319-111",
          "Embraer ERJ 170-200 STD",
          "Airbus A320-251N",
          "Boeing 737-900",
          "Embraer ERJ190-100STD",
          "Boeing 737-800",
          "Embraer ERJ 190-100 STD",
          "Boeing 737-800",
          "Boeing 737-800",
          "Embraer ERJ 190-100 STD",
          null,
          "Boeing 737-800",
          "Boeing 737-800",
          null,
          null,
          null,
          "Airbus A300 B4-622RF",
          "Boeing 737-800",
          "Boeing 737-800",
          null,
          null,
          null,
          null,
          "Bombardier Global Express",
          "Embraer ERJ 170-200 STD",
          "Embraer ERJ190-100STD",
          null,
          null,
          "Embraer ERJ 170-200 STD",
          "Embraer ERJ 170-200 STD",
          null,
          null,
          null,
          null,
          "Cessna Citation CJ2+",
          "Boeing 737-800",
          "Boeing 737-800",
          "Airbus A319 114",
          "Embraer ERJ190-100LR",
          "Embraer EMB-195 LR",
          "Boeing 737-700",
          null,
          null,
          "Boeing 777 222ER",
          null,
          null,
          "Boeing 777-200",
          "Airbus A330 323E",
          "Embraer ERJ 170-200 STD",
          "Embraer ERJ 190-100 STD",
          null,
          "Embraer ERJ 170-200 STD",
          "Boeing 737-800",
          null,
          null,
          "Embraer ERJ 190-100 STD",
          "Eurocopter Deutschland EC135 P2+",
          "Boeing 737-700",
          null,
          "Boeing 737-800",
          "Boeing 737-800",
          "Embraer ERJ 170-200 STD",
          "Airbus A320-214SL",
          "Boeing 737-800",
          "Embraer EMB-170 STD",
          "Embraer ERJ 190-100 STD",
          null,
          null,
          "Boeing 737-800",
          "Boeing 737NG 8AS/W",
          "Embraer ERJ 190-100 STD",
          "Embraer ERJ 190-100 STD",
          "Boeing 737-800",
          "Boeing 737-800",
          "Embraer ERJ190-100STD",
          "Boeing 737-800",
          "Embraer ERJ 190-100 STD",
          null,
          "Embraer ERJ 170-200 STD",
          "Boeing 737-900",
          "Airbus A320 214",
          "Boeing 737-800",
          "Boeing 737-800",
          "Bombardier Global 6000",
          null,
          "Airbus A320 214",
          null,
          "Embraer ERJ 170-200 STD",
          "Embraer ERJ190-100STD",
          "Boeing 737-800",
          "Boeing 777 FFX",
          null,
          null,
          null,
          null,
          "Embraer ERJ190-100STD",
          null,
          "Bombardier BD500 Series CS300",
          "Boeing 737-800",
          null,
          "Boeing 747-412",
          null,
          "Airbus A320 214SL",
          null,
          "Boeing 737-800",
          null,
          "Airbus A320-214SL",
          "Boeing 737-8MAX",
          null,
          "Airbus A320 214SL",
          "Boeing 737-900",
          "Boeing 787 8",
          null,
          null,
          "Boeing 737-800",
          null,
          "Boeing 767 322ER",
          "Boeing 777-300ER",
          "Airbus A350 941",
          null,
          null,
          "Boeing 777-300ER",
          null,
          "Airbus A320 214",
          null,
          null,
          "Airbus A319 112",
          null,
          "Boeing 737NG 85P/W",
          "Boeing 777-200",
          "Embraer ERJ 190-100 STD",
          "Learjet 60",
          "Airbus A330 323E",
          "Boeing 777-300ER",
          "Boeing 767 322ER/W",
          "Boeing 737-800",
          "Embraer ERJ 170-200 STD",
          "Embraer ERJ 190-100 STD",
          "Boeing 737-800",
          "Boeing 737NG 800/W",
          "Boeing 777-FDZ",
          "Boeing 787 8",
          "Airbus A319-111",
          "Embraer ERJ 170-200 STD",
          null,
          null,
          "Boeing 737-900",
          "Embraer ERJ 190-100 STD",
          null,
          null,
          "Airbus A330 223",
          null,
          "Embraer ERJ 170-200 STD",
          null,
          "Embraer ERJ 170-200 STD",
          null,
          "Boeing 777-300ER",
          "Airbus A321 231",
          "Embraer ERJ 170-200 STD",
          null,
          "Airbus A320 214SL",
          "Boeing 737-800",
          null,
          "Boeing 737-800",
          null,
          "Embraer EMB-190 LR",
          "Airbus A320-232",
          "Airbus A320 214",
          "Embraer ERJ190-100STD",
          "Embraer ERJ 190-100 STD",
          "Embraer ERJ190-100LR",
          "Airbus A330 323E",
          "Airbus A330 323E",
          "Embraer ERJ 170-200 STD",
          null,
          null,
          "Airbus A330 323E",
          "Embraer ERJ 190-100 STD",
          null,
          "Airbus A320 214SL",
          null,
          null,
          null,
          "Embraer ERJ 190-100 STD",
          "Airbus A319-111",
          "Boeing 777 F6N",
          null,
          null,
          "Boeing 737-800",
          null,
          "Boeing 737-700",
          "Boeing 737-800",
          "Embraer EMB-195 LR",
          "Embraer EMB-170 STD",
          "Boeing 737-800",
          "Airbus SAS A330-203",
          "Embraer ERJ190-100STD",
          null,
          "Boeing 777-200",
          "Boeing 737NG 8AS/W",
          "Embraer ERJ190-100STD",
          "Boeing 737-800",
          "Airbus A330 302",
          "Boeing 777-200",
          "Boeing 777-300ER",
          "Boeing 737-800",
          "Boeing 787-9",
          null,
          "Boeing 747-400F",
          "Airbus A330 323X",
          "Boeing 737-800",
          "Boeing 777-3DZER",
          null,
          null,
          "Boeing 787-9",
          "Boeing 777 31HER",
          "Airbus A350 941",
          null,
          "Boeing 737-700",
          "Embraer ERJ 170-200 STD",
          "Boeing 737-800",
          "Airbus A320 214",
          null,
          null,
          null,
          null,
          "Embraer ERJ 190-100 STD",
          "Embraer ERJ 190-100 STD",
          null,
          "Boeing 737-800",
          "Boeing 737-800",
          null,
          "Boeing 737-700",
          null,
          null,
          "Boeing 737NG 8AS/W",
          null,
          "Boeing 737-800",
          "Embraer ERJ 190-100 STD",
          "Boeing 737-800",
          "Embraer ERJ 170-200 STD",
          null,
          null,
          null,
          null,
          null,
          "Boeing 737-800",
          "Canadair CL-600-2B19 CRJ-200LR",
          null,
          "Embraer ERJ 170-200 STD",
          "Embraer ERJ 170-200 STD",
          "Boeing 737-800",
          "Embraer ERJ 190-100 STD",
          "Boeing 737-800",
          "Boeing 777-300ER",
          "Boeing 737-900",
          null,
          null,
          null,
          "Embraer ERJ 170-200 STD",
          "Boeing 737-900",
          null,
          null,
          "Airbus A320 216",
          "Embraer ERJ 190-100 STD",
          "Airbus A320 232SL",
          "Boeing 737-800",
          "Embraer ERJ190-100STD",
          "Boeing 737-800",
          "Embraer ERJ190-100R",
          "Boeing 787-9",
          "Boeing 737-700",
          "Embraer ERJ 190-100 STD",
          "Boeing 737-800",
          "Embraer ERJ 190-100 STD",
          "Boeing 737-800",
          null,
          "Embraer ERJ190-100STD",
          null,
          "Canadair CL-600-2B19 CRJ-200LR",
          "Airbus A320 214",
          "Airbus A320-214",
          "Boeing 777-200",
          null,
          null,
          "Boeing 737-800",
          "Embraer ERJ 170-200 STD",
          null,
          "Embraer ERJ 170-200 STD",
          "Boeing 737-800",
          "Boeing 737-800",
          "Airbus A320 232SL",
          null,
          null,
          "Embraer ERJ 170-200 STD",
          "Boeing 737-800",
          null,
          "Boeing 737-700",
          null,
          "Boeing 737-800",
          null,
          "Airbus A320 214",
          "Embraer ERJ 170-200 STD",
          null,
          "Boeing 737-800",
          null,
          "Embraer ERJ 170-200 STD",
          "Embraer ERJ 190-100 STD",
          "Airbus A319 111",
          "Embraer ERJ 190-100 STD",
          "Boeing 787-9",
          "Embraer ERJ 190-100 STD",
          "Boeing 737-900",
          "Embraer ERJ 190-100 STD",
          null,
          null,
          null,
          "Embraer ERJ 170-200 STD",
          null,
          "Embraer ERJ 190-100 STD",
          null,
          "Airbus A320 214",
          null,
          "Boeing 737-700",
          "Airbus A320 232SL",
          "Embraer ERJ190-100LR",
          "Boeing 737-800",
          "Boeing 737-800",
          "Boeing 737-800",
          "Embraer ERJ 170-200 STD",
          "Boeing 737-700",
          "Boeing 777-300ER",
          null,
          null,
          null,
          "Boeing 737-800",
          null,
          "Airbus A320 214",
          "Boeing 737-800",
          "Embraer ERJ 170-200 STD",
          "Boeing 737-700",
          null,
          "Boeing 777 3B5ER",
          "Boeing 737-900",
          "Boeing 737-800",
          "Embraer ERJ 170-200 STD",
          "Embraer ERJ190-100STD",
          "Embraer ERJ190-100STD",
          "Boeing 777-200",
          "Embraer ERJ 170-200 STD",
          "Boeing 737-800",
          null,
          "Embraer ERJ 170-200 STD",
          "Boeing 737NG 958ER/W",
          null,
          "Airbus A300 B4-622RF",
          "Embraer ERJ 190-100 STD",
          "Embraer ERJ 190-100 STD",
          null,
          "Airbus A319-111",
          null,
          null,
          "Embraer ERJ 170-200 STD",
          "Airbus A320-251N",
          "Boeing 737-900",
          "Embraer ERJ190-100STD",
          "Boeing 737-800",
          "Embraer ERJ 190-100 STD",
          "Boeing 737-800",
          "Boeing 737-800",
          "Embraer ERJ 190-100 STD",
          null,
          "Boeing 737-800",
          "Boeing 737-800",
          null,
          null,
          null,
          "Airbus A300 B4-622RF",
          "Boeing 737-800",
          "Boeing 737-800",
          null,
          null,
          null,
          null,
          "Boeing 777-200",
          "Embraer ERJ 170-200 STD",
          "Embraer ERJ 190-100 STD",
          null,
          "Boeing 737-800",
          "Embraer ERJ 190-100 STD",
          "Boeing 737-700",
          null,
          "Boeing 737-800",
          "Boeing 737-800",
          "Embraer ERJ 170-200 STD",
          "Airbus A320-214SL",
          "Boeing 737-800",
          "Embraer EMB-170 STD",
          "Embraer ERJ 190-100 STD",
          null,
          null,
          "Boeing 737-800",
          "Boeing 737NG 8AS/W",
          "Embraer ERJ 190-100 STD",
          "Embraer ERJ 190-100 STD",
          "Boeing 737-800",
          "Boeing 737-800",
          "Embraer ERJ190-100STD",
          "Boeing 737-800",
          "Embraer ERJ 190-100 STD",
          null,
          "Embraer ERJ 170-200 STD",
          "Boeing 737-900",
          "Airbus A320 214",
          "Boeing 737-800",
          "Boeing 737-800",
          null,
          "Airbus A320 214",
          null,
          "Embraer ERJ 170-200 STD",
          "Embraer ERJ190-100STD",
          "Boeing 737-800",
          "Boeing 777 FFX",
          null,
          null,
          null,
          null,
          "Embraer ERJ190-100STD",
          null,
          "Bombardier BD500 Series CS300",
          "Boeing 737-800",
          "Boeing 747-412",
          null,
          "Airbus A320 214SL",
          null,
          "Boeing 737-800",
          null,
          "Airbus A320-214SL",
          "Boeing 737-8MAX",
          null,
          "Airbus A320 214SL",
          "Boeing 737-900",
          "Boeing 787 8",
          null,
          null,
          null,
          "Airbus A350 941",
          null,
          "Boeing 777-300ER",
          null,
          "Airbus A320 214",
          "Airbus A319 112",
          null,
          "Boeing 737NG 85P/W",
          "Embraer ERJ 190-100 STD",
          "Learjet 60",
          "Boeing 777-300ER",
          "Boeing 737-800",
          "Embraer ERJ 190-100 STD",
          "Boeing 737-800",
          "Boeing 737NG 800/W",
          "Embraer ERJ 170-200 STD",
          "Airbus A330 223",
          "Embraer ERJ 170-200 STD",
          null,
          "Embraer ERJ 170-200 STD",
          "Boeing 777-300ER",
          "Airbus A321 231",
          "Embraer ERJ 170-200 STD",
          null,
          "Airbus A320 214SL",
          "Boeing 737-800",
          null,
          "Boeing 737-800",
          "Boeing 787-9",
          "Airbus A330 323E",
          "Airbus A330 323E",
          "Airbus SAS A330-203",
          "Airbus SAS A330-203",
          "Boeing 787-8",
          null,
          null,
          null,
          "Airbus A330 323X",
          null,
          null,
          "Boeing 737-700",
          null,
          null,
          "Boeing 737-800",
          null,
          null,
          null,
          null,
          "Boeing 737-800",
          "Canadair CL-600-2B19 CRJ-200LR",
          null,
          "Embraer ERJ 170-200 STD",
          "Embraer ERJ 170-200 STD",
          "Boeing 737-800",
          "Embraer ERJ 190-100 STD",
          "Boeing 737-800",
          "Boeing 777-300ER",
          "Boeing 737-900",
          null,
          null,
          null,
          "Boeing 737NG 85P/W",
          "Airbus A320 - 214SL",
          "Embraer EMB-190 SR",
          "Bombardier CRJ 900 LR NG",
          "Boeing 787-9",
          "Airbus A321 211",
          "Airbus A319-111",
          "Embraer ERJ 190-100 STD",
          null,
          null,
          null,
          "Airbus A319 112",
          null,
          "Embraer ERJ 190-100 STD",
          null,
          null,
          "Airbus A319-111",
          "Boeing 737-800",
          "Embraer ERJ 170-200 STD",
          "Boeing 737-900",
          null,
          null,
          "Airbus A320 216",
          "Embraer ERJ 190-100 STD",
          "Airbus A320 232SL",
          "Boeing 737-800",
          "Embraer ERJ190-100STD",
          "Boeing 737-800",
          "Embraer ERJ190-100R",
          "Boeing 787-9",
          "Boeing 737-700",
          "Embraer ERJ 190-100 STD",
          "Boeing 747-400",
          "Boeing 737-800",
          "Embraer ERJ 190-100 STD",
          "Boeing 737-800",
          null,
          "Embraer ERJ190-100STD",
          null,
          "Canadair CL-600-2B19 CRJ-200LR",
          "Airbus A320 214",
          "Airbus A320-214",
          "Boeing 777-200",
          null,
          null,
          "Boeing 737-800",
          "Embraer ERJ 170-200 STD",
          null,
          "Embraer ERJ 170-200 STD",
          "Boeing 737-800",
          "Boeing 737-800",
          "Airbus A320 232SL",
          null,
          null,
          "Embraer ERJ 170-200 STD",
          "Boeing 737-800",
          null,
          "Boeing 737-700",
          null,
          "Boeing 737-800",
          null,
          "Airbus A320 214",
          "Embraer ERJ 170-200 STD",
          null,
          "Boeing 737-800",
          null,
          "Embraer ERJ 170-200 STD",
          "Embraer ERJ 190-100 STD",
          "Airbus A320-251N",
          "Boeing 737-800",
          "Embraer ERJ 170-200 STD",
          "Airbus A320 214SL",
          "Airbus A319 111",
          "Airbus A320 214",
          "Embraer ERJ 190-100 STD",
          "Airbus A320 214",
          "Boeing 787-9",
          "Embraer ERJ 190-100 STD",
          "Boeing 737-900",
          "Embraer ERJ 190-100 STD",
          null,
          null,
          null,
          "Embraer ERJ 170-200 STD",
          null,
          "Embraer ERJ 190-100 STD",
          "Airbus A320 214",
          null,
          "Boeing 737-700",
          "Airbus A320 232SL",
          "Boeing 737-800",
          "Boeing 737-800",
          "Boeing 737-800",
          "Embraer ERJ 170-200 STD",
          "Boeing 737-700",
          "Boeing 777-300ER",
          null,
          null,
          null,
          "Boeing 737-800",
          null,
          "Airbus A320 214",
          "Boeing 737-800",
          "Embraer ERJ 170-200 STD",
          "Boeing 737-700",
          null,
          "Boeing 777 3B5ER",
          "Boeing 737-900",
          "Boeing 737-800",
          "Embraer ERJ 170-200 STD",
          "Embraer ERJ190-100STD",
          "Embraer ERJ190-100STD",
          "Boeing 777-200",
          "Boeing 737-800",
          null,
          "Boeing 737NG 958ER/W",
          null,
          "Airbus A300 B4-622RF",
          "Embraer ERJ 190-100 STD",
          "Embraer ERJ 190-100 STD",
          null,
          "Airbus A320 216SL",
          null,
          null,
          "Embraer ERJ 170-200 STD",
          "Airbus A320-251N",
          "Boeing 737-900",
          "Embraer ERJ190-100STD",
          "Boeing 737-800",
          "Embraer ERJ 190-100 STD",
          "Boeing 737-800",
          "Boeing 737-800",
          "Embraer ERJ 190-100 STD",
          null,
          "Boeing 737-800",
          "Boeing 737-800",
          null,
          null,
          null,
          "Airbus A300 B4-622RF",
          "Boeing 737-800",
          "Boeing 737-800",
          null,
          "Embraer ERJ 190-100 STD",
          "Boeing 737-800",
          "Airbus A320 216SL",
          null,
          null,
          "Airbus A319-111",
          null,
          "Boeing 737-800",
          "Embraer ERJ 170-200 STD",
          null,
          null,
          "Boeing 737-800",
          "Airbus A319 131",
          "Embraer ERJ 190-100 STD",
          "Embraer ERJ190-100STD",
          null,
          null,
          null,
          "Boeing 777-200",
          "Embraer ERJ 170-200 STD",
          "Embraer ERJ 190-100 STD",
          null,
          "Boeing 737-800",
          "Embraer ERJ 190-100 STD",
          "Boeing 737-700",
          null,
          "Boeing 737-800",
          "Boeing 737-800",
          "Embraer ERJ 170-200 STD",
          "Airbus A320-214SL",
          null,
          "Boeing 737-800",
          "Embraer EMB-170 STD",
          "Embraer ERJ 190-100 STD",
          null,
          null,
          "Boeing 737-800",
          "Boeing 737NG 8AS/W",
          "Embraer ERJ 190-100 STD",
          "Embraer ERJ 190-100 STD",
          "Boeing 737-800",
          "Boeing 737-800",
          "Embraer ERJ190-100STD",
          "Boeing 737-800",
          "Embraer ERJ 190-100 STD",
          null,
          "Embraer ERJ 170-200 STD",
          "Boeing 737-900",
          "Airbus A320 214",
          "Boeing 737-800",
          "Boeing 737-800",
          null,
          "Airbus A320 214",
          null,
          "Embraer ERJ 170-200 STD",
          "Embraer ERJ190-100STD",
          "Boeing 737-800",
          "Boeing 777 FFX",
          null,
          null,
          null,
          "Embraer ERJ190-100STD",
          null,
          "Bombardier BD500 Series CS300",
          "Boeing 737-800",
          "Boeing 747-412",
          null,
          "Airbus A320 214SL",
          null,
          "Boeing 737-800",
          null,
          "Airbus A320-214SL",
          "Boeing 737-8MAX",
          null,
          "Airbus A320 214SL",
          "Boeing 737-900",
          "Boeing 787 8",
          null,
          null,
          null,
          "Airbus A350 941",
          null,
          "Boeing 777-300ER",
          null,
          "Airbus A320 214",
          "Airbus A319 112",
          null,
          "Boeing 737NG 85P/W",
          "Embraer ERJ 190-100 STD",
          "Learjet 60",
          "Boeing 777-300ER",
          "Boeing 737-800",
          "Embraer ERJ 190-100 STD",
          "Boeing 737-800",
          "Boeing 737NG 800/W",
          "Boeing 777-FDZ",
          "Embraer ERJ 170-200 STD",
          "Airbus A330 223",
          "Embraer ERJ 170-200 STD",
          null,
          "Embraer ERJ 170-200 STD",
          "Boeing 777-300ER",
          "Airbus A321 231",
          "Embraer ERJ 170-200 STD",
          null,
          "Airbus A320 214SL",
          "Boeing 737-800",
          null,
          "Boeing 737-800",
          "Embraer ERJ190-100STD",
          "Boeing 787-9",
          "Airbus A320 216SL",
          "Airbus A320 214",
          "Embraer ERJ190-100STD",
          null,
          "Airbus A330 323E",
          "Airbus A330 323E",
          "Boeing 767 319ER/W",
          null,
          "Airbus SAS A330-203",
          "Airbus A330 323E",
          null,
          "Boeing 737-800",
          "Embraer ERJ 170-200 STD",
          "Boeing 737-800",
          "Airbus A320 232SL",
          "Airbus A320 214",
          null,
          "Airbus A320 232SL",
          null,
          "Embraer EMB-195 LR",
          "Airbus SAS A330-203",
          null,
          "Boeing 777-300ER",
          "Boeing 737-800",
          "Boeing 787-9",
          "Embraer ERJ 190-100 STD",
          null,
          "Boeing 747-400F",
          "Airbus A320 214",
          "Airbus A330 323X",
          "Boeing 747 4R7F",
          "Embraer ERJ 170-200 STD",
          "Embraer ERJ 190-100 STD",
          null,
          "Airbus A319 131",
          "Boeing 737-800",
          null,
          null,
          "Embraer ERJ 170-200 STD",
          null,
          "Boeing 737-800",
          "Boeing 737-700",
          null,
          "Boeing 737-700",
          null,
          null,
          "Boeing 737-800",
          null,
          null,
          null,
          null,
          "Boeing 737-800",
          "Canadair CL-600-2B19 CRJ-200LR",
          null,
          "Embraer ERJ 170-200 STD",
          "Embraer ERJ 170-200 STD",
          "Boeing 737-800",
          "Embraer ERJ 190-100 STD",
          "Boeing 737-800",
          "Boeing 777-300ER",
          "Boeing 737-900",
          null,
          null,
          null,
          "Boeing 737-800",
          "Boeing 737NG 85P/W",
          "Airbus A320 - 214SL",
          "Embraer ERJ190-100STD",
          "Airbus A321 211",
          "Airbus A319-111",
          "Embraer ERJ 190-100 STD",
          null,
          null,
          null,
          "Airbus A319 112",
          null,
          "Embraer ERJ 190-100 STD",
          null,
          "Airbus A319-111",
          "Boeing 737-800",
          "Embraer ERJ 170-200 STD",
          "Boeing 737-900",
          null,
          "Boeing 737-800",
          null,
          "Airbus A320 216",
          "Embraer ERJ 190-100 STD",
          "Boeing 737-800",
          "Boeing 777 36NER",
          "Boeing 737-800",
          "Boeing 777 3B5ER",
          "Boeing 737NG 800/W",
          "Embraer ERJ190-100R",
          "Airbus A320 214",
          "Boeing 787-9",
          "Boeing 737-700",
          "Embraer ERJ 190-100 STD",
          "Boeing 747-400",
          "Boeing 737-800",
          "Embraer ERJ 190-100 STD",
          "Boeing 737-800",
          null,
          "Embraer ERJ190-100STD",
          null,
          "Canadair CL-600-2B19 CRJ-200LR",
          "Airbus A320 214",
          "Airbus A320-214",
          "Boeing 777-200",
          null,
          "Boeing 737-800",
          "Embraer ERJ 170-200 STD",
          null,
          "Embraer ERJ 170-200 STD",
          "Boeing 737-800",
          "Boeing 737-800",
          "Airbus A320 232SL",
          null,
          null,
          "Embraer ERJ 170-200 STD",
          "Boeing 737-800",
          null,
          "Boeing 737-800",
          "Boeing 737-700",
          null,
          "Boeing 737-800",
          "Airbus A320 214",
          "Embraer ERJ 170-200 STD",
          null,
          "Boeing 737-800",
          null,
          "Embraer ERJ 170-200 STD",
          "Embraer ERJ 190-100 STD",
          null,
          "Airbus A320-251N",
          "Boeing 737-800",
          null,
          "Embraer ERJ 170-200 STD",
          "Airbus A320 214SL",
          "Airbus A319 111",
          "Airbus A320 214",
          "Embraer ERJ 190-100 STD",
          "Airbus A320 214",
          "Boeing 787-9",
          "Embraer ERJ 190-100 STD",
          "Boeing 737-900",
          "Embraer ERJ 190-100 STD",
          null,
          null,
          null,
          "Embraer ERJ 170-200 STD",
          null,
          "Embraer ERJ 190-100 STD",
          "Airbus A320 214",
          null,
          "Boeing 737-700",
          "Airbus A320 232SL",
          "Embraer ERJ190-100LR",
          "Boeing 737-800",
          "Boeing 737-800",
          "Embraer ERJ 170-200 STD",
          "Boeing 737-700",
          "Boeing 777-300ER",
          null,
          null,
          "Boeing 737-800",
          null,
          "Boeing 737-800",
          "Embraer ERJ 170-200 STD",
          "Boeing 737-700",
          null,
          "Boeing 777 3B5ER",
          "Boeing 737-900",
          "Boeing 737-800",
          "Embraer ERJ190-100STD",
          "Embraer ERJ190-100STD",
          "Boeing 777-200",
          "Embraer ERJ 170-200 STD",
          null,
          "Boeing 737NG 958ER/W",
          null,
          "Airbus A300 B4-622RF",
          "Embraer ERJ 190-100 STD",
          "Embraer ERJ 190-100 STD",
          null,
          "Airbus A320 216SL",
          null,
          null,
          "Embraer ERJ 170-200 STD",
          "Airbus A320-251N",
          "Boeing 737-900",
          "Embraer ERJ190-100STD",
          "Boeing 737-800",
          "Embraer ERJ 190-100 STD",
          "Boeing 737-800",
          "Boeing 737-800",
          "Embraer ERJ 190-100 STD",
          null,
          "Boeing 737-800",
          "Boeing 737-800",
          null,
          null,
          null,
          "Airbus A300 B4-622RF",
          "Boeing 737-800",
          "Boeing 737-800",
          null,
          null,
          null,
          "Bombardier Global Express",
          "Embraer ERJ 170-200 STD",
          "Embraer ERJ190-100STD",
          null,
          "Embraer ERJ 190-100 STD",
          "Boeing 737-800",
          "Airbus A320 216SL",
          "Airbus A320 216",
          "Embraer ERJ 170-200 STD",
          null,
          "Boeing 737-800",
          "Airbus A320 214SL",
          null,
          "Airbus A319-111",
          null,
          "Airbus A320-271N",
          null,
          null,
          "Boeing 737-900",
          "Boeing 737-800",
          "Embraer ERJ 170-200 STD",
          "Boeing 737-800",
          "Embraer ERJ 170-200 STD",
          null,
          "Embraer ERJ 170-200 STD",
          null,
          "Boeing 737-800",
          null,
          null,
          "Embraer ERJ 170-200 STD",
          "Boeing 737-800",
          "Embraer ERJ190-100SR",
          "Embraer ERJ 170-200 STD",
          null,
          "Embraer ERJ 190-100 STD",
          null,
          "Boeing 737-800",
          "Boeing 737-800",
          null,
          "Cessna Citation CJ2+",
          "Boeing 737-800",
          null,
          "Boeing 737-800",
          "Airbus A319 114",
          "Airbus A319 131",
          null,
          "Embraer ERJ190-100LR",
          "Embraer ERJ 190-100 STD",
          "Embraer EMB-195 LR",
          "Boeing 777-300ER",
          "Embraer ERJ190-100STD",
          "Boeing 737-700",
          null,
          null,
          null,
          "Boeing 777 222ER",
          null,
          null,
          "Boeing 777-200",
          "Airbus A330 323E",
          "Embraer ERJ 170-200 STD",
          "Embraer ERJ 190-100 STD",
          null,
          "Embraer ERJ 170-200 STD",
          null,
          null,
          "Embraer ERJ 190-100 STD",
          "Eurocopter Deutschland EC135 P2+",
          "Boeing 737-700",
          null,
          "Boeing 737-800",
          "Boeing 737-800",
          "Embraer ERJ 170-200 STD",
          "Airbus A320-214SL",
          null,
          "",
          "Embraer ERJ 190-100 STD",
          null,
          "Boeing 737NG 8AS/W",
          "Embraer ERJ 190-100 STD",
          "Embraer ERJ 190-100 STD",
          null,
          "Boeing 737-800",
          null,
          "Embraer ERJ 170-200 STD",
          "Boeing 737-900",
          "Airbus A320 214",
          "Boeing 737-800",
          "Boeing 737-800",
          "Bombardier Global 6000",
          null,
          "Airbus A320 214",
          null,
          "Embraer ERJ 170-200 STD",
          "Embraer ERJ190-100STD",
          "Boeing 737-800",
          "Boeing 777 FFX",
          null,
          null,
          null,
          null,
          "Embraer ERJ190-100STD",
          null,
          "Boeing 737-800",
          null,
          "Boeing 747-412",
          null,
          "Airbus A320 214SL",
          null,
          "Boeing 737-800",
          "Cessna Citation Mustang",
          null,
          "Airbus A320-214SL",
          "Boeing 737-8MAX",
          "Bombardier Challenger 850",
          null,
          "Airbus A320 214SL",
          "Boeing 737-900",
          null,
          null,
          "Boeing 737-800",
          "Boeing 767 322ER",
          "Boeing 777-300ER",
          "Airbus A350 941",
          null,
          null,
          "Boeing 777-300ER",
          null,
          null,
          null,
          "Airbus A319 112",
          "Boeing 737NG 85P/W",
          "Boeing 777-200",
          "Embraer ERJ 190-100 STD",
          "Airbus A330 323E",
          "Boeing 777-300ER",
          "Boeing 767 322ER/W",
          "Boeing 737-800",
          "Embraer ERJ 170-200 STD",
          "Embraer ERJ 190-100 STD",
          "Cessna 510 Citation Mustang",
          "Boeing 737-800",
          "Boeing 737NG 800/W",
          "Boeing 777-FDZ",
          "Boeing 787 8",
          "Airbus A319-111",
          null,
          null,
          null,
          "Embraer ERJ 190-100 STD",
          null,
          null,
          "Airbus A330 223",
          null,
          "Embraer ERJ 170-200 STD",
          null,
          "Embraer ERJ 170-200 STD",
          null,
          "Boeing 777-300ER",
          "Airbus A321 231",
          "Embraer ERJ 170-200 STD",
          null,
          "Airbus A320 214SL",
          "Boeing 737-800",
          null,
          "Boeing 737-800",
          "Embraer ERJ190-100STD",
          null,
          "Boeing 737-800",
          null,
          "Boeing 787-9",
          "Embraer EMB-190 LR",
          "Airbus A320-232",
          "Airbus A320 216SL",
          "Boeing 737-800",
          "Airbus A320 214",
          "Embraer ERJ190-100STD",
          null,
          "Boeing 737-3L9",
          "Embraer ERJ 190-100 STD",
          "Embraer ERJ190-100LR",
          "Airbus A330 323E",
          "Airbus A330 323E",
          "Boeing 767 319ER/W",
          "Embraer ERJ 170-200 STD",
          null,
          "Airbus SAS A330-203",
          "Airbus SAS A330-203",
          null,
          null,
          "Airbus A330 323E",
          "Boeing 787-8",
          "Embraer ERJ 170-200 STD",
          "Embraer ERJ 190-100 STD",
          "Embraer ERJ 190-100 STD",
          "Boeing 737-800",
          null,
          "Embraer ERJ 170-200 STD",
          "Boeing 737-800",
          "Boeing 737NG 8F2/W",
          "Embraer ERJ 190-100 STD",
          "Airbus A319-111",
          "Airbus A320 232SL",
          "Airbus A320 214SL",
          null,
          null,
          null,
          "Airbus A320 214",
          null,
          "Airbus A320 232SL",
          "Boeing 737-800",
          null,
          null,
          "Airbus A319-111",
          "Bombardier Challenger 605",
          null,
          "Boeing 737-700",
          "Boeing 737-800",
          "Embraer EMB-195 LR",
          "Embraer EMB-170 STD",
          null,
          "Boeing 737-800",
          "Boeing 737-700",
          "Airbus SAS A330-203",
          null,
          "Boeing 777-300ER",
          "Boeing 777-200",
          "Boeing 737-800",
          "Boeing 737-900",
          "Boeing 777-F",
          "Airbus A320-214SL",
          null,
          "Boeing 737-800",
          "Boeing 737-700",
          "Embraer ERJ190-100STD",
          "Boeing 777-300ER",
          "Boeing 737-800",
          "Airbus A319 112",
          "Embraer ERJ 190-100 STD",
          null,
          "Embraer ERJ 190-100 STD",
          null,
          "Embraer ERJ190-100STD",
          "Airbus A330 223",
          "Boeing 747-400F",
          "Airbus A320 214",
          null,
          "Airbus A330 323X",
          "Airbus A320 214",
          "Boeing 737-800",
          "Airbus SAS A330-203",
          "Boeing 747 4R7F",
          "Boeing 777-3DZER",
          null,
          "Embraer ERJ 170-200 STD",
          "Embraer ERJ 190-100 STD",
          null,
          null,
          "Airbus A319 131",
          "Boeing 787-9",
          "Boeing 777 31HER",
          "Airbus A350 941",
          null,
          "Boeing 737-800",
          "Boeing 737-700",
          "Embraer ERJ 170-200 STD",
          "Boeing 737-800",
          "Airbus A320 216",
          "Airbus A320 214",
          null,
          "Boeing 737-800",
          "Boeing 737-800",
          null,
          null,
          "Embraer ERJ 170-200 STD",
          null,
          "Boeing 737-800",
          "Airbus A318 111",
          null,
          null,
          "Boeing 737-700",
          "Embraer ERJ 190-100 STD",
          "Embraer ERJ 190-100 STD",
          null,
          "Boeing 737-800",
          "Boeing 737-800",
          null,
          "Boeing 737-700",
          null,
          null,
          "Boeing 737NG 8AS/W",
          null,
          "Boeing 737-800",
          "Embraer ERJ 190-100 STD",
          "Boeing 737-800",
          "Embraer ERJ 170-200 STD",
          null,
          null,
          null,
          null,
          null,
          "Boeing 737-800",
          "Canadair CL-600-2B19 CRJ-200LR",
          null,
          "Embraer ERJ 170-200 STD",
          "Embraer ERJ 170-200 STD",
          "Boeing 737-800",
          "Embraer ERJ 190-100 STD",
          "Boeing 737-800",
          "Boeing 777-300ER",
          "Boeing 737-900",
          null,
          "Boeing 737-800",
          "Boeing 737NG 85P/W",
          "Embraer ERJ 190-100 STD",
          "Airbus A320 - 214SL",
          "Embraer EMB-190 SR",
          "Bombardier CRJ 900 LR NG",
          "Boeing 787-9",
          "Embraer ERJ190-100STD",
          "Airbus A321 211",
          null,
          "Airbus A319-111",
          "Embraer ERJ 190-100 STD",
          null,
          null,
          null,
          "Airbus A319 112",
          null,
          "Embraer ERJ 190-100 STD",
          null,
          null,
          "Airbus A319-111",
          "Boeing 737-800",
          null,
          "Boeing 737-800",
          "Boeing 737-800",
          "Boeing 737-700",
          null,
          "Boeing 777-300ER",
          "Boeing 777 3FXER",
          null,
          "Boeing 737-800",
          "Boeing 777 36NER",
          "Boeing 777 3B5ER",
          "Boeing 737NG 800/W",
          "Airbus A320 214",
          null,
          "Airbus A320-216",
          null,
          "Boeing 747-400",
          "Boeing 737-700",
          "Boeing 737-800",
          null,
          "Embraer ERJ190-100STD",
          "Boeing 777-200",
          null,
          "Embraer ERJ 190-100 STD",
          "Embraer ERJ 170-200 STD",
          "Boeing 737-800",
          null,
          "Embraer ERJ 170-200 STD",
          "Canadair CRJ900NG Regional Jet",
          null,
          "Embraer ERJ 190-100 STD",
          "Boeing 737-800",
          "Boeing 737-800",
          "Boeing 737-800",
          "Boeing 737-700",
          "Boeing 737-800",
          "Embraer ERJ190-100LR",
          null,
          null,
          "Boeing 737-800",
          "Boeing 737-800",
          null,
          "Airbus A380 861",
          "Embraer ERJ 170-200 STD",
          null,
          "Boeing 737-800",
          "Boeing 737-700",
          "Embraer ERJ 190-100 STD",
          "Boeing 737NG 958ER/W",
          null,
          "Airbus A320-251N",
          "Boeing 737-800",
          null,
          "Airbus A319 111",
          "Embraer ERJ 190-100 STD",
          "Boeing 787-9",
          "Embraer ERJ 190-100 STD",
          "Boeing 737-900",
          "Embraer ERJ 190-100 STD",
          null,
          null,
          "Embraer ERJ 170-200 STD",
          null,
          "Embraer ERJ 190-100 STD",
          "Airbus A320 214",
          null,
          "Boeing 737-700",
          "Airbus A320 232SL",
          "Embraer ERJ190-100LR",
          "Boeing 737-800",
          "Boeing 737-800",
          "Boeing 737-800",
          "Embraer ERJ 170-200 STD",
          "Boeing 777-300ER",
          null,
          null,
          "Boeing 737-800",
          "Boeing 737-800",
          null,
          "Boeing 737-800",
          null,
          "Boeing 737-700",
          "Boeing 777 3B5ER",
          "Boeing 737-900",
          "Boeing 737-800",
          "Embraer ERJ190-100STD",
          "Embraer ERJ190-100STD",
          "Boeing 777-200",
          "Embraer ERJ 170-200 STD",
          "Boeing 737-800",
          null,
          "Embraer ERJ 170-200 STD",
          "Boeing 737NG 958ER/W",
          "Airbus A300 B4-622RF",
          "Embraer ERJ 190-100 STD",
          "Embraer ERJ 190-100 STD",
          null,
          "Airbus A319-111",
          null,
          "Boeing 737-800",
          "Boeing 737-800",
          null,
          "Boeing 737-800",
          null,
          null,
          "Airbus A300 B4-622RF",
          "Boeing 737-800",
          "Bombardier Global Express",
          "Airbus A319-111",
          "Embraer ERJ 190-100 STD",
          "Boeing 737-800",
          "Airbus A320 216SL",
          "Airbus A320 216",
          "Embraer ERJ 170-200 STD",
          null,
          "Boeing 737-800",
          "Airbus A320 - 214SL",
          "Airbus A320 214SL",
          null,
          "Airbus A319-111",
          null,
          "Airbus A320-271N",
          null,
          null,
          "Boeing 737-900",
          "Boeing 737-800",
          "Embraer ERJ 170-200 STD",
          "Boeing 737-800",
          "Embraer ERJ 170-200 STD",
          null,
          "Embraer ERJ 170-200 STD",
          null,
          null,
          "Boeing 737-800",
          null,
          null,
          null,
          "Boeing 737-800",
          "Embraer ERJ190-100SR",
          "Embraer ERJ 170-200 STD",
          null,
          "Embraer ERJ 190-100 STD",
          "Canadair CL-600-2B19 CRJ-200LR",
          "Boeing 737-800",
          "Boeing 737-800",
          null,
          "Boeing 737-800",
          null,
          "Boeing 737-800",
          null,
          "Airbus A319 114",
          "Airbus A319 131",
          null,
          "Embraer ERJ190-100LR",
          "Embraer ERJ 190-100 STD",
          "Boeing 777-300ER",
          "Embraer ERJ190-100STD",
          "Boeing 737-700",
          null,
          null,
          null,
          "Airbus A330 323E",
          null,
          "Eurocopter Deutschland EC135 P2+",
          "Embraer ERJ 170-200 STD",
          "Airbus A320-214SL",
          null,
          "",
          null,
          "Boeing 737-800",
          "Boeing 737-800",
          "Bombardier Global 6000",
          "Embraer ERJ 170-200 STD",
          "Boeing 777 FFX",
          null,
          null,
          "Bombardier BD500 Series CS300",
          "Boeing 737-800",
          "Cessna Citation Mustang",
          "Bombardier Challenger 850",
          null,
          "Boeing 787 8",
          null,
          "Boeing 777-300ER",
          null,
          null,
          "Boeing 737NG 85P/W",
          "Embraer ERJ 190-100 STD",
          "Boeing 777-300ER",
          "Boeing 767 322ER/W",
          "Cessna 510 Citation Mustang",
          "Boeing 777-FDZ",
          "Embraer ERJ 170-200 STD",
          null,
          null,
          "Embraer ERJ 190-100 STD",
          null,
          null,
          "Embraer ERJ 170-200 STD",
          null,
          "Boeing 777-300ER",
          "Airbus A321 231",
          null,
          null,
          "Boeing 737-800",
          "Embraer ERJ190-100STD",
          null,
          "Boeing 737-800",
          null,
          "Boeing 787-9",
          "Embraer EMB-190 LR",
          "Airbus A320 216SL",
          "Boeing 737-800",
          "Airbus A319 131",
          "Airbus A320 214",
          "Embraer ERJ190-100STD",
          null,
          "Boeing 737-3L9",
          "Airbus A330 323E",
          "Airbus A330 323E",
          "Boeing 767 319ER/W",
          "Embraer ERJ 170-200 STD",
          null,
          "Airbus SAS A330-203",
          "Airbus SAS A330-203",
          null,
          null,
          "Airbus A330 323E",
          "Boeing 787-8",
          "Embraer ERJ 170-200 STD",
          null,
          "Embraer ERJ 190-100 STD",
          "Embraer ERJ 190-100 STD",
          "Boeing 737-800",
          null,
          "Embraer ERJ 170-200 STD",
          "Boeing 737-800",
          "Boeing 737NG 8F2/W",
          "Embraer ERJ 170-200 STD",
          "Embraer ERJ 190-100 STD",
          "Airbus A320 232SL",
          "Airbus A320 214SL",
          null,
          null,
          null,
          "Airbus A320 214",
          null,
          "Airbus A320 232SL",
          "Boeing 737-800",
          null,
          null,
          "Airbus A319-111",
          "Bombardier Challenger 605",
          null,
          "Boeing 737-700",
          "Boeing 737-800",
          "Embraer EMB-195 LR",
          "Embraer EMB-170 STD",
          null,
          "Boeing 737-800",
          "Boeing 737-700",
          "Airbus SAS A330-203",
          null,
          "Boeing 777-300ER",
          "Boeing 777-200",
          "Boeing 737-800",
          "Boeing 737-900",
          "Boeing 777-F",
          "Airbus A320-214SL",
          null,
          "Boeing 737-800",
          "Boeing 737-700",
          "Boeing 777-300ER",
          "Boeing 737-800",
          "Airbus A319 112",
          "Embraer ERJ 190-100 STD",
          null,
          "Embraer ERJ 190-100 STD",
          null,
          "Embraer ERJ190-100STD",
          "Airbus A330 223",
          "Boeing 747-400F",
          "Airbus A320 214",
          null,
          "Airbus A330 323X",
          "Airbus A320 214",
          "Boeing 737-800",
          "Airbus SAS A330-203",
          "Boeing 747 4R7F",
          "Boeing 777-3DZER",
          null,
          "Embraer ERJ 170-200 STD",
          "Embraer ERJ 190-100 STD",
          null,
          null,
          "Airbus A319 131",
          "Boeing 787-9",
          "Boeing 777 31HER",
          "Airbus A350 941",
          null,
          "Boeing 737-800",
          "Boeing 737-700",
          "Boeing 737-800",
          "Airbus A320 216",
          "Airbus A320 214",
          null,
          "Boeing 737-800",
          "Boeing 737-800",
          null,
          null,
          "Embraer ERJ 170-200 STD",
          null,
          "Boeing 737-800",
          "Airbus A318 111",
          null,
          "Boeing 737-700",
          "Embraer ERJ 190-100 STD",
          null,
          null,
          "Boeing 737-800",
          "Embraer ERJ 170-200 STD",
          "Boeing 737-800",
          "Boeing 737-800",
          null,
          "Boeing 737-800",
          "Boeing 737NG 85P/W",
          "Embraer ERJ 190-100 STD",
          "Airbus A320 - 214SL",
          "Embraer EMB-190 SR",
          "Bombardier CRJ 900 LR NG",
          "Boeing 787-9",
          "Airbus A321 211",
          null,
          "Airbus A319-111",
          null,
          null,
          null,
          "Airbus A319 112",
          null,
          "Embraer ERJ 190-100 STD",
          null,
          "Airbus A319-111",
          "Boeing 737-800",
          "Embraer ERJ 170-200 STD",
          "Boeing 737-800",
          "Boeing 737-800",
          "Boeing 737-700",
          null,
          "Boeing 777-300ER",
          "Boeing 777 3FXER",
          null,
          "Boeing 737-800",
          "Boeing 777 36NER",
          "Boeing 777 3B5ER",
          "Boeing 737NG 800/W",
          "Airbus A320 214",
          null,
          "Airbus A320-216",
          null,
          "Boeing 747-400",
          "Boeing 737-700",
          "Boeing 737-800",
          null,
          "Embraer ERJ190-100STD",
          "Boeing 777-200",
          null,
          "Embraer ERJ 190-100 STD",
          "Embraer ERJ 170-200 STD",
          "Boeing 737-800",
          null,
          "Embraer ERJ 170-200 STD",
          "Canadair CRJ900NG Regional Jet",
          null,
          "Embraer ERJ 190-100 STD",
          "Boeing 737-800",
          "Boeing 737-800",
          "Boeing 737-800",
          "Boeing 737-700",
          "Boeing 737-800",
          "Boeing 737-800",
          "Embraer ERJ190-100LR",
          null,
          null,
          "Boeing 737-800",
          "Boeing 737-800",
          null,
          "Airbus A380 861",
          null,
          "Embraer ERJ 170-200 STD",
          null,
          "Boeing 737-800",
          "Boeing 737-700",
          "Embraer ERJ 190-100 STD",
          "Boeing 737NG 958ER/W",
          null,
          "Airbus A320-251N",
          "Boeing 737-800",
          null,
          "Embraer ERJ 190-100 STD",
          "Boeing 737-900",
          "Embraer ERJ 190-100 STD",
          "Embraer ERJ 170-200 STD",
          "Embraer ERJ 190-100 STD",
          null,
          "Boeing 737-700",
          "Boeing 737-800",
          "Boeing 737-800",
          "Boeing 777-300ER",
          null,
          null,
          "Boeing 737-800",
          null,
          null,
          "Boeing 777 3B5ER",
          "Boeing 737-900",
          "Embraer ERJ190-100STD",
          "Boeing 737NG 958ER/W",
          "Airbus A300 B4-622RF",
          "Embraer ERJ 190-100 STD",
          "Embraer ERJ 190-100 STD",
          "Embraer ERJ 190-100 STD",
          null,
          null
         ],
         "legendgroup": "",
         "name": "",
         "showlegend": true,
         "type": "pie"
        }
       ],
       "layout": {
        "legend": {
         "tracegroupgap": 0
        },
        "template": {
         "data": {
          "bar": [
           {
            "error_x": {
             "color": "#2a3f5f"
            },
            "error_y": {
             "color": "#2a3f5f"
            },
            "marker": {
             "line": {
              "color": "#E5ECF6",
              "width": 0.5
             },
             "pattern": {
              "fillmode": "overlay",
              "size": 10,
              "solidity": 0.2
             }
            },
            "type": "bar"
           }
          ],
          "barpolar": [
           {
            "marker": {
             "line": {
              "color": "#E5ECF6",
              "width": 0.5
             },
             "pattern": {
              "fillmode": "overlay",
              "size": 10,
              "solidity": 0.2
             }
            },
            "type": "barpolar"
           }
          ],
          "carpet": [
           {
            "aaxis": {
             "endlinecolor": "#2a3f5f",
             "gridcolor": "white",
             "linecolor": "white",
             "minorgridcolor": "white",
             "startlinecolor": "#2a3f5f"
            },
            "baxis": {
             "endlinecolor": "#2a3f5f",
             "gridcolor": "white",
             "linecolor": "white",
             "minorgridcolor": "white",
             "startlinecolor": "#2a3f5f"
            },
            "type": "carpet"
           }
          ],
          "choropleth": [
           {
            "colorbar": {
             "outlinewidth": 0,
             "ticks": ""
            },
            "type": "choropleth"
           }
          ],
          "contour": [
           {
            "colorbar": {
             "outlinewidth": 0,
             "ticks": ""
            },
            "colorscale": [
             [
              0,
              "#0d0887"
             ],
             [
              0.1111111111111111,
              "#46039f"
             ],
             [
              0.2222222222222222,
              "#7201a8"
             ],
             [
              0.3333333333333333,
              "#9c179e"
             ],
             [
              0.4444444444444444,
              "#bd3786"
             ],
             [
              0.5555555555555556,
              "#d8576b"
             ],
             [
              0.6666666666666666,
              "#ed7953"
             ],
             [
              0.7777777777777778,
              "#fb9f3a"
             ],
             [
              0.8888888888888888,
              "#fdca26"
             ],
             [
              1,
              "#f0f921"
             ]
            ],
            "type": "contour"
           }
          ],
          "contourcarpet": [
           {
            "colorbar": {
             "outlinewidth": 0,
             "ticks": ""
            },
            "type": "contourcarpet"
           }
          ],
          "heatmap": [
           {
            "colorbar": {
             "outlinewidth": 0,
             "ticks": ""
            },
            "colorscale": [
             [
              0,
              "#0d0887"
             ],
             [
              0.1111111111111111,
              "#46039f"
             ],
             [
              0.2222222222222222,
              "#7201a8"
             ],
             [
              0.3333333333333333,
              "#9c179e"
             ],
             [
              0.4444444444444444,
              "#bd3786"
             ],
             [
              0.5555555555555556,
              "#d8576b"
             ],
             [
              0.6666666666666666,
              "#ed7953"
             ],
             [
              0.7777777777777778,
              "#fb9f3a"
             ],
             [
              0.8888888888888888,
              "#fdca26"
             ],
             [
              1,
              "#f0f921"
             ]
            ],
            "type": "heatmap"
           }
          ],
          "heatmapgl": [
           {
            "colorbar": {
             "outlinewidth": 0,
             "ticks": ""
            },
            "colorscale": [
             [
              0,
              "#0d0887"
             ],
             [
              0.1111111111111111,
              "#46039f"
             ],
             [
              0.2222222222222222,
              "#7201a8"
             ],
             [
              0.3333333333333333,
              "#9c179e"
             ],
             [
              0.4444444444444444,
              "#bd3786"
             ],
             [
              0.5555555555555556,
              "#d8576b"
             ],
             [
              0.6666666666666666,
              "#ed7953"
             ],
             [
              0.7777777777777778,
              "#fb9f3a"
             ],
             [
              0.8888888888888888,
              "#fdca26"
             ],
             [
              1,
              "#f0f921"
             ]
            ],
            "type": "heatmapgl"
           }
          ],
          "histogram": [
           {
            "marker": {
             "pattern": {
              "fillmode": "overlay",
              "size": 10,
              "solidity": 0.2
             }
            },
            "type": "histogram"
           }
          ],
          "histogram2d": [
           {
            "colorbar": {
             "outlinewidth": 0,
             "ticks": ""
            },
            "colorscale": [
             [
              0,
              "#0d0887"
             ],
             [
              0.1111111111111111,
              "#46039f"
             ],
             [
              0.2222222222222222,
              "#7201a8"
             ],
             [
              0.3333333333333333,
              "#9c179e"
             ],
             [
              0.4444444444444444,
              "#bd3786"
             ],
             [
              0.5555555555555556,
              "#d8576b"
             ],
             [
              0.6666666666666666,
              "#ed7953"
             ],
             [
              0.7777777777777778,
              "#fb9f3a"
             ],
             [
              0.8888888888888888,
              "#fdca26"
             ],
             [
              1,
              "#f0f921"
             ]
            ],
            "type": "histogram2d"
           }
          ],
          "histogram2dcontour": [
           {
            "colorbar": {
             "outlinewidth": 0,
             "ticks": ""
            },
            "colorscale": [
             [
              0,
              "#0d0887"
             ],
             [
              0.1111111111111111,
              "#46039f"
             ],
             [
              0.2222222222222222,
              "#7201a8"
             ],
             [
              0.3333333333333333,
              "#9c179e"
             ],
             [
              0.4444444444444444,
              "#bd3786"
             ],
             [
              0.5555555555555556,
              "#d8576b"
             ],
             [
              0.6666666666666666,
              "#ed7953"
             ],
             [
              0.7777777777777778,
              "#fb9f3a"
             ],
             [
              0.8888888888888888,
              "#fdca26"
             ],
             [
              1,
              "#f0f921"
             ]
            ],
            "type": "histogram2dcontour"
           }
          ],
          "mesh3d": [
           {
            "colorbar": {
             "outlinewidth": 0,
             "ticks": ""
            },
            "type": "mesh3d"
           }
          ],
          "parcoords": [
           {
            "line": {
             "colorbar": {
              "outlinewidth": 0,
              "ticks": ""
             }
            },
            "type": "parcoords"
           }
          ],
          "pie": [
           {
            "automargin": true,
            "type": "pie"
           }
          ],
          "scatter": [
           {
            "fillpattern": {
             "fillmode": "overlay",
             "size": 10,
             "solidity": 0.2
            },
            "type": "scatter"
           }
          ],
          "scatter3d": [
           {
            "line": {
             "colorbar": {
              "outlinewidth": 0,
              "ticks": ""
             }
            },
            "marker": {
             "colorbar": {
              "outlinewidth": 0,
              "ticks": ""
             }
            },
            "type": "scatter3d"
           }
          ],
          "scattercarpet": [
           {
            "marker": {
             "colorbar": {
              "outlinewidth": 0,
              "ticks": ""
             }
            },
            "type": "scattercarpet"
           }
          ],
          "scattergeo": [
           {
            "marker": {
             "colorbar": {
              "outlinewidth": 0,
              "ticks": ""
             }
            },
            "type": "scattergeo"
           }
          ],
          "scattergl": [
           {
            "marker": {
             "colorbar": {
              "outlinewidth": 0,
              "ticks": ""
             }
            },
            "type": "scattergl"
           }
          ],
          "scattermapbox": [
           {
            "marker": {
             "colorbar": {
              "outlinewidth": 0,
              "ticks": ""
             }
            },
            "type": "scattermapbox"
           }
          ],
          "scatterpolar": [
           {
            "marker": {
             "colorbar": {
              "outlinewidth": 0,
              "ticks": ""
             }
            },
            "type": "scatterpolar"
           }
          ],
          "scatterpolargl": [
           {
            "marker": {
             "colorbar": {
              "outlinewidth": 0,
              "ticks": ""
             }
            },
            "type": "scatterpolargl"
           }
          ],
          "scatterternary": [
           {
            "marker": {
             "colorbar": {
              "outlinewidth": 0,
              "ticks": ""
             }
            },
            "type": "scatterternary"
           }
          ],
          "surface": [
           {
            "colorbar": {
             "outlinewidth": 0,
             "ticks": ""
            },
            "colorscale": [
             [
              0,
              "#0d0887"
             ],
             [
              0.1111111111111111,
              "#46039f"
             ],
             [
              0.2222222222222222,
              "#7201a8"
             ],
             [
              0.3333333333333333,
              "#9c179e"
             ],
             [
              0.4444444444444444,
              "#bd3786"
             ],
             [
              0.5555555555555556,
              "#d8576b"
             ],
             [
              0.6666666666666666,
              "#ed7953"
             ],
             [
              0.7777777777777778,
              "#fb9f3a"
             ],
             [
              0.8888888888888888,
              "#fdca26"
             ],
             [
              1,
              "#f0f921"
             ]
            ],
            "type": "surface"
           }
          ],
          "table": [
           {
            "cells": {
             "fill": {
              "color": "#EBF0F8"
             },
             "line": {
              "color": "white"
             }
            },
            "header": {
             "fill": {
              "color": "#C8D4E3"
             },
             "line": {
              "color": "white"
             }
            },
            "type": "table"
           }
          ]
         },
         "layout": {
          "annotationdefaults": {
           "arrowcolor": "#2a3f5f",
           "arrowhead": 0,
           "arrowwidth": 1
          },
          "autotypenumbers": "strict",
          "coloraxis": {
           "colorbar": {
            "outlinewidth": 0,
            "ticks": ""
           }
          },
          "colorscale": {
           "diverging": [
            [
             0,
             "#8e0152"
            ],
            [
             0.1,
             "#c51b7d"
            ],
            [
             0.2,
             "#de77ae"
            ],
            [
             0.3,
             "#f1b6da"
            ],
            [
             0.4,
             "#fde0ef"
            ],
            [
             0.5,
             "#f7f7f7"
            ],
            [
             0.6,
             "#e6f5d0"
            ],
            [
             0.7,
             "#b8e186"
            ],
            [
             0.8,
             "#7fbc41"
            ],
            [
             0.9,
             "#4d9221"
            ],
            [
             1,
             "#276419"
            ]
           ],
           "sequential": [
            [
             0,
             "#0d0887"
            ],
            [
             0.1111111111111111,
             "#46039f"
            ],
            [
             0.2222222222222222,
             "#7201a8"
            ],
            [
             0.3333333333333333,
             "#9c179e"
            ],
            [
             0.4444444444444444,
             "#bd3786"
            ],
            [
             0.5555555555555556,
             "#d8576b"
            ],
            [
             0.6666666666666666,
             "#ed7953"
            ],
            [
             0.7777777777777778,
             "#fb9f3a"
            ],
            [
             0.8888888888888888,
             "#fdca26"
            ],
            [
             1,
             "#f0f921"
            ]
           ],
           "sequentialminus": [
            [
             0,
             "#0d0887"
            ],
            [
             0.1111111111111111,
             "#46039f"
            ],
            [
             0.2222222222222222,
             "#7201a8"
            ],
            [
             0.3333333333333333,
             "#9c179e"
            ],
            [
             0.4444444444444444,
             "#bd3786"
            ],
            [
             0.5555555555555556,
             "#d8576b"
            ],
            [
             0.6666666666666666,
             "#ed7953"
            ],
            [
             0.7777777777777778,
             "#fb9f3a"
            ],
            [
             0.8888888888888888,
             "#fdca26"
            ],
            [
             1,
             "#f0f921"
            ]
           ]
          },
          "colorway": [
           "#636efa",
           "#EF553B",
           "#00cc96",
           "#ab63fa",
           "#FFA15A",
           "#19d3f3",
           "#FF6692",
           "#B6E880",
           "#FF97FF",
           "#FECB52"
          ],
          "font": {
           "color": "#2a3f5f"
          },
          "geo": {
           "bgcolor": "white",
           "lakecolor": "white",
           "landcolor": "#E5ECF6",
           "showlakes": true,
           "showland": true,
           "subunitcolor": "white"
          },
          "hoverlabel": {
           "align": "left"
          },
          "hovermode": "closest",
          "mapbox": {
           "style": "light"
          },
          "paper_bgcolor": "white",
          "plot_bgcolor": "#E5ECF6",
          "polar": {
           "angularaxis": {
            "gridcolor": "white",
            "linecolor": "white",
            "ticks": ""
           },
           "bgcolor": "#E5ECF6",
           "radialaxis": {
            "gridcolor": "white",
            "linecolor": "white",
            "ticks": ""
           }
          },
          "scene": {
           "xaxis": {
            "backgroundcolor": "#E5ECF6",
            "gridcolor": "white",
            "gridwidth": 2,
            "linecolor": "white",
            "showbackground": true,
            "ticks": "",
            "zerolinecolor": "white"
           },
           "yaxis": {
            "backgroundcolor": "#E5ECF6",
            "gridcolor": "white",
            "gridwidth": 2,
            "linecolor": "white",
            "showbackground": true,
            "ticks": "",
            "zerolinecolor": "white"
           },
           "zaxis": {
            "backgroundcolor": "#E5ECF6",
            "gridcolor": "white",
            "gridwidth": 2,
            "linecolor": "white",
            "showbackground": true,
            "ticks": "",
            "zerolinecolor": "white"
           }
          },
          "shapedefaults": {
           "line": {
            "color": "#2a3f5f"
           }
          },
          "ternary": {
           "aaxis": {
            "gridcolor": "white",
            "linecolor": "white",
            "ticks": ""
           },
           "baxis": {
            "gridcolor": "white",
            "linecolor": "white",
            "ticks": ""
           },
           "bgcolor": "#E5ECF6",
           "caxis": {
            "gridcolor": "white",
            "linecolor": "white",
            "ticks": ""
           }
          },
          "title": {
           "x": 0.05
          },
          "xaxis": {
           "automargin": true,
           "gridcolor": "white",
           "linecolor": "white",
           "ticks": "",
           "title": {
            "standoff": 15
           },
           "zerolinecolor": "white",
           "zerolinewidth": 2
          },
          "yaxis": {
           "automargin": true,
           "gridcolor": "white",
           "linecolor": "white",
           "ticks": "",
           "title": {
            "standoff": 15
           },
           "zerolinecolor": "white",
           "zerolinewidth": 2
          }
         }
        },
        "title": {
         "text": "Soorten Vliegtuig"
        }
       }
      }
     },
     "metadata": {},
     "output_type": "display_data"
    }
   ],
   "source": [
    "fig= px.pie(data, names='type', title=\"Soorten Vliegtuig\")\n",
    "fig.show()"
   ]
  },
  {
   "cell_type": "code",
   "execution_count": 158,
   "metadata": {},
   "outputs": [
    {
     "data": {
      "text/plain": [
       "type\n",
       "Boeing 737-800             416\n",
       "Embraer ERJ 190-100 STD    192\n",
       "Embraer ERJ 170-200 STD    187\n",
       "Boeing 737-700              75\n",
       "Embraer ERJ190-100STD       69\n",
       "                          ... \n",
       "Boeing 737NG 8F2/W           3\n",
       "Airbus A320-214              3\n",
       "Boeing 777 222ER             2\n",
       "Boeing 777 F6N               1\n",
       "Airbus A330 302              1\n",
       "Name: count, Length: 84, dtype: int64"
      ]
     },
     "execution_count": 158,
     "metadata": {},
     "output_type": "execute_result"
    }
   ],
   "source": [
    "data['type'].value_counts()"
   ]
  },
  {
   "cell_type": "code",
   "execution_count": 159,
   "metadata": {},
   "outputs": [
    {
     "name": "stdout",
     "output_type": "stream",
     "text": [
      "['Airbus A300 B4-622RF' 'Boeing 737-800' None 'Bombardier Global Express'\n",
      " 'Embraer ERJ 170-200 STD' 'Embraer ERJ190-100STD'\n",
      " 'Embraer ERJ 190-100 STD' 'Airbus A320 216SL' 'Airbus A320 - 214SL'\n",
      " 'Airbus A320 214SL' 'Airbus A319-111' 'Airbus A320-271N' 'Boeing 737-900'\n",
      " 'Embraer ERJ190-100SR' 'Cessna Citation CJ2+' 'Airbus A319 114'\n",
      " 'Embraer ERJ190-100LR' 'Embraer EMB-195 LR' 'Boeing 777-300ER'\n",
      " 'Boeing 737-700' 'Boeing 777-200' 'Airbus A330 323E' 'Airbus A320-214SL'\n",
      " '' 'Boeing 737NG 8AS/W' 'Airbus A320 214' 'Bombardier Global 6000'\n",
      " 'Boeing 777 FFX' 'Bombardier BD500 Series CS300' 'Boeing 747-412'\n",
      " 'Cessna Citation Mustang' 'Boeing 737-8MAX' 'Bombardier Challenger 850'\n",
      " 'Boeing 787 8' 'Boeing 767 322ER' 'Airbus A319 112' 'Boeing 737NG 85P/W'\n",
      " 'Boeing 767 322ER/W' 'Cessna 510 Citation Mustang' 'Boeing 737NG 800/W'\n",
      " 'Boeing 777-FDZ' 'Airbus A330 223' 'Airbus A321 231' 'Boeing 787-9'\n",
      " 'Embraer EMB-190 LR' 'Airbus A320-232' 'Boeing 737-3L9'\n",
      " 'Boeing 767 319ER/W' 'Airbus SAS A330-203' 'Boeing 787-8'\n",
      " 'Boeing 737NG 8F2/W' 'Airbus A320 232SL' 'Bombardier Challenger 605'\n",
      " 'Embraer EMB-170 STD' 'Boeing 777-F' 'Boeing 747-400F' 'Airbus A330 323X'\n",
      " 'Boeing 747 4R7F' 'Boeing 777-3DZER' 'Airbus A319 131' 'Boeing 777 31HER'\n",
      " 'Airbus A350 941' 'Airbus A320 216' 'Airbus A318 111'\n",
      " 'Canadair CL-600-2B19 CRJ-200LR' 'Embraer EMB-190 SR'\n",
      " 'Bombardier CRJ 900 LR NG' 'Airbus A321 211' 'Boeing 777 3FXER'\n",
      " 'Boeing 777 36NER' 'Boeing 777 3B5ER' 'Airbus A320-216' 'Boeing 747-400'\n",
      " 'Canadair CRJ900NG Regional Jet' 'Airbus A380 861' 'Boeing 737NG 958ER/W'\n",
      " 'Airbus A320-251N' 'Eurocopter Deutschland EC135 P2+' 'Learjet 60'\n",
      " 'Airbus A319 111' 'Boeing 777 222ER' 'Boeing 777 F6N' 'Airbus A330 302'\n",
      " 'Embraer ERJ190-100R' 'Airbus A320-214']\n"
     ]
    }
   ],
   "source": [
    "uniekeVliegtuigTypen= data['type'].unique()\n",
    "print(uniekeVliegtuigTypen)"
   ]
  },
  {
   "cell_type": "code",
   "execution_count": 160,
   "metadata": {},
   "outputs": [],
   "source": [
    "# pd.DataFrame({'Unieke Vliegtuigen': uniekeVliegtuigTypen}).to_csv(\"unieke_vliegtuigen.csv\", index=False)"
   ]
  },
  {
   "cell_type": "code",
   "execution_count": 161,
   "metadata": {},
   "outputs": [],
   "source": [
    "#Inladen van de verschillende namen van vliegtuigtypen\n",
    "A220= pd.read_csv(\"220.csv\")\n",
    "E90= pd.read_csv(\"E90.csv\")\n",
    "E175= pd.read_csv(\"E175.csv\")\n",
    "A321= pd.read_csv(\"321.csv\")\n",
    "B7378= pd.read_csv(\"7378.csv\")\n",
    "A320= pd.read_csv(\"320.csv\")"
   ]
  },
  {
   "cell_type": "code",
   "execution_count": 162,
   "metadata": {},
   "outputs": [
    {
     "name": "stdout",
     "output_type": "stream",
     "text": [
      "headers  SEL_dB\n",
      "mean        NaN\n",
      "min         NaN\n",
      "max         NaN\n",
      "std         NaN\n",
      "median      NaN\n"
     ]
    }
   ],
   "source": [
    "Air220= data['type'].isin(A220)\n",
    "dbA220=data.loc[Air220, ['SEL_dB']].agg(['mean', 'min', 'max', 'std', 'median'])\n",
    "print(dbA220)"
   ]
  },
  {
   "cell_type": "code",
   "execution_count": 163,
   "metadata": {},
   "outputs": [
    {
     "data": {
      "application/vnd.plotly.v1+json": {
       "config": {
        "plotlyServerURL": "https://plot.ly"
       },
       "data": [
        {
         "hovertemplate": "SEL_dB=%{x}<br>altitude=%{y}<br>distance=%{marker.color}<extra></extra>",
         "legendgroup": "",
         "marker": {
          "color": [],
          "coloraxis": "coloraxis",
          "symbol": "circle"
         },
         "mode": "markers",
         "name": "",
         "scene": "scene",
         "showlegend": false,
         "type": "scatter3d",
         "x": [],
         "y": [],
         "z": []
        }
       ],
       "layout": {
        "coloraxis": {
         "colorbar": {
          "title": {
           "text": "distance"
          }
         },
         "colorscale": [
          [
           0,
           "#0d0887"
          ],
          [
           0.1111111111111111,
           "#46039f"
          ],
          [
           0.2222222222222222,
           "#7201a8"
          ],
          [
           0.3333333333333333,
           "#9c179e"
          ],
          [
           0.4444444444444444,
           "#bd3786"
          ],
          [
           0.5555555555555556,
           "#d8576b"
          ],
          [
           0.6666666666666666,
           "#ed7953"
          ],
          [
           0.7777777777777778,
           "#fb9f3a"
          ],
          [
           0.8888888888888888,
           "#fdca26"
          ],
          [
           1,
           "#f0f921"
          ]
         ]
        },
        "legend": {
         "tracegroupgap": 0
        },
        "margin": {
         "t": 60
        },
        "scene": {
         "domain": {
          "x": [
           0,
           1
          ],
          "y": [
           0,
           1
          ]
         },
         "xaxis": {
          "title": {
           "text": "SEL_dB"
          }
         },
         "yaxis": {
          "title": {
           "text": "altitude"
          }
         },
         "zaxis": {
          "title": {
           "text": "distance"
          }
         }
        },
        "template": {
         "data": {
          "bar": [
           {
            "error_x": {
             "color": "#2a3f5f"
            },
            "error_y": {
             "color": "#2a3f5f"
            },
            "marker": {
             "line": {
              "color": "#E5ECF6",
              "width": 0.5
             },
             "pattern": {
              "fillmode": "overlay",
              "size": 10,
              "solidity": 0.2
             }
            },
            "type": "bar"
           }
          ],
          "barpolar": [
           {
            "marker": {
             "line": {
              "color": "#E5ECF6",
              "width": 0.5
             },
             "pattern": {
              "fillmode": "overlay",
              "size": 10,
              "solidity": 0.2
             }
            },
            "type": "barpolar"
           }
          ],
          "carpet": [
           {
            "aaxis": {
             "endlinecolor": "#2a3f5f",
             "gridcolor": "white",
             "linecolor": "white",
             "minorgridcolor": "white",
             "startlinecolor": "#2a3f5f"
            },
            "baxis": {
             "endlinecolor": "#2a3f5f",
             "gridcolor": "white",
             "linecolor": "white",
             "minorgridcolor": "white",
             "startlinecolor": "#2a3f5f"
            },
            "type": "carpet"
           }
          ],
          "choropleth": [
           {
            "colorbar": {
             "outlinewidth": 0,
             "ticks": ""
            },
            "type": "choropleth"
           }
          ],
          "contour": [
           {
            "colorbar": {
             "outlinewidth": 0,
             "ticks": ""
            },
            "colorscale": [
             [
              0,
              "#0d0887"
             ],
             [
              0.1111111111111111,
              "#46039f"
             ],
             [
              0.2222222222222222,
              "#7201a8"
             ],
             [
              0.3333333333333333,
              "#9c179e"
             ],
             [
              0.4444444444444444,
              "#bd3786"
             ],
             [
              0.5555555555555556,
              "#d8576b"
             ],
             [
              0.6666666666666666,
              "#ed7953"
             ],
             [
              0.7777777777777778,
              "#fb9f3a"
             ],
             [
              0.8888888888888888,
              "#fdca26"
             ],
             [
              1,
              "#f0f921"
             ]
            ],
            "type": "contour"
           }
          ],
          "contourcarpet": [
           {
            "colorbar": {
             "outlinewidth": 0,
             "ticks": ""
            },
            "type": "contourcarpet"
           }
          ],
          "heatmap": [
           {
            "colorbar": {
             "outlinewidth": 0,
             "ticks": ""
            },
            "colorscale": [
             [
              0,
              "#0d0887"
             ],
             [
              0.1111111111111111,
              "#46039f"
             ],
             [
              0.2222222222222222,
              "#7201a8"
             ],
             [
              0.3333333333333333,
              "#9c179e"
             ],
             [
              0.4444444444444444,
              "#bd3786"
             ],
             [
              0.5555555555555556,
              "#d8576b"
             ],
             [
              0.6666666666666666,
              "#ed7953"
             ],
             [
              0.7777777777777778,
              "#fb9f3a"
             ],
             [
              0.8888888888888888,
              "#fdca26"
             ],
             [
              1,
              "#f0f921"
             ]
            ],
            "type": "heatmap"
           }
          ],
          "heatmapgl": [
           {
            "colorbar": {
             "outlinewidth": 0,
             "ticks": ""
            },
            "colorscale": [
             [
              0,
              "#0d0887"
             ],
             [
              0.1111111111111111,
              "#46039f"
             ],
             [
              0.2222222222222222,
              "#7201a8"
             ],
             [
              0.3333333333333333,
              "#9c179e"
             ],
             [
              0.4444444444444444,
              "#bd3786"
             ],
             [
              0.5555555555555556,
              "#d8576b"
             ],
             [
              0.6666666666666666,
              "#ed7953"
             ],
             [
              0.7777777777777778,
              "#fb9f3a"
             ],
             [
              0.8888888888888888,
              "#fdca26"
             ],
             [
              1,
              "#f0f921"
             ]
            ],
            "type": "heatmapgl"
           }
          ],
          "histogram": [
           {
            "marker": {
             "pattern": {
              "fillmode": "overlay",
              "size": 10,
              "solidity": 0.2
             }
            },
            "type": "histogram"
           }
          ],
          "histogram2d": [
           {
            "colorbar": {
             "outlinewidth": 0,
             "ticks": ""
            },
            "colorscale": [
             [
              0,
              "#0d0887"
             ],
             [
              0.1111111111111111,
              "#46039f"
             ],
             [
              0.2222222222222222,
              "#7201a8"
             ],
             [
              0.3333333333333333,
              "#9c179e"
             ],
             [
              0.4444444444444444,
              "#bd3786"
             ],
             [
              0.5555555555555556,
              "#d8576b"
             ],
             [
              0.6666666666666666,
              "#ed7953"
             ],
             [
              0.7777777777777778,
              "#fb9f3a"
             ],
             [
              0.8888888888888888,
              "#fdca26"
             ],
             [
              1,
              "#f0f921"
             ]
            ],
            "type": "histogram2d"
           }
          ],
          "histogram2dcontour": [
           {
            "colorbar": {
             "outlinewidth": 0,
             "ticks": ""
            },
            "colorscale": [
             [
              0,
              "#0d0887"
             ],
             [
              0.1111111111111111,
              "#46039f"
             ],
             [
              0.2222222222222222,
              "#7201a8"
             ],
             [
              0.3333333333333333,
              "#9c179e"
             ],
             [
              0.4444444444444444,
              "#bd3786"
             ],
             [
              0.5555555555555556,
              "#d8576b"
             ],
             [
              0.6666666666666666,
              "#ed7953"
             ],
             [
              0.7777777777777778,
              "#fb9f3a"
             ],
             [
              0.8888888888888888,
              "#fdca26"
             ],
             [
              1,
              "#f0f921"
             ]
            ],
            "type": "histogram2dcontour"
           }
          ],
          "mesh3d": [
           {
            "colorbar": {
             "outlinewidth": 0,
             "ticks": ""
            },
            "type": "mesh3d"
           }
          ],
          "parcoords": [
           {
            "line": {
             "colorbar": {
              "outlinewidth": 0,
              "ticks": ""
             }
            },
            "type": "parcoords"
           }
          ],
          "pie": [
           {
            "automargin": true,
            "type": "pie"
           }
          ],
          "scatter": [
           {
            "fillpattern": {
             "fillmode": "overlay",
             "size": 10,
             "solidity": 0.2
            },
            "type": "scatter"
           }
          ],
          "scatter3d": [
           {
            "line": {
             "colorbar": {
              "outlinewidth": 0,
              "ticks": ""
             }
            },
            "marker": {
             "colorbar": {
              "outlinewidth": 0,
              "ticks": ""
             }
            },
            "type": "scatter3d"
           }
          ],
          "scattercarpet": [
           {
            "marker": {
             "colorbar": {
              "outlinewidth": 0,
              "ticks": ""
             }
            },
            "type": "scattercarpet"
           }
          ],
          "scattergeo": [
           {
            "marker": {
             "colorbar": {
              "outlinewidth": 0,
              "ticks": ""
             }
            },
            "type": "scattergeo"
           }
          ],
          "scattergl": [
           {
            "marker": {
             "colorbar": {
              "outlinewidth": 0,
              "ticks": ""
             }
            },
            "type": "scattergl"
           }
          ],
          "scattermapbox": [
           {
            "marker": {
             "colorbar": {
              "outlinewidth": 0,
              "ticks": ""
             }
            },
            "type": "scattermapbox"
           }
          ],
          "scatterpolar": [
           {
            "marker": {
             "colorbar": {
              "outlinewidth": 0,
              "ticks": ""
             }
            },
            "type": "scatterpolar"
           }
          ],
          "scatterpolargl": [
           {
            "marker": {
             "colorbar": {
              "outlinewidth": 0,
              "ticks": ""
             }
            },
            "type": "scatterpolargl"
           }
          ],
          "scatterternary": [
           {
            "marker": {
             "colorbar": {
              "outlinewidth": 0,
              "ticks": ""
             }
            },
            "type": "scatterternary"
           }
          ],
          "surface": [
           {
            "colorbar": {
             "outlinewidth": 0,
             "ticks": ""
            },
            "colorscale": [
             [
              0,
              "#0d0887"
             ],
             [
              0.1111111111111111,
              "#46039f"
             ],
             [
              0.2222222222222222,
              "#7201a8"
             ],
             [
              0.3333333333333333,
              "#9c179e"
             ],
             [
              0.4444444444444444,
              "#bd3786"
             ],
             [
              0.5555555555555556,
              "#d8576b"
             ],
             [
              0.6666666666666666,
              "#ed7953"
             ],
             [
              0.7777777777777778,
              "#fb9f3a"
             ],
             [
              0.8888888888888888,
              "#fdca26"
             ],
             [
              1,
              "#f0f921"
             ]
            ],
            "type": "surface"
           }
          ],
          "table": [
           {
            "cells": {
             "fill": {
              "color": "#EBF0F8"
             },
             "line": {
              "color": "white"
             }
            },
            "header": {
             "fill": {
              "color": "#C8D4E3"
             },
             "line": {
              "color": "white"
             }
            },
            "type": "table"
           }
          ]
         },
         "layout": {
          "annotationdefaults": {
           "arrowcolor": "#2a3f5f",
           "arrowhead": 0,
           "arrowwidth": 1
          },
          "autotypenumbers": "strict",
          "coloraxis": {
           "colorbar": {
            "outlinewidth": 0,
            "ticks": ""
           }
          },
          "colorscale": {
           "diverging": [
            [
             0,
             "#8e0152"
            ],
            [
             0.1,
             "#c51b7d"
            ],
            [
             0.2,
             "#de77ae"
            ],
            [
             0.3,
             "#f1b6da"
            ],
            [
             0.4,
             "#fde0ef"
            ],
            [
             0.5,
             "#f7f7f7"
            ],
            [
             0.6,
             "#e6f5d0"
            ],
            [
             0.7,
             "#b8e186"
            ],
            [
             0.8,
             "#7fbc41"
            ],
            [
             0.9,
             "#4d9221"
            ],
            [
             1,
             "#276419"
            ]
           ],
           "sequential": [
            [
             0,
             "#0d0887"
            ],
            [
             0.1111111111111111,
             "#46039f"
            ],
            [
             0.2222222222222222,
             "#7201a8"
            ],
            [
             0.3333333333333333,
             "#9c179e"
            ],
            [
             0.4444444444444444,
             "#bd3786"
            ],
            [
             0.5555555555555556,
             "#d8576b"
            ],
            [
             0.6666666666666666,
             "#ed7953"
            ],
            [
             0.7777777777777778,
             "#fb9f3a"
            ],
            [
             0.8888888888888888,
             "#fdca26"
            ],
            [
             1,
             "#f0f921"
            ]
           ],
           "sequentialminus": [
            [
             0,
             "#0d0887"
            ],
            [
             0.1111111111111111,
             "#46039f"
            ],
            [
             0.2222222222222222,
             "#7201a8"
            ],
            [
             0.3333333333333333,
             "#9c179e"
            ],
            [
             0.4444444444444444,
             "#bd3786"
            ],
            [
             0.5555555555555556,
             "#d8576b"
            ],
            [
             0.6666666666666666,
             "#ed7953"
            ],
            [
             0.7777777777777778,
             "#fb9f3a"
            ],
            [
             0.8888888888888888,
             "#fdca26"
            ],
            [
             1,
             "#f0f921"
            ]
           ]
          },
          "colorway": [
           "#636efa",
           "#EF553B",
           "#00cc96",
           "#ab63fa",
           "#FFA15A",
           "#19d3f3",
           "#FF6692",
           "#B6E880",
           "#FF97FF",
           "#FECB52"
          ],
          "font": {
           "color": "#2a3f5f"
          },
          "geo": {
           "bgcolor": "white",
           "lakecolor": "white",
           "landcolor": "#E5ECF6",
           "showlakes": true,
           "showland": true,
           "subunitcolor": "white"
          },
          "hoverlabel": {
           "align": "left"
          },
          "hovermode": "closest",
          "mapbox": {
           "style": "light"
          },
          "paper_bgcolor": "white",
          "plot_bgcolor": "#E5ECF6",
          "polar": {
           "angularaxis": {
            "gridcolor": "white",
            "linecolor": "white",
            "ticks": ""
           },
           "bgcolor": "#E5ECF6",
           "radialaxis": {
            "gridcolor": "white",
            "linecolor": "white",
            "ticks": ""
           }
          },
          "scene": {
           "xaxis": {
            "backgroundcolor": "#E5ECF6",
            "gridcolor": "white",
            "gridwidth": 2,
            "linecolor": "white",
            "showbackground": true,
            "ticks": "",
            "zerolinecolor": "white"
           },
           "yaxis": {
            "backgroundcolor": "#E5ECF6",
            "gridcolor": "white",
            "gridwidth": 2,
            "linecolor": "white",
            "showbackground": true,
            "ticks": "",
            "zerolinecolor": "white"
           },
           "zaxis": {
            "backgroundcolor": "#E5ECF6",
            "gridcolor": "white",
            "gridwidth": 2,
            "linecolor": "white",
            "showbackground": true,
            "ticks": "",
            "zerolinecolor": "white"
           }
          },
          "shapedefaults": {
           "line": {
            "color": "#2a3f5f"
           }
          },
          "ternary": {
           "aaxis": {
            "gridcolor": "white",
            "linecolor": "white",
            "ticks": ""
           },
           "baxis": {
            "gridcolor": "white",
            "linecolor": "white",
            "ticks": ""
           },
           "bgcolor": "#E5ECF6",
           "caxis": {
            "gridcolor": "white",
            "linecolor": "white",
            "ticks": ""
           }
          },
          "title": {
           "x": 0.05
          },
          "xaxis": {
           "automargin": true,
           "gridcolor": "white",
           "linecolor": "white",
           "ticks": "",
           "title": {
            "standoff": 15
           },
           "zerolinecolor": "white",
           "zerolinewidth": 2
          },
          "yaxis": {
           "automargin": true,
           "gridcolor": "white",
           "linecolor": "white",
           "ticks": "",
           "title": {
            "standoff": 15
           },
           "zerolinecolor": "white",
           "zerolinewidth": 2
          }
         }
        }
       }
      }
     },
     "metadata": {},
     "output_type": "display_data"
    }
   ],
   "source": [
    "df_220 =data.loc[Air220]\n",
    "fig= px.scatter_3d(df_220, x=\"SEL_dB\", y=\"altitude\", z=\"distance\", color=\"distance\")\n",
    "fig.show()\n",
    "\n"
   ]
  },
  {
   "cell_type": "code",
   "execution_count": 164,
   "metadata": {},
   "outputs": [
    {
     "data": {
      "application/vnd.plotly.v1+json": {
       "config": {
        "plotlyServerURL": "https://plot.ly"
       },
       "data": [
        {
         "hovertemplate": "distance=%{x}<br>altitude=%{y}<extra></extra>",
         "legendgroup": "",
         "marker": {
          "color": "#636efa",
          "symbol": "circle"
         },
         "mode": "markers",
         "name": "",
         "orientation": "v",
         "showlegend": false,
         "type": "scatter",
         "x": [],
         "xaxis": "x",
         "y": [],
         "yaxis": "y"
        }
       ],
       "layout": {
        "legend": {
         "tracegroupgap": 0
        },
        "margin": {
         "t": 60
        },
        "template": {
         "data": {
          "bar": [
           {
            "error_x": {
             "color": "#2a3f5f"
            },
            "error_y": {
             "color": "#2a3f5f"
            },
            "marker": {
             "line": {
              "color": "#E5ECF6",
              "width": 0.5
             },
             "pattern": {
              "fillmode": "overlay",
              "size": 10,
              "solidity": 0.2
             }
            },
            "type": "bar"
           }
          ],
          "barpolar": [
           {
            "marker": {
             "line": {
              "color": "#E5ECF6",
              "width": 0.5
             },
             "pattern": {
              "fillmode": "overlay",
              "size": 10,
              "solidity": 0.2
             }
            },
            "type": "barpolar"
           }
          ],
          "carpet": [
           {
            "aaxis": {
             "endlinecolor": "#2a3f5f",
             "gridcolor": "white",
             "linecolor": "white",
             "minorgridcolor": "white",
             "startlinecolor": "#2a3f5f"
            },
            "baxis": {
             "endlinecolor": "#2a3f5f",
             "gridcolor": "white",
             "linecolor": "white",
             "minorgridcolor": "white",
             "startlinecolor": "#2a3f5f"
            },
            "type": "carpet"
           }
          ],
          "choropleth": [
           {
            "colorbar": {
             "outlinewidth": 0,
             "ticks": ""
            },
            "type": "choropleth"
           }
          ],
          "contour": [
           {
            "colorbar": {
             "outlinewidth": 0,
             "ticks": ""
            },
            "colorscale": [
             [
              0,
              "#0d0887"
             ],
             [
              0.1111111111111111,
              "#46039f"
             ],
             [
              0.2222222222222222,
              "#7201a8"
             ],
             [
              0.3333333333333333,
              "#9c179e"
             ],
             [
              0.4444444444444444,
              "#bd3786"
             ],
             [
              0.5555555555555556,
              "#d8576b"
             ],
             [
              0.6666666666666666,
              "#ed7953"
             ],
             [
              0.7777777777777778,
              "#fb9f3a"
             ],
             [
              0.8888888888888888,
              "#fdca26"
             ],
             [
              1,
              "#f0f921"
             ]
            ],
            "type": "contour"
           }
          ],
          "contourcarpet": [
           {
            "colorbar": {
             "outlinewidth": 0,
             "ticks": ""
            },
            "type": "contourcarpet"
           }
          ],
          "heatmap": [
           {
            "colorbar": {
             "outlinewidth": 0,
             "ticks": ""
            },
            "colorscale": [
             [
              0,
              "#0d0887"
             ],
             [
              0.1111111111111111,
              "#46039f"
             ],
             [
              0.2222222222222222,
              "#7201a8"
             ],
             [
              0.3333333333333333,
              "#9c179e"
             ],
             [
              0.4444444444444444,
              "#bd3786"
             ],
             [
              0.5555555555555556,
              "#d8576b"
             ],
             [
              0.6666666666666666,
              "#ed7953"
             ],
             [
              0.7777777777777778,
              "#fb9f3a"
             ],
             [
              0.8888888888888888,
              "#fdca26"
             ],
             [
              1,
              "#f0f921"
             ]
            ],
            "type": "heatmap"
           }
          ],
          "heatmapgl": [
           {
            "colorbar": {
             "outlinewidth": 0,
             "ticks": ""
            },
            "colorscale": [
             [
              0,
              "#0d0887"
             ],
             [
              0.1111111111111111,
              "#46039f"
             ],
             [
              0.2222222222222222,
              "#7201a8"
             ],
             [
              0.3333333333333333,
              "#9c179e"
             ],
             [
              0.4444444444444444,
              "#bd3786"
             ],
             [
              0.5555555555555556,
              "#d8576b"
             ],
             [
              0.6666666666666666,
              "#ed7953"
             ],
             [
              0.7777777777777778,
              "#fb9f3a"
             ],
             [
              0.8888888888888888,
              "#fdca26"
             ],
             [
              1,
              "#f0f921"
             ]
            ],
            "type": "heatmapgl"
           }
          ],
          "histogram": [
           {
            "marker": {
             "pattern": {
              "fillmode": "overlay",
              "size": 10,
              "solidity": 0.2
             }
            },
            "type": "histogram"
           }
          ],
          "histogram2d": [
           {
            "colorbar": {
             "outlinewidth": 0,
             "ticks": ""
            },
            "colorscale": [
             [
              0,
              "#0d0887"
             ],
             [
              0.1111111111111111,
              "#46039f"
             ],
             [
              0.2222222222222222,
              "#7201a8"
             ],
             [
              0.3333333333333333,
              "#9c179e"
             ],
             [
              0.4444444444444444,
              "#bd3786"
             ],
             [
              0.5555555555555556,
              "#d8576b"
             ],
             [
              0.6666666666666666,
              "#ed7953"
             ],
             [
              0.7777777777777778,
              "#fb9f3a"
             ],
             [
              0.8888888888888888,
              "#fdca26"
             ],
             [
              1,
              "#f0f921"
             ]
            ],
            "type": "histogram2d"
           }
          ],
          "histogram2dcontour": [
           {
            "colorbar": {
             "outlinewidth": 0,
             "ticks": ""
            },
            "colorscale": [
             [
              0,
              "#0d0887"
             ],
             [
              0.1111111111111111,
              "#46039f"
             ],
             [
              0.2222222222222222,
              "#7201a8"
             ],
             [
              0.3333333333333333,
              "#9c179e"
             ],
             [
              0.4444444444444444,
              "#bd3786"
             ],
             [
              0.5555555555555556,
              "#d8576b"
             ],
             [
              0.6666666666666666,
              "#ed7953"
             ],
             [
              0.7777777777777778,
              "#fb9f3a"
             ],
             [
              0.8888888888888888,
              "#fdca26"
             ],
             [
              1,
              "#f0f921"
             ]
            ],
            "type": "histogram2dcontour"
           }
          ],
          "mesh3d": [
           {
            "colorbar": {
             "outlinewidth": 0,
             "ticks": ""
            },
            "type": "mesh3d"
           }
          ],
          "parcoords": [
           {
            "line": {
             "colorbar": {
              "outlinewidth": 0,
              "ticks": ""
             }
            },
            "type": "parcoords"
           }
          ],
          "pie": [
           {
            "automargin": true,
            "type": "pie"
           }
          ],
          "scatter": [
           {
            "fillpattern": {
             "fillmode": "overlay",
             "size": 10,
             "solidity": 0.2
            },
            "type": "scatter"
           }
          ],
          "scatter3d": [
           {
            "line": {
             "colorbar": {
              "outlinewidth": 0,
              "ticks": ""
             }
            },
            "marker": {
             "colorbar": {
              "outlinewidth": 0,
              "ticks": ""
             }
            },
            "type": "scatter3d"
           }
          ],
          "scattercarpet": [
           {
            "marker": {
             "colorbar": {
              "outlinewidth": 0,
              "ticks": ""
             }
            },
            "type": "scattercarpet"
           }
          ],
          "scattergeo": [
           {
            "marker": {
             "colorbar": {
              "outlinewidth": 0,
              "ticks": ""
             }
            },
            "type": "scattergeo"
           }
          ],
          "scattergl": [
           {
            "marker": {
             "colorbar": {
              "outlinewidth": 0,
              "ticks": ""
             }
            },
            "type": "scattergl"
           }
          ],
          "scattermapbox": [
           {
            "marker": {
             "colorbar": {
              "outlinewidth": 0,
              "ticks": ""
             }
            },
            "type": "scattermapbox"
           }
          ],
          "scatterpolar": [
           {
            "marker": {
             "colorbar": {
              "outlinewidth": 0,
              "ticks": ""
             }
            },
            "type": "scatterpolar"
           }
          ],
          "scatterpolargl": [
           {
            "marker": {
             "colorbar": {
              "outlinewidth": 0,
              "ticks": ""
             }
            },
            "type": "scatterpolargl"
           }
          ],
          "scatterternary": [
           {
            "marker": {
             "colorbar": {
              "outlinewidth": 0,
              "ticks": ""
             }
            },
            "type": "scatterternary"
           }
          ],
          "surface": [
           {
            "colorbar": {
             "outlinewidth": 0,
             "ticks": ""
            },
            "colorscale": [
             [
              0,
              "#0d0887"
             ],
             [
              0.1111111111111111,
              "#46039f"
             ],
             [
              0.2222222222222222,
              "#7201a8"
             ],
             [
              0.3333333333333333,
              "#9c179e"
             ],
             [
              0.4444444444444444,
              "#bd3786"
             ],
             [
              0.5555555555555556,
              "#d8576b"
             ],
             [
              0.6666666666666666,
              "#ed7953"
             ],
             [
              0.7777777777777778,
              "#fb9f3a"
             ],
             [
              0.8888888888888888,
              "#fdca26"
             ],
             [
              1,
              "#f0f921"
             ]
            ],
            "type": "surface"
           }
          ],
          "table": [
           {
            "cells": {
             "fill": {
              "color": "#EBF0F8"
             },
             "line": {
              "color": "white"
             }
            },
            "header": {
             "fill": {
              "color": "#C8D4E3"
             },
             "line": {
              "color": "white"
             }
            },
            "type": "table"
           }
          ]
         },
         "layout": {
          "annotationdefaults": {
           "arrowcolor": "#2a3f5f",
           "arrowhead": 0,
           "arrowwidth": 1
          },
          "autotypenumbers": "strict",
          "coloraxis": {
           "colorbar": {
            "outlinewidth": 0,
            "ticks": ""
           }
          },
          "colorscale": {
           "diverging": [
            [
             0,
             "#8e0152"
            ],
            [
             0.1,
             "#c51b7d"
            ],
            [
             0.2,
             "#de77ae"
            ],
            [
             0.3,
             "#f1b6da"
            ],
            [
             0.4,
             "#fde0ef"
            ],
            [
             0.5,
             "#f7f7f7"
            ],
            [
             0.6,
             "#e6f5d0"
            ],
            [
             0.7,
             "#b8e186"
            ],
            [
             0.8,
             "#7fbc41"
            ],
            [
             0.9,
             "#4d9221"
            ],
            [
             1,
             "#276419"
            ]
           ],
           "sequential": [
            [
             0,
             "#0d0887"
            ],
            [
             0.1111111111111111,
             "#46039f"
            ],
            [
             0.2222222222222222,
             "#7201a8"
            ],
            [
             0.3333333333333333,
             "#9c179e"
            ],
            [
             0.4444444444444444,
             "#bd3786"
            ],
            [
             0.5555555555555556,
             "#d8576b"
            ],
            [
             0.6666666666666666,
             "#ed7953"
            ],
            [
             0.7777777777777778,
             "#fb9f3a"
            ],
            [
             0.8888888888888888,
             "#fdca26"
            ],
            [
             1,
             "#f0f921"
            ]
           ],
           "sequentialminus": [
            [
             0,
             "#0d0887"
            ],
            [
             0.1111111111111111,
             "#46039f"
            ],
            [
             0.2222222222222222,
             "#7201a8"
            ],
            [
             0.3333333333333333,
             "#9c179e"
            ],
            [
             0.4444444444444444,
             "#bd3786"
            ],
            [
             0.5555555555555556,
             "#d8576b"
            ],
            [
             0.6666666666666666,
             "#ed7953"
            ],
            [
             0.7777777777777778,
             "#fb9f3a"
            ],
            [
             0.8888888888888888,
             "#fdca26"
            ],
            [
             1,
             "#f0f921"
            ]
           ]
          },
          "colorway": [
           "#636efa",
           "#EF553B",
           "#00cc96",
           "#ab63fa",
           "#FFA15A",
           "#19d3f3",
           "#FF6692",
           "#B6E880",
           "#FF97FF",
           "#FECB52"
          ],
          "font": {
           "color": "#2a3f5f"
          },
          "geo": {
           "bgcolor": "white",
           "lakecolor": "white",
           "landcolor": "#E5ECF6",
           "showlakes": true,
           "showland": true,
           "subunitcolor": "white"
          },
          "hoverlabel": {
           "align": "left"
          },
          "hovermode": "closest",
          "mapbox": {
           "style": "light"
          },
          "paper_bgcolor": "white",
          "plot_bgcolor": "#E5ECF6",
          "polar": {
           "angularaxis": {
            "gridcolor": "white",
            "linecolor": "white",
            "ticks": ""
           },
           "bgcolor": "#E5ECF6",
           "radialaxis": {
            "gridcolor": "white",
            "linecolor": "white",
            "ticks": ""
           }
          },
          "scene": {
           "xaxis": {
            "backgroundcolor": "#E5ECF6",
            "gridcolor": "white",
            "gridwidth": 2,
            "linecolor": "white",
            "showbackground": true,
            "ticks": "",
            "zerolinecolor": "white"
           },
           "yaxis": {
            "backgroundcolor": "#E5ECF6",
            "gridcolor": "white",
            "gridwidth": 2,
            "linecolor": "white",
            "showbackground": true,
            "ticks": "",
            "zerolinecolor": "white"
           },
           "zaxis": {
            "backgroundcolor": "#E5ECF6",
            "gridcolor": "white",
            "gridwidth": 2,
            "linecolor": "white",
            "showbackground": true,
            "ticks": "",
            "zerolinecolor": "white"
           }
          },
          "shapedefaults": {
           "line": {
            "color": "#2a3f5f"
           }
          },
          "ternary": {
           "aaxis": {
            "gridcolor": "white",
            "linecolor": "white",
            "ticks": ""
           },
           "baxis": {
            "gridcolor": "white",
            "linecolor": "white",
            "ticks": ""
           },
           "bgcolor": "#E5ECF6",
           "caxis": {
            "gridcolor": "white",
            "linecolor": "white",
            "ticks": ""
           }
          },
          "title": {
           "x": 0.05
          },
          "xaxis": {
           "automargin": true,
           "gridcolor": "white",
           "linecolor": "white",
           "ticks": "",
           "title": {
            "standoff": 15
           },
           "zerolinecolor": "white",
           "zerolinewidth": 2
          },
          "yaxis": {
           "automargin": true,
           "gridcolor": "white",
           "linecolor": "white",
           "ticks": "",
           "title": {
            "standoff": 15
           },
           "zerolinecolor": "white",
           "zerolinewidth": 2
          }
         }
        },
        "xaxis": {
         "anchor": "y",
         "domain": [
          0,
          1
         ],
         "title": {
          "text": "distance"
         }
        },
        "yaxis": {
         "anchor": "x",
         "domain": [
          0,
          1
         ],
         "title": {
          "text": "altitude"
         }
        }
       }
      }
     },
     "metadata": {},
     "output_type": "display_data"
    }
   ],
   "source": [
    "df_220 =data.loc[Air220]\n",
    "fig= px.scatter(df_220, x=\"distance\", y=\"altitude\")\n",
    "fig.show()\n"
   ]
  },
  {
   "cell_type": "code",
   "execution_count": 165,
   "metadata": {},
   "outputs": [
    {
     "name": "stdout",
     "output_type": "stream",
     "text": [
      "headers     SEL_dB\n",
      "mean     78.139592\n",
      "min      60.337580\n",
      "max      89.613131\n",
      "std       7.716006\n",
      "median   79.329763\n"
     ]
    }
   ],
   "source": [
    "AirE90= data['type'].isin(E90)\n",
    "dbE90=data.loc[AirE90, ['SEL_dB']].agg(['mean', 'min', 'max', 'std', 'median'])\n",
    "print(dbE90)"
   ]
  },
  {
   "cell_type": "code",
   "execution_count": 166,
   "metadata": {},
   "outputs": [
    {
     "data": {
      "application/vnd.plotly.v1+json": {
       "config": {
        "plotlyServerURL": "https://plot.ly"
       },
       "data": [
        {
         "hovertemplate": "SEL_dB=%{x}<br>altitude=%{y}<br>distance=%{marker.color}<extra></extra>",
         "legendgroup": "",
         "marker": {
          "color": [
           2800.47,
           1039.71,
           2576.42,
           2536.11,
           2539.82,
           777.375,
           522.282,
           567.72,
           527.681,
           337.314,
           327.186,
           2614.75,
           2170.66,
           2150.88,
           3324.38,
           3331.6,
           942.808,
           938.84,
           2080.17,
           1967.76,
           1079.98,
           635.201,
           689.942,
           587.943,
           3065.66,
           1185.41,
           1031.39,
           254.181,
           250.143,
           521.827,
           396.857,
           257.466,
           1235.67,
           1215.56,
           1205,
           762.42,
           752.589,
           1073.02,
           915.986,
           754.435,
           3549.19,
           1581.62,
           1536.95,
           1517.75,
           3383.46,
           3782.34,
           1694.01,
           1202.85,
           1414.43,
           1336.13,
           1215.82,
           3267.39,
           1017.99,
           2824.12,
           2808.93,
           781.876,
           518.353,
           584.001,
           527.805,
           172.135,
           157.834,
           2796.52,
           2885.44,
           469.929,
           544.18,
           779.395,
           836.537,
           844.51,
           3746.18
          ],
          "coloraxis": "coloraxis",
          "symbol": "circle"
         },
         "mode": "markers",
         "name": "",
         "scene": "scene",
         "showlegend": false,
         "type": "scatter3d",
         "x": [
          69.95912703439673,
          78.93532207550597,
          65.62959025062028,
          65.39229079063713,
          67.31882841694596,
          86.24057170026705,
          88.6534928113852,
          87.24091624109866,
          88.47924216380305,
          81.71944593086992,
          83.15862274509313,
          60.33758043602845,
          75.30410824170058,
          77.07074900272904,
          76.92954061396222,
          75.36856841741853,
          78.3115886862629,
          78.27013057233142,
          72.67682252430745,
          65.47123791112318,
          82.05270380355844,
          82.61481935920663,
          81.23174868435754,
          83.16022440885762,
          63.87512621760897,
          80.69716599051908,
          82.07667924966731,
          85.49234274682105,
          85.6851760652129,
          84.14073413262416,
          84.97380195363185,
          84.47585514090024,
          81.21726675761079,
          80.79646965275555,
          81.16949891665666,
          80.33659143634205,
          80.74798044886614,
          81.74068371357637,
          82.3316829052677,
          78.07048887439451,
          68.62197204538673,
          79.32976281317714,
          78.05056712841497,
          79.16107806915788,
          67.98151748889356,
          67.80929358320085,
          73.2029890652838,
          76.57360326197514,
          77.34602232642064,
          78.39845690751238,
          72.85818617151622,
          70.95738375187166,
          78.67571564637328,
          66.69027145790194,
          68.47207025490366,
          83.93495854367494,
          87.8215919987741,
          86.1494541582937,
          88.92787957963407,
          88.69200242804288,
          89.61313060438862,
          67.54579910426916,
          62.28602539627627,
          86.94108229206637,
          89.28053558903399,
          84.44429054601136,
          84.19786409987196,
          72.98524852750965,
          65.32828272815163
         ],
         "y": [
          577.5,
          439.972,
          507.599,
          590.057,
          474.197,
          392.8,
          383.691,
          424.154,
          421.551,
          122.956,
          114.487,
          371.864,
          1063.42,
          1049.44,
          452.496,
          489.1,
          353.769,
          342.33,
          897.348,
          431.459,
          676.94,
          629.012,
          682.833,
          578.413,
          394.478,
          462.111,
          548.363,
          248.777,
          241.795,
          514.596,
          394.055,
          252.532,
          1144.42,
          1137.83,
          1131.17,
          474.645,
          474.412,
          982.502,
          668.378,
          471.131,
          803.391,
          1070.29,
          1060.06,
          1046.8,
          688.521,
          434.3,
          352.874,
          433.357,
          894.078,
          588.275,
          431.222,
          607.5,
          474.945,
          662.566,
          562.274,
          440.278,
          407.3,
          450.351,
          445.554,
          166.93,
          154.871,
          496.526,
          390.221,
          463.575,
          429.018,
          403.011,
          441.623,
          127.53,
          378.667
         ],
         "z": [
          2800.47,
          1039.71,
          2576.42,
          2536.11,
          2539.82,
          777.375,
          522.282,
          567.72,
          527.681,
          337.314,
          327.186,
          2614.75,
          2170.66,
          2150.88,
          3324.38,
          3331.6,
          942.808,
          938.84,
          2080.17,
          1967.76,
          1079.98,
          635.201,
          689.942,
          587.943,
          3065.66,
          1185.41,
          1031.39,
          254.181,
          250.143,
          521.827,
          396.857,
          257.466,
          1235.67,
          1215.56,
          1205,
          762.42,
          752.589,
          1073.02,
          915.986,
          754.435,
          3549.19,
          1581.62,
          1536.95,
          1517.75,
          3383.46,
          3782.34,
          1694.01,
          1202.85,
          1414.43,
          1336.13,
          1215.82,
          3267.39,
          1017.99,
          2824.12,
          2808.93,
          781.876,
          518.353,
          584.001,
          527.805,
          172.135,
          157.834,
          2796.52,
          2885.44,
          469.929,
          544.18,
          779.395,
          836.537,
          844.51,
          3746.18
         ]
        }
       ],
       "layout": {
        "coloraxis": {
         "colorbar": {
          "title": {
           "text": "distance"
          }
         },
         "colorscale": [
          [
           0,
           "#0d0887"
          ],
          [
           0.1111111111111111,
           "#46039f"
          ],
          [
           0.2222222222222222,
           "#7201a8"
          ],
          [
           0.3333333333333333,
           "#9c179e"
          ],
          [
           0.4444444444444444,
           "#bd3786"
          ],
          [
           0.5555555555555556,
           "#d8576b"
          ],
          [
           0.6666666666666666,
           "#ed7953"
          ],
          [
           0.7777777777777778,
           "#fb9f3a"
          ],
          [
           0.8888888888888888,
           "#fdca26"
          ],
          [
           1,
           "#f0f921"
          ]
         ]
        },
        "legend": {
         "tracegroupgap": 0
        },
        "margin": {
         "t": 60
        },
        "scene": {
         "domain": {
          "x": [
           0,
           1
          ],
          "y": [
           0,
           1
          ]
         },
         "xaxis": {
          "title": {
           "text": "SEL_dB"
          }
         },
         "yaxis": {
          "title": {
           "text": "altitude"
          }
         },
         "zaxis": {
          "title": {
           "text": "distance"
          }
         }
        },
        "template": {
         "data": {
          "bar": [
           {
            "error_x": {
             "color": "#2a3f5f"
            },
            "error_y": {
             "color": "#2a3f5f"
            },
            "marker": {
             "line": {
              "color": "#E5ECF6",
              "width": 0.5
             },
             "pattern": {
              "fillmode": "overlay",
              "size": 10,
              "solidity": 0.2
             }
            },
            "type": "bar"
           }
          ],
          "barpolar": [
           {
            "marker": {
             "line": {
              "color": "#E5ECF6",
              "width": 0.5
             },
             "pattern": {
              "fillmode": "overlay",
              "size": 10,
              "solidity": 0.2
             }
            },
            "type": "barpolar"
           }
          ],
          "carpet": [
           {
            "aaxis": {
             "endlinecolor": "#2a3f5f",
             "gridcolor": "white",
             "linecolor": "white",
             "minorgridcolor": "white",
             "startlinecolor": "#2a3f5f"
            },
            "baxis": {
             "endlinecolor": "#2a3f5f",
             "gridcolor": "white",
             "linecolor": "white",
             "minorgridcolor": "white",
             "startlinecolor": "#2a3f5f"
            },
            "type": "carpet"
           }
          ],
          "choropleth": [
           {
            "colorbar": {
             "outlinewidth": 0,
             "ticks": ""
            },
            "type": "choropleth"
           }
          ],
          "contour": [
           {
            "colorbar": {
             "outlinewidth": 0,
             "ticks": ""
            },
            "colorscale": [
             [
              0,
              "#0d0887"
             ],
             [
              0.1111111111111111,
              "#46039f"
             ],
             [
              0.2222222222222222,
              "#7201a8"
             ],
             [
              0.3333333333333333,
              "#9c179e"
             ],
             [
              0.4444444444444444,
              "#bd3786"
             ],
             [
              0.5555555555555556,
              "#d8576b"
             ],
             [
              0.6666666666666666,
              "#ed7953"
             ],
             [
              0.7777777777777778,
              "#fb9f3a"
             ],
             [
              0.8888888888888888,
              "#fdca26"
             ],
             [
              1,
              "#f0f921"
             ]
            ],
            "type": "contour"
           }
          ],
          "contourcarpet": [
           {
            "colorbar": {
             "outlinewidth": 0,
             "ticks": ""
            },
            "type": "contourcarpet"
           }
          ],
          "heatmap": [
           {
            "colorbar": {
             "outlinewidth": 0,
             "ticks": ""
            },
            "colorscale": [
             [
              0,
              "#0d0887"
             ],
             [
              0.1111111111111111,
              "#46039f"
             ],
             [
              0.2222222222222222,
              "#7201a8"
             ],
             [
              0.3333333333333333,
              "#9c179e"
             ],
             [
              0.4444444444444444,
              "#bd3786"
             ],
             [
              0.5555555555555556,
              "#d8576b"
             ],
             [
              0.6666666666666666,
              "#ed7953"
             ],
             [
              0.7777777777777778,
              "#fb9f3a"
             ],
             [
              0.8888888888888888,
              "#fdca26"
             ],
             [
              1,
              "#f0f921"
             ]
            ],
            "type": "heatmap"
           }
          ],
          "heatmapgl": [
           {
            "colorbar": {
             "outlinewidth": 0,
             "ticks": ""
            },
            "colorscale": [
             [
              0,
              "#0d0887"
             ],
             [
              0.1111111111111111,
              "#46039f"
             ],
             [
              0.2222222222222222,
              "#7201a8"
             ],
             [
              0.3333333333333333,
              "#9c179e"
             ],
             [
              0.4444444444444444,
              "#bd3786"
             ],
             [
              0.5555555555555556,
              "#d8576b"
             ],
             [
              0.6666666666666666,
              "#ed7953"
             ],
             [
              0.7777777777777778,
              "#fb9f3a"
             ],
             [
              0.8888888888888888,
              "#fdca26"
             ],
             [
              1,
              "#f0f921"
             ]
            ],
            "type": "heatmapgl"
           }
          ],
          "histogram": [
           {
            "marker": {
             "pattern": {
              "fillmode": "overlay",
              "size": 10,
              "solidity": 0.2
             }
            },
            "type": "histogram"
           }
          ],
          "histogram2d": [
           {
            "colorbar": {
             "outlinewidth": 0,
             "ticks": ""
            },
            "colorscale": [
             [
              0,
              "#0d0887"
             ],
             [
              0.1111111111111111,
              "#46039f"
             ],
             [
              0.2222222222222222,
              "#7201a8"
             ],
             [
              0.3333333333333333,
              "#9c179e"
             ],
             [
              0.4444444444444444,
              "#bd3786"
             ],
             [
              0.5555555555555556,
              "#d8576b"
             ],
             [
              0.6666666666666666,
              "#ed7953"
             ],
             [
              0.7777777777777778,
              "#fb9f3a"
             ],
             [
              0.8888888888888888,
              "#fdca26"
             ],
             [
              1,
              "#f0f921"
             ]
            ],
            "type": "histogram2d"
           }
          ],
          "histogram2dcontour": [
           {
            "colorbar": {
             "outlinewidth": 0,
             "ticks": ""
            },
            "colorscale": [
             [
              0,
              "#0d0887"
             ],
             [
              0.1111111111111111,
              "#46039f"
             ],
             [
              0.2222222222222222,
              "#7201a8"
             ],
             [
              0.3333333333333333,
              "#9c179e"
             ],
             [
              0.4444444444444444,
              "#bd3786"
             ],
             [
              0.5555555555555556,
              "#d8576b"
             ],
             [
              0.6666666666666666,
              "#ed7953"
             ],
             [
              0.7777777777777778,
              "#fb9f3a"
             ],
             [
              0.8888888888888888,
              "#fdca26"
             ],
             [
              1,
              "#f0f921"
             ]
            ],
            "type": "histogram2dcontour"
           }
          ],
          "mesh3d": [
           {
            "colorbar": {
             "outlinewidth": 0,
             "ticks": ""
            },
            "type": "mesh3d"
           }
          ],
          "parcoords": [
           {
            "line": {
             "colorbar": {
              "outlinewidth": 0,
              "ticks": ""
             }
            },
            "type": "parcoords"
           }
          ],
          "pie": [
           {
            "automargin": true,
            "type": "pie"
           }
          ],
          "scatter": [
           {
            "fillpattern": {
             "fillmode": "overlay",
             "size": 10,
             "solidity": 0.2
            },
            "type": "scatter"
           }
          ],
          "scatter3d": [
           {
            "line": {
             "colorbar": {
              "outlinewidth": 0,
              "ticks": ""
             }
            },
            "marker": {
             "colorbar": {
              "outlinewidth": 0,
              "ticks": ""
             }
            },
            "type": "scatter3d"
           }
          ],
          "scattercarpet": [
           {
            "marker": {
             "colorbar": {
              "outlinewidth": 0,
              "ticks": ""
             }
            },
            "type": "scattercarpet"
           }
          ],
          "scattergeo": [
           {
            "marker": {
             "colorbar": {
              "outlinewidth": 0,
              "ticks": ""
             }
            },
            "type": "scattergeo"
           }
          ],
          "scattergl": [
           {
            "marker": {
             "colorbar": {
              "outlinewidth": 0,
              "ticks": ""
             }
            },
            "type": "scattergl"
           }
          ],
          "scattermapbox": [
           {
            "marker": {
             "colorbar": {
              "outlinewidth": 0,
              "ticks": ""
             }
            },
            "type": "scattermapbox"
           }
          ],
          "scatterpolar": [
           {
            "marker": {
             "colorbar": {
              "outlinewidth": 0,
              "ticks": ""
             }
            },
            "type": "scatterpolar"
           }
          ],
          "scatterpolargl": [
           {
            "marker": {
             "colorbar": {
              "outlinewidth": 0,
              "ticks": ""
             }
            },
            "type": "scatterpolargl"
           }
          ],
          "scatterternary": [
           {
            "marker": {
             "colorbar": {
              "outlinewidth": 0,
              "ticks": ""
             }
            },
            "type": "scatterternary"
           }
          ],
          "surface": [
           {
            "colorbar": {
             "outlinewidth": 0,
             "ticks": ""
            },
            "colorscale": [
             [
              0,
              "#0d0887"
             ],
             [
              0.1111111111111111,
              "#46039f"
             ],
             [
              0.2222222222222222,
              "#7201a8"
             ],
             [
              0.3333333333333333,
              "#9c179e"
             ],
             [
              0.4444444444444444,
              "#bd3786"
             ],
             [
              0.5555555555555556,
              "#d8576b"
             ],
             [
              0.6666666666666666,
              "#ed7953"
             ],
             [
              0.7777777777777778,
              "#fb9f3a"
             ],
             [
              0.8888888888888888,
              "#fdca26"
             ],
             [
              1,
              "#f0f921"
             ]
            ],
            "type": "surface"
           }
          ],
          "table": [
           {
            "cells": {
             "fill": {
              "color": "#EBF0F8"
             },
             "line": {
              "color": "white"
             }
            },
            "header": {
             "fill": {
              "color": "#C8D4E3"
             },
             "line": {
              "color": "white"
             }
            },
            "type": "table"
           }
          ]
         },
         "layout": {
          "annotationdefaults": {
           "arrowcolor": "#2a3f5f",
           "arrowhead": 0,
           "arrowwidth": 1
          },
          "autotypenumbers": "strict",
          "coloraxis": {
           "colorbar": {
            "outlinewidth": 0,
            "ticks": ""
           }
          },
          "colorscale": {
           "diverging": [
            [
             0,
             "#8e0152"
            ],
            [
             0.1,
             "#c51b7d"
            ],
            [
             0.2,
             "#de77ae"
            ],
            [
             0.3,
             "#f1b6da"
            ],
            [
             0.4,
             "#fde0ef"
            ],
            [
             0.5,
             "#f7f7f7"
            ],
            [
             0.6,
             "#e6f5d0"
            ],
            [
             0.7,
             "#b8e186"
            ],
            [
             0.8,
             "#7fbc41"
            ],
            [
             0.9,
             "#4d9221"
            ],
            [
             1,
             "#276419"
            ]
           ],
           "sequential": [
            [
             0,
             "#0d0887"
            ],
            [
             0.1111111111111111,
             "#46039f"
            ],
            [
             0.2222222222222222,
             "#7201a8"
            ],
            [
             0.3333333333333333,
             "#9c179e"
            ],
            [
             0.4444444444444444,
             "#bd3786"
            ],
            [
             0.5555555555555556,
             "#d8576b"
            ],
            [
             0.6666666666666666,
             "#ed7953"
            ],
            [
             0.7777777777777778,
             "#fb9f3a"
            ],
            [
             0.8888888888888888,
             "#fdca26"
            ],
            [
             1,
             "#f0f921"
            ]
           ],
           "sequentialminus": [
            [
             0,
             "#0d0887"
            ],
            [
             0.1111111111111111,
             "#46039f"
            ],
            [
             0.2222222222222222,
             "#7201a8"
            ],
            [
             0.3333333333333333,
             "#9c179e"
            ],
            [
             0.4444444444444444,
             "#bd3786"
            ],
            [
             0.5555555555555556,
             "#d8576b"
            ],
            [
             0.6666666666666666,
             "#ed7953"
            ],
            [
             0.7777777777777778,
             "#fb9f3a"
            ],
            [
             0.8888888888888888,
             "#fdca26"
            ],
            [
             1,
             "#f0f921"
            ]
           ]
          },
          "colorway": [
           "#636efa",
           "#EF553B",
           "#00cc96",
           "#ab63fa",
           "#FFA15A",
           "#19d3f3",
           "#FF6692",
           "#B6E880",
           "#FF97FF",
           "#FECB52"
          ],
          "font": {
           "color": "#2a3f5f"
          },
          "geo": {
           "bgcolor": "white",
           "lakecolor": "white",
           "landcolor": "#E5ECF6",
           "showlakes": true,
           "showland": true,
           "subunitcolor": "white"
          },
          "hoverlabel": {
           "align": "left"
          },
          "hovermode": "closest",
          "mapbox": {
           "style": "light"
          },
          "paper_bgcolor": "white",
          "plot_bgcolor": "#E5ECF6",
          "polar": {
           "angularaxis": {
            "gridcolor": "white",
            "linecolor": "white",
            "ticks": ""
           },
           "bgcolor": "#E5ECF6",
           "radialaxis": {
            "gridcolor": "white",
            "linecolor": "white",
            "ticks": ""
           }
          },
          "scene": {
           "xaxis": {
            "backgroundcolor": "#E5ECF6",
            "gridcolor": "white",
            "gridwidth": 2,
            "linecolor": "white",
            "showbackground": true,
            "ticks": "",
            "zerolinecolor": "white"
           },
           "yaxis": {
            "backgroundcolor": "#E5ECF6",
            "gridcolor": "white",
            "gridwidth": 2,
            "linecolor": "white",
            "showbackground": true,
            "ticks": "",
            "zerolinecolor": "white"
           },
           "zaxis": {
            "backgroundcolor": "#E5ECF6",
            "gridcolor": "white",
            "gridwidth": 2,
            "linecolor": "white",
            "showbackground": true,
            "ticks": "",
            "zerolinecolor": "white"
           }
          },
          "shapedefaults": {
           "line": {
            "color": "#2a3f5f"
           }
          },
          "ternary": {
           "aaxis": {
            "gridcolor": "white",
            "linecolor": "white",
            "ticks": ""
           },
           "baxis": {
            "gridcolor": "white",
            "linecolor": "white",
            "ticks": ""
           },
           "bgcolor": "#E5ECF6",
           "caxis": {
            "gridcolor": "white",
            "linecolor": "white",
            "ticks": ""
           }
          },
          "title": {
           "x": 0.05
          },
          "xaxis": {
           "automargin": true,
           "gridcolor": "white",
           "linecolor": "white",
           "ticks": "",
           "title": {
            "standoff": 15
           },
           "zerolinecolor": "white",
           "zerolinewidth": 2
          },
          "yaxis": {
           "automargin": true,
           "gridcolor": "white",
           "linecolor": "white",
           "ticks": "",
           "title": {
            "standoff": 15
           },
           "zerolinecolor": "white",
           "zerolinewidth": 2
          }
         }
        }
       }
      }
     },
     "metadata": {},
     "output_type": "display_data"
    }
   ],
   "source": [
    "df_E90 =data.loc[AirE90]\n",
    "fig= px.scatter_3d(df_E90, x=\"SEL_dB\", y=\"altitude\", z=\"distance\", color=\"distance\")\n",
    "fig.show()"
   ]
  },
  {
   "cell_type": "code",
   "execution_count": 167,
   "metadata": {},
   "outputs": [
    {
     "name": "stdout",
     "output_type": "stream",
     "text": [
      "headers  SEL_dB\n",
      "mean        NaN\n",
      "min         NaN\n",
      "max         NaN\n",
      "std         NaN\n",
      "median      NaN\n"
     ]
    }
   ],
   "source": [
    "AirE175= data['type'].isin(E175)\n",
    "db175=data.loc[AirE175, ['SEL_dB']].agg(['mean', 'min', 'max', 'std', 'median'])\n",
    "print(db175)"
   ]
  },
  {
   "cell_type": "code",
   "execution_count": 168,
   "metadata": {},
   "outputs": [
    {
     "data": {
      "application/vnd.plotly.v1+json": {
       "config": {
        "plotlyServerURL": "https://plot.ly"
       },
       "data": [
        {
         "hovertemplate": "SEL_dB=%{x}<br>altitude=%{y}<br>distance=%{marker.color}<extra></extra>",
         "legendgroup": "",
         "marker": {
          "color": [],
          "coloraxis": "coloraxis",
          "symbol": "circle"
         },
         "mode": "markers",
         "name": "",
         "scene": "scene",
         "showlegend": false,
         "type": "scatter3d",
         "x": [],
         "y": [],
         "z": []
        }
       ],
       "layout": {
        "coloraxis": {
         "colorbar": {
          "title": {
           "text": "distance"
          }
         },
         "colorscale": [
          [
           0,
           "#0d0887"
          ],
          [
           0.1111111111111111,
           "#46039f"
          ],
          [
           0.2222222222222222,
           "#7201a8"
          ],
          [
           0.3333333333333333,
           "#9c179e"
          ],
          [
           0.4444444444444444,
           "#bd3786"
          ],
          [
           0.5555555555555556,
           "#d8576b"
          ],
          [
           0.6666666666666666,
           "#ed7953"
          ],
          [
           0.7777777777777778,
           "#fb9f3a"
          ],
          [
           0.8888888888888888,
           "#fdca26"
          ],
          [
           1,
           "#f0f921"
          ]
         ]
        },
        "legend": {
         "tracegroupgap": 0
        },
        "margin": {
         "t": 60
        },
        "scene": {
         "domain": {
          "x": [
           0,
           1
          ],
          "y": [
           0,
           1
          ]
         },
         "xaxis": {
          "title": {
           "text": "SEL_dB"
          }
         },
         "yaxis": {
          "title": {
           "text": "altitude"
          }
         },
         "zaxis": {
          "title": {
           "text": "distance"
          }
         }
        },
        "template": {
         "data": {
          "bar": [
           {
            "error_x": {
             "color": "#2a3f5f"
            },
            "error_y": {
             "color": "#2a3f5f"
            },
            "marker": {
             "line": {
              "color": "#E5ECF6",
              "width": 0.5
             },
             "pattern": {
              "fillmode": "overlay",
              "size": 10,
              "solidity": 0.2
             }
            },
            "type": "bar"
           }
          ],
          "barpolar": [
           {
            "marker": {
             "line": {
              "color": "#E5ECF6",
              "width": 0.5
             },
             "pattern": {
              "fillmode": "overlay",
              "size": 10,
              "solidity": 0.2
             }
            },
            "type": "barpolar"
           }
          ],
          "carpet": [
           {
            "aaxis": {
             "endlinecolor": "#2a3f5f",
             "gridcolor": "white",
             "linecolor": "white",
             "minorgridcolor": "white",
             "startlinecolor": "#2a3f5f"
            },
            "baxis": {
             "endlinecolor": "#2a3f5f",
             "gridcolor": "white",
             "linecolor": "white",
             "minorgridcolor": "white",
             "startlinecolor": "#2a3f5f"
            },
            "type": "carpet"
           }
          ],
          "choropleth": [
           {
            "colorbar": {
             "outlinewidth": 0,
             "ticks": ""
            },
            "type": "choropleth"
           }
          ],
          "contour": [
           {
            "colorbar": {
             "outlinewidth": 0,
             "ticks": ""
            },
            "colorscale": [
             [
              0,
              "#0d0887"
             ],
             [
              0.1111111111111111,
              "#46039f"
             ],
             [
              0.2222222222222222,
              "#7201a8"
             ],
             [
              0.3333333333333333,
              "#9c179e"
             ],
             [
              0.4444444444444444,
              "#bd3786"
             ],
             [
              0.5555555555555556,
              "#d8576b"
             ],
             [
              0.6666666666666666,
              "#ed7953"
             ],
             [
              0.7777777777777778,
              "#fb9f3a"
             ],
             [
              0.8888888888888888,
              "#fdca26"
             ],
             [
              1,
              "#f0f921"
             ]
            ],
            "type": "contour"
           }
          ],
          "contourcarpet": [
           {
            "colorbar": {
             "outlinewidth": 0,
             "ticks": ""
            },
            "type": "contourcarpet"
           }
          ],
          "heatmap": [
           {
            "colorbar": {
             "outlinewidth": 0,
             "ticks": ""
            },
            "colorscale": [
             [
              0,
              "#0d0887"
             ],
             [
              0.1111111111111111,
              "#46039f"
             ],
             [
              0.2222222222222222,
              "#7201a8"
             ],
             [
              0.3333333333333333,
              "#9c179e"
             ],
             [
              0.4444444444444444,
              "#bd3786"
             ],
             [
              0.5555555555555556,
              "#d8576b"
             ],
             [
              0.6666666666666666,
              "#ed7953"
             ],
             [
              0.7777777777777778,
              "#fb9f3a"
             ],
             [
              0.8888888888888888,
              "#fdca26"
             ],
             [
              1,
              "#f0f921"
             ]
            ],
            "type": "heatmap"
           }
          ],
          "heatmapgl": [
           {
            "colorbar": {
             "outlinewidth": 0,
             "ticks": ""
            },
            "colorscale": [
             [
              0,
              "#0d0887"
             ],
             [
              0.1111111111111111,
              "#46039f"
             ],
             [
              0.2222222222222222,
              "#7201a8"
             ],
             [
              0.3333333333333333,
              "#9c179e"
             ],
             [
              0.4444444444444444,
              "#bd3786"
             ],
             [
              0.5555555555555556,
              "#d8576b"
             ],
             [
              0.6666666666666666,
              "#ed7953"
             ],
             [
              0.7777777777777778,
              "#fb9f3a"
             ],
             [
              0.8888888888888888,
              "#fdca26"
             ],
             [
              1,
              "#f0f921"
             ]
            ],
            "type": "heatmapgl"
           }
          ],
          "histogram": [
           {
            "marker": {
             "pattern": {
              "fillmode": "overlay",
              "size": 10,
              "solidity": 0.2
             }
            },
            "type": "histogram"
           }
          ],
          "histogram2d": [
           {
            "colorbar": {
             "outlinewidth": 0,
             "ticks": ""
            },
            "colorscale": [
             [
              0,
              "#0d0887"
             ],
             [
              0.1111111111111111,
              "#46039f"
             ],
             [
              0.2222222222222222,
              "#7201a8"
             ],
             [
              0.3333333333333333,
              "#9c179e"
             ],
             [
              0.4444444444444444,
              "#bd3786"
             ],
             [
              0.5555555555555556,
              "#d8576b"
             ],
             [
              0.6666666666666666,
              "#ed7953"
             ],
             [
              0.7777777777777778,
              "#fb9f3a"
             ],
             [
              0.8888888888888888,
              "#fdca26"
             ],
             [
              1,
              "#f0f921"
             ]
            ],
            "type": "histogram2d"
           }
          ],
          "histogram2dcontour": [
           {
            "colorbar": {
             "outlinewidth": 0,
             "ticks": ""
            },
            "colorscale": [
             [
              0,
              "#0d0887"
             ],
             [
              0.1111111111111111,
              "#46039f"
             ],
             [
              0.2222222222222222,
              "#7201a8"
             ],
             [
              0.3333333333333333,
              "#9c179e"
             ],
             [
              0.4444444444444444,
              "#bd3786"
             ],
             [
              0.5555555555555556,
              "#d8576b"
             ],
             [
              0.6666666666666666,
              "#ed7953"
             ],
             [
              0.7777777777777778,
              "#fb9f3a"
             ],
             [
              0.8888888888888888,
              "#fdca26"
             ],
             [
              1,
              "#f0f921"
             ]
            ],
            "type": "histogram2dcontour"
           }
          ],
          "mesh3d": [
           {
            "colorbar": {
             "outlinewidth": 0,
             "ticks": ""
            },
            "type": "mesh3d"
           }
          ],
          "parcoords": [
           {
            "line": {
             "colorbar": {
              "outlinewidth": 0,
              "ticks": ""
             }
            },
            "type": "parcoords"
           }
          ],
          "pie": [
           {
            "automargin": true,
            "type": "pie"
           }
          ],
          "scatter": [
           {
            "fillpattern": {
             "fillmode": "overlay",
             "size": 10,
             "solidity": 0.2
            },
            "type": "scatter"
           }
          ],
          "scatter3d": [
           {
            "line": {
             "colorbar": {
              "outlinewidth": 0,
              "ticks": ""
             }
            },
            "marker": {
             "colorbar": {
              "outlinewidth": 0,
              "ticks": ""
             }
            },
            "type": "scatter3d"
           }
          ],
          "scattercarpet": [
           {
            "marker": {
             "colorbar": {
              "outlinewidth": 0,
              "ticks": ""
             }
            },
            "type": "scattercarpet"
           }
          ],
          "scattergeo": [
           {
            "marker": {
             "colorbar": {
              "outlinewidth": 0,
              "ticks": ""
             }
            },
            "type": "scattergeo"
           }
          ],
          "scattergl": [
           {
            "marker": {
             "colorbar": {
              "outlinewidth": 0,
              "ticks": ""
             }
            },
            "type": "scattergl"
           }
          ],
          "scattermapbox": [
           {
            "marker": {
             "colorbar": {
              "outlinewidth": 0,
              "ticks": ""
             }
            },
            "type": "scattermapbox"
           }
          ],
          "scatterpolar": [
           {
            "marker": {
             "colorbar": {
              "outlinewidth": 0,
              "ticks": ""
             }
            },
            "type": "scatterpolar"
           }
          ],
          "scatterpolargl": [
           {
            "marker": {
             "colorbar": {
              "outlinewidth": 0,
              "ticks": ""
             }
            },
            "type": "scatterpolargl"
           }
          ],
          "scatterternary": [
           {
            "marker": {
             "colorbar": {
              "outlinewidth": 0,
              "ticks": ""
             }
            },
            "type": "scatterternary"
           }
          ],
          "surface": [
           {
            "colorbar": {
             "outlinewidth": 0,
             "ticks": ""
            },
            "colorscale": [
             [
              0,
              "#0d0887"
             ],
             [
              0.1111111111111111,
              "#46039f"
             ],
             [
              0.2222222222222222,
              "#7201a8"
             ],
             [
              0.3333333333333333,
              "#9c179e"
             ],
             [
              0.4444444444444444,
              "#bd3786"
             ],
             [
              0.5555555555555556,
              "#d8576b"
             ],
             [
              0.6666666666666666,
              "#ed7953"
             ],
             [
              0.7777777777777778,
              "#fb9f3a"
             ],
             [
              0.8888888888888888,
              "#fdca26"
             ],
             [
              1,
              "#f0f921"
             ]
            ],
            "type": "surface"
           }
          ],
          "table": [
           {
            "cells": {
             "fill": {
              "color": "#EBF0F8"
             },
             "line": {
              "color": "white"
             }
            },
            "header": {
             "fill": {
              "color": "#C8D4E3"
             },
             "line": {
              "color": "white"
             }
            },
            "type": "table"
           }
          ]
         },
         "layout": {
          "annotationdefaults": {
           "arrowcolor": "#2a3f5f",
           "arrowhead": 0,
           "arrowwidth": 1
          },
          "autotypenumbers": "strict",
          "coloraxis": {
           "colorbar": {
            "outlinewidth": 0,
            "ticks": ""
           }
          },
          "colorscale": {
           "diverging": [
            [
             0,
             "#8e0152"
            ],
            [
             0.1,
             "#c51b7d"
            ],
            [
             0.2,
             "#de77ae"
            ],
            [
             0.3,
             "#f1b6da"
            ],
            [
             0.4,
             "#fde0ef"
            ],
            [
             0.5,
             "#f7f7f7"
            ],
            [
             0.6,
             "#e6f5d0"
            ],
            [
             0.7,
             "#b8e186"
            ],
            [
             0.8,
             "#7fbc41"
            ],
            [
             0.9,
             "#4d9221"
            ],
            [
             1,
             "#276419"
            ]
           ],
           "sequential": [
            [
             0,
             "#0d0887"
            ],
            [
             0.1111111111111111,
             "#46039f"
            ],
            [
             0.2222222222222222,
             "#7201a8"
            ],
            [
             0.3333333333333333,
             "#9c179e"
            ],
            [
             0.4444444444444444,
             "#bd3786"
            ],
            [
             0.5555555555555556,
             "#d8576b"
            ],
            [
             0.6666666666666666,
             "#ed7953"
            ],
            [
             0.7777777777777778,
             "#fb9f3a"
            ],
            [
             0.8888888888888888,
             "#fdca26"
            ],
            [
             1,
             "#f0f921"
            ]
           ],
           "sequentialminus": [
            [
             0,
             "#0d0887"
            ],
            [
             0.1111111111111111,
             "#46039f"
            ],
            [
             0.2222222222222222,
             "#7201a8"
            ],
            [
             0.3333333333333333,
             "#9c179e"
            ],
            [
             0.4444444444444444,
             "#bd3786"
            ],
            [
             0.5555555555555556,
             "#d8576b"
            ],
            [
             0.6666666666666666,
             "#ed7953"
            ],
            [
             0.7777777777777778,
             "#fb9f3a"
            ],
            [
             0.8888888888888888,
             "#fdca26"
            ],
            [
             1,
             "#f0f921"
            ]
           ]
          },
          "colorway": [
           "#636efa",
           "#EF553B",
           "#00cc96",
           "#ab63fa",
           "#FFA15A",
           "#19d3f3",
           "#FF6692",
           "#B6E880",
           "#FF97FF",
           "#FECB52"
          ],
          "font": {
           "color": "#2a3f5f"
          },
          "geo": {
           "bgcolor": "white",
           "lakecolor": "white",
           "landcolor": "#E5ECF6",
           "showlakes": true,
           "showland": true,
           "subunitcolor": "white"
          },
          "hoverlabel": {
           "align": "left"
          },
          "hovermode": "closest",
          "mapbox": {
           "style": "light"
          },
          "paper_bgcolor": "white",
          "plot_bgcolor": "#E5ECF6",
          "polar": {
           "angularaxis": {
            "gridcolor": "white",
            "linecolor": "white",
            "ticks": ""
           },
           "bgcolor": "#E5ECF6",
           "radialaxis": {
            "gridcolor": "white",
            "linecolor": "white",
            "ticks": ""
           }
          },
          "scene": {
           "xaxis": {
            "backgroundcolor": "#E5ECF6",
            "gridcolor": "white",
            "gridwidth": 2,
            "linecolor": "white",
            "showbackground": true,
            "ticks": "",
            "zerolinecolor": "white"
           },
           "yaxis": {
            "backgroundcolor": "#E5ECF6",
            "gridcolor": "white",
            "gridwidth": 2,
            "linecolor": "white",
            "showbackground": true,
            "ticks": "",
            "zerolinecolor": "white"
           },
           "zaxis": {
            "backgroundcolor": "#E5ECF6",
            "gridcolor": "white",
            "gridwidth": 2,
            "linecolor": "white",
            "showbackground": true,
            "ticks": "",
            "zerolinecolor": "white"
           }
          },
          "shapedefaults": {
           "line": {
            "color": "#2a3f5f"
           }
          },
          "ternary": {
           "aaxis": {
            "gridcolor": "white",
            "linecolor": "white",
            "ticks": ""
           },
           "baxis": {
            "gridcolor": "white",
            "linecolor": "white",
            "ticks": ""
           },
           "bgcolor": "#E5ECF6",
           "caxis": {
            "gridcolor": "white",
            "linecolor": "white",
            "ticks": ""
           }
          },
          "title": {
           "x": 0.05
          },
          "xaxis": {
           "automargin": true,
           "gridcolor": "white",
           "linecolor": "white",
           "ticks": "",
           "title": {
            "standoff": 15
           },
           "zerolinecolor": "white",
           "zerolinewidth": 2
          },
          "yaxis": {
           "automargin": true,
           "gridcolor": "white",
           "linecolor": "white",
           "ticks": "",
           "title": {
            "standoff": 15
           },
           "zerolinecolor": "white",
           "zerolinewidth": 2
          }
         }
        }
       }
      }
     },
     "metadata": {},
     "output_type": "display_data"
    }
   ],
   "source": [
    "df_E175 =data.loc[AirE175]\n",
    "fig= px.scatter_3d(df_E175, x=\"SEL_dB\", y=\"altitude\", z=\"distance\", color=\"distance\")\n",
    "fig.show()"
   ]
  },
  {
   "cell_type": "code",
   "execution_count": 169,
   "metadata": {},
   "outputs": [
    {
     "name": "stdout",
     "output_type": "stream",
     "text": [
      "headers  SEL_dB\n",
      "mean        NaN\n",
      "min         NaN\n",
      "max         NaN\n",
      "std         NaN\n",
      "median      NaN\n"
     ]
    }
   ],
   "source": [
    "AirA321= data['type'].isin(A321)\n",
    "dbA321=data.loc[AirA321, ['SEL_dB']].agg(['mean', 'min', 'max', 'std', 'median'])\n",
    "print(dbA321)"
   ]
  },
  {
   "cell_type": "code",
   "execution_count": 170,
   "metadata": {},
   "outputs": [
    {
     "data": {
      "application/vnd.plotly.v1+json": {
       "config": {
        "plotlyServerURL": "https://plot.ly"
       },
       "data": [
        {
         "hovertemplate": "SEL_dB=%{x}<br>altitude=%{y}<br>distance=%{marker.color}<extra></extra>",
         "legendgroup": "",
         "marker": {
          "color": [],
          "coloraxis": "coloraxis",
          "symbol": "circle"
         },
         "mode": "markers",
         "name": "",
         "scene": "scene",
         "showlegend": false,
         "type": "scatter3d",
         "x": [],
         "y": [],
         "z": []
        }
       ],
       "layout": {
        "coloraxis": {
         "colorbar": {
          "title": {
           "text": "distance"
          }
         },
         "colorscale": [
          [
           0,
           "#0d0887"
          ],
          [
           0.1111111111111111,
           "#46039f"
          ],
          [
           0.2222222222222222,
           "#7201a8"
          ],
          [
           0.3333333333333333,
           "#9c179e"
          ],
          [
           0.4444444444444444,
           "#bd3786"
          ],
          [
           0.5555555555555556,
           "#d8576b"
          ],
          [
           0.6666666666666666,
           "#ed7953"
          ],
          [
           0.7777777777777778,
           "#fb9f3a"
          ],
          [
           0.8888888888888888,
           "#fdca26"
          ],
          [
           1,
           "#f0f921"
          ]
         ]
        },
        "legend": {
         "tracegroupgap": 0
        },
        "margin": {
         "t": 60
        },
        "scene": {
         "domain": {
          "x": [
           0,
           1
          ],
          "y": [
           0,
           1
          ]
         },
         "xaxis": {
          "title": {
           "text": "SEL_dB"
          }
         },
         "yaxis": {
          "title": {
           "text": "altitude"
          }
         },
         "zaxis": {
          "title": {
           "text": "distance"
          }
         }
        },
        "template": {
         "data": {
          "bar": [
           {
            "error_x": {
             "color": "#2a3f5f"
            },
            "error_y": {
             "color": "#2a3f5f"
            },
            "marker": {
             "line": {
              "color": "#E5ECF6",
              "width": 0.5
             },
             "pattern": {
              "fillmode": "overlay",
              "size": 10,
              "solidity": 0.2
             }
            },
            "type": "bar"
           }
          ],
          "barpolar": [
           {
            "marker": {
             "line": {
              "color": "#E5ECF6",
              "width": 0.5
             },
             "pattern": {
              "fillmode": "overlay",
              "size": 10,
              "solidity": 0.2
             }
            },
            "type": "barpolar"
           }
          ],
          "carpet": [
           {
            "aaxis": {
             "endlinecolor": "#2a3f5f",
             "gridcolor": "white",
             "linecolor": "white",
             "minorgridcolor": "white",
             "startlinecolor": "#2a3f5f"
            },
            "baxis": {
             "endlinecolor": "#2a3f5f",
             "gridcolor": "white",
             "linecolor": "white",
             "minorgridcolor": "white",
             "startlinecolor": "#2a3f5f"
            },
            "type": "carpet"
           }
          ],
          "choropleth": [
           {
            "colorbar": {
             "outlinewidth": 0,
             "ticks": ""
            },
            "type": "choropleth"
           }
          ],
          "contour": [
           {
            "colorbar": {
             "outlinewidth": 0,
             "ticks": ""
            },
            "colorscale": [
             [
              0,
              "#0d0887"
             ],
             [
              0.1111111111111111,
              "#46039f"
             ],
             [
              0.2222222222222222,
              "#7201a8"
             ],
             [
              0.3333333333333333,
              "#9c179e"
             ],
             [
              0.4444444444444444,
              "#bd3786"
             ],
             [
              0.5555555555555556,
              "#d8576b"
             ],
             [
              0.6666666666666666,
              "#ed7953"
             ],
             [
              0.7777777777777778,
              "#fb9f3a"
             ],
             [
              0.8888888888888888,
              "#fdca26"
             ],
             [
              1,
              "#f0f921"
             ]
            ],
            "type": "contour"
           }
          ],
          "contourcarpet": [
           {
            "colorbar": {
             "outlinewidth": 0,
             "ticks": ""
            },
            "type": "contourcarpet"
           }
          ],
          "heatmap": [
           {
            "colorbar": {
             "outlinewidth": 0,
             "ticks": ""
            },
            "colorscale": [
             [
              0,
              "#0d0887"
             ],
             [
              0.1111111111111111,
              "#46039f"
             ],
             [
              0.2222222222222222,
              "#7201a8"
             ],
             [
              0.3333333333333333,
              "#9c179e"
             ],
             [
              0.4444444444444444,
              "#bd3786"
             ],
             [
              0.5555555555555556,
              "#d8576b"
             ],
             [
              0.6666666666666666,
              "#ed7953"
             ],
             [
              0.7777777777777778,
              "#fb9f3a"
             ],
             [
              0.8888888888888888,
              "#fdca26"
             ],
             [
              1,
              "#f0f921"
             ]
            ],
            "type": "heatmap"
           }
          ],
          "heatmapgl": [
           {
            "colorbar": {
             "outlinewidth": 0,
             "ticks": ""
            },
            "colorscale": [
             [
              0,
              "#0d0887"
             ],
             [
              0.1111111111111111,
              "#46039f"
             ],
             [
              0.2222222222222222,
              "#7201a8"
             ],
             [
              0.3333333333333333,
              "#9c179e"
             ],
             [
              0.4444444444444444,
              "#bd3786"
             ],
             [
              0.5555555555555556,
              "#d8576b"
             ],
             [
              0.6666666666666666,
              "#ed7953"
             ],
             [
              0.7777777777777778,
              "#fb9f3a"
             ],
             [
              0.8888888888888888,
              "#fdca26"
             ],
             [
              1,
              "#f0f921"
             ]
            ],
            "type": "heatmapgl"
           }
          ],
          "histogram": [
           {
            "marker": {
             "pattern": {
              "fillmode": "overlay",
              "size": 10,
              "solidity": 0.2
             }
            },
            "type": "histogram"
           }
          ],
          "histogram2d": [
           {
            "colorbar": {
             "outlinewidth": 0,
             "ticks": ""
            },
            "colorscale": [
             [
              0,
              "#0d0887"
             ],
             [
              0.1111111111111111,
              "#46039f"
             ],
             [
              0.2222222222222222,
              "#7201a8"
             ],
             [
              0.3333333333333333,
              "#9c179e"
             ],
             [
              0.4444444444444444,
              "#bd3786"
             ],
             [
              0.5555555555555556,
              "#d8576b"
             ],
             [
              0.6666666666666666,
              "#ed7953"
             ],
             [
              0.7777777777777778,
              "#fb9f3a"
             ],
             [
              0.8888888888888888,
              "#fdca26"
             ],
             [
              1,
              "#f0f921"
             ]
            ],
            "type": "histogram2d"
           }
          ],
          "histogram2dcontour": [
           {
            "colorbar": {
             "outlinewidth": 0,
             "ticks": ""
            },
            "colorscale": [
             [
              0,
              "#0d0887"
             ],
             [
              0.1111111111111111,
              "#46039f"
             ],
             [
              0.2222222222222222,
              "#7201a8"
             ],
             [
              0.3333333333333333,
              "#9c179e"
             ],
             [
              0.4444444444444444,
              "#bd3786"
             ],
             [
              0.5555555555555556,
              "#d8576b"
             ],
             [
              0.6666666666666666,
              "#ed7953"
             ],
             [
              0.7777777777777778,
              "#fb9f3a"
             ],
             [
              0.8888888888888888,
              "#fdca26"
             ],
             [
              1,
              "#f0f921"
             ]
            ],
            "type": "histogram2dcontour"
           }
          ],
          "mesh3d": [
           {
            "colorbar": {
             "outlinewidth": 0,
             "ticks": ""
            },
            "type": "mesh3d"
           }
          ],
          "parcoords": [
           {
            "line": {
             "colorbar": {
              "outlinewidth": 0,
              "ticks": ""
             }
            },
            "type": "parcoords"
           }
          ],
          "pie": [
           {
            "automargin": true,
            "type": "pie"
           }
          ],
          "scatter": [
           {
            "fillpattern": {
             "fillmode": "overlay",
             "size": 10,
             "solidity": 0.2
            },
            "type": "scatter"
           }
          ],
          "scatter3d": [
           {
            "line": {
             "colorbar": {
              "outlinewidth": 0,
              "ticks": ""
             }
            },
            "marker": {
             "colorbar": {
              "outlinewidth": 0,
              "ticks": ""
             }
            },
            "type": "scatter3d"
           }
          ],
          "scattercarpet": [
           {
            "marker": {
             "colorbar": {
              "outlinewidth": 0,
              "ticks": ""
             }
            },
            "type": "scattercarpet"
           }
          ],
          "scattergeo": [
           {
            "marker": {
             "colorbar": {
              "outlinewidth": 0,
              "ticks": ""
             }
            },
            "type": "scattergeo"
           }
          ],
          "scattergl": [
           {
            "marker": {
             "colorbar": {
              "outlinewidth": 0,
              "ticks": ""
             }
            },
            "type": "scattergl"
           }
          ],
          "scattermapbox": [
           {
            "marker": {
             "colorbar": {
              "outlinewidth": 0,
              "ticks": ""
             }
            },
            "type": "scattermapbox"
           }
          ],
          "scatterpolar": [
           {
            "marker": {
             "colorbar": {
              "outlinewidth": 0,
              "ticks": ""
             }
            },
            "type": "scatterpolar"
           }
          ],
          "scatterpolargl": [
           {
            "marker": {
             "colorbar": {
              "outlinewidth": 0,
              "ticks": ""
             }
            },
            "type": "scatterpolargl"
           }
          ],
          "scatterternary": [
           {
            "marker": {
             "colorbar": {
              "outlinewidth": 0,
              "ticks": ""
             }
            },
            "type": "scatterternary"
           }
          ],
          "surface": [
           {
            "colorbar": {
             "outlinewidth": 0,
             "ticks": ""
            },
            "colorscale": [
             [
              0,
              "#0d0887"
             ],
             [
              0.1111111111111111,
              "#46039f"
             ],
             [
              0.2222222222222222,
              "#7201a8"
             ],
             [
              0.3333333333333333,
              "#9c179e"
             ],
             [
              0.4444444444444444,
              "#bd3786"
             ],
             [
              0.5555555555555556,
              "#d8576b"
             ],
             [
              0.6666666666666666,
              "#ed7953"
             ],
             [
              0.7777777777777778,
              "#fb9f3a"
             ],
             [
              0.8888888888888888,
              "#fdca26"
             ],
             [
              1,
              "#f0f921"
             ]
            ],
            "type": "surface"
           }
          ],
          "table": [
           {
            "cells": {
             "fill": {
              "color": "#EBF0F8"
             },
             "line": {
              "color": "white"
             }
            },
            "header": {
             "fill": {
              "color": "#C8D4E3"
             },
             "line": {
              "color": "white"
             }
            },
            "type": "table"
           }
          ]
         },
         "layout": {
          "annotationdefaults": {
           "arrowcolor": "#2a3f5f",
           "arrowhead": 0,
           "arrowwidth": 1
          },
          "autotypenumbers": "strict",
          "coloraxis": {
           "colorbar": {
            "outlinewidth": 0,
            "ticks": ""
           }
          },
          "colorscale": {
           "diverging": [
            [
             0,
             "#8e0152"
            ],
            [
             0.1,
             "#c51b7d"
            ],
            [
             0.2,
             "#de77ae"
            ],
            [
             0.3,
             "#f1b6da"
            ],
            [
             0.4,
             "#fde0ef"
            ],
            [
             0.5,
             "#f7f7f7"
            ],
            [
             0.6,
             "#e6f5d0"
            ],
            [
             0.7,
             "#b8e186"
            ],
            [
             0.8,
             "#7fbc41"
            ],
            [
             0.9,
             "#4d9221"
            ],
            [
             1,
             "#276419"
            ]
           ],
           "sequential": [
            [
             0,
             "#0d0887"
            ],
            [
             0.1111111111111111,
             "#46039f"
            ],
            [
             0.2222222222222222,
             "#7201a8"
            ],
            [
             0.3333333333333333,
             "#9c179e"
            ],
            [
             0.4444444444444444,
             "#bd3786"
            ],
            [
             0.5555555555555556,
             "#d8576b"
            ],
            [
             0.6666666666666666,
             "#ed7953"
            ],
            [
             0.7777777777777778,
             "#fb9f3a"
            ],
            [
             0.8888888888888888,
             "#fdca26"
            ],
            [
             1,
             "#f0f921"
            ]
           ],
           "sequentialminus": [
            [
             0,
             "#0d0887"
            ],
            [
             0.1111111111111111,
             "#46039f"
            ],
            [
             0.2222222222222222,
             "#7201a8"
            ],
            [
             0.3333333333333333,
             "#9c179e"
            ],
            [
             0.4444444444444444,
             "#bd3786"
            ],
            [
             0.5555555555555556,
             "#d8576b"
            ],
            [
             0.6666666666666666,
             "#ed7953"
            ],
            [
             0.7777777777777778,
             "#fb9f3a"
            ],
            [
             0.8888888888888888,
             "#fdca26"
            ],
            [
             1,
             "#f0f921"
            ]
           ]
          },
          "colorway": [
           "#636efa",
           "#EF553B",
           "#00cc96",
           "#ab63fa",
           "#FFA15A",
           "#19d3f3",
           "#FF6692",
           "#B6E880",
           "#FF97FF",
           "#FECB52"
          ],
          "font": {
           "color": "#2a3f5f"
          },
          "geo": {
           "bgcolor": "white",
           "lakecolor": "white",
           "landcolor": "#E5ECF6",
           "showlakes": true,
           "showland": true,
           "subunitcolor": "white"
          },
          "hoverlabel": {
           "align": "left"
          },
          "hovermode": "closest",
          "mapbox": {
           "style": "light"
          },
          "paper_bgcolor": "white",
          "plot_bgcolor": "#E5ECF6",
          "polar": {
           "angularaxis": {
            "gridcolor": "white",
            "linecolor": "white",
            "ticks": ""
           },
           "bgcolor": "#E5ECF6",
           "radialaxis": {
            "gridcolor": "white",
            "linecolor": "white",
            "ticks": ""
           }
          },
          "scene": {
           "xaxis": {
            "backgroundcolor": "#E5ECF6",
            "gridcolor": "white",
            "gridwidth": 2,
            "linecolor": "white",
            "showbackground": true,
            "ticks": "",
            "zerolinecolor": "white"
           },
           "yaxis": {
            "backgroundcolor": "#E5ECF6",
            "gridcolor": "white",
            "gridwidth": 2,
            "linecolor": "white",
            "showbackground": true,
            "ticks": "",
            "zerolinecolor": "white"
           },
           "zaxis": {
            "backgroundcolor": "#E5ECF6",
            "gridcolor": "white",
            "gridwidth": 2,
            "linecolor": "white",
            "showbackground": true,
            "ticks": "",
            "zerolinecolor": "white"
           }
          },
          "shapedefaults": {
           "line": {
            "color": "#2a3f5f"
           }
          },
          "ternary": {
           "aaxis": {
            "gridcolor": "white",
            "linecolor": "white",
            "ticks": ""
           },
           "baxis": {
            "gridcolor": "white",
            "linecolor": "white",
            "ticks": ""
           },
           "bgcolor": "#E5ECF6",
           "caxis": {
            "gridcolor": "white",
            "linecolor": "white",
            "ticks": ""
           }
          },
          "title": {
           "x": 0.05
          },
          "xaxis": {
           "automargin": true,
           "gridcolor": "white",
           "linecolor": "white",
           "ticks": "",
           "title": {
            "standoff": 15
           },
           "zerolinecolor": "white",
           "zerolinewidth": 2
          },
          "yaxis": {
           "automargin": true,
           "gridcolor": "white",
           "linecolor": "white",
           "ticks": "",
           "title": {
            "standoff": 15
           },
           "zerolinecolor": "white",
           "zerolinewidth": 2
          }
         }
        }
       }
      }
     },
     "metadata": {},
     "output_type": "display_data"
    }
   ],
   "source": [
    "df_A321 =data.loc[AirA321]\n",
    "fig= px.scatter_3d(df_A321, x=\"SEL_dB\", y=\"altitude\", z=\"distance\", color=\"distance\")\n",
    "fig.show()"
   ]
  },
  {
   "cell_type": "code",
   "execution_count": 171,
   "metadata": {},
   "outputs": [
    {
     "name": "stdout",
     "output_type": "stream",
     "text": [
      "headers     SEL_dB\n",
      "mean     78.701707\n",
      "min      55.787162\n",
      "max      93.260009\n",
      "std       8.230667\n",
      "median   80.161289\n"
     ]
    }
   ],
   "source": [
    "AirB7378= data['type'].isin(B7378)\n",
    "dbB7378=data.loc[AirB7378, ['SEL_dB']].agg(['mean', 'min', 'max', 'std', 'median'])\n",
    "print(dbB7378)"
   ]
  },
  {
   "cell_type": "code",
   "execution_count": 172,
   "metadata": {},
   "outputs": [
    {
     "data": {
      "application/vnd.plotly.v1+json": {
       "config": {
        "plotlyServerURL": "https://plot.ly"
       },
       "data": [
        {
         "hovertemplate": "SEL_dB=%{x}<br>altitude=%{y}<br>distance=%{marker.color}<extra></extra>",
         "legendgroup": "",
         "marker": {
          "color": [
           2568.38,
           2548.47,
           733.101,
           1148.7,
           822.212,
           912.933,
           1008.09,
           1002.96,
           961.681,
           861.398,
           894.834,
           2500.65,
           2515.2,
           2513.24,
           2576.65,
           2509.9,
           2538.23,
           2573.27,
           2511.09,
           2587.36,
           2522.19,
           2583.26,
           2506.91,
           2556.4,
           2775.04,
           2556.33,
           2518.94,
           2557.12,
           2531.94,
           684.151,
           838.511,
           959.138,
           704.941,
           846.795,
           700.647,
           850.601,
           746.12,
           761.853,
           877.017,
           730.982,
           838.251,
           850.676,
           724.69,
           856.639,
           979.641,
           2682.11,
           2804.26,
           2511.23,
           2733.37,
           2545.43,
           2555.88,
           2494.55,
           325.746,
           338.616,
           327.098,
           332.532,
           330.255,
           327.553,
           333.935,
           324.778,
           329.118,
           326.088,
           330.058,
           330.142,
           329.139,
           334.237,
           329.785,
           2488.61,
           2552.71,
           2525.83,
           2494.61,
           2585.59,
           2474.11,
           2557.77,
           2504.53,
           2493.82,
           2500.53,
           2045.26,
           1938.73,
           2591.84,
           2848.63,
           2928.89,
           2761.93,
           1961.49,
           1963.46,
           1995.98,
           1869.61,
           1985.27,
           1896.86,
           2087.62,
           2029.02,
           2127.17,
           2047.8,
           1951.3,
           1969.52,
           2535.66,
           2723.26,
           2611.38,
           2686.88,
           2802.45,
           1980.91,
           938.906,
           944.076,
           940.224,
           940.058,
           934.224,
           941.488,
           940.388,
           935.888,
           940.061,
           937.349,
           1968.69,
           943.593,
           942.401,
           946.905,
           939.915,
           942.079,
           1871.25,
           2016.47,
           1961.61,
           1840.74,
           1559.96,
           1959.34,
           1965.31,
           1973.26,
           1969.87,
           1974.67,
           1973.21,
           639.401,
           497.281,
           3448.53,
           3506.28,
           513.694,
           538.921,
           498.25,
           610.206,
           489.786,
           489.396,
           503.386,
           554.701,
           534.218,
           480.455,
           562.024,
           509.302,
           517.114,
           1240.07,
           527.059,
           526.096,
           500.915,
           526.622,
           3442.17,
           3286.74,
           3458.21,
           924.256,
           1054.82,
           3346.11,
           3471.72,
           979.973,
           1209.47,
           535.479,
           1004.31,
           680.57,
           548.61,
           515.188,
           261.076,
           253.846,
           251.701,
           252.408,
           253.881,
           248.134,
           256.078,
           245.55,
           248.814,
           263.821,
           387.79,
           494.061,
           514.078,
           433.965,
           534.37,
           465.013,
           521.742,
           255.672,
           253.325,
           244.124,
           253.628,
           245.836,
           1089.63,
           859.131,
           969.097,
           1053.08,
           842.461,
           1100.42,
           814.157,
           940.999,
           750.178,
           1108.05,
           983.916,
           1009.06,
           1033.93,
           970.296,
           949.504,
           892.291,
           1056.87,
           909.532,
           869.83,
           886.486,
           1223.71,
           989.376,
           1035.14,
           2245.1,
           751.078,
           756.537,
           735.157,
           748.787,
           753.937,
           762.07,
           751.566,
           758.679,
           750.15,
           754.182,
           2249.06,
           699.403,
           904.535,
           906.419,
           748.755,
           840.749,
           892.672,
           906.767,
           745.144,
           749.714,
           735.906,
           753.504,
           754.67,
           1434.31,
           1277.46,
           3305.35,
           3327.63,
           3483.64,
           1316.11,
           1436.93,
           1281.02,
           1385.71,
           1219.46,
           1339.56,
           1225.15,
           1412.22,
           1370.02,
           1413.93,
           1407.83,
           1347.65,
           1301.42,
           1300.94,
           1394.71,
           1304.99,
           1202.53,
           3448.5,
           3330.46,
           3413.85,
           3330.66,
           3528.61,
           1311.35,
           1474.35,
           1392.21,
           1404.83,
           1691.2,
           1696.22,
           1692.73,
           1219.33,
           1223.85,
           1206.56,
           1211.96,
           1224.35,
           1229.79,
           1216.66,
           1222.75,
           1700.58,
           1221.04,
           1221.07,
           1694.03,
           1303.07,
           1312.01,
           1179.68,
           1013.26,
           1299.06,
           1212.3,
           1220.31,
           1215.28,
           1222.26,
           1221.12,
           2854.32,
           2829.77,
           728.49,
           1137.15,
           955.244,
           875.691,
           1010.72,
           1192.56,
           1006.99,
           953.178,
           1009.06,
           885.959,
           2813.08,
           2789.08,
           2845.03,
           2867.81,
           2834.27,
           2856.65,
           2789.83,
           2835.96,
           3292.95,
           2837.2,
           2796.26,
           2831.48,
           2815.63,
           684.804,
           999.917,
           953.172,
           727.874,
           974.151,
           807.802,
           1001.76,
           880.61,
           900.068,
           875.361,
           839.662,
           823.678,
           981.247,
           739.916,
           1007.7,
           980.919,
           3164.59,
           3283.42,
           2783.35,
           3202.31,
           2821.8,
           2835.77,
           2772.14,
           161.394,
           164.454,
           153.176,
           162.642,
           159.627,
           164.787,
           160.69,
           158.909,
           155.872,
           159.794,
           155.234,
           160.551,
           158.715,
           164.457,
           164.979,
           2756.88,
           2812.7,
           2807.24,
           2805.11,
           2768.38,
           2852.05,
           2752.8,
           2836.08,
           2773.6,
           2777.85,
           2776.11,
           3693.17,
           597.432,
           555.718,
           466.354,
           486.605,
           521.634,
           508.137,
           437.673,
           478.814,
           505.005,
           513.445,
           3640.05,
           3642.6,
           3637.49,
           3661.44,
           565.684,
           397.939,
           486.346,
           544.186,
           481.799,
           551.006,
           464.678,
           523.163,
           528.214,
           496.025,
           473.35,
           484.8,
           414.177,
           580.634,
           498.363,
           483.193,
           3663.2,
           3683.74,
           3622.87,
           840.917,
           831.998,
           844.278,
           840.954,
           840.995,
           844.907,
           837.701,
           845.16,
           840.893,
           846.115,
           3642.44,
           838.405,
           840.037,
           840.554,
           837.675,
           841.767,
           3676.31,
           3655.57,
           3651.69
          ],
          "coloraxis": "coloraxis",
          "symbol": "circle"
         },
         "mode": "markers",
         "name": "",
         "scene": "scene",
         "showlegend": false,
         "type": "scatter3d",
         "x": [
          68.2775318250131,
          68.39886192901818,
          87.73681008294652,
          81.72130133530692,
          84.58083483638653,
          84.141190996757,
          82.08518877534377,
          82.83994026964731,
          82.19193285932833,
          85.11601814842423,
          85.57544080482862,
          68.23480652246897,
          66.60622850136042,
          67.96597192038837,
          69.7639790009042,
          69.54158489457686,
          68.48092390995751,
          67.89745762052326,
          69.12669117773818,
          68.53743798139058,
          70.44825328775711,
          70.68596725207728,
          69.28265646823651,
          72.07921396904288,
          70.28351854171656,
          67.94298811982767,
          69.15333894488984,
          70.39175727225826,
          68.91629212897895,
          87.66392238457883,
          84.88646904895496,
          85.76553998754935,
          87.6628651448703,
          86.79925069906135,
          87.57824256699537,
          84.99390429659337,
          85.93655715845827,
          86.34241143250448,
          85.09889191722387,
          86.87323361958632,
          86.15963208581942,
          85.59013515730754,
          89.21017452763869,
          85.5288584894511,
          84.69078881250283,
          69.63916444435887,
          70.73535468371328,
          69.64803030560516,
          70.49318945633597,
          71.60449982416797,
          70.45901613325593,
          69.69446666024525,
          82.31770556184028,
          83.1341454244312,
          82.83494808511105,
          84.18796515658458,
          81.55678624430854,
          84.37214014143835,
          84.18656432111852,
          83.78972519265017,
          84.70513462721118,
          83.17921397697354,
          83.78016484736413,
          84.88396960319774,
          83.5746711149173,
          85.45678031112048,
          84.00098796691296,
          67.68634401960293,
          65.73124064080261,
          65.48061638633008,
          65.80030131607087,
          61.43118518636416,
          66.26072829401201,
          63.64300852252132,
          57.38030644452107,
          55.78716193014061,
          58.69592357159574,
          74.1275771485056,
          77.14087996686925,
          76.82288505300896,
          76.07370257817416,
          75.27469143502701,
          74.87022585904812,
          79.35532899526713,
          73.89326300608757,
          74.27929525178656,
          71.88076487621618,
          74.66732063748664,
          69.37991596297465,
          73.07215131846478,
          74.06655976856959,
          72.06179726481898,
          71.5296556016603,
          72.48314041529946,
          75.15968318966172,
          76.7864764662688,
          80.27824568073356,
          76.25275647576066,
          76.30744926459666,
          76.07217672731198,
          74.37923548749947,
          77.84000884621454,
          76.90304799576394,
          77.89589454367955,
          78.79017114172343,
          77.27820449524569,
          77.80933011885088,
          76.8148618275728,
          77.78675387989361,
          78.84484463181036,
          77.76068367163458,
          70.02241462561047,
          77.8892485553396,
          77.67398349987553,
          77.23469923884903,
          78.08296283485521,
          78.45124742099797,
          70.93184474590745,
          72.23364516496196,
          72.20248269276989,
          72.39319053226687,
          76.92007718029292,
          71.63032708109968,
          63.62491428212653,
          63.809578123543574,
          64.88734336301974,
          64.67789812777585,
          62.66354750923909,
          83.36265831118156,
          87.12317652539325,
          60.45627122935527,
          58.34471609485594,
          86.53758956259568,
          85.99427605409248,
          85.42546473045739,
          82.5178083053084,
          86.17644817275632,
          86.22868035897073,
          83.84472440756798,
          85.13335839960112,
          85.55887387143511,
          86.16730398822503,
          85.20382109534482,
          86.87756938965728,
          86.56912048880099,
          80.08740724178588,
          86.34932615349472,
          85.81849755741261,
          87.80385941090402,
          84.92050638613324,
          64.41209090068267,
          63.331222885681406,
          65.70897789751372,
          84.22760136557363,
          82.94035757129747,
          66.58640762855778,
          61.57086802951986,
          83.22781445510421,
          81.9988338487008,
          87.73915573555627,
          83.64972216125227,
          85.82044844745911,
          86.97697528359556,
          88.79241988988804,
          87.05383274246252,
          86.51784230309103,
          87.05932291200752,
          87.91788256785725,
          86.47270492842719,
          86.81331648075293,
          86.29051217456083,
          89.22138946185387,
          85.80206347902747,
          86.31333971984162,
          89.110371022142,
          86.68773738067303,
          86.57790233874088,
          88.36729342393826,
          85.30033471249155,
          87.43895861151039,
          85.07234575212591,
          86.76462060721815,
          87.48648680734406,
          86.50077113006034,
          86.71848578994071,
          88.6813747904394,
          81.15271250117294,
          85.6734690546321,
          84.54245882679808,
          81.0963823045502,
          83.0099292270471,
          82.29691178141138,
          83.73910262097893,
          83.77110249678262,
          82.24882180986592,
          81.0895563187919,
          82.82325649340045,
          82.48484422022409,
          83.16471135934209,
          81.6489309133116,
          84.10862120797265,
          83.88017575839135,
          82.16627018067018,
          84.82343649730953,
          83.13106108403329,
          84.81448224128492,
          83.65014135837127,
          84.38190137944022,
          83.53667741094178,
          65.56215512522354,
          81.28296059813945,
          82.39861780373556,
          80.92711243053972,
          82.18969016106031,
          81.00310842756762,
          81.01105548720142,
          80.9298302240559,
          81.22796690455475,
          81.30143486530933,
          81.00299370139048,
          65.79696071745302,
          84.76404529402558,
          82.6834275270928,
          82.07672361782292,
          85.31866768040462,
          83.80432443930857,
          82.1742561323184,
          82.61358617195589,
          80.17921431450709,
          81.33802572801577,
          80.4080875891964,
          81.1368170796348,
          79.31949778853061,
          78.78080199193371,
          79.7035904002511,
          69.46354586899305,
          69.1850994628308,
          70.0529048837621,
          79.91519913862346,
          77.58172114663337,
          76.99837760541455,
          79.60258040061987,
          78.08155314823955,
          77.4780794612873,
          76.09513176822851,
          78.10673956267146,
          78.39549992257378,
          78.54041083878047,
          79.46193694406621,
          78.86922729131155,
          79.87737890800726,
          78.7193320379624,
          80.60556365711916,
          80.97820118225526,
          80.14336466417876,
          70.10365223142384,
          71.97196062395828,
          69.03719176567164,
          71.74930345220316,
          69.92757098112196,
          79.73258565806469,
          81.89895638196582,
          80.26189157199917,
          81.19921710447872,
          70.46883046649607,
          68.03109541014493,
          71.34516948715475,
          75.6624015864191,
          75.29457099101991,
          76.89298876452702,
          77.60886689067283,
          76.15080719383893,
          76.81731785374238,
          75.46004446526159,
          75.5323668451785,
          70.36643464739643,
          77.21727802935197,
          76.10990952445674,
          71.79031820241764,
          77.99262893415232,
          77.3844205730807,
          79.06625609363621,
          82.23089668778697,
          78.50721449208976,
          74.68194177676216,
          75.77430167009075,
          75.10622613305253,
          75.4389583106097,
          75.09324403486258,
          68.8051677059548,
          69.27145046422712,
          87.45482924045513,
          80.7470918444804,
          81.9153565172077,
          84.19078109263475,
          83.09457334929789,
          81.46893803065333,
          83.18445646447556,
          81.80940688964489,
          82.90380341383948,
          84.15392874188605,
          67.03466006785833,
          67.46781234872918,
          66.4019234114769,
          69.9259045117384,
          69.61497599098534,
          70.30527508939714,
          70.1426106060816,
          73.01521512490956,
          68.956996104564,
          69.689049897331,
          70.06607689002544,
          72.75906793588395,
          69.17240598414266,
          87.23382238041759,
          82.84917520500242,
          84.66511453663875,
          86.94366097443961,
          85.33014276765053,
          85.5775532128854,
          84.33814262457155,
          82.70167982475161,
          84.76751054921316,
          84.80191665769345,
          86.14106536130427,
          86.40548311183989,
          85.22658025913196,
          87.74186945901587,
          83.85964170612397,
          84.8899475575614,
          68.41240774194944,
          71.42589577199138,
          71.87970433920346,
          70.37464108604746,
          74.10548067828803,
          72.34563089547565,
          71.66673451877432,
          89.27484878479007,
          90.09515591508679,
          89.74183394955745,
          91.16866023248774,
          89.72751632326008,
          91.22843923112156,
          91.51602797631882,
          90.74718164916646,
          91.5259143731119,
          90.16799880024828,
          90.7181496472988,
          91.42096560270318,
          90.85179727279231,
          91.67845078241966,
          90.92198425336858,
          66.94047364639233,
          67.9946706237738,
          66.48473010438504,
          65.27159880460172,
          65.96270482344468,
          64.4273740799173,
          66.35550695387052,
          66.01194503476086,
          60.52430217421184,
          57.15333821183243,
          61.88803483130076,
          69.46490730795901,
          90.37024638287711,
          89.16343833307045,
          90.81885309448411,
          90.257956959853,
          89.72854195140222,
          88.68800497787177,
          91.34920034940093,
          89.00139885674213,
          91.05759177007074,
          90.44663565274823,
          67.7610107279041,
          68.52885064858816,
          67.00023539877382,
          67.91352237586223,
          89.52485289706887,
          92.01066572018846,
          91.18771109855722,
          91.08157564545273,
          92.53362076981695,
          90.45253961953513,
          92.03220061338149,
          89.72077239663784,
          91.34162903810432,
          89.97627550969202,
          93.26000908776822,
          91.85297843238212,
          92.903079980819,
          91.76335747816948,
          91.00961775664962,
          90.45102667534846,
          70.6033246392231,
          69.9498994172557,
          72.39861770373957,
          73.97523685587328,
          75.7171507256391,
          73.39900291637579,
          75.37017945556937,
          74.30640463991561,
          75.6852978590448,
          75.67608377845394,
          74.6091906105511,
          75.59915239056112,
          74.60240584207288,
          67.25860281283897,
          75.60733700377699,
          75.95229522822626,
          75.66606745666945,
          76.39702785767713,
          75.61581180956445,
          68.97444924277872,
          64.9931069135126,
          63.799416240243794
         ],
         "y": [
          579.24,
          453.895,
          408.967,
          514.639,
          404.168,
          410.776,
          436.5,
          391.15,
          426.851,
          454.454,
          428.635,
          437.744,
          481.466,
          451.286,
          535.601,
          432.895,
          454.359,
          456.094,
          480.133,
          469.268,
          433.878,
          498.049,
          454.546,
          453.578,
          414.1,
          467.298,
          462.595,
          443.17,
          474.248,
          349.154,
          347.809,
          423.588,
          357.554,
          426.811,
          414.589,
          405.1,
          426.355,
          434.1,
          409.898,
          346.519,
          376.354,
          371.117,
          390.956,
          435.9,
          431.855,
          422.9,
          557.613,
          480.478,
          445.898,
          578.37,
          499.194,
          453.629,
          112.603,
          118.962,
          117.813,
          120.533,
          116.342,
          118.21,
          118.097,
          114.859,
          115.299,
          117.866,
          111.454,
          113.192,
          113.118,
          118.85,
          118.665,
          341.693,
          452.662,
          451.642,
          378.091,
          487.691,
          410.578,
          438.716,
          192.89,
          188.689,
          205.002,
          1020.24,
          775.169,
          613.382,
          839.277,
          894.497,
          649.688,
          883.151,
          724.709,
          1057.27,
          776.199,
          863.908,
          696.168,
          860.927,
          867.408,
          715.03,
          740.296,
          798.229,
          833.159,
          527.314,
          700.053,
          573.876,
          587.043,
          763.217,
          788.474,
          347.15,
          350.327,
          344.353,
          345.866,
          342.808,
          346.058,
          345.054,
          341.214,
          344.255,
          346.124,
          431.627,
          346.12,
          334.871,
          342.592,
          349.163,
          348.573,
          613.944,
          665.966,
          828.866,
          697.019,
          818.283,
          832.665,
          423.921,
          426.524,
          413.84,
          430.682,
          432.455,
          637.675,
          496.341,
          450.987,
          433.988,
          508.692,
          536.798,
          493.409,
          607.844,
          484.564,
          488.246,
          502.538,
          548.797,
          533.103,
          479.875,
          560.139,
          504.221,
          514.323,
          456.1,
          525.566,
          521.17,
          499.107,
          523.998,
          426.222,
          402.3,
          395.319,
          475.201,
          465.246,
          347.548,
          359.105,
          478.884,
          637.46,
          529.188,
          543.75,
          671.388,
          547.203,
          507.7,
          254.983,
          249.477,
          248.355,
          247.634,
          249.472,
          242.3,
          249.937,
          240.883,
          242.845,
          258.569,
          378.506,
          491.49,
          510.674,
          426.578,
          533.581,
          454.684,
          519.464,
          252.402,
          247.833,
          239.843,
          248.832,
          241.034,
          1045.23,
          803.557,
          930.313,
          838.862,
          760.313,
          1066.59,
          780.078,
          880.645,
          702.672,
          950.259,
          906.929,
          771.348,
          964.125,
          792.14,
          910.549,
          848.658,
          901.304,
          856.277,
          852.469,
          816.063,
          1194.19,
          933.148,
          872.112,
          387.737,
          469.533,
          468.46,
          456.623,
          465.166,
          470.652,
          470.451,
          470.108,
          471.501,
          462.927,
          474.512,
          389.254,
          636.194,
          726.543,
          854.074,
          715.078,
          818.075,
          679.857,
          865.763,
          462.47,
          462.629,
          447.293,
          468.217,
          470.906,
          982.728,
          745.741,
          594.071,
          591.443,
          630.528,
          859.88,
          763.945,
          701.569,
          977.018,
          717.437,
          800.098,
          661.442,
          858.641,
          844.97,
          712.141,
          893.019,
          739.496,
          851.59,
          788.546,
          824.592,
          784.096,
          805.791,
          679.039,
          562.603,
          577.324,
          653.365,
          713.648,
          775.909,
          1119.59,
          876.545,
          813.141,
          346.359,
          349.876,
          345.228,
          431.109,
          426.168,
          423.725,
          423.451,
          431.94,
          428.836,
          431.02,
          428.544,
          342.088,
          423.829,
          436.354,
          347.365,
          664.79,
          803.259,
          637.087,
          785.412,
          628.638,
          423.163,
          425.955,
          413.038,
          430.082,
          431.943,
          624.389,
          487.944,
          449.195,
          569.012,
          436.768,
          448.516,
          520.255,
          481.895,
          446.933,
          464.408,
          490.562,
          468.885,
          519.94,
          485.337,
          496.358,
          521.234,
          463.569,
          547.443,
          492.997,
          502.782,
          414.511,
          513.468,
          509.24,
          489.235,
          512.723,
          392.882,
          384.408,
          474.728,
          400.558,
          458.336,
          445.351,
          445.1,
          459.334,
          470.653,
          449.586,
          401.364,
          415.147,
          400.9,
          441.73,
          476.008,
          477.365,
          426.924,
          587.9,
          520.472,
          469.9,
          648.531,
          537.119,
          495.58,
          155.568,
          158.388,
          149.397,
          158.16,
          155.216,
          160.7,
          155.376,
          155.013,
          151.281,
          155.78,
          150.532,
          156.003,
          154.302,
          158.972,
          160.699,
          371.699,
          486.195,
          496.554,
          479.203,
          417.556,
          527.294,
          440.647,
          506.746,
          240.92,
          231.344,
          231.889,
          593.153,
          438.756,
          554.215,
          442.622,
          436.531,
          509.551,
          494.7,
          428.5,
          455.894,
          493.56,
          460.611,
          446.392,
          495.419,
          468.4,
          487.055,
          382.513,
          393.069,
          461.549,
          392.186,
          462.333,
          453.447,
          456.57,
          468.626,
          479.264,
          440.113,
          401.964,
          404.337,
          405.044,
          431.076,
          488.875,
          466.638,
          601.552,
          511.274,
          468.456,
          127.486,
          131.215,
          128.24,
          132.73,
          129.69,
          134.4,
          129.841,
          127.173,
          127.214,
          129.505,
          212.825,
          123.065,
          127.933,
          126.947,
          133.137,
          134.542,
          464.13,
          466.859,
          445.649
         ],
         "z": [
          2568.38,
          2548.47,
          733.101,
          1148.7,
          822.212,
          912.933,
          1008.09,
          1002.96,
          961.681,
          861.398,
          894.834,
          2500.65,
          2515.2,
          2513.24,
          2576.65,
          2509.9,
          2538.23,
          2573.27,
          2511.09,
          2587.36,
          2522.19,
          2583.26,
          2506.91,
          2556.4,
          2775.04,
          2556.33,
          2518.94,
          2557.12,
          2531.94,
          684.151,
          838.511,
          959.138,
          704.941,
          846.795,
          700.647,
          850.601,
          746.12,
          761.853,
          877.017,
          730.982,
          838.251,
          850.676,
          724.69,
          856.639,
          979.641,
          2682.11,
          2804.26,
          2511.23,
          2733.37,
          2545.43,
          2555.88,
          2494.55,
          325.746,
          338.616,
          327.098,
          332.532,
          330.255,
          327.553,
          333.935,
          324.778,
          329.118,
          326.088,
          330.058,
          330.142,
          329.139,
          334.237,
          329.785,
          2488.61,
          2552.71,
          2525.83,
          2494.61,
          2585.59,
          2474.11,
          2557.77,
          2504.53,
          2493.82,
          2500.53,
          2045.26,
          1938.73,
          2591.84,
          2848.63,
          2928.89,
          2761.93,
          1961.49,
          1963.46,
          1995.98,
          1869.61,
          1985.27,
          1896.86,
          2087.62,
          2029.02,
          2127.17,
          2047.8,
          1951.3,
          1969.52,
          2535.66,
          2723.26,
          2611.38,
          2686.88,
          2802.45,
          1980.91,
          938.906,
          944.076,
          940.224,
          940.058,
          934.224,
          941.488,
          940.388,
          935.888,
          940.061,
          937.349,
          1968.69,
          943.593,
          942.401,
          946.905,
          939.915,
          942.079,
          1871.25,
          2016.47,
          1961.61,
          1840.74,
          1559.96,
          1959.34,
          1965.31,
          1973.26,
          1969.87,
          1974.67,
          1973.21,
          639.401,
          497.281,
          3448.53,
          3506.28,
          513.694,
          538.921,
          498.25,
          610.206,
          489.786,
          489.396,
          503.386,
          554.701,
          534.218,
          480.455,
          562.024,
          509.302,
          517.114,
          1240.07,
          527.059,
          526.096,
          500.915,
          526.622,
          3442.17,
          3286.74,
          3458.21,
          924.256,
          1054.82,
          3346.11,
          3471.72,
          979.973,
          1209.47,
          535.479,
          1004.31,
          680.57,
          548.61,
          515.188,
          261.076,
          253.846,
          251.701,
          252.408,
          253.881,
          248.134,
          256.078,
          245.55,
          248.814,
          263.821,
          387.79,
          494.061,
          514.078,
          433.965,
          534.37,
          465.013,
          521.742,
          255.672,
          253.325,
          244.124,
          253.628,
          245.836,
          1089.63,
          859.131,
          969.097,
          1053.08,
          842.461,
          1100.42,
          814.157,
          940.999,
          750.178,
          1108.05,
          983.916,
          1009.06,
          1033.93,
          970.296,
          949.504,
          892.291,
          1056.87,
          909.532,
          869.83,
          886.486,
          1223.71,
          989.376,
          1035.14,
          2245.1,
          751.078,
          756.537,
          735.157,
          748.787,
          753.937,
          762.07,
          751.566,
          758.679,
          750.15,
          754.182,
          2249.06,
          699.403,
          904.535,
          906.419,
          748.755,
          840.749,
          892.672,
          906.767,
          745.144,
          749.714,
          735.906,
          753.504,
          754.67,
          1434.31,
          1277.46,
          3305.35,
          3327.63,
          3483.64,
          1316.11,
          1436.93,
          1281.02,
          1385.71,
          1219.46,
          1339.56,
          1225.15,
          1412.22,
          1370.02,
          1413.93,
          1407.83,
          1347.65,
          1301.42,
          1300.94,
          1394.71,
          1304.99,
          1202.53,
          3448.5,
          3330.46,
          3413.85,
          3330.66,
          3528.61,
          1311.35,
          1474.35,
          1392.21,
          1404.83,
          1691.2,
          1696.22,
          1692.73,
          1219.33,
          1223.85,
          1206.56,
          1211.96,
          1224.35,
          1229.79,
          1216.66,
          1222.75,
          1700.58,
          1221.04,
          1221.07,
          1694.03,
          1303.07,
          1312.01,
          1179.68,
          1013.26,
          1299.06,
          1212.3,
          1220.31,
          1215.28,
          1222.26,
          1221.12,
          2854.32,
          2829.77,
          728.49,
          1137.15,
          955.244,
          875.691,
          1010.72,
          1192.56,
          1006.99,
          953.178,
          1009.06,
          885.959,
          2813.08,
          2789.08,
          2845.03,
          2867.81,
          2834.27,
          2856.65,
          2789.83,
          2835.96,
          3292.95,
          2837.2,
          2796.26,
          2831.48,
          2815.63,
          684.804,
          999.917,
          953.172,
          727.874,
          974.151,
          807.802,
          1001.76,
          880.61,
          900.068,
          875.361,
          839.662,
          823.678,
          981.247,
          739.916,
          1007.7,
          980.919,
          3164.59,
          3283.42,
          2783.35,
          3202.31,
          2821.8,
          2835.77,
          2772.14,
          161.394,
          164.454,
          153.176,
          162.642,
          159.627,
          164.787,
          160.69,
          158.909,
          155.872,
          159.794,
          155.234,
          160.551,
          158.715,
          164.457,
          164.979,
          2756.88,
          2812.7,
          2807.24,
          2805.11,
          2768.38,
          2852.05,
          2752.8,
          2836.08,
          2773.6,
          2777.85,
          2776.11,
          3693.17,
          597.432,
          555.718,
          466.354,
          486.605,
          521.634,
          508.137,
          437.673,
          478.814,
          505.005,
          513.445,
          3640.05,
          3642.6,
          3637.49,
          3661.44,
          565.684,
          397.939,
          486.346,
          544.186,
          481.799,
          551.006,
          464.678,
          523.163,
          528.214,
          496.025,
          473.35,
          484.8,
          414.177,
          580.634,
          498.363,
          483.193,
          3663.2,
          3683.74,
          3622.87,
          840.917,
          831.998,
          844.278,
          840.954,
          840.995,
          844.907,
          837.701,
          845.16,
          840.893,
          846.115,
          3642.44,
          838.405,
          840.037,
          840.554,
          837.675,
          841.767,
          3676.31,
          3655.57,
          3651.69
         ]
        }
       ],
       "layout": {
        "coloraxis": {
         "colorbar": {
          "title": {
           "text": "distance"
          }
         },
         "colorscale": [
          [
           0,
           "#0d0887"
          ],
          [
           0.1111111111111111,
           "#46039f"
          ],
          [
           0.2222222222222222,
           "#7201a8"
          ],
          [
           0.3333333333333333,
           "#9c179e"
          ],
          [
           0.4444444444444444,
           "#bd3786"
          ],
          [
           0.5555555555555556,
           "#d8576b"
          ],
          [
           0.6666666666666666,
           "#ed7953"
          ],
          [
           0.7777777777777778,
           "#fb9f3a"
          ],
          [
           0.8888888888888888,
           "#fdca26"
          ],
          [
           1,
           "#f0f921"
          ]
         ]
        },
        "legend": {
         "tracegroupgap": 0
        },
        "margin": {
         "t": 60
        },
        "scene": {
         "domain": {
          "x": [
           0,
           1
          ],
          "y": [
           0,
           1
          ]
         },
         "xaxis": {
          "title": {
           "text": "SEL_dB"
          }
         },
         "yaxis": {
          "title": {
           "text": "altitude"
          }
         },
         "zaxis": {
          "title": {
           "text": "distance"
          }
         }
        },
        "template": {
         "data": {
          "bar": [
           {
            "error_x": {
             "color": "#2a3f5f"
            },
            "error_y": {
             "color": "#2a3f5f"
            },
            "marker": {
             "line": {
              "color": "#E5ECF6",
              "width": 0.5
             },
             "pattern": {
              "fillmode": "overlay",
              "size": 10,
              "solidity": 0.2
             }
            },
            "type": "bar"
           }
          ],
          "barpolar": [
           {
            "marker": {
             "line": {
              "color": "#E5ECF6",
              "width": 0.5
             },
             "pattern": {
              "fillmode": "overlay",
              "size": 10,
              "solidity": 0.2
             }
            },
            "type": "barpolar"
           }
          ],
          "carpet": [
           {
            "aaxis": {
             "endlinecolor": "#2a3f5f",
             "gridcolor": "white",
             "linecolor": "white",
             "minorgridcolor": "white",
             "startlinecolor": "#2a3f5f"
            },
            "baxis": {
             "endlinecolor": "#2a3f5f",
             "gridcolor": "white",
             "linecolor": "white",
             "minorgridcolor": "white",
             "startlinecolor": "#2a3f5f"
            },
            "type": "carpet"
           }
          ],
          "choropleth": [
           {
            "colorbar": {
             "outlinewidth": 0,
             "ticks": ""
            },
            "type": "choropleth"
           }
          ],
          "contour": [
           {
            "colorbar": {
             "outlinewidth": 0,
             "ticks": ""
            },
            "colorscale": [
             [
              0,
              "#0d0887"
             ],
             [
              0.1111111111111111,
              "#46039f"
             ],
             [
              0.2222222222222222,
              "#7201a8"
             ],
             [
              0.3333333333333333,
              "#9c179e"
             ],
             [
              0.4444444444444444,
              "#bd3786"
             ],
             [
              0.5555555555555556,
              "#d8576b"
             ],
             [
              0.6666666666666666,
              "#ed7953"
             ],
             [
              0.7777777777777778,
              "#fb9f3a"
             ],
             [
              0.8888888888888888,
              "#fdca26"
             ],
             [
              1,
              "#f0f921"
             ]
            ],
            "type": "contour"
           }
          ],
          "contourcarpet": [
           {
            "colorbar": {
             "outlinewidth": 0,
             "ticks": ""
            },
            "type": "contourcarpet"
           }
          ],
          "heatmap": [
           {
            "colorbar": {
             "outlinewidth": 0,
             "ticks": ""
            },
            "colorscale": [
             [
              0,
              "#0d0887"
             ],
             [
              0.1111111111111111,
              "#46039f"
             ],
             [
              0.2222222222222222,
              "#7201a8"
             ],
             [
              0.3333333333333333,
              "#9c179e"
             ],
             [
              0.4444444444444444,
              "#bd3786"
             ],
             [
              0.5555555555555556,
              "#d8576b"
             ],
             [
              0.6666666666666666,
              "#ed7953"
             ],
             [
              0.7777777777777778,
              "#fb9f3a"
             ],
             [
              0.8888888888888888,
              "#fdca26"
             ],
             [
              1,
              "#f0f921"
             ]
            ],
            "type": "heatmap"
           }
          ],
          "heatmapgl": [
           {
            "colorbar": {
             "outlinewidth": 0,
             "ticks": ""
            },
            "colorscale": [
             [
              0,
              "#0d0887"
             ],
             [
              0.1111111111111111,
              "#46039f"
             ],
             [
              0.2222222222222222,
              "#7201a8"
             ],
             [
              0.3333333333333333,
              "#9c179e"
             ],
             [
              0.4444444444444444,
              "#bd3786"
             ],
             [
              0.5555555555555556,
              "#d8576b"
             ],
             [
              0.6666666666666666,
              "#ed7953"
             ],
             [
              0.7777777777777778,
              "#fb9f3a"
             ],
             [
              0.8888888888888888,
              "#fdca26"
             ],
             [
              1,
              "#f0f921"
             ]
            ],
            "type": "heatmapgl"
           }
          ],
          "histogram": [
           {
            "marker": {
             "pattern": {
              "fillmode": "overlay",
              "size": 10,
              "solidity": 0.2
             }
            },
            "type": "histogram"
           }
          ],
          "histogram2d": [
           {
            "colorbar": {
             "outlinewidth": 0,
             "ticks": ""
            },
            "colorscale": [
             [
              0,
              "#0d0887"
             ],
             [
              0.1111111111111111,
              "#46039f"
             ],
             [
              0.2222222222222222,
              "#7201a8"
             ],
             [
              0.3333333333333333,
              "#9c179e"
             ],
             [
              0.4444444444444444,
              "#bd3786"
             ],
             [
              0.5555555555555556,
              "#d8576b"
             ],
             [
              0.6666666666666666,
              "#ed7953"
             ],
             [
              0.7777777777777778,
              "#fb9f3a"
             ],
             [
              0.8888888888888888,
              "#fdca26"
             ],
             [
              1,
              "#f0f921"
             ]
            ],
            "type": "histogram2d"
           }
          ],
          "histogram2dcontour": [
           {
            "colorbar": {
             "outlinewidth": 0,
             "ticks": ""
            },
            "colorscale": [
             [
              0,
              "#0d0887"
             ],
             [
              0.1111111111111111,
              "#46039f"
             ],
             [
              0.2222222222222222,
              "#7201a8"
             ],
             [
              0.3333333333333333,
              "#9c179e"
             ],
             [
              0.4444444444444444,
              "#bd3786"
             ],
             [
              0.5555555555555556,
              "#d8576b"
             ],
             [
              0.6666666666666666,
              "#ed7953"
             ],
             [
              0.7777777777777778,
              "#fb9f3a"
             ],
             [
              0.8888888888888888,
              "#fdca26"
             ],
             [
              1,
              "#f0f921"
             ]
            ],
            "type": "histogram2dcontour"
           }
          ],
          "mesh3d": [
           {
            "colorbar": {
             "outlinewidth": 0,
             "ticks": ""
            },
            "type": "mesh3d"
           }
          ],
          "parcoords": [
           {
            "line": {
             "colorbar": {
              "outlinewidth": 0,
              "ticks": ""
             }
            },
            "type": "parcoords"
           }
          ],
          "pie": [
           {
            "automargin": true,
            "type": "pie"
           }
          ],
          "scatter": [
           {
            "fillpattern": {
             "fillmode": "overlay",
             "size": 10,
             "solidity": 0.2
            },
            "type": "scatter"
           }
          ],
          "scatter3d": [
           {
            "line": {
             "colorbar": {
              "outlinewidth": 0,
              "ticks": ""
             }
            },
            "marker": {
             "colorbar": {
              "outlinewidth": 0,
              "ticks": ""
             }
            },
            "type": "scatter3d"
           }
          ],
          "scattercarpet": [
           {
            "marker": {
             "colorbar": {
              "outlinewidth": 0,
              "ticks": ""
             }
            },
            "type": "scattercarpet"
           }
          ],
          "scattergeo": [
           {
            "marker": {
             "colorbar": {
              "outlinewidth": 0,
              "ticks": ""
             }
            },
            "type": "scattergeo"
           }
          ],
          "scattergl": [
           {
            "marker": {
             "colorbar": {
              "outlinewidth": 0,
              "ticks": ""
             }
            },
            "type": "scattergl"
           }
          ],
          "scattermapbox": [
           {
            "marker": {
             "colorbar": {
              "outlinewidth": 0,
              "ticks": ""
             }
            },
            "type": "scattermapbox"
           }
          ],
          "scatterpolar": [
           {
            "marker": {
             "colorbar": {
              "outlinewidth": 0,
              "ticks": ""
             }
            },
            "type": "scatterpolar"
           }
          ],
          "scatterpolargl": [
           {
            "marker": {
             "colorbar": {
              "outlinewidth": 0,
              "ticks": ""
             }
            },
            "type": "scatterpolargl"
           }
          ],
          "scatterternary": [
           {
            "marker": {
             "colorbar": {
              "outlinewidth": 0,
              "ticks": ""
             }
            },
            "type": "scatterternary"
           }
          ],
          "surface": [
           {
            "colorbar": {
             "outlinewidth": 0,
             "ticks": ""
            },
            "colorscale": [
             [
              0,
              "#0d0887"
             ],
             [
              0.1111111111111111,
              "#46039f"
             ],
             [
              0.2222222222222222,
              "#7201a8"
             ],
             [
              0.3333333333333333,
              "#9c179e"
             ],
             [
              0.4444444444444444,
              "#bd3786"
             ],
             [
              0.5555555555555556,
              "#d8576b"
             ],
             [
              0.6666666666666666,
              "#ed7953"
             ],
             [
              0.7777777777777778,
              "#fb9f3a"
             ],
             [
              0.8888888888888888,
              "#fdca26"
             ],
             [
              1,
              "#f0f921"
             ]
            ],
            "type": "surface"
           }
          ],
          "table": [
           {
            "cells": {
             "fill": {
              "color": "#EBF0F8"
             },
             "line": {
              "color": "white"
             }
            },
            "header": {
             "fill": {
              "color": "#C8D4E3"
             },
             "line": {
              "color": "white"
             }
            },
            "type": "table"
           }
          ]
         },
         "layout": {
          "annotationdefaults": {
           "arrowcolor": "#2a3f5f",
           "arrowhead": 0,
           "arrowwidth": 1
          },
          "autotypenumbers": "strict",
          "coloraxis": {
           "colorbar": {
            "outlinewidth": 0,
            "ticks": ""
           }
          },
          "colorscale": {
           "diverging": [
            [
             0,
             "#8e0152"
            ],
            [
             0.1,
             "#c51b7d"
            ],
            [
             0.2,
             "#de77ae"
            ],
            [
             0.3,
             "#f1b6da"
            ],
            [
             0.4,
             "#fde0ef"
            ],
            [
             0.5,
             "#f7f7f7"
            ],
            [
             0.6,
             "#e6f5d0"
            ],
            [
             0.7,
             "#b8e186"
            ],
            [
             0.8,
             "#7fbc41"
            ],
            [
             0.9,
             "#4d9221"
            ],
            [
             1,
             "#276419"
            ]
           ],
           "sequential": [
            [
             0,
             "#0d0887"
            ],
            [
             0.1111111111111111,
             "#46039f"
            ],
            [
             0.2222222222222222,
             "#7201a8"
            ],
            [
             0.3333333333333333,
             "#9c179e"
            ],
            [
             0.4444444444444444,
             "#bd3786"
            ],
            [
             0.5555555555555556,
             "#d8576b"
            ],
            [
             0.6666666666666666,
             "#ed7953"
            ],
            [
             0.7777777777777778,
             "#fb9f3a"
            ],
            [
             0.8888888888888888,
             "#fdca26"
            ],
            [
             1,
             "#f0f921"
            ]
           ],
           "sequentialminus": [
            [
             0,
             "#0d0887"
            ],
            [
             0.1111111111111111,
             "#46039f"
            ],
            [
             0.2222222222222222,
             "#7201a8"
            ],
            [
             0.3333333333333333,
             "#9c179e"
            ],
            [
             0.4444444444444444,
             "#bd3786"
            ],
            [
             0.5555555555555556,
             "#d8576b"
            ],
            [
             0.6666666666666666,
             "#ed7953"
            ],
            [
             0.7777777777777778,
             "#fb9f3a"
            ],
            [
             0.8888888888888888,
             "#fdca26"
            ],
            [
             1,
             "#f0f921"
            ]
           ]
          },
          "colorway": [
           "#636efa",
           "#EF553B",
           "#00cc96",
           "#ab63fa",
           "#FFA15A",
           "#19d3f3",
           "#FF6692",
           "#B6E880",
           "#FF97FF",
           "#FECB52"
          ],
          "font": {
           "color": "#2a3f5f"
          },
          "geo": {
           "bgcolor": "white",
           "lakecolor": "white",
           "landcolor": "#E5ECF6",
           "showlakes": true,
           "showland": true,
           "subunitcolor": "white"
          },
          "hoverlabel": {
           "align": "left"
          },
          "hovermode": "closest",
          "mapbox": {
           "style": "light"
          },
          "paper_bgcolor": "white",
          "plot_bgcolor": "#E5ECF6",
          "polar": {
           "angularaxis": {
            "gridcolor": "white",
            "linecolor": "white",
            "ticks": ""
           },
           "bgcolor": "#E5ECF6",
           "radialaxis": {
            "gridcolor": "white",
            "linecolor": "white",
            "ticks": ""
           }
          },
          "scene": {
           "xaxis": {
            "backgroundcolor": "#E5ECF6",
            "gridcolor": "white",
            "gridwidth": 2,
            "linecolor": "white",
            "showbackground": true,
            "ticks": "",
            "zerolinecolor": "white"
           },
           "yaxis": {
            "backgroundcolor": "#E5ECF6",
            "gridcolor": "white",
            "gridwidth": 2,
            "linecolor": "white",
            "showbackground": true,
            "ticks": "",
            "zerolinecolor": "white"
           },
           "zaxis": {
            "backgroundcolor": "#E5ECF6",
            "gridcolor": "white",
            "gridwidth": 2,
            "linecolor": "white",
            "showbackground": true,
            "ticks": "",
            "zerolinecolor": "white"
           }
          },
          "shapedefaults": {
           "line": {
            "color": "#2a3f5f"
           }
          },
          "ternary": {
           "aaxis": {
            "gridcolor": "white",
            "linecolor": "white",
            "ticks": ""
           },
           "baxis": {
            "gridcolor": "white",
            "linecolor": "white",
            "ticks": ""
           },
           "bgcolor": "#E5ECF6",
           "caxis": {
            "gridcolor": "white",
            "linecolor": "white",
            "ticks": ""
           }
          },
          "title": {
           "x": 0.05
          },
          "xaxis": {
           "automargin": true,
           "gridcolor": "white",
           "linecolor": "white",
           "ticks": "",
           "title": {
            "standoff": 15
           },
           "zerolinecolor": "white",
           "zerolinewidth": 2
          },
          "yaxis": {
           "automargin": true,
           "gridcolor": "white",
           "linecolor": "white",
           "ticks": "",
           "title": {
            "standoff": 15
           },
           "zerolinecolor": "white",
           "zerolinewidth": 2
          }
         }
        }
       }
      }
     },
     "metadata": {},
     "output_type": "display_data"
    }
   ],
   "source": [
    "df_B7378 =data.loc[AirB7378]\n",
    "fig= px.scatter_3d(df_B7378, x=\"SEL_dB\", y=\"altitude\", z=\"distance\", color=\"distance\")\n",
    "fig.show()"
   ]
  },
  {
   "cell_type": "code",
   "execution_count": 173,
   "metadata": {},
   "outputs": [
    {
     "name": "stdout",
     "output_type": "stream",
     "text": [
      "headers     SEL_dB\n",
      "mean     80.928251\n",
      "min      75.874923\n",
      "max      86.937224\n",
      "std       5.592725\n",
      "median   79.972607\n"
     ]
    }
   ],
   "source": [
    "Air320= data['type'].isin(A320)\n",
    "dbA320=data.loc[Air320, ['SEL_dB']].agg(['mean', 'min', 'max', 'std', 'median'])\n",
    "print(dbA320)"
   ]
  },
  {
   "cell_type": "code",
   "execution_count": 174,
   "metadata": {},
   "outputs": [
    {
     "data": {
      "application/vnd.plotly.v1+json": {
       "config": {
        "plotlyServerURL": "https://plot.ly"
       },
       "data": [
        {
         "hovertemplate": "SEL_dB=%{x}<br>altitude=%{y}<br>distance=%{marker.color}<extra></extra>",
         "legendgroup": "",
         "marker": {
          "color": [
           261.206,
           757.432,
           1222.21
          ],
          "coloraxis": "coloraxis",
          "symbol": "circle"
         },
         "mode": "markers",
         "name": "",
         "scene": "scene",
         "showlegend": false,
         "type": "scatter3d",
         "x": [
          86.93722363312358,
          79.9726067421665,
          75.87492258959514
         ],
         "y": [
          256.235,
          477.233,
          437.017
         ],
         "z": [
          261.206,
          757.432,
          1222.21
         ]
        }
       ],
       "layout": {
        "coloraxis": {
         "colorbar": {
          "title": {
           "text": "distance"
          }
         },
         "colorscale": [
          [
           0,
           "#0d0887"
          ],
          [
           0.1111111111111111,
           "#46039f"
          ],
          [
           0.2222222222222222,
           "#7201a8"
          ],
          [
           0.3333333333333333,
           "#9c179e"
          ],
          [
           0.4444444444444444,
           "#bd3786"
          ],
          [
           0.5555555555555556,
           "#d8576b"
          ],
          [
           0.6666666666666666,
           "#ed7953"
          ],
          [
           0.7777777777777778,
           "#fb9f3a"
          ],
          [
           0.8888888888888888,
           "#fdca26"
          ],
          [
           1,
           "#f0f921"
          ]
         ]
        },
        "legend": {
         "tracegroupgap": 0
        },
        "margin": {
         "t": 60
        },
        "scene": {
         "domain": {
          "x": [
           0,
           1
          ],
          "y": [
           0,
           1
          ]
         },
         "xaxis": {
          "title": {
           "text": "SEL_dB"
          }
         },
         "yaxis": {
          "title": {
           "text": "altitude"
          }
         },
         "zaxis": {
          "title": {
           "text": "distance"
          }
         }
        },
        "template": {
         "data": {
          "bar": [
           {
            "error_x": {
             "color": "#2a3f5f"
            },
            "error_y": {
             "color": "#2a3f5f"
            },
            "marker": {
             "line": {
              "color": "#E5ECF6",
              "width": 0.5
             },
             "pattern": {
              "fillmode": "overlay",
              "size": 10,
              "solidity": 0.2
             }
            },
            "type": "bar"
           }
          ],
          "barpolar": [
           {
            "marker": {
             "line": {
              "color": "#E5ECF6",
              "width": 0.5
             },
             "pattern": {
              "fillmode": "overlay",
              "size": 10,
              "solidity": 0.2
             }
            },
            "type": "barpolar"
           }
          ],
          "carpet": [
           {
            "aaxis": {
             "endlinecolor": "#2a3f5f",
             "gridcolor": "white",
             "linecolor": "white",
             "minorgridcolor": "white",
             "startlinecolor": "#2a3f5f"
            },
            "baxis": {
             "endlinecolor": "#2a3f5f",
             "gridcolor": "white",
             "linecolor": "white",
             "minorgridcolor": "white",
             "startlinecolor": "#2a3f5f"
            },
            "type": "carpet"
           }
          ],
          "choropleth": [
           {
            "colorbar": {
             "outlinewidth": 0,
             "ticks": ""
            },
            "type": "choropleth"
           }
          ],
          "contour": [
           {
            "colorbar": {
             "outlinewidth": 0,
             "ticks": ""
            },
            "colorscale": [
             [
              0,
              "#0d0887"
             ],
             [
              0.1111111111111111,
              "#46039f"
             ],
             [
              0.2222222222222222,
              "#7201a8"
             ],
             [
              0.3333333333333333,
              "#9c179e"
             ],
             [
              0.4444444444444444,
              "#bd3786"
             ],
             [
              0.5555555555555556,
              "#d8576b"
             ],
             [
              0.6666666666666666,
              "#ed7953"
             ],
             [
              0.7777777777777778,
              "#fb9f3a"
             ],
             [
              0.8888888888888888,
              "#fdca26"
             ],
             [
              1,
              "#f0f921"
             ]
            ],
            "type": "contour"
           }
          ],
          "contourcarpet": [
           {
            "colorbar": {
             "outlinewidth": 0,
             "ticks": ""
            },
            "type": "contourcarpet"
           }
          ],
          "heatmap": [
           {
            "colorbar": {
             "outlinewidth": 0,
             "ticks": ""
            },
            "colorscale": [
             [
              0,
              "#0d0887"
             ],
             [
              0.1111111111111111,
              "#46039f"
             ],
             [
              0.2222222222222222,
              "#7201a8"
             ],
             [
              0.3333333333333333,
              "#9c179e"
             ],
             [
              0.4444444444444444,
              "#bd3786"
             ],
             [
              0.5555555555555556,
              "#d8576b"
             ],
             [
              0.6666666666666666,
              "#ed7953"
             ],
             [
              0.7777777777777778,
              "#fb9f3a"
             ],
             [
              0.8888888888888888,
              "#fdca26"
             ],
             [
              1,
              "#f0f921"
             ]
            ],
            "type": "heatmap"
           }
          ],
          "heatmapgl": [
           {
            "colorbar": {
             "outlinewidth": 0,
             "ticks": ""
            },
            "colorscale": [
             [
              0,
              "#0d0887"
             ],
             [
              0.1111111111111111,
              "#46039f"
             ],
             [
              0.2222222222222222,
              "#7201a8"
             ],
             [
              0.3333333333333333,
              "#9c179e"
             ],
             [
              0.4444444444444444,
              "#bd3786"
             ],
             [
              0.5555555555555556,
              "#d8576b"
             ],
             [
              0.6666666666666666,
              "#ed7953"
             ],
             [
              0.7777777777777778,
              "#fb9f3a"
             ],
             [
              0.8888888888888888,
              "#fdca26"
             ],
             [
              1,
              "#f0f921"
             ]
            ],
            "type": "heatmapgl"
           }
          ],
          "histogram": [
           {
            "marker": {
             "pattern": {
              "fillmode": "overlay",
              "size": 10,
              "solidity": 0.2
             }
            },
            "type": "histogram"
           }
          ],
          "histogram2d": [
           {
            "colorbar": {
             "outlinewidth": 0,
             "ticks": ""
            },
            "colorscale": [
             [
              0,
              "#0d0887"
             ],
             [
              0.1111111111111111,
              "#46039f"
             ],
             [
              0.2222222222222222,
              "#7201a8"
             ],
             [
              0.3333333333333333,
              "#9c179e"
             ],
             [
              0.4444444444444444,
              "#bd3786"
             ],
             [
              0.5555555555555556,
              "#d8576b"
             ],
             [
              0.6666666666666666,
              "#ed7953"
             ],
             [
              0.7777777777777778,
              "#fb9f3a"
             ],
             [
              0.8888888888888888,
              "#fdca26"
             ],
             [
              1,
              "#f0f921"
             ]
            ],
            "type": "histogram2d"
           }
          ],
          "histogram2dcontour": [
           {
            "colorbar": {
             "outlinewidth": 0,
             "ticks": ""
            },
            "colorscale": [
             [
              0,
              "#0d0887"
             ],
             [
              0.1111111111111111,
              "#46039f"
             ],
             [
              0.2222222222222222,
              "#7201a8"
             ],
             [
              0.3333333333333333,
              "#9c179e"
             ],
             [
              0.4444444444444444,
              "#bd3786"
             ],
             [
              0.5555555555555556,
              "#d8576b"
             ],
             [
              0.6666666666666666,
              "#ed7953"
             ],
             [
              0.7777777777777778,
              "#fb9f3a"
             ],
             [
              0.8888888888888888,
              "#fdca26"
             ],
             [
              1,
              "#f0f921"
             ]
            ],
            "type": "histogram2dcontour"
           }
          ],
          "mesh3d": [
           {
            "colorbar": {
             "outlinewidth": 0,
             "ticks": ""
            },
            "type": "mesh3d"
           }
          ],
          "parcoords": [
           {
            "line": {
             "colorbar": {
              "outlinewidth": 0,
              "ticks": ""
             }
            },
            "type": "parcoords"
           }
          ],
          "pie": [
           {
            "automargin": true,
            "type": "pie"
           }
          ],
          "scatter": [
           {
            "fillpattern": {
             "fillmode": "overlay",
             "size": 10,
             "solidity": 0.2
            },
            "type": "scatter"
           }
          ],
          "scatter3d": [
           {
            "line": {
             "colorbar": {
              "outlinewidth": 0,
              "ticks": ""
             }
            },
            "marker": {
             "colorbar": {
              "outlinewidth": 0,
              "ticks": ""
             }
            },
            "type": "scatter3d"
           }
          ],
          "scattercarpet": [
           {
            "marker": {
             "colorbar": {
              "outlinewidth": 0,
              "ticks": ""
             }
            },
            "type": "scattercarpet"
           }
          ],
          "scattergeo": [
           {
            "marker": {
             "colorbar": {
              "outlinewidth": 0,
              "ticks": ""
             }
            },
            "type": "scattergeo"
           }
          ],
          "scattergl": [
           {
            "marker": {
             "colorbar": {
              "outlinewidth": 0,
              "ticks": ""
             }
            },
            "type": "scattergl"
           }
          ],
          "scattermapbox": [
           {
            "marker": {
             "colorbar": {
              "outlinewidth": 0,
              "ticks": ""
             }
            },
            "type": "scattermapbox"
           }
          ],
          "scatterpolar": [
           {
            "marker": {
             "colorbar": {
              "outlinewidth": 0,
              "ticks": ""
             }
            },
            "type": "scatterpolar"
           }
          ],
          "scatterpolargl": [
           {
            "marker": {
             "colorbar": {
              "outlinewidth": 0,
              "ticks": ""
             }
            },
            "type": "scatterpolargl"
           }
          ],
          "scatterternary": [
           {
            "marker": {
             "colorbar": {
              "outlinewidth": 0,
              "ticks": ""
             }
            },
            "type": "scatterternary"
           }
          ],
          "surface": [
           {
            "colorbar": {
             "outlinewidth": 0,
             "ticks": ""
            },
            "colorscale": [
             [
              0,
              "#0d0887"
             ],
             [
              0.1111111111111111,
              "#46039f"
             ],
             [
              0.2222222222222222,
              "#7201a8"
             ],
             [
              0.3333333333333333,
              "#9c179e"
             ],
             [
              0.4444444444444444,
              "#bd3786"
             ],
             [
              0.5555555555555556,
              "#d8576b"
             ],
             [
              0.6666666666666666,
              "#ed7953"
             ],
             [
              0.7777777777777778,
              "#fb9f3a"
             ],
             [
              0.8888888888888888,
              "#fdca26"
             ],
             [
              1,
              "#f0f921"
             ]
            ],
            "type": "surface"
           }
          ],
          "table": [
           {
            "cells": {
             "fill": {
              "color": "#EBF0F8"
             },
             "line": {
              "color": "white"
             }
            },
            "header": {
             "fill": {
              "color": "#C8D4E3"
             },
             "line": {
              "color": "white"
             }
            },
            "type": "table"
           }
          ]
         },
         "layout": {
          "annotationdefaults": {
           "arrowcolor": "#2a3f5f",
           "arrowhead": 0,
           "arrowwidth": 1
          },
          "autotypenumbers": "strict",
          "coloraxis": {
           "colorbar": {
            "outlinewidth": 0,
            "ticks": ""
           }
          },
          "colorscale": {
           "diverging": [
            [
             0,
             "#8e0152"
            ],
            [
             0.1,
             "#c51b7d"
            ],
            [
             0.2,
             "#de77ae"
            ],
            [
             0.3,
             "#f1b6da"
            ],
            [
             0.4,
             "#fde0ef"
            ],
            [
             0.5,
             "#f7f7f7"
            ],
            [
             0.6,
             "#e6f5d0"
            ],
            [
             0.7,
             "#b8e186"
            ],
            [
             0.8,
             "#7fbc41"
            ],
            [
             0.9,
             "#4d9221"
            ],
            [
             1,
             "#276419"
            ]
           ],
           "sequential": [
            [
             0,
             "#0d0887"
            ],
            [
             0.1111111111111111,
             "#46039f"
            ],
            [
             0.2222222222222222,
             "#7201a8"
            ],
            [
             0.3333333333333333,
             "#9c179e"
            ],
            [
             0.4444444444444444,
             "#bd3786"
            ],
            [
             0.5555555555555556,
             "#d8576b"
            ],
            [
             0.6666666666666666,
             "#ed7953"
            ],
            [
             0.7777777777777778,
             "#fb9f3a"
            ],
            [
             0.8888888888888888,
             "#fdca26"
            ],
            [
             1,
             "#f0f921"
            ]
           ],
           "sequentialminus": [
            [
             0,
             "#0d0887"
            ],
            [
             0.1111111111111111,
             "#46039f"
            ],
            [
             0.2222222222222222,
             "#7201a8"
            ],
            [
             0.3333333333333333,
             "#9c179e"
            ],
            [
             0.4444444444444444,
             "#bd3786"
            ],
            [
             0.5555555555555556,
             "#d8576b"
            ],
            [
             0.6666666666666666,
             "#ed7953"
            ],
            [
             0.7777777777777778,
             "#fb9f3a"
            ],
            [
             0.8888888888888888,
             "#fdca26"
            ],
            [
             1,
             "#f0f921"
            ]
           ]
          },
          "colorway": [
           "#636efa",
           "#EF553B",
           "#00cc96",
           "#ab63fa",
           "#FFA15A",
           "#19d3f3",
           "#FF6692",
           "#B6E880",
           "#FF97FF",
           "#FECB52"
          ],
          "font": {
           "color": "#2a3f5f"
          },
          "geo": {
           "bgcolor": "white",
           "lakecolor": "white",
           "landcolor": "#E5ECF6",
           "showlakes": true,
           "showland": true,
           "subunitcolor": "white"
          },
          "hoverlabel": {
           "align": "left"
          },
          "hovermode": "closest",
          "mapbox": {
           "style": "light"
          },
          "paper_bgcolor": "white",
          "plot_bgcolor": "#E5ECF6",
          "polar": {
           "angularaxis": {
            "gridcolor": "white",
            "linecolor": "white",
            "ticks": ""
           },
           "bgcolor": "#E5ECF6",
           "radialaxis": {
            "gridcolor": "white",
            "linecolor": "white",
            "ticks": ""
           }
          },
          "scene": {
           "xaxis": {
            "backgroundcolor": "#E5ECF6",
            "gridcolor": "white",
            "gridwidth": 2,
            "linecolor": "white",
            "showbackground": true,
            "ticks": "",
            "zerolinecolor": "white"
           },
           "yaxis": {
            "backgroundcolor": "#E5ECF6",
            "gridcolor": "white",
            "gridwidth": 2,
            "linecolor": "white",
            "showbackground": true,
            "ticks": "",
            "zerolinecolor": "white"
           },
           "zaxis": {
            "backgroundcolor": "#E5ECF6",
            "gridcolor": "white",
            "gridwidth": 2,
            "linecolor": "white",
            "showbackground": true,
            "ticks": "",
            "zerolinecolor": "white"
           }
          },
          "shapedefaults": {
           "line": {
            "color": "#2a3f5f"
           }
          },
          "ternary": {
           "aaxis": {
            "gridcolor": "white",
            "linecolor": "white",
            "ticks": ""
           },
           "baxis": {
            "gridcolor": "white",
            "linecolor": "white",
            "ticks": ""
           },
           "bgcolor": "#E5ECF6",
           "caxis": {
            "gridcolor": "white",
            "linecolor": "white",
            "ticks": ""
           }
          },
          "title": {
           "x": 0.05
          },
          "xaxis": {
           "automargin": true,
           "gridcolor": "white",
           "linecolor": "white",
           "ticks": "",
           "title": {
            "standoff": 15
           },
           "zerolinecolor": "white",
           "zerolinewidth": 2
          },
          "yaxis": {
           "automargin": true,
           "gridcolor": "white",
           "linecolor": "white",
           "ticks": "",
           "title": {
            "standoff": 15
           },
           "zerolinecolor": "white",
           "zerolinewidth": 2
          }
         }
        }
       }
      }
     },
     "metadata": {},
     "output_type": "display_data"
    }
   ],
   "source": [
    "df_320 =data.loc[Air320]\n",
    "fig= px.scatter_3d(df_320, x=\"SEL_dB\", y=\"altitude\", z=\"distance\", color=\"distance\")\n",
    "fig.show()\n"
   ]
  },
  {
   "cell_type": "code",
   "execution_count": 175,
   "metadata": {},
   "outputs": [
    {
     "name": "stdout",
     "output_type": "stream",
     "text": [
      "[headers     SEL_dB\n",
      "mean     80.928251\n",
      "min      75.874923\n",
      "max      86.937224\n",
      "std       5.592725\n",
      "median   79.972607, headers  SEL_dB\n",
      "mean        NaN\n",
      "min         NaN\n",
      "max         NaN\n",
      "std         NaN\n",
      "median      NaN, headers  SEL_dB\n",
      "mean        NaN\n",
      "min         NaN\n",
      "max         NaN\n",
      "std         NaN\n",
      "median      NaN, headers  SEL_dB\n",
      "mean        NaN\n",
      "min         NaN\n",
      "max         NaN\n",
      "std         NaN\n",
      "median      NaN, headers     SEL_dB\n",
      "mean     78.701707\n",
      "min      55.787162\n",
      "max      93.260009\n",
      "std       8.230667\n",
      "median   80.161289, headers     SEL_dB\n",
      "mean     78.139592\n",
      "min      60.337580\n",
      "max      89.613131\n",
      "std       7.716006\n",
      "median   79.329763]\n"
     ]
    }
   ],
   "source": [
    "statsplanes= [dbA320, db175, dbA220, dbA321, dbB7378, dbE90]\n",
    "print(statsplanes)"
   ]
  },
  {
   "cell_type": "code",
   "execution_count": 176,
   "metadata": {},
   "outputs": [],
   "source": [
    "data['Energie']= 10**(data['SEL_dB']/10)"
   ]
  },
  {
   "cell_type": "code",
   "execution_count": 177,
   "metadata": {},
   "outputs": [],
   "source": [
    "TOT_energie= data['Energie'].sum()"
   ]
  },
  {
   "cell_type": "code",
   "execution_count": 178,
   "metadata": {},
   "outputs": [],
   "source": [
    "import numpy as np\n",
    "SEL_TOT=10*np.log10(TOT_energie)"
   ]
  },
  {
   "cell_type": "code",
   "execution_count": 179,
   "metadata": {},
   "outputs": [
    {
     "name": "stdout",
     "output_type": "stream",
     "text": [
      "De totale geluidsbelasting in dB is: 117.19710174279471 dB\n"
     ]
    }
   ],
   "source": [
    "print(\"De totale geluidsbelasting in dB is:\", SEL_TOT, \"dB\")"
   ]
  },
  {
   "cell_type": "code",
   "execution_count": 182,
   "metadata": {},
   "outputs": [
    {
     "data": {
      "text/html": [
       "<div>\n",
       "<style scoped>\n",
       "    .dataframe tbody tr th:only-of-type {\n",
       "        vertical-align: middle;\n",
       "    }\n",
       "\n",
       "    .dataframe tbody tr th {\n",
       "        vertical-align: top;\n",
       "    }\n",
       "\n",
       "    .dataframe thead th {\n",
       "        text-align: right;\n",
       "    }\n",
       "</style>\n",
       "<table border=\"1\" class=\"dataframe\">\n",
       "  <thead>\n",
       "    <tr style=\"text-align: right;\">\n",
       "      <th></th>\n",
       "      <th>Type Vliegtuig</th>\n",
       "      <th>Gemiddelde geluidswaarde</th>\n",
       "    </tr>\n",
       "  </thead>\n",
       "  <tbody>\n",
       "    <tr>\n",
       "      <th>0</th>\n",
       "      <td>Embraer-175</td>\n",
       "      <td>77.873669</td>\n",
       "    </tr>\n",
       "    <tr>\n",
       "      <th>1</th>\n",
       "      <td>Embraer-175</td>\n",
       "      <td>77.873669</td>\n",
       "    </tr>\n",
       "    <tr>\n",
       "      <th>2</th>\n",
       "      <td>Embraer-175</td>\n",
       "      <td>77.873669</td>\n",
       "    </tr>\n",
       "    <tr>\n",
       "      <th>3</th>\n",
       "      <td>Embraer-175</td>\n",
       "      <td>77.873669</td>\n",
       "    </tr>\n",
       "    <tr>\n",
       "      <th>4</th>\n",
       "      <td>Embraer-175</td>\n",
       "      <td>77.873669</td>\n",
       "    </tr>\n",
       "  </tbody>\n",
       "</table>\n",
       "</div>"
      ],
      "text/plain": [
       "  Type Vliegtuig  Gemiddelde geluidswaarde\n",
       "0    Embraer-175                 77.873669\n",
       "1    Embraer-175                 77.873669\n",
       "2    Embraer-175                 77.873669\n",
       "3    Embraer-175                 77.873669\n",
       "4    Embraer-175                 77.873669"
      ]
     },
     "execution_count": 182,
     "metadata": {},
     "output_type": "execute_result"
    }
   ],
   "source": [
    "GEL_VL= pd.read_excel(\"DataPlanes.xlsx\")\n",
    "GEL_VL.head()"
   ]
  },
  {
   "cell_type": "code",
   "execution_count": 184,
   "metadata": {},
   "outputs": [],
   "source": [
    "GEL_VL['Energie'] = 10**(GEL_VL['Gemiddelde geluidswaarde']/10)"
   ]
  },
  {
   "cell_type": "code",
   "execution_count": 185,
   "metadata": {},
   "outputs": [],
   "source": [
    "SUB_energie= GEL_VL['Energie'].sum()"
   ]
  },
  {
   "cell_type": "code",
   "execution_count": 187,
   "metadata": {},
   "outputs": [
    {
     "name": "stdout",
     "output_type": "stream",
     "text": [
      "De totale geluidsbelasting in dB is: 95.82966825644425 dB\n"
     ]
    }
   ],
   "source": [
    "SEL_SUB=10*np.log10(SUB_energie)\n",
    "print(\"De totale geluidsbelasting in dB is:\", SEL_SUB, \"dB\")"
   ]
  },
  {
   "cell_type": "code",
   "execution_count": 189,
   "metadata": {},
   "outputs": [
    {
     "name": "stdout",
     "output_type": "stream",
     "text": [
      "totale SEL voor: 117.19710174279471 dB\n",
      "totale SEL na: 117.1652868299973 dB\n",
      "SEL 'Nutteloze' vluchten: 95.82966825644425 dB\n",
      "Vermindering in SEL: 0.03181491279741522 dB\n"
     ]
    }
   ],
   "source": [
    "Energie_NA = TOT_energie-SUB_energie\n",
    "SEL_TOT_NA= 10 * np.log10(Energie_NA)\n",
    "SEL_Red=SEL_TOT-SEL_TOT_NA\n",
    "\n",
    "print(\"totale SEL voor:\", SEL_TOT, \"dB\")\n",
    "print(\"totale SEL na:\", SEL_TOT_NA, \"dB\")\n",
    "print(\"SEL 'Nutteloze' vluchten:\", SEL_SUB, \"dB\")\n",
    "print(\"Vermindering in SEL:\", SEL_Red, \"dB\")"
   ]
  },
  {
   "cell_type": "code",
   "execution_count": null,
   "metadata": {},
   "outputs": [],
   "source": []
  }
 ],
 "metadata": {
  "kernelspec": {
   "display_name": "base",
   "language": "python",
   "name": "python3"
  },
  "language_info": {
   "codemirror_mode": {
    "name": "ipython",
    "version": 3
   },
   "file_extension": ".py",
   "mimetype": "text/x-python",
   "name": "python",
   "nbconvert_exporter": "python",
   "pygments_lexer": "ipython3",
   "version": "3.12.7"
  }
 },
 "nbformat": 4,
 "nbformat_minor": 2
}
